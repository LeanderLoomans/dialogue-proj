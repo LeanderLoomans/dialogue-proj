{
 "cells": [
  {
   "cell_type": "code",
   "execution_count": 1,
   "id": "92e1e687",
   "metadata": {},
   "outputs": [],
   "source": [
    "import soundfile as sf\n",
    "import os\n",
    "import numpy as np\n",
    "import librosa\n",
    "import time"
   ]
  },
  {
   "cell_type": "code",
   "execution_count": 2,
   "id": "8528d8ad",
   "metadata": {},
   "outputs": [],
   "source": [
    "wanted_samples = 30000"
   ]
  },
  {
   "cell_type": "code",
   "execution_count": 3,
   "id": "47df37e7",
   "metadata": {},
   "outputs": [],
   "source": [
    "def convertToMFCC(data, samplerate):\n",
    "    mfcc = librosa.feature.mfcc(y = data, sr = samplerate, n_mfcc=40)\n",
    "    return mfcc"
   ]
  },
  {
   "cell_type": "code",
   "execution_count": 4,
   "id": "17182d42",
   "metadata": {},
   "outputs": [],
   "source": [
    "def halfSecondSplit(samples, samplerate):\n",
    "    \"\"\"Takes 'Audio Data' samples and 'Samplerate', splits it into 0.5 second fragments\"\"\"\n",
    "\n",
    "    #disregards less than half a second of audio files\n",
    "    halfSecondSamples = samplerate/2\n",
    "    samples = samples[:int((len(samples)-(len(samples) % halfSecondSamples)))]\n",
    "    array = np.reshape(samples, (int(samples.size/halfSecondSamples), int(halfSecondSamples)))\n",
    "\n",
    "    return array"
   ]
  },
  {
   "cell_type": "code",
   "execution_count": 5,
   "id": "803953e3",
   "metadata": {},
   "outputs": [],
   "source": [
    "def loadAudio(path): \n",
    "    audiodata, sr = sf.read(path)\n",
    "    \n",
    "    if not sr == 44100:\n",
    "        audiodata = librosa.resample(audiodata, sr, 44100)\n",
    "        sr = 44100\n",
    "    \n",
    "    halfseconds = halfSecondSplit(audiodata,sr)\n",
    "    return halfseconds, sr"
   ]
  },
  {
   "cell_type": "code",
   "execution_count": 6,
   "id": "1df77eb3",
   "metadata": {},
   "outputs": [],
   "source": [
    "def wavsToData(path):\n",
    "    global wanted_samples\n",
    "    timestamp = time.perf_counter()\n",
    "\n",
    "    samples = []\n",
    "    \n",
    "    files = np.array(os.listdir(path))\n",
    "    np.random.shuffle(files)\n",
    "    \n",
    "    for filename in files:\n",
    "        if filename.endswith('.wav'):\n",
    "            halfseconds, sr = loadAudio(path + filename)\n",
    "            for halfSecond in halfseconds:\n",
    "                samples.append(convertToMFCC(halfSecond, sr))\n",
    "                \n",
    "        print('Progress: ' + str((len(samples) / wanted_samples) * 100), end='\\r')\n",
    "        if len(samples) >= wanted_samples:\n",
    "            break\n",
    "    duration = time.perf_counter() - timestamp\n",
    "    print('duration: ' + str(duration) + ' seconds            ')\n",
    "    \n",
    "    return samples"
   ]
  },
  {
   "cell_type": "code",
   "execution_count": 7,
   "id": "05e8a149",
   "metadata": {},
   "outputs": [],
   "source": [
    "def main():\n",
    "    global wanted_samples\n",
    "    \n",
    "    path = 'audio/Split_Labels/'\n",
    "    \n",
    "#     subject = 'CLEAN_SPEECH'\n",
    "    subject = 'NO_SPEECH'\n",
    "#     subject = 'SPEECH_WITH_MUSIC'\n",
    "#     subject = 'SPEECH_WITH_NOISE'\n",
    "    \n",
    "    data = wavsToData(path + subject + '/')\n",
    "    datafile = np.array(data)\n",
    "    \n",
    "    if subject == 'NO_SPEECH':\n",
    "        labels = np.repeat([False], len(datafile))\n",
    "        print('labeled as False')\n",
    "    else:\n",
    "        labels = np.repeat([True], len(datafile))\n",
    "        print('labeled as True')\n",
    "        \n",
    "    print(datafile.shape, labels.shape)\n",
    "    \n",
    "    np.save(path + 'outputs/' + subject + '_' + str(wanted_samples) + '_samples.npy', datafile)\n",
    "    np.save(path + 'outputs/' + subject + '_' + str(wanted_samples) + '_labels.npy', labels)"
   ]
  },
  {
   "cell_type": "code",
   "execution_count": 8,
   "id": "65f00d1e",
   "metadata": {},
   "outputs": [
    {
     "name": "stdout",
     "output_type": "stream",
     "text": [
      "duration: 134.54830333497375 seconds            \n",
      "labeled as False\n",
      "(30007, 40, 44) (30007,)\n"
     ]
    }
   ],
   "source": [
    "main()"
   ]
  }
 ],
 "metadata": {
  "kernelspec": {
   "display_name": "Python 3 (ipykernel)",
   "language": "python",
   "name": "python3"
  },
  "language_info": {
   "codemirror_mode": {
    "name": "ipython",
    "version": 3
   },
   "file_extension": ".py",
   "mimetype": "text/x-python",
   "name": "python",
   "nbconvert_exporter": "python",
   "pygments_lexer": "ipython3",
   "version": "3.8.8"
  }
 },
 "nbformat": 4,
 "nbformat_minor": 5
}
