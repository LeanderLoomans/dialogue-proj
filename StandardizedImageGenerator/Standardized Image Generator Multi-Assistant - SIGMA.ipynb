{
 "cells": [
  {
   "cell_type": "code",
   "execution_count": 1,
   "id": "a5ab01ad",
   "metadata": {},
   "outputs": [
    {
     "name": "stdout",
     "output_type": "stream",
     "text": [
      "Thu Nov  4 15:01:35 2021       \n",
      "+-----------------------------------------------------------------------------+\n",
      "| NVIDIA-SMI 470.63.01    Driver Version: 470.63.01    CUDA Version: 11.4     |\n",
      "|-------------------------------+----------------------+----------------------+\n",
      "| GPU  Name        Persistence-M| Bus-Id        Disp.A | Volatile Uncorr. ECC |\n",
      "| Fan  Temp  Perf  Pwr:Usage/Cap|         Memory-Usage | GPU-Util  Compute M. |\n",
      "|                               |                      |               MIG M. |\n",
      "|===============================+======================+======================|\n",
      "|   0  NVIDIA GeForce ...  Off  | 00000000:05:00.0 Off |                  N/A |\n",
      "| 29%   26C    P8    18W / 250W |   2287MiB / 11019MiB |      0%      Default |\n",
      "|                               |                      |                  N/A |\n",
      "+-------------------------------+----------------------+----------------------+\n",
      "|   1  NVIDIA GeForce ...  Off  | 00000000:09:00.0 Off |                  N/A |\n",
      "| 29%   27C    P8    20W / 250W |  10942MiB / 11019MiB |      0%      Default |\n",
      "|                               |                      |                  N/A |\n",
      "+-------------------------------+----------------------+----------------------+\n",
      "|   2  NVIDIA GeForce ...  Off  | 00000000:0A:00.0 Off |                  N/A |\n",
      "| 30%   26C    P8     3W / 250W |   9198MiB / 11019MiB |      0%      Default |\n",
      "|                               |                      |                  N/A |\n",
      "+-------------------------------+----------------------+----------------------+\n",
      "|   3  NVIDIA GeForce ...  Off  | 00000000:85:00.0 Off |                  N/A |\n",
      "| 30%   26C    P8     2W / 250W |      3MiB / 11019MiB |      0%      Default |\n",
      "|                               |                      |                  N/A |\n",
      "+-------------------------------+----------------------+----------------------+\n",
      "|   4  NVIDIA GeForce ...  Off  | 00000000:89:00.0 Off |                  N/A |\n",
      "| 29%   25C    P8     1W / 250W |      3MiB / 11019MiB |      0%      Default |\n",
      "|                               |                      |                  N/A |\n",
      "+-------------------------------+----------------------+----------------------+\n",
      "                                                                               \n",
      "+-----------------------------------------------------------------------------+\n",
      "| Processes:                                                                  |\n",
      "|  GPU   GI   CI        PID   Type   Process name                  GPU Memory |\n",
      "|        ID   ID                                                   Usage      |\n",
      "|=============================================================================|\n",
      "|    0   N/A  N/A      6012      C   ...erhub/anaconda/bin/python     1013MiB |\n",
      "|    0   N/A  N/A      6155      C   ...erhub/anaconda/bin/python     1271MiB |\n",
      "|    1   N/A  N/A     42400      C   ...erhub/anaconda/bin/python    10939MiB |\n",
      "|    2   N/A  N/A     40885      C   ...erhub/anaconda/bin/python     9195MiB |\n",
      "+-----------------------------------------------------------------------------+\n"
     ]
    }
   ],
   "source": [
    "#Checking wich GPU is beeing used\n",
    "\n",
    "!nvidia-smi"
   ]
  },
  {
   "cell_type": "code",
   "execution_count": 2,
   "id": "b3fe8d99",
   "metadata": {},
   "outputs": [],
   "source": [
    "import pandas as pd\n",
    "import numpy as np\n",
    "import datetime\n",
    "import scipy as sp\n",
    "import scipy.fftpack\n",
    "import matplotlib.pyplot as plt\n",
    "import librosa\n",
    "import librosa.display\n",
    "from scipy.io import wavfile\n",
    "from scipy.fft import fft, ifft, fftfreq\n",
    "from scipy import signal\n",
    "import os\n",
    "import _thread\n",
    "import pickle\n",
    "\n",
    "\n",
    "import torch\n",
    "from torch import nn\n",
    "from torch.utils.data import DataLoader\n",
    "from torchvision import datasets, transforms\n",
    "from torchvision.transforms import ToTensor, Lambda, Compose\n",
    "\n",
    "import numpy as np\n",
    "import pandas as pd\n",
    "import splitfolders as splitfolders"
   ]
  },
  {
   "cell_type": "code",
   "execution_count": 3,
   "id": "a6a09b1f",
   "metadata": {},
   "outputs": [],
   "source": [
    "#folder for loading the images\n",
    "def img_from_lib (filename, data, sr, imagedir):\n",
    "    #fourier transform on data, save in x\n",
    "    X = librosa.stft(data)\n",
    "    #returns absolute value of X as decibel\n",
    "    Xdb = librosa.amplitude_to_db(abs(X))\n",
    "    fig = plt.figure()\n",
    "    #generate the image with axes\n",
    "    img = librosa.display.specshow(Xdb, sr = sr, x_axis = 'time', y_axis = 'hz', vmin=-60, vmax=20)\n",
    "    fig.colorbar(img)\n",
    "    #saves the image a file\n",
    "    fig.savefig(imagedir + filename.replace('.wav', '') + '_spectro.png')\n",
    "    plt.close()"
   ]
  },
  {
   "cell_type": "code",
   "execution_count": 4,
   "id": "7ebd2198",
   "metadata": {},
   "outputs": [],
   "source": [
    "def wav_to_img(audiofiledir, imagedir):\n",
    "    for filename in os.listdir(audiofiledir):\n",
    "        \n",
    "        #samplerate and audiodata is retried from audio file\n",
    "        sr_data, data = wavfile.read(audiofiledir + filename)\n",
    "        #convert to librosa format\n",
    "        audiodata, sr = librosa.load(audiofiledir + filename, sr = sr_data)\n",
    "        #half the samplerate is saved in half_sr\n",
    "        half_sr = int(sr/2)\n",
    "        #an amount of zeroes equal to half the sr is saved in arr\n",
    "        arr = np.zeros(int(half_sr))\n",
    "        \n",
    "        audiodata = np.concatenate((audiodata, arr), axis=None)\n",
    "        img_from_lib(filename, audiodata[:half_sr], sr_data, imagedir)"
   ]
  },
  {
   "cell_type": "code",
   "execution_count": 6,
   "id": "3bb5ee2c",
   "metadata": {
    "scrolled": true
   },
   "outputs": [],
   "source": [
    "wav_to_img('./audio/wavfiles/', './images_nosplit/spectrograms/')"
   ]
  },
  {
   "cell_type": "code",
   "execution_count": null,
   "id": "63f5c05e",
   "metadata": {},
   "outputs": [],
   "source": [
    "#moves & splits data into train, test, val folders. \n",
    "splitfolders.ratio(\"./images_nosplit/\", output=\"./images_splitfolders/\", seed=1337, ratio=(.8, .1, .1), group_prefix=None)"
   ]
  },
  {
   "cell_type": "code",
   "execution_count": null,
   "id": "c809934a",
   "metadata": {},
   "outputs": [],
   "source": [
    "# where to load train,test,val data from\n",
    "data_dir = 'images_splitfolders/'\n",
    "#preparing the transform function to transform data into a Tensor object\n",
    "transform = transforms.Compose([\n",
    "transforms.ToTensor()]) \n",
    "#contents from the 'train' folder is put in train_set\n",
    "train_set = datasets.ImageFolder(data_dir + 'train', transform=transform) \n",
    "test_set = datasets.ImageFolder(data_dir + 'test', transform=transform)\n",
    "val_set = datasets.ImageFolder(data_dir + 'val', transform=transform)\n",
    "#train_set is made into a dataloader, shuffled\n",
    "train_dataloader = DataLoader(train_set, batch_size=32, shuffle=True)\n",
    "test_dataloader = DataLoader(test_set, batch_size=32, shuffle=True)\n",
    "val_dataloader = DataLoader(val_set, batch_size=32, shuffle=True)\n",
    "\n",
    "#not sure why it throws the \"FileNotFoundError\" about a ipynb_checkpoints-file. i think its a hidden file that got stuck there.\n",
    "#but the error doesnt seem to interfere with the rest of the program"
   ]
  },
  {
   "cell_type": "code",
   "execution_count": null,
   "id": "c3de5389",
   "metadata": {},
   "outputs": [],
   "source": [
    "print(train_dataloader)"
   ]
  },
  {
   "cell_type": "code",
   "execution_count": null,
   "id": "f9838e06",
   "metadata": {},
   "outputs": [],
   "source": [
    "def saveLoader(loader, filename):\n",
    "    pickle.dump(loader, open(filename, 'wb'))"
   ]
  },
  {
   "cell_type": "code",
   "execution_count": null,
   "id": "480f45be",
   "metadata": {},
   "outputs": [],
   "source": [
    "saveLoader(train_dataloader, 'train_dump')\n",
    "saveLoader(test_dataloader, 'test_dump')\n",
    "saveLoader(val_dataloader, 'val_dump')"
   ]
  },
  {
   "cell_type": "code",
   "execution_count": null,
   "id": "362de5f2",
   "metadata": {},
   "outputs": [],
   "source": [
    "#Shutting down the notebook\n",
    "\n",
    "%%javascript\n",
    "Jupyter.notebook.session.delete();"
   ]
  }
 ],
 "metadata": {
  "kernelspec": {
   "display_name": "Python 3 (ipykernel)",
   "language": "python",
   "name": "python3"
  },
  "language_info": {
   "codemirror_mode": {
    "name": "ipython",
    "version": 3
   },
   "file_extension": ".py",
   "mimetype": "text/x-python",
   "name": "python",
   "nbconvert_exporter": "python",
   "pygments_lexer": "ipython3",
   "version": "3.9.7"
  }
 },
 "nbformat": 4,
 "nbformat_minor": 5
}
