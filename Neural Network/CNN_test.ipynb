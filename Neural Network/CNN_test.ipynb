{
 "cells": [
  {
   "cell_type": "code",
   "execution_count": 2,
   "id": "18d9078e",
   "metadata": {},
   "outputs": [
    {
     "name": "stdout",
     "output_type": "stream",
     "text": [
      "using gpu 2\n"
     ]
    }
   ],
   "source": [
    "import torch\n",
    "from torch import nn\n",
    "from torch.utils.data import DataLoader\n",
    "from torchvision import datasets, transforms\n",
    "from torchvision.transforms import ToTensor, Lambda, Compose\n",
    "import matplotlib.pyplot as plt\n",
    "from sklearn.metrics import accuracy_score\n",
    "from pipetorch.train import *"
   ]
  },
  {
   "cell_type": "code",
   "execution_count": 3,
   "metadata": {},
   "outputs": [
    {
     "name": "stdout",
     "output_type": "stream",
     "text": [
      "Thu Oct 28 15:07:05 2021       \n",
      "+-----------------------------------------------------------------------------+\n",
      "| NVIDIA-SMI 470.63.01    Driver Version: 470.63.01    CUDA Version: 11.4     |\n",
      "|-------------------------------+----------------------+----------------------+\n",
      "| GPU  Name        Persistence-M| Bus-Id        Disp.A | Volatile Uncorr. ECC |\n",
      "| Fan  Temp  Perf  Pwr:Usage/Cap|         Memory-Usage | GPU-Util  Compute M. |\n",
      "|                               |                      |               MIG M. |\n",
      "|===============================+======================+======================|\n",
      "|   0  NVIDIA GeForce ...  Off  | 00000000:05:00.0 Off |                  N/A |\n",
      "| 29%   27C    P8    18W / 250W |   2217MiB / 11019MiB |      0%      Default |\n",
      "|                               |                      |                  N/A |\n",
      "+-------------------------------+----------------------+----------------------+\n",
      "|   1  NVIDIA GeForce ...  Off  | 00000000:09:00.0 Off |                  N/A |\n",
      "| 29%   28C    P8    21W / 250W |   6916MiB / 11019MiB |      0%      Default |\n",
      "|                               |                      |                  N/A |\n",
      "+-------------------------------+----------------------+----------------------+\n",
      "|   2  NVIDIA GeForce ...  Off  | 00000000:0A:00.0 Off |                  N/A |\n",
      "| 30%   28C    P8     3W / 250W |      3MiB / 11019MiB |      0%      Default |\n",
      "|                               |                      |                  N/A |\n",
      "+-------------------------------+----------------------+----------------------+\n",
      "|   3  NVIDIA GeForce ...  Off  | 00000000:85:00.0 Off |                  N/A |\n",
      "| 29%   27C    P8     3W / 250W |      3MiB / 11019MiB |      0%      Default |\n",
      "|                               |                      |                  N/A |\n",
      "+-------------------------------+----------------------+----------------------+\n",
      "|   4  NVIDIA GeForce ...  Off  | 00000000:89:00.0 Off |                  N/A |\n",
      "| 29%   26C    P8     1W / 250W |      3MiB / 11019MiB |      0%      Default |\n",
      "|                               |                      |                  N/A |\n",
      "+-------------------------------+----------------------+----------------------+\n",
      "                                                                               \n",
      "+-----------------------------------------------------------------------------+\n",
      "| Processes:                                                                  |\n",
      "|  GPU   GI   CI        PID   Type   Process name                  GPU Memory |\n",
      "|        ID   ID                                                   Usage      |\n",
      "|=============================================================================|\n",
      "|    0   N/A  N/A       574      C   ...erhub/anaconda/bin/python      943MiB |\n",
      "|    0   N/A  N/A      6155      C   ...erhub/anaconda/bin/python     1271MiB |\n",
      "|    1   N/A  N/A     34229      C   ...erhub/anaconda/bin/python     6913MiB |\n",
      "+-----------------------------------------------------------------------------+\n"
     ]
    }
   ],
   "source": [
    "#Checking wich GPU is beeing used\n",
    "\n",
    "!nvidia-smi"
   ]
  },
  {
   "cell_type": "code",
   "execution_count": 4,
   "id": "e08fb275",
   "metadata": {},
   "outputs": [
    {
     "name": "stdout",
     "output_type": "stream",
     "text": [
      "1588\n",
      "201\n",
      "0.11235326998323085\n"
     ]
    }
   ],
   "source": [
    "# set data directory\n",
    "data_dir = 'dialogue/Bjärn/images/splitfolders/'\n",
    "\n",
    "#preparing the transform method to transform data into a Tensor object\n",
    "transform = transforms.Compose([\n",
    "    #transforms.RandomRotation(20),\n",
    "    #transforms.RandomHorizontalFlip(),\n",
    "    transforms.ToTensor()]) \n",
    "    \n",
    "train_set = datasets.ImageFolder(data_dir + 'train', transform=transform) #contents from the 'train' folder is put in train_set\n",
    "test_set = datasets.ImageFolder(data_dir + 'test', transform=transform)\n",
    "print(len(train_set))\n",
    "print(len(test_set))\n",
    "print(len(test_set)/len(test_set+train_set))\n",
    "train_dataloader = DataLoader(train_set, batch_size=32, shuffle=True)#train_set is made into a dataloader, shuffled\n",
    "test_dataloader = DataLoader(test_set, batch_size=32, shuffle=True)"
   ]
  },
  {
   "cell_type": "code",
   "execution_count": 5,
   "id": "883eda83",
   "metadata": {},
   "outputs": [
    {
     "name": "stdout",
     "output_type": "stream",
     "text": [
      "Using cuda device\n",
      "NeuralNetwork(\n",
      "  (flatten): Flatten(start_dim=1, end_dim=-1)\n",
      "  (linear_relu_stack): Sequential(\n",
      "    (0): Linear(in_features=373248, out_features=512, bias=True)\n",
      "    (1): ReLU()\n",
      "    (2): Linear(in_features=512, out_features=512, bias=True)\n",
      "    (3): ReLU()\n",
      "    (4): Linear(in_features=512, out_features=10, bias=True)\n",
      "  )\n",
      ")\n"
     ]
    }
   ],
   "source": [
    "# Get cpu or gpu device for training.\n",
    "device = \"cuda\" if torch.cuda.is_available() else \"cpu\"\n",
    "print(\"Using {} device\".format(device))\n",
    "\n",
    "# Define model\n",
    "# class NeuralNetwork(nn.Module):\n",
    "#     def __init__(self):\n",
    "#         super(NeuralNetwork, self).__init__()\n",
    "#         self.flatten = nn.Flatten() #the images are flattened (pixels are placed end to end)\n",
    "#         self.linear_relu_stack = nn.Sequential(\n",
    "#             nn.Linear(373248, 512), # in the first layer, 373248 is the amount of input features, 512 is the output amount\n",
    "#             nn.ReLU(),\n",
    "#             nn.Linear(512, 512), #second layer, input and output features is 512 (maybe this could be larger?)\n",
    "#             nn.ReLU(),\n",
    "#             nn.Linear(512, 10) #output layer, input features is 512, output features is 10 (these 10 is what the NN uses to 'learn')\n",
    "#         )\n",
    "\n",
    "#     def forward(self, x): #this function runs the above code with our data 'x' passed to it\n",
    "#         x = self.flatten(x)\n",
    "#         logits = self.linear_relu_stack(x)\n",
    "#         return logits\n",
    "\n",
    "#     def post_forward(self, y): \n",
    "#         return torch.argmax(y, axis=1) #returns the highest value from a tensor object (jeroen wrote this function)\n",
    "    \n",
    "# model = NeuralNetwork().to(device) #model is passed to gpu\n",
    "# print(model)"
   ]
  },
  {
   "cell_type": "code",
   "execution_count": null,
   "metadata": {},
   "outputs": [],
   "source": [
    "class Net(Module):   \n",
    "    def __init__(self):\n",
    "        super(Net, self).__init__()\n",
    "\n",
    "        self.cnn_layers = Sequential(\n",
    "            # Defining a 2D convolution layer\n",
    "            Conv2d(1, 4, kernel_size=3, stride=1, padding=1),\n",
    "            BatchNorm2d(4),\n",
    "            ReLU(inplace=True),\n",
    "            MaxPool2d(kernel_size=2, stride=2),\n",
    "            # Defining another 2D convolution layer\n",
    "            Conv2d(4, 4, kernel_size=3, stride=1, padding=1),\n",
    "            BatchNorm2d(4),\n",
    "            ReLU(inplace=True),\n",
    "            MaxPool2d(kernel_size=2, stride=2),\n",
    "        )\n",
    "\n",
    "        self.linear_layers = Sequential(\n",
    "            Linear(4 * 7 * 7, 10)\n",
    "        )\n",
    "\n",
    "    # Defining the forward pass    \n",
    "    def forward(self, x):\n",
    "        x = self.cnn_layers(x)\n",
    "        x = x.view(x.size(0), -1)\n",
    "        x = self.linear_layers(x)\n",
    "        return x\n",
    "\n",
    "# defining the model\n",
    "model = Net()\n",
    "# defining the optimizer\n",
    "optimizer = Adam(model.parameters(), lr=0.07)\n",
    "# defining the loss function\n",
    "criterion = CrossEntropyLoss()\n",
    "# checking if GPU is available\n",
    "if torch.cuda.is_available():\n",
    "    model = model.cuda()\n",
    "    criterion = criterion.cuda()\n",
    "    \n",
    "print(model)"
   ]
  },
  {
   "cell_type": "code",
   "execution_count": 6,
   "id": "64e00cd1",
   "metadata": {},
   "outputs": [],
   "source": [
    "loss_fn = nn.CrossEntropyLoss() #loss function is defined (we should try different ones, jeroen mentioned MSELoss and BCELoss)\n",
    "optimizer = torch.optim.SGD(model.parameters(), lr=1e-3) #the optimizer is defined"
   ]
  },
  {
   "cell_type": "code",
   "execution_count": 7,
   "id": "12a71fb4",
   "metadata": {},
   "outputs": [],
   "source": [
    "def train(epoch):\n",
    "    model.train()\n",
    "    tr_loss = 0\n",
    "    # getting the training set\n",
    "    x_train, y_train = Variable(train_x), Variable(train_y)\n",
    "    # getting the validation set\n",
    "    x_val, y_val = Variable(val_x), Variable(val_y)\n",
    "    # converting the data into GPU format\n",
    "    if torch.cuda.is_available():\n",
    "        x_train = x_train.cuda()\n",
    "        y_train = y_train.cuda()\n",
    "        x_val = x_val.cuda()\n",
    "        y_val = y_val.cuda()\n",
    "\n",
    "    # clearing the Gradients of the model parameters\n",
    "    optimizer.zero_grad()\n",
    "    \n",
    "    # prediction for training and validation set\n",
    "    output_train = model(x_train)\n",
    "    output_val = model(x_val)\n",
    "\n",
    "    # computing the training and validation loss\n",
    "    loss_train = criterion(output_train, y_train)\n",
    "    loss_val = criterion(output_val, y_val)\n",
    "    train_losses.append(loss_train)\n",
    "    val_losses.append(loss_val)\n",
    "\n",
    "    # computing the updated weights of all the model parameters\n",
    "    loss_train.backward()\n",
    "    optimizer.step()\n",
    "    tr_loss = loss_train.item()\n",
    "    if epoch%2 == 0:\n",
    "        # printing the validation loss\n",
    "        print('Epoch : ',epoch+1, '\\t', 'loss :', loss_val)"
   ]
  },
  {
   "cell_type": "code",
   "execution_count": 8,
   "id": "5b852498",
   "metadata": {},
   "outputs": [],
   "source": [
    "def test(dataloader, model, loss_fn): #function for testing\n",
    "    size = len(test_dataloader)\n",
    "    num_batches = len(test_dataloader)\n",
    "    model.eval()\n",
    "    test_loss, correct = 0, 0\n",
    "    with torch.no_grad():\n",
    "        for X, y in dataloader:\n",
    "            X, y = X.to(device), y.to(device)\n",
    "            pred = model(X)\n",
    "            test_loss += loss_fn(pred, y).item()\n",
    "            correct += (pred.argmax(1) == y).type(torch.float).sum().item()\n",
    "    test_loss /= num_batches\n",
    "    correct /= size\n",
    "    print(f\"Test Error: \\n Accuracy: {(100*correct):>0.1f}%, Avg loss: {test_loss:>8f} \\n\")"
   ]
  },
  {
   "cell_type": "code",
   "execution_count": 10,
   "id": "a2a0d2ec",
   "metadata": {},
   "outputs": [],
   "source": [
    "# defining the number of epochs\n",
    "n_epochs = 25\n",
    "# empty list to store training losses\n",
    "train_losses = []\n",
    "# empty list to store validation losses\n",
    "val_losses = []\n",
    "# training the model\n",
    "for epoch in range(n_epochs):\n",
    "    train(epoch)"
   ]
  },
  {
   "cell_type": "code",
   "execution_count": 11,
   "id": "fcd41c4c",
   "metadata": {},
   "outputs": [],
   "source": [
    "\n",
    "# plotting the training and validation loss\n",
    "plt.plot(train_losses, label='Training loss')\n",
    "plt.plot(val_losses, label='Validation loss')\n",
    "plt.legend()\n",
    "plt.show()"
   ]
  },
  {
   "cell_type": "code",
   "execution_count": 13,
   "id": "28ab24d7",
   "metadata": {},
   "outputs": [
    {
     "data": {
      "application/vnd.jupyter.widget-view+json": {
       "model_id": "65356fd7633d48bd86a6c1393d2a2136",
       "version_major": 2,
       "version_minor": 0
      },
      "text/plain": [
       "Total:   0%|          | 0/36480 [00:00<?, ?it/s]"
      ]
     },
     "metadata": {},
     "output_type": "display_data"
    },
    {
     "name": "stdout",
     "output_type": "stream",
     "text": [
      " 4 16.39s trainloss=0.55532 validloss=0.31384 accuracy_score=0.91542 \n",
      " 5 16.29s trainloss=0.47769 validloss=0.30430 accuracy_score=0.90547 \n",
      " 6 16.56s trainloss=0.24851 validloss=0.18063 accuracy_score=0.94527 \n",
      " 7 16.37s trainloss=0.17605 validloss=0.14217 accuracy_score=0.97015 \n",
      " 8 15.41s trainloss=0.16121 validloss=0.10318 accuracy_score=0.97512 \n",
      " 9 15.97s trainloss=0.09025 validloss=0.09604 accuracy_score=0.97512 \n",
      "10 16.11s trainloss=0.08730 validloss=0.07689 accuracy_score=0.98010 \n",
      "11 16.17s trainloss=0.08346 validloss=0.05946 accuracy_score=0.99502 \n",
      "12 16.23s trainloss=0.04871 validloss=0.04900 accuracy_score=0.99502 \n",
      "13 16.28s trainloss=0.03675 validloss=0.03947 accuracy_score=1.00000 \n",
      "14 16.24s trainloss=0.04981 validloss=0.04785 accuracy_score=0.99502 \n",
      "15 16.22s trainloss=0.03463 validloss=0.03650 accuracy_score=1.00000 \n",
      "16 16.26s trainloss=0.56763 validloss=0.24045 accuracy_score=0.96517 \n",
      "17 16.47s trainloss=0.29178 validloss=0.15718 accuracy_score=0.96020 \n",
      "18 16.13s trainloss=0.09314 validloss=0.07439 accuracy_score=0.99502 \n",
      "19 16.24s trainloss=0.05832 validloss=0.05952 accuracy_score=0.99502 \n",
      "20 16.11s trainloss=0.04683 validloss=0.05422 accuracy_score=0.99502 \n",
      "21 16.04s trainloss=0.04843 validloss=0.04839 accuracy_score=0.99502 \n",
      "22 15.67s trainloss=0.03546 validloss=0.04088 accuracy_score=0.99502 \n",
      "23 15.37s trainloss=0.03616 validloss=0.04063 accuracy_score=0.99502 \n"
     ]
    }
   ],
   "source": [
    "# prediction for training set\n",
    "with torch.no_grad():\n",
    "    output = model(train_x.cuda())\n",
    "    \n",
    "softmax = torch.exp(output).cpu()\n",
    "prob = list(softmax.numpy())\n",
    "predictions = np.argmax(prob, axis=1)\n",
    "\n",
    "# accuracy on training set\n",
    "accuracy_score(train_y, predictions)"
   ]
  },
  {
   "cell_type": "code",
   "execution_count": 14,
   "id": "004c1186",
   "metadata": {},
   "outputs": [
    {
     "data": {
      "image/png": "[encoded data removed]",
      "text/plain": [
       "<Figure size 432x288 with 1 Axes>"
      ]
     },
     "metadata": {
      "needs_background": "light"
     },
     "output_type": "display_data"
    }
   ],
   "source": [
    "t.validation_curve()"
   ]
  },
  {
   "cell_type": "code",
   "execution_count": null,
   "metadata": {},
   "outputs": [
    {
     "data": {
      "text/plain": [
       "    accuracy_score  epoch      loss  phase\n",
       "0         0.425063    1.0  1.491239  train\n",
       "1         0.686567    1.0  0.926665  valid\n",
       "2         0.649244    2.0  0.902697  train\n",
       "3         0.761194    2.0  0.623837  valid\n",
       "4         0.755668    3.0  0.687878  train\n",
       "5         0.900498    3.0  0.461148  valid\n",
       "6         0.885390    4.0  0.405517  train\n",
       "7         0.925373    4.0  0.307273  valid\n",
       "8         0.922544    5.0  0.309272  train\n",
       "9         0.925373    5.0  0.261097  valid\n",
       "10        0.909320    6.0  0.313361  train\n",
       "11        0.950249    6.0  0.208358  valid\n",
       "12        0.942695    7.0  0.222698  train\n",
       "13        0.970149    7.0  0.175597  valid\n",
       "14        0.962846    8.0  0.159804  train\n",
       "15        0.970149    8.0  0.128235  valid\n",
       "16        0.971662    9.0  0.124121  train\n",
       "17        0.970149    9.0  0.107585  valid\n",
       "18        0.978589   10.0  0.105747  train\n",
       "19        0.975124   10.0  0.109567  valid"
      ]
     },
     "execution_count": 32,
     "metadata": {},
     "output_type": "execute_result"
    }
   ],
   "source": [
    "t.evaluator"
   ]
  },
  {
   "cell_type": "code",
   "execution_count": null,
   "metadata": {},
   "outputs": [],
   "source": [
    "splitfolders.ratio(\"content/data\", output=\"output\", seed=1337, ratio=(.8, .1, .1), group_prefix=None) "
   ]
  }
 ],
 "metadata": {
  "kernelspec": {
   "display_name": "Python 3 (ipykernel)",
   "language": "python",
   "name": "python3"
  },
  "language_info": {
   "codemirror_mode": {
    "name": "ipython",
    "version": 3
   },
   "file_extension": ".py",
   "mimetype": "text/x-python",
   "name": "python",
   "nbconvert_exporter": "python",
   "pygments_lexer": "ipython3",
   "version": "3.9.7"
  }
 },
 "nbformat": 4,
 "nbformat_minor": 5
}
