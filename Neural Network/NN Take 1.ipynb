{
 "cells": [
  {
   "cell_type": "code",
   "execution_count": 1,
   "id": "18d9078e",
   "metadata": {},
   "outputs": [
    {
     "name": "stdout",
     "output_type": "stream",
     "text": [
      "using gpu 1\n"
     ]
    }
   ],
   "source": [
    "import torch\n",
    "from torch import nn\n",
    "from torch.utils.data import DataLoader\n",
    "from torchvision import datasets, transforms\n",
    "from torchvision.transforms import ToTensor, Lambda, Compose\n",
    "import matplotlib.pyplot as plt\n",
    "from sklearn.metrics import accuracy_score\n",
    "from pipetorch.train import *"
   ]
  },
  {
   "cell_type": "code",
   "execution_count": 2,
   "id": "e08fb275",
   "metadata": {},
   "outputs": [],
   "source": [
    "# set data directory\n",
    "data_dir = './images/splitfolders/'\n",
    "\n",
    "#preparing the transform method to transform data into a Tensor object\n",
    "transform = transforms.Compose([\n",
    "    #transforms.RandomRotation(20),\n",
    "    #transforms.RandomHorizontalFlip(),\n",
    "    transforms.ToTensor()]) \n",
    "    \n",
    "train_set = datasets.ImageFolder(data_dir + 'train', transform=transform) #contents from the 'train' folder is put in train_set\n",
    "test_set = datasets.ImageFolder(data_dir + 'test', transform=transform)\n",
    "\n",
    "train_dataloader = DataLoader(train_set, batch_size=32, shuffle=True)#train_set is made into a dataloader, shuffled\n",
    "test_dataloader = DataLoader(test_set, batch_size=32, shuffle=True)"
   ]
  },
  {
   "cell_type": "code",
   "execution_count": 3,
   "id": "883eda83",
   "metadata": {},
   "outputs": [
    {
     "name": "stdout",
     "output_type": "stream",
     "text": [
      "Using cuda device\n",
      "NeuralNetwork(\n",
      "  (flatten): Flatten(start_dim=1, end_dim=-1)\n",
      "  (linear_relu_stack): Sequential(\n",
      "    (0): Linear(in_features=373248, out_features=512, bias=True)\n",
      "    (1): ReLU()\n",
      "    (2): Linear(in_features=512, out_features=512, bias=True)\n",
      "    (3): ReLU()\n",
      "    (4): Linear(in_features=512, out_features=10, bias=True)\n",
      "  )\n",
      ")\n"
     ]
    }
   ],
   "source": [
    "# Get cpu or gpu device for training.\n",
    "device = \"cuda\" if torch.cuda.is_available() else \"cpu\"\n",
    "print(\"Using {} device\".format(device))\n",
    "\n",
    "# Define model\n",
    "class NeuralNetwork(nn.Module):\n",
    "    def __init__(self):\n",
    "        super(NeuralNetwork, self).__init__()\n",
    "        self.flatten = nn.Flatten() #the images are flattened (pixels are placed end to end)\n",
    "        self.linear_relu_stack = nn.Sequential(\n",
    "            nn.Linear(373248, 512), # in the first layer, 373248 is the amount of input features, 512 is the output amount\n",
    "            nn.ReLU(),\n",
    "            nn.Linear(512, 512), #second layer, input and output features is 512 (maybe this could be larger?)\n",
    "            nn.ReLU(),\n",
    "            nn.Linear(512, 10) #output layer, input features is 512, output features is 10 (these 10 is what the NN uses to 'learn')\n",
    "        )\n",
    "\n",
    "    def forward(self, x): #this function runs the above code with our data 'x' passed to it\n",
    "        x = self.flatten(x)\n",
    "        logits = self.linear_relu_stack(x)\n",
    "        return logits\n",
    "\n",
    "    def post_forward(self, y): \n",
    "        return torch.argmax(y, axis=1) #returns the highest value from a tensor object (jeroen wrote this function)\n",
    "    \n",
    "model = NeuralNetwork().to(device) #model is passed to gpu\n",
    "print(model)"
   ]
  },
  {
   "cell_type": "code",
   "execution_count": 4,
   "id": "64e00cd1",
   "metadata": {},
   "outputs": [],
   "source": [
    "loss_fn = nn.CrossEntropyLoss() #loss function is defined (we should try different ones, jeroen mentioned MSELoss and BCELoss)\n",
    "optimizer = torch.optim.SGD(model.parameters(), lr=1e-3) #the optimizer is defined"
   ]
  },
  {
   "cell_type": "code",
   "execution_count": 5,
   "id": "12a71fb4",
   "metadata": {},
   "outputs": [],
   "source": [
    "def train(dataloader, model, loss_fn, optimizer): #function for training the NN\n",
    "    size = len(train_dataloader)\n",
    "    model.train()\n",
    "    for batch, (X, y) in enumerate(train_dataloader):\n",
    "        X, y = X.to(device), y.to(device)\n",
    "\n",
    "        # Compute prediction error\n",
    "        pred = model(X)\n",
    "        loss = loss_fn(pred, y)\n",
    "\n",
    "        # Backpropagation\n",
    "        optimizer.zero_grad()\n",
    "        loss.backward()\n",
    "        optimizer.step()\n",
    "\n",
    "        if batch % 100 == 0:\n",
    "            loss, current = loss.item(), batch * len(X)\n",
    "            print(f\"loss: {loss:>7f}  [{current:>5d}/{size:>5d}]\")"
   ]
  },
  {
   "cell_type": "code",
   "execution_count": 6,
   "id": "5b852498",
   "metadata": {},
   "outputs": [],
   "source": [
    "def test(dataloader, model, loss_fn): #function for testing\n",
    "    size = len(test_dataloader)\n",
    "    num_batches = len(test_dataloader)\n",
    "    model.eval()\n",
    "    test_loss, correct = 0, 0\n",
    "    with torch.no_grad():\n",
    "        for X, y in dataloader:\n",
    "            X, y = X.to(device), y.to(device)\n",
    "            pred = model(X)\n",
    "            test_loss += loss_fn(pred, y).item()\n",
    "            correct += (pred.argmax(1) == y).type(torch.float).sum().item()\n",
    "    test_loss /= num_batches\n",
    "    correct /= size\n",
    "    print(f\"Test Error: \\n Accuracy: {(100*correct):>0.1f}%, Avg loss: {test_loss:>8f} \\n\")"
   ]
  },
  {
   "cell_type": "code",
   "execution_count": null,
   "id": "cbfd4a21",
   "metadata": {},
   "outputs": [],
   "source": []
  },
  {
   "cell_type": "code",
   "execution_count": 7,
   "id": "b0640590",
   "metadata": {
    "scrolled": true
   },
   "outputs": [],
   "source": [
    "#epochs = 5\n",
    "#for t in range(epochs):\n",
    "#    print(f\"Epoch {t+1}\\n-------------------------------\")\n",
    "#    train(train_dataloader, model, loss_fn, optimizer)\n",
    "#    test(test_dataloader, model, loss_fn)\n",
    "#print(\"Done!\")"
   ]
  },
  {
   "cell_type": "code",
   "execution_count": 8,
   "id": "a2a0d2ec",
   "metadata": {},
   "outputs": [],
   "source": [
    "model = NeuralNetwork()"
   ]
  },
  {
   "cell_type": "code",
   "execution_count": 9,
   "id": "fcd41c4c",
   "metadata": {},
   "outputs": [],
   "source": [
    "t = trainer(model, loss_fn, train_dataloader, test_dataloader, gpu=0, metrics=accuracy_score) #NN is passed to t with parameters"
   ]
  },
  {
   "cell_type": "code",
   "execution_count": 10,
   "id": "28ab24d7",
   "metadata": {},
   "outputs": [
    {
     "data": {
      "application/vnd.jupyter.widget-view+json": {
       "model_id": "d91b30201e0148f49864019851ec1378",
       "version_major": 2,
       "version_minor": 0
      },
      "text/plain": [
       "Total:   0%|          | 0/9120 [00:00<?, ?it/s]"
      ]
     },
     "metadata": {},
     "output_type": "display_data"
    },
    {
     "name": "stdout",
     "output_type": "stream",
     "text": [
      "1 11.25s trainloss=1.56266 validloss=0.92384 accuracy_score=0.75124 \n",
      "2 10.72s trainloss=0.82478 validloss=0.58978 accuracy_score=0.90547 \n",
      "3 10.67s trainloss=0.57780 validloss=0.42324 accuracy_score=0.88060 \n",
      "4 10.56s trainloss=0.40776 validloss=0.31265 accuracy_score=0.91542 \n",
      "5 10.63s trainloss=0.30521 validloss=0.24402 accuracy_score=0.94527 \n"
     ]
    }
   ],
   "source": [
    "t.train(5, (1e-5, 1e-4))"
   ]
  },
  {
   "cell_type": "code",
   "execution_count": null,
   "id": "004c1186",
   "metadata": {},
   "outputs": [],
   "source": []
  }
 ],
 "metadata": {
  "kernelspec": {
   "display_name": "Python 3 (ipykernel)",
   "language": "python",
   "name": "python3"
  },
  "language_info": {
   "codemirror_mode": {
    "name": "ipython",
    "version": 3
   },
   "file_extension": ".py",
   "mimetype": "text/x-python",
   "name": "python",
   "nbconvert_exporter": "python",
   "pygments_lexer": "ipython3",
   "version": "3.9.7"
  }
 },
 "nbformat": 4,
 "nbformat_minor": 5
}
