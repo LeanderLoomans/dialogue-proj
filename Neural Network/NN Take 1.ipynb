{
 "cells": [
  {
   "cell_type": "code",
   "execution_count": 19,
   "id": "18d9078e",
   "metadata": {},
   "outputs": [],
   "source": [
    "import torch\n",
    "import pandas as pd\n",
    "from torch import nn\n",
    "from torch.utils.data import DataLoader\n",
    "from torchvision import datasets, transforms\n",
    "from torchvision.transforms import ToTensor, Lambda, Compose\n",
    "import matplotlib.pyplot as plt\n",
    "from sklearn.metrics import accuracy_score\n",
    "from pipetorch.train import *\n"
   ]
  },
  {
   "cell_type": "code",
   "execution_count": 20,
   "metadata": {},
   "outputs": [
    {
     "name": "stdout",
     "output_type": "stream",
     "text": [
      "Fri Oct 29 14:14:36 2021       \n",
      "+-----------------------------------------------------------------------------+\n",
      "| NVIDIA-SMI 470.63.01    Driver Version: 470.63.01    CUDA Version: 11.4     |\n",
      "|-------------------------------+----------------------+----------------------+\n",
      "| GPU  Name        Persistence-M| Bus-Id        Disp.A | Volatile Uncorr. ECC |\n",
      "| Fan  Temp  Perf  Pwr:Usage/Cap|         Memory-Usage | GPU-Util  Compute M. |\n",
      "|                               |                      |               MIG M. |\n",
      "|===============================+======================+======================|\n",
      "|   0  NVIDIA GeForce ...  Off  | 00000000:05:00.0 Off |                  N/A |\n",
      "| 29%   27C    P8    18W / 250W |   2287MiB / 11019MiB |      0%      Default |\n",
      "|                               |                      |                  N/A |\n",
      "+-------------------------------+----------------------+----------------------+\n",
      "|   1  NVIDIA GeForce ...  Off  | 00000000:09:00.0 Off |                  N/A |\n",
      "| 29%   28C    P8    20W / 250W |      3MiB / 11019MiB |      0%      Default |\n",
      "|                               |                      |                  N/A |\n",
      "+-------------------------------+----------------------+----------------------+\n",
      "|   2  NVIDIA GeForce ...  Off  | 00000000:0A:00.0 Off |                  N/A |\n",
      "| 30%   27C    P8     2W / 250W |      3MiB / 11019MiB |      0%      Default |\n",
      "|                               |                      |                  N/A |\n",
      "+-------------------------------+----------------------+----------------------+\n",
      "|   3  NVIDIA GeForce ...  Off  | 00000000:85:00.0 Off |                  N/A |\n",
      "| 29%   27C    P8     2W / 250W |      3MiB / 11019MiB |      0%      Default |\n",
      "|                               |                      |                  N/A |\n",
      "+-------------------------------+----------------------+----------------------+\n",
      "|   4  NVIDIA GeForce ...  Off  | 00000000:89:00.0 Off |                  N/A |\n",
      "| 29%   26C    P8     1W / 250W |      3MiB / 11019MiB |      0%      Default |\n",
      "|                               |                      |                  N/A |\n",
      "+-------------------------------+----------------------+----------------------+\n",
      "                                                                               \n",
      "+-----------------------------------------------------------------------------+\n",
      "| Processes:                                                                  |\n",
      "|  GPU   GI   CI        PID   Type   Process name                  GPU Memory |\n",
      "|        ID   ID                                                   Usage      |\n",
      "|=============================================================================|\n",
      "|    0   N/A  N/A      6012      C   ...erhub/anaconda/bin/python     1013MiB |\n",
      "|    0   N/A  N/A      6155      C   ...erhub/anaconda/bin/python     1271MiB |\n",
      "+-----------------------------------------------------------------------------+\n"
     ]
    }
   ],
   "source": [
    "#Checking wich GPU is beeing used\n",
    "\n",
    "!nvidia-smi"
   ]
  },
  {
   "cell_type": "code",
   "execution_count": 22,
   "id": "e08fb275",
   "metadata": {},
   "outputs": [
    {
     "name": "stdout",
     "output_type": "stream",
     "text": [
      "1813\n",
      "228\n",
      "0.11170994610485056\n"
     ]
    }
   ],
   "source": [
    "# set data directory\n",
    "#data_dir = 'dialogue/Bjärn/images/splitfolders/' #Spectograms\n",
    "data_dir = 'dialogue/Olaf/images/mfcc/splitfolders/' #MFCC\n",
    "\n",
    "#preparing the transform method to transform data into a Tensor object\n",
    "transform = transforms.Compose([\n",
    "    #transforms.RandomRotation(20),\n",
    "    #transforms.RandomHorizontalFlip(),\n",
    "    transforms.ToTensor()]) \n",
    "    \n",
    "train_set = datasets.ImageFolder(data_dir + 'train', transform=transform) #contents from the 'train' folder is put in train_set\n",
    "test_set = datasets.ImageFolder(data_dir + 'test', transform=transform)\n",
    "print(len(train_set))\n",
    "print(len(test_set))\n",
    "print(len(test_set)/len(test_set+train_set))\n",
    "train_dataloader = DataLoader(train_set, batch_size=32, shuffle=True)#train_set is made into a dataloader, shuffled\n",
    "test_dataloader = DataLoader(test_set, batch_size=32, shuffle=True)"
   ]
  },
  {
   "cell_type": "code",
   "execution_count": 23,
   "id": "883eda83",
   "metadata": {},
   "outputs": [
    {
     "name": "stdout",
     "output_type": "stream",
     "text": [
      "Using cuda device\n",
      "NeuralNetwork(\n",
      "  (flatten): Flatten(start_dim=1, end_dim=-1)\n",
      "  (linear_relu_stack): Sequential(\n",
      "    (0): Linear(in_features=373248, out_features=512, bias=True)\n",
      "    (1): ReLU()\n",
      "    (2): Linear(in_features=512, out_features=512, bias=True)\n",
      "    (3): ReLU()\n",
      "    (4): Linear(in_features=512, out_features=10, bias=True)\n",
      "  )\n",
      ")\n"
     ]
    }
   ],
   "source": [
    "# Get cpu or gpu device for training.\n",
    "device = \"cuda\" if torch.cuda.is_available() else \"cpu\"\n",
    "print(\"Using {} device\".format(device))\n",
    "\n",
    "# Define model\n",
    "class NeuralNetwork(nn.Module):\n",
    "    def __init__(self):\n",
    "        super(NeuralNetwork, self).__init__()\n",
    "        self.flatten = nn.Flatten() #the images are flattened (pixels are placed end to end)\n",
    "        self.linear_relu_stack = nn.Sequential(\n",
    "            nn.Linear(373248, 512), # in the first layer, 373248 is the amount of input features, 512 is the output amount\n",
    "            nn.ReLU(),\n",
    "            nn.Linear(512, 512), #second layer, input and output features is 512 (maybe this could be larger?)\n",
    "            nn.ReLU(),\n",
    "            nn.Linear(512, 10) #output layer, input features is 512, output features is 10 (these 10 is what the NN uses to 'learn')\n",
    "        )\n",
    "\n",
    "    def forward(self, x): #this function runs the above code with our data 'x' passed to it\n",
    "        x = self.flatten(x)\n",
    "        logits = self.linear_relu_stack(x)\n",
    "        return logits\n",
    "\n",
    "    def post_forward(self, y): \n",
    "        return torch.argmax(y, axis=1) #returns the highest value from a tensor object (jeroen wrote this function)\n",
    "    \n",
    "model = NeuralNetwork().to(device) #model is passed to gpu\n",
    "print(model)"
   ]
  },
  {
   "cell_type": "code",
   "execution_count": 24,
   "id": "64e00cd1",
   "metadata": {},
   "outputs": [],
   "source": [
    "loss_fn = nn.CrossEntropyLoss() #loss function is defined (we should try different ones, jeroen mentioned MSELoss and BCELoss)\n",
    "optimizer = torch.optim.SGD(model.parameters(), lr=1e-3) #the optimizer is defined"
   ]
  },
  {
   "cell_type": "code",
   "execution_count": 25,
   "id": "12a71fb4",
   "metadata": {},
   "outputs": [],
   "source": [
    "def train(dataloader, model, loss_fn, optimizer): #function for training the NN\n",
    "    size = len(train_dataloader)\n",
    "    model.train()\n",
    "    for batch, (X, y) in enumerate(train_dataloader):\n",
    "        X, y = X.to(device), y.to(device)\n",
    "\n",
    "        # Compute prediction error\n",
    "        pred = model(X)\n",
    "        loss = loss_fn(pred, y)\n",
    "\n",
    "        # Backpropagation\n",
    "        optimizer.zero_grad()\n",
    "        loss.backward()\n",
    "        optimizer.step()\n",
    "\n",
    "        if batch % 100 == 0:\n",
    "            loss, current = loss.item(), batch * len(X)\n",
    "            print(f\"loss: {loss:>7f}  [{current:>5d}/{size:>5d}]\")"
   ]
  },
  {
   "cell_type": "code",
   "execution_count": 26,
   "id": "5b852498",
   "metadata": {},
   "outputs": [],
   "source": [
    "def test(dataloader, model, loss_fn): #function for testing\n",
    "    size = len(test_dataloader)\n",
    "    num_batches = len(test_dataloader)\n",
    "    model.eval()\n",
    "    test_loss, correct = 0, 0\n",
    "    with torch.no_grad():\n",
    "        for X, y in dataloader:\n",
    "            X, y = X.to(device), y.to(device)\n",
    "            pred = model(X)\n",
    "            test_loss += loss_fn(pred, y).item()\n",
    "            correct += (pred.argmax(1) == y).type(torch.float).sum().item()\n",
    "    test_loss /= num_batches\n",
    "    correct /= size\n",
    "    print(f\"Test Error: \\n Accuracy: {(100*correct):>0.1f}%, Avg loss: {test_loss:>8f} \\n\")"
   ]
  },
  {
   "cell_type": "code",
   "execution_count": null,
   "id": "cbfd4a21",
   "metadata": {},
   "outputs": [],
   "source": []
  },
  {
   "cell_type": "code",
   "execution_count": 7,
   "id": "b0640590",
   "metadata": {
    "scrolled": true
   },
   "outputs": [],
   "source": [
    "#epochs = 5\n",
    "#for t in range(epochs):\n",
    "#    print(f\"Epoch {t+1}\\n-------------------------------\")\n",
    "#    train(train_dataloader, model, loss_fn, optimizer)\n",
    "#    test(test_dataloader, model, loss_fn)\n",
    "#print(\"Done!\")"
   ]
  },
  {
   "cell_type": "code",
   "execution_count": 27,
   "id": "a2a0d2ec",
   "metadata": {},
   "outputs": [],
   "source": [
    "model = NeuralNetwork()"
   ]
  },
  {
   "cell_type": "code",
   "execution_count": 36,
   "id": "fcd41c4c",
   "metadata": {},
   "outputs": [],
   "source": [
    "t = trainer(model, loss_fn, train_dataloader, test_dataloader, gpu=0, metrics=accuracy_score) #NN is passed to t with parameters"
   ]
  },
  {
   "cell_type": "code",
   "execution_count": 37,
   "id": "28ab24d7",
   "metadata": {},
   "outputs": [
    {
     "data": {
      "application/vnd.jupyter.widget-view+json": {
       "model_id": "ad59d5065d014faa9097491cbe0efb56",
       "version_major": 2,
       "version_minor": 0
      },
      "text/plain": [
       "Total:   0%|          | 0/104000 [00:00<?, ?it/s]"
      ]
     },
     "metadata": {},
     "output_type": "display_data"
    },
    {
     "name": "stdout",
     "output_type": "stream",
     "text": [
      " 1 12.46s trainloss=0.85479 validloss=0.76077 accuracy_score=0.75877 \n",
      " 2 11.41s trainloss=0.71868 validloss=0.66813 accuracy_score=0.80702 \n",
      " 3 13.02s trainloss=0.78225 validloss=0.71131 accuracy_score=0.74561 \n",
      " 4 13.30s trainloss=0.82115 validloss=0.66350 accuracy_score=0.81579 \n",
      " 5 11.72s trainloss=0.67239 validloss=0.64800 accuracy_score=0.80702 \n",
      " 6 12.18s trainloss=0.61357 validloss=0.59289 accuracy_score=0.83772 \n",
      " 7 12.54s trainloss=0.62410 validloss=0.55923 accuracy_score=0.79386 \n",
      " 8 14.24s trainloss=0.56662 validloss=0.53814 accuracy_score=0.82456 \n",
      " 9 12.75s trainloss=0.63036 validloss=0.57107 accuracy_score=0.82456 \n",
      "10 11.88s trainloss=0.56918 validloss=0.49332 accuracy_score=0.84649 \n",
      "11 11.62s trainloss=0.56215 validloss=0.51955 accuracy_score=0.81579 \n",
      "12 11.63s trainloss=0.54465 validloss=0.49570 accuracy_score=0.78947 \n",
      "13 11.58s trainloss=0.61209 validloss=0.56476 accuracy_score=0.79386 \n",
      "14 11.82s trainloss=0.57876 validloss=0.47251 accuracy_score=0.83772 \n",
      "15 11.48s trainloss=0.49811 validloss=0.47863 accuracy_score=0.82895 \n",
      "16 16.16s trainloss=0.50097 validloss=0.46579 accuracy_score=0.86842 \n",
      "17 15.12s trainloss=0.44110 validloss=0.45836 accuracy_score=0.84211 \n",
      "18 12.46s trainloss=0.53138 validloss=0.47062 accuracy_score=0.84211 \n",
      "19 13.36s trainloss=0.48168 validloss=0.44209 accuracy_score=0.78947 \n",
      "20 14.16s trainloss=0.52714 validloss=0.41259 accuracy_score=0.86404 \n",
      "21 16.09s trainloss=0.57537 validloss=0.44836 accuracy_score=0.82895 \n",
      "22 15.51s trainloss=0.70568 validloss=0.59473 accuracy_score=0.78509 \n",
      "23 12.39s trainloss=0.54163 validloss=0.45137 accuracy_score=0.85088 \n",
      "24 13.43s trainloss=0.46476 validloss=0.44975 accuracy_score=0.82895 \n",
      "25 12.45s trainloss=0.43096 validloss=0.45017 accuracy_score=0.82018 \n",
      "26 14.11s trainloss=0.45506 validloss=0.40350 accuracy_score=0.87719 \n",
      "27 11.79s trainloss=0.49175 validloss=0.46530 accuracy_score=0.82895 \n",
      "28 12.64s trainloss=0.44830 validloss=0.42058 accuracy_score=0.84649 \n",
      "29 13.89s trainloss=0.38797 validloss=0.37317 accuracy_score=0.89474 \n",
      "30 13.62s trainloss=0.44216 validloss=0.37766 accuracy_score=0.86842 \n",
      "31 11.94s trainloss=0.38717 validloss=0.37067 accuracy_score=0.88158 \n",
      "32 11.96s trainloss=0.37099 validloss=0.39547 accuracy_score=0.86404 \n",
      "33 11.79s trainloss=0.46375 validloss=0.37073 accuracy_score=0.88596 \n",
      "34 11.44s trainloss=0.36907 validloss=0.35310 accuracy_score=0.90351 \n",
      "35 11.59s trainloss=0.43241 validloss=0.43347 accuracy_score=0.83772 \n",
      "36 11.75s trainloss=0.41081 validloss=0.32300 accuracy_score=0.89035 \n",
      "37 14.42s trainloss=0.35010 validloss=0.36041 accuracy_score=0.86404 \n",
      "38 15.84s trainloss=0.38996 validloss=0.34013 accuracy_score=0.90789 \n",
      "39 12.24s trainloss=0.34263 validloss=0.34273 accuracy_score=0.88158 \n",
      "40 12.49s trainloss=0.40168 validloss=0.32216 accuracy_score=0.91667 \n",
      "41 15.06s trainloss=0.30730 validloss=0.31277 accuracy_score=0.89912 \n",
      "42 15.41s trainloss=0.28816 validloss=0.30979 accuracy_score=0.90789 \n",
      "43 13.06s trainloss=0.27798 validloss=0.29075 accuracy_score=0.90789 \n",
      "44 12.25s trainloss=0.31341 validloss=0.28251 accuracy_score=0.92982 \n",
      "45 14.04s trainloss=0.48704 validloss=0.38228 accuracy_score=0.86404 \n",
      "46 14.80s trainloss=0.32320 validloss=0.28059 accuracy_score=0.92105 \n",
      "47 15.17s trainloss=0.25739 validloss=0.26757 accuracy_score=0.91228 \n",
      "48 11.92s trainloss=0.29090 validloss=0.26400 accuracy_score=0.92105 \n",
      "49 12.10s trainloss=0.29675 validloss=0.30128 accuracy_score=0.89474 \n",
      "50 15.86s trainloss=0.39796 validloss=0.38168 accuracy_score=0.85526 \n"
     ]
    }
   ],
   "source": [
    "t.train(50, (1e-5, 1e-4))"
   ]
  },
  {
   "cell_type": "code",
   "execution_count": 38,
   "id": "004c1186",
   "metadata": {},
   "outputs": [
    {
     "data": {
      "image/png": "[encoded data removed]",
      "text/plain": [
       "<Figure size 432x288 with 1 Axes>"
      ]
     },
     "metadata": {
      "needs_background": "light"
     },
     "output_type": "display_data"
    }
   ],
   "source": [
    "t.validation_curve()"
   ]
  },
  {
   "cell_type": "code",
   "execution_count": 39,
   "metadata": {},
   "outputs": [
    {
     "data": {
      "text/plain": [
       "    accuracy_score  epoch      loss  phase\n",
       "0         0.690017    1.0  0.854794  train\n",
       "1         0.758772    1.0  0.760769  valid\n",
       "2         0.772201    2.0  0.718681  train\n",
       "3         0.807018    2.0  0.668131  valid\n",
       "4         0.724214    3.0  0.782250  train\n",
       "..             ...    ...       ...    ...\n",
       "95        0.921053   48.0  0.264005  valid\n",
       "96        0.889134   49.0  0.296752  train\n",
       "97        0.894737   49.0  0.301284  valid\n",
       "98        0.857143   50.0  0.397961  train\n",
       "99        0.855263   50.0  0.381682  valid\n",
       "\n",
       "[100 rows x 4 columns]"
      ]
     },
     "execution_count": 39,
     "metadata": {},
     "output_type": "execute_result"
    }
   ],
   "source": [
    "t.evaluator"
   ]
  }
 ],
 "metadata": {
  "kernelspec": {
   "display_name": "Python 3 (ipykernel)",
   "language": "python",
   "name": "python3"
  }
 },
 "nbformat": 4,
 "nbformat_minor": 5
}
