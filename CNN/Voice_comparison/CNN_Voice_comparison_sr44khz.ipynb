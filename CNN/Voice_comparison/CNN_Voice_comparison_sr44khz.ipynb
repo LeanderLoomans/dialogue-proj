{
 "cells": [
  {
   "cell_type": "code",
   "execution_count": 1,
   "metadata": {},
   "outputs": [
    {
     "name": "stdout",
     "output_type": "stream",
     "text": [
      "using gpu 2\n"
     ]
    }
   ],
   "source": [
    "#Importing all needed librarys\n",
    "import torch\n",
    "from torch.utils.data import DataLoader, TensorDataset\n",
    "from torchvision import datasets, transforms\n",
    "from torchvision.transforms import ToTensor, Lambda, Compose\n",
    "import matplotlib.pyplot as plt\n",
    "from sklearn.metrics import accuracy_score\n",
    "from pipetorch.train import *\n",
    "from torch.autograd import Variable\n",
    "from torch.nn import Linear, ReLU, CrossEntropyLoss, Sequential, Conv2d, MaxPool2d, Module, Softmax, BatchNorm2d, Dropout\n",
    "from torch.optim import Adam, SGD\n",
    "from tqdm import tqdm\n",
    "from torch import nn, optim\n",
    "import seaborn as sns\n",
    "import torch.nn.functional as F\n",
    "\n",
    "# importing the libraries\n",
    "import pandas as pd\n",
    "import numpy as np\n",
    "\n",
    "# for creating validation set\n",
    "from sklearn.model_selection import train_test_split\n",
    "\n",
    "\n",
    "import torchvision\n",
    "from torchvision.datasets import ImageFolder"
   ]
  },
  {
   "cell_type": "code",
   "execution_count": 2,
   "metadata": {},
   "outputs": [
    {
     "name": "stdout",
     "output_type": "stream",
     "text": [
      "Mon Dec 20 14:49:15 2021       \n",
      "+-----------------------------------------------------------------------------+\n",
      "| NVIDIA-SMI 470.86       Driver Version: 470.86       CUDA Version: 11.4     |\n",
      "|-------------------------------+----------------------+----------------------+\n",
      "| GPU  Name        Persistence-M| Bus-Id        Disp.A | Volatile Uncorr. ECC |\n",
      "| Fan  Temp  Perf  Pwr:Usage/Cap|         Memory-Usage | GPU-Util  Compute M. |\n",
      "|                               |                      |               MIG M. |\n",
      "|===============================+======================+======================|\n",
      "|   0  NVIDIA GeForce ...  Off  | 00000000:05:00.0 Off |                  N/A |\n",
      "| 29%   27C    P8    17W / 250W |   3065MiB / 11019MiB |      0%      Default |\n",
      "|                               |                      |                  N/A |\n",
      "+-------------------------------+----------------------+----------------------+\n",
      "|   1  NVIDIA GeForce ...  Off  | 00000000:09:00.0 Off |                  N/A |\n",
      "| 29%   30C    P8    20W / 250W |   1322MiB / 11019MiB |      0%      Default |\n",
      "|                               |                      |                  N/A |\n",
      "+-------------------------------+----------------------+----------------------+\n",
      "|   2  NVIDIA GeForce ...  Off  | 00000000:0A:00.0 Off |                  N/A |\n",
      "| 35%   40C    P0    55W / 250W |      0MiB / 11019MiB |      0%      Default |\n",
      "|                               |                      |                  N/A |\n",
      "+-------------------------------+----------------------+----------------------+\n",
      "|   3  NVIDIA GeForce ...  Off  | 00000000:85:00.0 Off |                  N/A |\n",
      "| 30%   39C    P2    98W / 250W |   3372MiB / 11019MiB |     85%      Default |\n",
      "|                               |                      |                  N/A |\n",
      "+-------------------------------+----------------------+----------------------+\n",
      "|   4  NVIDIA GeForce ...  Off  | 00000000:89:00.0 Off |                  N/A |\n",
      "| 30%   48C    P2   104W / 250W |   3374MiB / 11019MiB |     88%      Default |\n",
      "|                               |                      |                  N/A |\n",
      "+-------------------------------+----------------------+----------------------+\n",
      "                                                                               \n",
      "+-----------------------------------------------------------------------------+\n",
      "| Processes:                                                                  |\n",
      "|  GPU   GI   CI        PID   Type   Process name                  GPU Memory |\n",
      "|        ID   ID                                                   Usage      |\n",
      "|=============================================================================|\n",
      "|    0   N/A  N/A     33663      C   ...erhub/anaconda/bin/python     1063MiB |\n",
      "|    0   N/A  N/A     36976      C   ...erhub/anaconda/bin/python     1999MiB |\n",
      "|    1   N/A  N/A     23109      C   ...erhub/anaconda/bin/python     1319MiB |\n",
      "|    3   N/A  N/A     24678      C   ...erhub/anaconda/bin/python     1107MiB |\n",
      "|    3   N/A  N/A     40651      C   python3                          1183MiB |\n",
      "|    3   N/A  N/A     40801      C   python3                          1079MiB |\n",
      "|    4   N/A  N/A     35004      C   ...erhub/anaconda/bin/python     1105MiB |\n",
      "|    4   N/A  N/A     40338      C   python3                          1135MiB |\n",
      "|    4   N/A  N/A     40557      C   python3                          1131MiB |\n",
      "+-----------------------------------------------------------------------------+\n"
     ]
    }
   ],
   "source": [
    "#Checking wich GPU is beeing used\n",
    "\n",
    "!nvidia-smi"
   ]
  },
  {
   "cell_type": "code",
   "execution_count": 3,
   "metadata": {},
   "outputs": [
    {
     "name": "stdout",
     "output_type": "stream",
     "text": [
      "(180000, 40, 44) (180000, 40, 44)\n",
      "[ True False  True ... False  True False]\n"
     ]
    }
   ],
   "source": [
    "#Load data\n",
    "data_speaker1_dir = 'dialogue/Dataset/SameVoiceDetection/sr44khz/44khz100_10_speaker1.npy'\n",
    "#data_speaker1_dir = 'dialogue/Leander/outputs/speaker1.npy'\n",
    "data_speaker2_dir = 'dialogue/Dataset/SameVoiceDetection/sr44khz/44khz100_10_speaker2.npy'\n",
    "#data_speaker2_dir = 'dialogue/Leander/outputs/speaker2.npy'\n",
    "labels_dir = 'dialogue/Dataset/SameVoiceDetection/sr44khz/44khz100_10_labels.npy'\n",
    "#labels_dir = 'dialogue/Leander/outputs/labels.npy'\n",
    "\n",
    "data_speaker1 = np.load(data_speaker1_dir, allow_pickle = True)\n",
    "data_speaker2 = np.load(data_speaker2_dir, allow_pickle = True)\n",
    "#data_speaker1 = data_speaker1.reshape((len(data_speaker1),40,len(data_speaker1[0])//40))\n",
    "#data_speaker2 = data_speaker2.reshape((len(data_speaker2),40,len(data_speaker2[0])//40))\n",
    "labels = np.load(labels_dir, allow_pickle = True)\n",
    "\n",
    "print(data_speaker1.shape, data_speaker2.shape)\n",
    "print(labels)"
   ]
  },
  {
   "cell_type": "code",
   "execution_count": 4,
   "metadata": {},
   "outputs": [
    {
     "data": {
      "image/png": "[encoded data removed]",
      "text/plain": [
       "<Figure size 432x288 with 1 Axes>"
      ]
     },
     "metadata": {
      "needs_background": "light"
     },
     "output_type": "display_data"
    }
   ],
   "source": [
    "from matplotlib import cm\n",
    "fig, ax = plt.subplots()\n",
    "mfcc_data = data_speaker1[1]\n",
    "cox = ax.imshow(mfcc_data, interpolation = 'nearest', cmap = cm.coolwarm, origin = 'lower')\n",
    "plt.show()"
   ]
  },
  {
   "cell_type": "code",
   "execution_count": 5,
   "metadata": {},
   "outputs": [
    {
     "name": "stdout",
     "output_type": "stream",
     "text": [
      "<class 'numpy.ndarray'>\n"
     ]
    }
   ],
   "source": [
    "#df_data.drop(['isSpeaking'],axis = 1)\n",
    "X1_train, X1_val, y_train, y_val = train_test_split(data_speaker1, labels, test_size = 0.2, random_state = 23)\n",
    "X1_train, X1_test, y_train, y_test = train_test_split(X1_train, y_train, test_size = 0.2, random_state = 23)\n",
    "\n",
    "X2_train, X2_val, y_train, y_val = train_test_split(data_speaker2, labels, test_size = 0.2, random_state = 23)\n",
    "X2_train, X2_test, y_train, y_test = train_test_split(X2_train, y_train, test_size = 0.2, random_state = 23)\n",
    "\n",
    "print(type(X1_train))\n",
    "#print(X_train)"
   ]
  },
  {
   "cell_type": "code",
   "execution_count": 6,
   "metadata": {},
   "outputs": [
    {
     "name": "stdout",
     "output_type": "stream",
     "text": [
      "torch.Size([115200, 40, 44]) torch.Size([115200])\n",
      "tensor([[-4.5319e+02, -4.6784e+02, -4.8883e+02,  ..., -3.2153e+02,\n",
      "         -3.2517e+02, -3.3646e+02],\n",
      "        [ 2.0541e+02,  1.9636e+02,  1.7664e+02,  ...,  2.4254e+02,\n",
      "          2.4610e+02,  2.4839e+02],\n",
      "        [ 1.8906e+01,  2.2520e+01,  2.2753e+01,  ..., -7.9404e+01,\n",
      "         -6.8997e+01, -5.4620e+01],\n",
      "        ...,\n",
      "        [-6.8194e+00, -9.7588e+00, -1.3276e+01,  ..., -1.1883e+01,\n",
      "         -7.5521e+00, -7.1712e+00],\n",
      "        [-2.3469e+00, -6.7821e+00, -1.0921e+01,  ..., -2.7668e+00,\n",
      "          1.1747e+00,  1.7973e+00],\n",
      "        [-1.9728e+00, -5.7779e+00, -9.1388e+00,  ...,  1.9530e-01,\n",
      "          7.5064e-01,  2.0396e+00]])\n"
     ]
    }
   ],
   "source": [
    "X1_train = torch.from_numpy(X1_train).float()\n",
    "\n",
    "X2_train = torch.from_numpy(X2_train).float()\n",
    "\n",
    "y_train = torch.from_numpy(y_train).float()\n",
    "\n",
    "X1_val = torch.from_numpy(X1_val).float()\n",
    "\n",
    "X2_val = torch.from_numpy(X2_val).float()\n",
    "\n",
    "y_val = torch.from_numpy(y_val).float()\n",
    "\n",
    "X1_test = torch.from_numpy(X1_test).float()\n",
    "\n",
    "X2_test = torch.from_numpy(X2_test).float()\n",
    "\n",
    "y_test = torch.from_numpy(y_test).float()\n",
    "\n",
    "print(X2_train.shape, y_train.shape)\n",
    "\n",
    "print(X2_train[0])\n"
   ]
  },
  {
   "cell_type": "code",
   "execution_count": 7,
   "metadata": {},
   "outputs": [],
   "source": [
    "class model(nn.Module):\n",
    "    def __init__(self,n_features,kernel_size):\n",
    "        super(model, self).__init__()\n",
    "        self.conv1 = nn.Conv1d(n_features, 40, kernel_size=7, stride = 1, padding = 3, padding_mode= 'zeros') #40 input channels, 40 output channels\n",
    "        self.conv2 = nn.Conv1d(40, 60, kernel_size=5, stride = 1, padding = 2, padding_mode= 'zeros') #40 input channels from previous Conv. layer, 80 out\n",
    "        self.conv3 = nn.Conv1d(60, 70, kernel_size=3, stride = 1, padding = 1, padding_mode= 'zeros')\n",
    "        self.conv4 = nn.Conv1d(70, 80, kernel_size=3, stride = 1, padding = 1, padding_mode= 'zeros')\n",
    "\n",
    "        self.fc1 = nn.Linear(320, 200) #Fully-connected classifier layer \n",
    "        self.fc2 = nn.Linear(200, 100)\n",
    "        self.fc3 = nn.Linear(100, 1) #Fully-connected classifier layer\n",
    "    \n",
    "    def forward_one_voice(self, x):\n",
    "        x = F.relu(F.max_pool1d(self.conv1(x), 2))\n",
    "        x = F.relu(F.max_pool1d(self.conv2(x), 2))\n",
    "        x = F.relu(F.max_pool1d(self.conv3(x), 2))\n",
    "        x = F.relu(F.max_pool1d(self.conv4(x), 2))\n",
    "        \n",
    "        x = x.reshape(len(x), -1)\n",
    "        batch_size = len(x)\n",
    "        \n",
    "        return x\n",
    "    \n",
    "    def forward(self, x1, x2):\n",
    "        x1 = self.forward_one_voice(x1)\n",
    "        x2 = self.forward_one_voice(x2)\n",
    "        x = torch.concat([x1, x2], axis = 1)\n",
    "        x = self.fc1(x)\n",
    "        x = F.relu(x)\n",
    "        x = self.fc2(x)\n",
    "        x = F.relu(x)\n",
    "        x = self.fc3(x)\n",
    "        \n",
    "        return torch.sigmoid(x)\n",
    "    \n",
    "    def post_forward(self, y): \n",
    "        return torch.round(y)\n",
    "    \n",
    "CNN = model(X1_train.shape[1],kernel_size = 3)"
   ]
  },
  {
   "cell_type": "code",
   "execution_count": 8,
   "metadata": {},
   "outputs": [],
   "source": [
    "weight = torch.FloatTensor([1])\n",
    "criterion = nn.BCELoss()\n",
    "optimizer = optim.Adam(CNN.parameters(), lr=0.00003)"
   ]
  },
  {
   "cell_type": "code",
   "execution_count": 9,
   "metadata": {},
   "outputs": [],
   "source": [
    "train_ds = TensorDataset(X1_train, X2_train, y_train)\n",
    "val_ds = TensorDataset(X1_val, X2_val, y_val)"
   ]
  },
  {
   "cell_type": "code",
   "execution_count": 10,
   "metadata": {},
   "outputs": [],
   "source": [
    "batch_size = 32\n",
    "train_dl = DataLoader(train_ds, batch_size= batch_size, num_workers = 4, pin_memory = True)\n",
    "#val_dl = DataLoader(val_ds, batch_size= 32)"
   ]
  },
  {
   "cell_type": "code",
   "execution_count": 11,
   "metadata": {},
   "outputs": [
    {
     "name": "stdout",
     "output_type": "stream",
     "text": [
      "cuda\n"
     ]
    }
   ],
   "source": [
    "device = torch.device(\"cuda\" if torch.cuda.is_available() else \"cpu\")\n",
    "# X1_train = X1_train.to(device)\n",
    "# X2_train = X2_train.to(device)\n",
    "# y_train = y_train.to(device)\n",
    "X1_val = X1_val.to(device)\n",
    "X2_val = X2_val.to(device)\n",
    "y_val = y_val.to(device)\n",
    "\n",
    "X1_test = X1_test.to(device)\n",
    "X2_test = X2_test.to(device)\n",
    "y_test = y_test.to(device)\n",
    "\n",
    "CNN = CNN.to(device)\n",
    "criterion = criterion.to(device)\n",
    "print(device)"
   ]
  },
  {
   "cell_type": "code",
   "execution_count": 12,
   "metadata": {},
   "outputs": [],
   "source": [
    "def calculate_accuracy(y_true, y_pred):\n",
    "    return (y_true == y_pred).sum().float() / len(y_true)"
   ]
  },
  {
   "cell_type": "code",
   "execution_count": 13,
   "metadata": {},
   "outputs": [
    {
     "name": "stdout",
     "output_type": "stream",
     "text": [
      "epoch 0\n",
      "Train set - loss: 0.501, accuracy: 0.64\n",
      "val  set - loss: 0.501, accuracy: 0.757\n",
      "\n",
      "epoch 1\n",
      "Train set - loss: 0.511, accuracy: 0.774\n",
      "val  set - loss: 0.451, accuracy: 0.79\n",
      "\n",
      "epoch 2\n",
      "Train set - loss: 0.453, accuracy: 0.798\n",
      "val  set - loss: 0.426, accuracy: 0.804\n",
      "\n",
      "epoch 3\n",
      "Train set - loss: 0.413, accuracy: 0.813\n",
      "val  set - loss: 0.405, accuracy: 0.816\n",
      "\n",
      "epoch 4\n",
      "Train set - loss: 0.382, accuracy: 0.827\n",
      "val  set - loss: 0.385, accuracy: 0.828\n",
      "\n",
      "epoch 5\n",
      "Train set - loss: 0.311, accuracy: 0.84\n",
      "val  set - loss: 0.363, accuracy: 0.841\n",
      "\n",
      "epoch 6\n",
      "Train set - loss: 0.282, accuracy: 0.852\n",
      "val  set - loss: 0.341, accuracy: 0.854\n",
      "\n",
      "epoch 7\n",
      "Train set - loss: 0.291, accuracy: 0.861\n",
      "val  set - loss: 0.328, accuracy: 0.859\n",
      "\n",
      "epoch 8\n",
      "Train set - loss: 0.298, accuracy: 0.867\n",
      "val  set - loss: 0.317, accuracy: 0.865\n",
      "\n",
      "epoch 9\n",
      "Train set - loss: 0.322, accuracy: 0.874\n",
      "val  set - loss: 0.307, accuracy: 0.871\n",
      "\n",
      "epoch 10\n",
      "Train set - loss: 0.352, accuracy: 0.88\n",
      "val  set - loss: 0.297, accuracy: 0.875\n",
      "\n",
      "epoch 11\n",
      "Train set - loss: 0.373, accuracy: 0.886\n",
      "val  set - loss: 0.287, accuracy: 0.88\n",
      "\n",
      "epoch 12\n",
      "Train set - loss: 0.373, accuracy: 0.891\n",
      "val  set - loss: 0.278, accuracy: 0.885\n",
      "\n",
      "epoch 13\n",
      "Train set - loss: 0.362, accuracy: 0.895\n",
      "val  set - loss: 0.27, accuracy: 0.888\n",
      "\n",
      "epoch 14\n",
      "Train set - loss: 0.357, accuracy: 0.9\n",
      "val  set - loss: 0.262, accuracy: 0.892\n",
      "\n",
      "epoch 15\n",
      "Train set - loss: 0.341, accuracy: 0.905\n",
      "val  set - loss: 0.256, accuracy: 0.894\n",
      "\n",
      "epoch 16\n",
      "Train set - loss: 0.305, accuracy: 0.909\n",
      "val  set - loss: 0.25, accuracy: 0.898\n",
      "\n",
      "epoch 17\n",
      "Train set - loss: 0.293, accuracy: 0.913\n",
      "val  set - loss: 0.244, accuracy: 0.9\n",
      "\n",
      "epoch 18\n",
      "Train set - loss: 0.276, accuracy: 0.917\n",
      "val  set - loss: 0.24, accuracy: 0.901\n",
      "\n",
      "epoch 19\n",
      "Train set - loss: 0.256, accuracy: 0.92\n",
      "val  set - loss: 0.235, accuracy: 0.904\n",
      "\n",
      "epoch 20\n",
      "Train set - loss: 0.231, accuracy: 0.924\n",
      "val  set - loss: 0.231, accuracy: 0.907\n",
      "\n",
      "epoch 21\n",
      "Train set - loss: 0.226, accuracy: 0.928\n",
      "val  set - loss: 0.226, accuracy: 0.909\n",
      "\n",
      "epoch 22\n",
      "Train set - loss: 0.204, accuracy: 0.931\n",
      "val  set - loss: 0.222, accuracy: 0.911\n",
      "\n",
      "epoch 23\n",
      "Train set - loss: 0.186, accuracy: 0.934\n",
      "val  set - loss: 0.22, accuracy: 0.913\n",
      "\n",
      "epoch 24\n",
      "Train set - loss: 0.172, accuracy: 0.937\n",
      "val  set - loss: 0.216, accuracy: 0.914\n",
      "\n",
      "epoch 25\n",
      "Train set - loss: 0.163, accuracy: 0.94\n",
      "val  set - loss: 0.213, accuracy: 0.916\n",
      "\n",
      "epoch 26\n",
      "Train set - loss: 0.155, accuracy: 0.943\n",
      "val  set - loss: 0.21, accuracy: 0.918\n",
      "\n",
      "epoch 27\n",
      "Train set - loss: 0.14, accuracy: 0.945\n",
      "val  set - loss: 0.209, accuracy: 0.919\n",
      "\n",
      "epoch 28\n",
      "Train set - loss: 0.144, accuracy: 0.948\n",
      "val  set - loss: 0.206, accuracy: 0.919\n",
      "\n",
      "epoch 29\n",
      "Train set - loss: 0.134, accuracy: 0.95\n",
      "val  set - loss: 0.205, accuracy: 0.92\n",
      "\n",
      "epoch 30\n",
      "Train set - loss: 0.124, accuracy: 0.953\n",
      "val  set - loss: 0.204, accuracy: 0.921\n",
      "\n",
      "epoch 31\n",
      "Train set - loss: 0.124, accuracy: 0.955\n",
      "val  set - loss: 0.204, accuracy: 0.921\n",
      "\n",
      "epoch 32\n",
      "Train set - loss: 0.101, accuracy: 0.957\n",
      "val  set - loss: 0.204, accuracy: 0.922\n",
      "\n",
      "epoch 33\n",
      "Train set - loss: 0.111, accuracy: 0.959\n",
      "val  set - loss: 0.204, accuracy: 0.923\n",
      "\n",
      "epoch 34\n",
      "Train set - loss: 0.095, accuracy: 0.961\n",
      "val  set - loss: 0.206, accuracy: 0.922\n",
      "\n",
      "epoch 35\n",
      "Train set - loss: 0.085, accuracy: 0.963\n",
      "val  set - loss: 0.206, accuracy: 0.923\n",
      "\n",
      "epoch 36\n",
      "Train set - loss: 0.086, accuracy: 0.965\n",
      "val  set - loss: 0.208, accuracy: 0.923\n",
      "\n",
      "epoch 37\n",
      "Train set - loss: 0.071, accuracy: 0.967\n",
      "val  set - loss: 0.209, accuracy: 0.924\n",
      "\n",
      "epoch 38\n",
      "Train set - loss: 0.074, accuracy: 0.968\n",
      "val  set - loss: 0.212, accuracy: 0.923\n",
      "\n",
      "epoch 39\n",
      "Train set - loss: 0.065, accuracy: 0.97\n",
      "val  set - loss: 0.214, accuracy: 0.923\n",
      "\n",
      "epoch 40\n",
      "Train set - loss: 0.057, accuracy: 0.972\n",
      "val  set - loss: 0.218, accuracy: 0.924\n",
      "\n",
      "epoch 41\n",
      "Train set - loss: 0.063, accuracy: 0.974\n",
      "val  set - loss: 0.221, accuracy: 0.924\n",
      "\n",
      "epoch 42\n",
      "Train set - loss: 0.049, accuracy: 0.975\n",
      "val  set - loss: 0.225, accuracy: 0.925\n",
      "\n",
      "epoch 43\n",
      "Train set - loss: 0.045, accuracy: 0.977\n",
      "val  set - loss: 0.229, accuracy: 0.924\n",
      "\n",
      "epoch 44\n",
      "Train set - loss: 0.037, accuracy: 0.979\n",
      "val  set - loss: 0.236, accuracy: 0.923\n",
      "\n",
      "epoch 45\n",
      "Train set - loss: 0.035, accuracy: 0.98\n",
      "val  set - loss: 0.241, accuracy: 0.925\n",
      "\n",
      "epoch 46\n",
      "Train set - loss: 0.034, accuracy: 0.981\n",
      "val  set - loss: 0.244, accuracy: 0.924\n",
      "\n",
      "epoch 47\n",
      "Train set - loss: 0.028, accuracy: 0.982\n",
      "val  set - loss: 0.252, accuracy: 0.924\n",
      "\n",
      "epoch 48\n",
      "Train set - loss: 0.027, accuracy: 0.984\n",
      "val  set - loss: 0.258, accuracy: 0.924\n",
      "\n",
      "epoch 49\n",
      "Train set - loss: 0.018, accuracy: 0.984\n",
      "val  set - loss: 0.26, accuracy: 0.926\n",
      "\n",
      "epoch 50\n",
      "Train set - loss: 0.016, accuracy: 0.985\n",
      "val  set - loss: 0.268, accuracy: 0.926\n",
      "\n",
      "epoch 51\n",
      "Train set - loss: 0.02, accuracy: 0.986\n",
      "val  set - loss: 0.281, accuracy: 0.924\n",
      "\n",
      "epoch 52\n",
      "Train set - loss: 0.016, accuracy: 0.986\n",
      "val  set - loss: 0.289, accuracy: 0.926\n",
      "\n",
      "epoch 53\n",
      "Train set - loss: 0.016, accuracy: 0.988\n",
      "val  set - loss: 0.305, accuracy: 0.925\n",
      "\n",
      "epoch 54\n",
      "Train set - loss: 0.011, accuracy: 0.988\n",
      "val  set - loss: 0.32, accuracy: 0.926\n",
      "\n",
      "epoch 55\n",
      "Train set - loss: 0.075, accuracy: 0.988\n",
      "val  set - loss: 0.322, accuracy: 0.924\n",
      "\n",
      "epoch 56\n",
      "Train set - loss: 0.004, accuracy: 0.988\n",
      "val  set - loss: 0.335, accuracy: 0.925\n",
      "\n",
      "epoch 57\n",
      "Train set - loss: 0.024, accuracy: 0.988\n",
      "val  set - loss: 0.327, accuracy: 0.926\n",
      "\n",
      "epoch 58\n",
      "Train set - loss: 0.021, accuracy: 0.989\n",
      "val  set - loss: 0.339, accuracy: 0.93\n",
      "\n",
      "epoch 59\n",
      "Train set - loss: 0.031, accuracy: 0.989\n",
      "val  set - loss: 0.329, accuracy: 0.93\n",
      "\n",
      "epoch 60\n",
      "Train set - loss: 0.02, accuracy: 0.99\n",
      "val  set - loss: 0.346, accuracy: 0.928\n",
      "\n",
      "epoch 61\n",
      "Train set - loss: 0.017, accuracy: 0.99\n",
      "val  set - loss: 0.368, accuracy: 0.93\n",
      "\n",
      "epoch 62\n",
      "Train set - loss: 0.043, accuracy: 0.99\n",
      "val  set - loss: 0.355, accuracy: 0.93\n",
      "\n",
      "epoch 63\n",
      "Train set - loss: 0.018, accuracy: 0.99\n",
      "val  set - loss: 0.37, accuracy: 0.927\n",
      "\n",
      "epoch 64\n",
      "Train set - loss: 0.017, accuracy: 0.99\n",
      "val  set - loss: 0.386, accuracy: 0.928\n",
      "\n",
      "epoch 65\n",
      "Train set - loss: 0.021, accuracy: 0.991\n",
      "val  set - loss: 0.364, accuracy: 0.93\n",
      "\n",
      "epoch 66\n",
      "Train set - loss: 0.018, accuracy: 0.991\n",
      "val  set - loss: 0.356, accuracy: 0.928\n",
      "\n",
      "epoch 67\n",
      "Train set - loss: 0.012, accuracy: 0.991\n",
      "val  set - loss: 0.368, accuracy: 0.927\n",
      "\n",
      "epoch 68\n",
      "Train set - loss: 0.006, accuracy: 0.992\n",
      "val  set - loss: 0.386, accuracy: 0.924\n",
      "\n",
      "epoch 69\n",
      "Train set - loss: 0.019, accuracy: 0.992\n",
      "val  set - loss: 0.403, accuracy: 0.93\n",
      "\n",
      "epoch 70\n",
      "Train set - loss: 0.032, accuracy: 0.991\n",
      "val  set - loss: 0.393, accuracy: 0.927\n",
      "\n",
      "epoch 71\n",
      "Train set - loss: 0.005, accuracy: 0.991\n",
      "val  set - loss: 0.424, accuracy: 0.931\n",
      "\n",
      "epoch 72\n",
      "Train set - loss: 0.016, accuracy: 0.992\n",
      "val  set - loss: 0.381, accuracy: 0.927\n",
      "\n",
      "epoch 73\n",
      "Train set - loss: 0.01, accuracy: 0.992\n",
      "val  set - loss: 0.414, accuracy: 0.928\n",
      "\n",
      "epoch 74\n",
      "Train set - loss: 0.005, accuracy: 0.992\n",
      "val  set - loss: 0.379, accuracy: 0.925\n",
      "\n",
      "epoch 75\n",
      "Train set - loss: 0.003, accuracy: 0.992\n",
      "val  set - loss: 0.4, accuracy: 0.927\n",
      "\n",
      "epoch 76\n",
      "Train set - loss: 0.055, accuracy: 0.993\n",
      "val  set - loss: 0.444, accuracy: 0.93\n",
      "\n",
      "epoch 77\n",
      "Train set - loss: 0.011, accuracy: 0.993\n",
      "val  set - loss: 0.416, accuracy: 0.932\n",
      "\n",
      "epoch 78\n",
      "Train set - loss: 0.003, accuracy: 0.993\n",
      "val  set - loss: 0.403, accuracy: 0.93\n",
      "\n",
      "epoch 79\n",
      "Train set - loss: 0.001, accuracy: 0.993\n",
      "val  set - loss: 0.397, accuracy: 0.93\n",
      "\n",
      "epoch 80\n",
      "Train set - loss: 0.004, accuracy: 0.993\n",
      "val  set - loss: 0.421, accuracy: 0.931\n",
      "\n",
      "epoch 81\n",
      "Train set - loss: 0.002, accuracy: 0.994\n",
      "val  set - loss: 0.406, accuracy: 0.929\n",
      "\n",
      "epoch 82\n",
      "Train set - loss: 0.007, accuracy: 0.994\n",
      "val  set - loss: 0.47, accuracy: 0.933\n",
      "\n",
      "epoch 83\n",
      "Train set - loss: 0.014, accuracy: 0.993\n",
      "val  set - loss: 0.463, accuracy: 0.937\n",
      "\n",
      "epoch 84\n",
      "Train set - loss: 0.005, accuracy: 0.993\n",
      "val  set - loss: 0.415, accuracy: 0.932\n",
      "\n",
      "epoch 85\n",
      "Train set - loss: 0.01, accuracy: 0.994\n",
      "val  set - loss: 0.399, accuracy: 0.932\n",
      "\n",
      "epoch 86\n",
      "Train set - loss: 0.05, accuracy: 0.994\n",
      "val  set - loss: 0.431, accuracy: 0.932\n",
      "\n",
      "epoch 87\n",
      "Train set - loss: 0.009, accuracy: 0.994\n",
      "val  set - loss: 0.509, accuracy: 0.936\n",
      "\n",
      "epoch 88\n",
      "Train set - loss: 0.002, accuracy: 0.994\n",
      "val  set - loss: 0.45, accuracy: 0.938\n",
      "\n",
      "epoch 89\n",
      "Train set - loss: 0.001, accuracy: 0.994\n",
      "val  set - loss: 0.444, accuracy: 0.935\n",
      "\n",
      "epoch 90\n",
      "Train set - loss: 0.008, accuracy: 0.994\n",
      "val  set - loss: 0.507, accuracy: 0.933\n",
      "\n",
      "epoch 91\n",
      "Train set - loss: 0.0, accuracy: 0.995\n",
      "val  set - loss: 0.474, accuracy: 0.937\n",
      "\n",
      "epoch 92\n",
      "Train set - loss: 0.002, accuracy: 0.995\n",
      "val  set - loss: 0.452, accuracy: 0.934\n",
      "\n",
      "epoch 93\n",
      "Train set - loss: 0.004, accuracy: 0.995\n",
      "val  set - loss: 0.53, accuracy: 0.93\n",
      "\n",
      "epoch 94\n",
      "Train set - loss: 0.004, accuracy: 0.994\n",
      "val  set - loss: 0.462, accuracy: 0.928\n",
      "\n",
      "epoch 95\n",
      "Train set - loss: 0.007, accuracy: 0.995\n",
      "val  set - loss: 0.434, accuracy: 0.931\n",
      "\n",
      "epoch 96\n",
      "Train set - loss: 0.007, accuracy: 0.995\n",
      "val  set - loss: 0.467, accuracy: 0.938\n",
      "\n",
      "epoch 97\n",
      "Train set - loss: 0.0, accuracy: 0.995\n",
      "val  set - loss: 0.475, accuracy: 0.932\n",
      "\n",
      "epoch 98\n",
      "Train set - loss: 0.02, accuracy: 0.995\n",
      "val  set - loss: 0.537, accuracy: 0.936\n",
      "\n",
      "epoch 99\n",
      "Train set - loss: 0.007, accuracy: 0.995\n",
      "val  set - loss: 0.557, accuracy: 0.943\n",
      "\n"
     ]
    }
   ],
   "source": [
    "def round_tensor(t, decimal_places=3):\n",
    "    return round(t.item(), decimal_places)\n",
    "    \n",
    "Results = pd.DataFrame(columns = ['Epoch', 'Acc_train', 'Acc_val', 'val_loss', 'train_loss'])\n",
    "    \n",
    "for epoch in range(100):\n",
    "    y_acc = torch.empty((batch_size),dtype= torch.int32, device = 'cuda')\n",
    "    y_pred_acc = torch.empty((batch_size), device = 'cuda')\n",
    "    for x1, x2, y in train_dl:\n",
    "        x1, x2, y = x1.to(device), x2.to(device), y.to(device)\n",
    "        optimizer.zero_grad()\n",
    "        y_pred = CNN(x1, x2)\n",
    "        y_pred = y_pred.squeeze()\n",
    "        train_loss = criterion(y_pred, y)\n",
    "        train_loss.backward()\n",
    "        optimizer.step()\n",
    "        y_acc = torch.concat([y, y_acc], axis = 0)\n",
    "        y_pred_acc = torch.concat([y_pred, y_pred_acc], axis = 0)\n",
    "        print('{}MB allocated'.format(torch.cuda.memory_allocated()/1024**2))\n",
    "    if epoch % 1 == 0:\n",
    "\n",
    "\n",
    "        train_acc = calculate_accuracy(y_acc, CNN.post_forward(y_pred_acc))\n",
    "    \n",
    "        y_val_pred = CNN(X1_val, X2_val)\n",
    "        y_val_pred = y_val_pred.squeeze()\n",
    "        val_loss = criterion(y_val_pred, y_val)\n",
    "    \n",
    "        val_acc = calculate_accuracy(y_val, CNN.post_forward(y_val_pred))\n",
    "    \n",
    "        result = {'Epoch': epoch, 'Acc_train': round_tensor(train_acc), 'Acc_val': round_tensor(val_acc), 'val_loss': round_tensor(val_loss), 'train_loss': round_tensor(train_loss)}\n",
    "\n",
    "        Results = Results.append(result, ignore_index=True)\n",
    "\n",
    "        print(\n",
    "f'''epoch {epoch}\n",
    "Train set - loss: {round_tensor(train_loss)}, accuracy: {round_tensor(train_acc)}\n",
    "val  set - loss: {round_tensor(val_loss)}, accuracy: {round_tensor(val_acc)}\n",
    "''')"
   ]
  },
  {
   "cell_type": "code",
   "execution_count": 14,
   "metadata": {},
   "outputs": [
    {
     "data": {
      "image/png": "[encoded data removed]",
      "text/plain": [
       "<Figure size 432x288 with 1 Axes>"
      ]
     },
     "metadata": {
      "needs_background": "light"
     },
     "output_type": "display_data"
    },
    {
     "name": "stdout",
     "output_type": "stream",
     "text": [
      "    Epoch  Acc_train  Acc_val  val_loss  train_loss\n",
      "0     0.0      0.640    0.757     0.501       0.501\n",
      "1     1.0      0.774    0.790     0.451       0.511\n",
      "2     2.0      0.798    0.804     0.426       0.453\n",
      "3     3.0      0.813    0.816     0.405       0.413\n",
      "4     4.0      0.827    0.828     0.385       0.382\n",
      "..    ...        ...      ...       ...         ...\n",
      "95   95.0      0.995    0.931     0.434       0.007\n",
      "96   96.0      0.995    0.938     0.467       0.007\n",
      "97   97.0      0.995    0.932     0.475       0.000\n",
      "98   98.0      0.995    0.936     0.537       0.020\n",
      "99   99.0      0.995    0.943     0.557       0.007\n",
      "\n",
      "[100 rows x 5 columns]\n"
     ]
    }
   ],
   "source": [
    "plt.plot(Results.Epoch,Results.Acc_train,'r',Results.Epoch,Results.Acc_val,'b')\n",
    "plt.legend(['Train','val'])\n",
    "plt.xlabel('Epochs')\n",
    "plt.ylabel('Accuracy')\n",
    "plt.show()\n",
    "print(Results)"
   ]
  },
  {
   "cell_type": "code",
   "execution_count": 15,
   "metadata": {},
   "outputs": [
    {
     "data": {
      "image/png": "[encoded data removed]",
      "text/plain": [
       "<Figure size 432x288 with 1 Axes>"
      ]
     },
     "metadata": {
      "needs_background": "light"
     },
     "output_type": "display_data"
    }
   ],
   "source": [
    "plt.plot(Results.Epoch,Results.train_loss,'r',Results.Epoch,Results.val_loss,'b')\n",
    "plt.legend(['Train','val'])\n",
    "plt.xlabel('Epochs')\n",
    "plt.ylabel('Loss')\n",
    "plt.show()"
   ]
  },
  {
   "cell_type": "code",
   "execution_count": 16,
   "metadata": {},
   "outputs": [
    {
     "name": "stdout",
     "output_type": "stream",
     "text": [
      "                 precision    recall  f1-score   support\n",
      "\n",
      "Different Voice       0.96      0.92      0.94     18016\n",
      "     Same Voice       0.93      0.96      0.94     17984\n",
      "\n",
      "       accuracy                           0.94     36000\n",
      "      macro avg       0.94      0.94      0.94     36000\n",
      "   weighted avg       0.94      0.94      0.94     36000\n",
      "\n"
     ]
    }
   ],
   "source": [
    "classes = ['Different Voice', 'Same Voice']\n",
    "y_pred = CNN(X1_val, X2_val)\n",
    "y_pred = y_pred.ge(.5).view(-1).cpu()\n",
    "y_val = y_val.cpu()\n",
    "print(classification_report(y_val, y_pred, target_names=classes))"
   ]
  },
  {
   "cell_type": "code",
   "execution_count": 17,
   "metadata": {},
   "outputs": [
    {
     "data": {
      "image/png": "[encoded data removed]",
      "text/plain": [
       "<Figure size 432x288 with 2 Axes>"
      ]
     },
     "metadata": {
      "needs_background": "light"
     },
     "output_type": "display_data"
    }
   ],
   "source": [
    "cm = confusion_matrix(y_val, y_pred)\n",
    "df_cm = pd.DataFrame(cm, index=classes, columns=classes)\n",
    "hmap = sns.heatmap(df_cm, annot=True, fmt=\"d\", cmap= 'crest')\n",
    "hmap.yaxis.set_ticklabels(hmap.yaxis.get_ticklabels(), rotation=0, ha='right')\n",
    "hmap.xaxis.set_ticklabels(hmap.xaxis.get_ticklabels(), rotation=30, ha='right')\n",
    "plt.ylabel('True label')\n",
    "plt.xlabel('Predicted label');"
   ]
  },
  {
   "cell_type": "code",
   "execution_count": 18,
   "metadata": {},
   "outputs": [
    {
     "name": "stdout",
     "output_type": "stream",
     "text": [
      "                 precision    recall  f1-score   support\n",
      "\n",
      "Different Voice       0.96      0.92      0.94     14349\n",
      "     Same Voice       0.93      0.96      0.94     14451\n",
      "\n",
      "       accuracy                           0.94     28800\n",
      "      macro avg       0.94      0.94      0.94     28800\n",
      "   weighted avg       0.94      0.94      0.94     28800\n",
      "\n"
     ]
    }
   ],
   "source": [
    "y_pred = CNN(X1_test, X2_test)\n",
    "y_pred = y_pred.ge(.5).view(-1).cpu()\n",
    "y_test = y_test.cpu()\n",
    "print(classification_report(y_test, y_pred, target_names=classes))"
   ]
  },
  {
   "cell_type": "code",
   "execution_count": 19,
   "metadata": {},
   "outputs": [
    {
     "data": {
      "image/png": "[encoded data removed]",
      "text/plain": [
       "<Figure size 432x288 with 2 Axes>"
      ]
     },
     "metadata": {
      "needs_background": "light"
     },
     "output_type": "display_data"
    }
   ],
   "source": [
    "cm = confusion_matrix(y_test, y_pred)\n",
    "df_cm = pd.DataFrame(cm, index=classes, columns=classes)\n",
    "hmap = sns.heatmap(df_cm, annot=True, fmt=\"d\", cmap= 'crest')\n",
    "hmap.yaxis.set_ticklabels(hmap.yaxis.get_ticklabels(), rotation=0, ha='right')\n",
    "hmap.xaxis.set_ticklabels(hmap.xaxis.get_ticklabels(), rotation=30, ha='right')\n",
    "plt.ylabel('True label')\n",
    "plt.xlabel('Predicted label');"
   ]
  },
  {
   "cell_type": "code",
   "execution_count": 20,
   "metadata": {},
   "outputs": [
    {
     "name": "stderr",
     "output_type": "stream",
     "text": [
      "UsageError: Line magic function `%%javascript` not found.\n"
     ]
    }
   ],
   "source": [
    "#Shutting down the notebook\n",
    "\n",
    "%%javascript\n",
    "Jupyter.notebook.session.delete();"
   ]
  },
  {
   "cell_type": "code",
   "execution_count": 23,
   "metadata": {},
   "outputs": [
    {
     "name": "stdout",
     "output_type": "stream",
     "text": [
      "Model's state_dict:\n",
      "conv1.weight \t torch.Size([40, 40, 7])\n",
      "conv1.bias \t torch.Size([40])\n",
      "conv2.weight \t torch.Size([60, 40, 5])\n",
      "conv2.bias \t torch.Size([60])\n",
      "conv3.weight \t torch.Size([70, 60, 3])\n",
      "conv3.bias \t torch.Size([70])\n",
      "conv4.weight \t torch.Size([80, 70, 3])\n",
      "conv4.bias \t torch.Size([80])\n",
      "fc1.weight \t torch.Size([200, 320])\n",
      "fc1.bias \t torch.Size([200])\n",
      "fc2.weight \t torch.Size([100, 200])\n",
      "fc2.bias \t torch.Size([100])\n",
      "fc3.weight \t torch.Size([1, 100])\n",
      "fc3.bias \t torch.Size([1])\n"
     ]
    }
   ],
   "source": [
    "print(\"Model's state_dict:\")\n",
    "for param_tensor in CNN.state_dict():\n",
    "    print(param_tensor, \"\\t\", CNN.state_dict()[param_tensor].size())\n",
    "    \n",
    "torch.save(CNN.state_dict(), \"./dialogue/Model/voice_comparison_model\")"
   ]
  },
  {
   "cell_type": "code",
   "execution_count": 22,
   "metadata": {},
   "outputs": [
    {
     "name": "stdout",
     "output_type": "stream",
     "text": [
      "dialogue  dllectures21\tvoice_comparison_model\n"
     ]
    }
   ],
   "source": [
    "!ls"
   ]
  }
 ],
 "metadata": {
  "kernelspec": {
   "display_name": "Python 3 (ipykernel)",
   "language": "python",
   "name": "python3"
  },
  "language_info": {
   "codemirror_mode": {
    "name": "ipython",
    "version": 3
   },
   "file_extension": ".py",
   "mimetype": "text/x-python",
   "name": "python",
   "nbconvert_exporter": "python",
   "pygments_lexer": "ipython3",
   "version": "3.9.7"
  },
  "orig_nbformat": 4
 },
 "nbformat": 4,
 "nbformat_minor": 2
}
