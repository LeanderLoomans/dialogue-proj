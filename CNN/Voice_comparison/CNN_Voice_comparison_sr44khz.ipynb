{
 "cells": [
  {
   "cell_type": "code",
   "execution_count": 30,
   "metadata": {},
   "outputs": [],
   "source": [
    "#Importing all needed librarys\n",
    "import torch\n",
    "from torch.utils.data import DataLoader, TensorDataset\n",
    "from torchvision import datasets, transforms\n",
    "from torchvision.transforms import ToTensor, Lambda, Compose\n",
    "import matplotlib.pyplot as plt\n",
    "from sklearn.metrics import accuracy_score\n",
    "from pipetorch.train import *\n",
    "from torch.autograd import Variable\n",
    "from torch.nn import Linear, ReLU, CrossEntropyLoss, Sequential, Conv2d, MaxPool2d, Module, Softmax, BatchNorm2d, Dropout\n",
    "from torch.optim import Adam, SGD\n",
    "from tqdm import tqdm\n",
    "from torch import nn, optim\n",
    "import seaborn as sns\n",
    "import torch.nn.functional as F\n",
    "\n",
    "# importing the libraries\n",
    "import pandas as pd\n",
    "import numpy as np\n",
    "\n",
    "# for creating validation set\n",
    "from sklearn.model_selection import train_test_split\n",
    "\n",
    "\n",
    "import torchvision\n",
    "from torchvision.datasets import ImageFolder"
   ]
  },
  {
   "cell_type": "code",
   "execution_count": 31,
   "metadata": {},
   "outputs": [
    {
     "name": "stdout",
     "output_type": "stream",
     "text": [
      "Fri Dec 17 18:33:23 2021       \n",
      "+-----------------------------------------------------------------------------+\n",
      "| NVIDIA-SMI 470.86       Driver Version: 470.86       CUDA Version: 11.4     |\n",
      "|-------------------------------+----------------------+----------------------+\n",
      "| GPU  Name        Persistence-M| Bus-Id        Disp.A | Volatile Uncorr. ECC |\n",
      "| Fan  Temp  Perf  Pwr:Usage/Cap|         Memory-Usage | GPU-Util  Compute M. |\n",
      "|                               |                      |               MIG M. |\n",
      "|===============================+======================+======================|\n",
      "|   0  NVIDIA GeForce ...  Off  | 00000000:05:00.0 Off |                  N/A |\n",
      "| 29%   26C    P8    16W / 250W |   8115MiB / 11019MiB |      0%      Default |\n",
      "|                               |                      |                  N/A |\n",
      "+-------------------------------+----------------------+----------------------+\n",
      "|   1  NVIDIA GeForce ...  Off  | 00000000:09:00.0 Off |                  N/A |\n",
      "| 29%   27C    P8    21W / 250W |   9411MiB / 11019MiB |      0%      Default |\n",
      "|                               |                      |                  N/A |\n",
      "+-------------------------------+----------------------+----------------------+\n",
      "|   2  NVIDIA GeForce ...  Off  | 00000000:0A:00.0 Off |                  N/A |\n",
      "| 30%   39C    P2    56W / 250W |   7070MiB / 11019MiB |     15%      Default |\n",
      "|                               |                      |                  N/A |\n",
      "+-------------------------------+----------------------+----------------------+\n",
      "|   3  NVIDIA GeForce ...  Off  | 00000000:85:00.0 Off |                  N/A |\n",
      "| 30%   37C    P2    51W / 250W |   8121MiB / 11019MiB |      0%      Default |\n",
      "|                               |                      |                  N/A |\n",
      "+-------------------------------+----------------------+----------------------+\n",
      "|   4  NVIDIA GeForce ...  Off  | 00000000:89:00.0 Off |                  N/A |\n",
      "| 30%   49C    P2   105W / 250W |   6624MiB / 11019MiB |     95%      Default |\n",
      "|                               |                      |                  N/A |\n",
      "+-------------------------------+----------------------+----------------------+\n",
      "                                                                               \n",
      "+-----------------------------------------------------------------------------+\n",
      "| Processes:                                                                  |\n",
      "|  GPU   GI   CI        PID   Type   Process name                  GPU Memory |\n",
      "|        ID   ID                                                   Usage      |\n",
      "|=============================================================================|\n",
      "|    0   N/A  N/A      2603      C   ...erhub/anaconda/bin/python     2747MiB |\n",
      "|    0   N/A  N/A      8099      C   ...erhub/anaconda/bin/python     2525MiB |\n",
      "|    0   N/A  N/A     13252      C   ...erhub/anaconda/bin/python     1735MiB |\n",
      "|    0   N/A  N/A     31850      C   ...erhub/anaconda/bin/python     1105MiB |\n",
      "|    1   N/A  N/A      2441      C   ...erhub/anaconda/bin/python     5111MiB |\n",
      "|    1   N/A  N/A     10000      C   ...erhub/anaconda/bin/python     2035MiB |\n",
      "|    1   N/A  N/A     13147      C   ...erhub/anaconda/bin/python     1189MiB |\n",
      "|    1   N/A  N/A     25669      C   ...erhub/anaconda/bin/python     1073MiB |\n",
      "|    2   N/A  N/A     21380      C   ...erhub/anaconda/bin/python     4859MiB |\n",
      "|    2   N/A  N/A     24945      C   ...erhub/anaconda/bin/python     1077MiB |\n",
      "|    2   N/A  N/A     25782      C   python3                          1131MiB |\n",
      "|    3   N/A  N/A      7431      C   ...erhub/anaconda/bin/python     1329MiB |\n",
      "|    3   N/A  N/A     16765      C   ...erhub/anaconda/bin/python     1079MiB |\n",
      "|    3   N/A  N/A     41815      C   ...erhub/anaconda/bin/python     4627MiB |\n",
      "|    3   N/A  N/A     46951      C   ...erhub/anaconda/bin/python     1081MiB |\n",
      "|    4   N/A  N/A     17870      C   ...erhub/anaconda/bin/python     1059MiB |\n",
      "|    4   N/A  N/A     22139      C   ...erhub/anaconda/bin/python     2149MiB |\n",
      "|    4   N/A  N/A     25584      C   python3                          1145MiB |\n",
      "|    4   N/A  N/A     25943      C   python3                          1127MiB |\n",
      "|    4   N/A  N/A     26129      C   python3                          1141MiB |\n",
      "+-----------------------------------------------------------------------------+\n"
     ]
    }
   ],
   "source": [
    "#Checking wich GPU is beeing used\n",
    "\n",
    "!nvidia-smi"
   ]
  },
  {
   "cell_type": "code",
   "execution_count": 32,
   "metadata": {},
   "outputs": [
    {
     "name": "stdout",
     "output_type": "stream",
     "text": [
      "(4050, 40, 44) (4050, 40, 44)\n",
      "[ True False  True ... False  True False]\n"
     ]
    }
   ],
   "source": [
    "#Load data\n",
    "data_speaker1_dir = 'dialogue/Dataset/SameVoiceDetection/sr44khz/44khz15_10_speaker1.npy'\n",
    "#data_speaker1_dir = 'dialogue/Leander/outputs/speaker1.npy'\n",
    "data_speaker2_dir = 'dialogue/Dataset/SameVoiceDetection/sr44khz/44khz15_10_speaker2.npy'\n",
    "#data_speaker2_dir = 'dialogue/Leander/outputs/speaker2.npy'\n",
    "labels_dir = 'dialogue/Dataset/SameVoiceDetection/sr44khz/44khz15_10_labels.npy'\n",
    "#labels_dir = 'dialogue/Leander/outputs/labels.npy'\n",
    "\n",
    "data_speaker1 = np.load(data_speaker1_dir, allow_pickle = True)\n",
    "data_speaker2 = np.load(data_speaker2_dir, allow_pickle = True)\n",
    "#data_speaker1 = data_speaker1.reshape((len(data_speaker1),40,len(data_speaker1[0])//40))\n",
    "#data_speaker2 = data_speaker2.reshape((len(data_speaker2),40,len(data_speaker2[0])//40))\n",
    "labels = np.load(labels_dir, allow_pickle = True)\n",
    "\n",
    "print(data_speaker1.shape, data_speaker2.shape)\n",
    "print(labels)"
   ]
  },
  {
   "cell_type": "code",
   "execution_count": 33,
   "metadata": {},
   "outputs": [
    {
     "data": {
      "image/png": "[encoded data removed]",
      "text/plain": [
       "<Figure size 432x288 with 1 Axes>"
      ]
     },
     "metadata": {
      "needs_background": "light"
     },
     "output_type": "display_data"
    }
   ],
   "source": [
    "from matplotlib import cm\n",
    "fig, ax = plt.subplots()\n",
    "mfcc_data = data_speaker1[1]\n",
    "cox = ax.imshow(mfcc_data, interpolation = 'nearest', cmap = cm.coolwarm, origin = 'lower')\n",
    "plt.show()"
   ]
  },
  {
   "cell_type": "code",
   "execution_count": 34,
   "metadata": {},
   "outputs": [
    {
     "name": "stdout",
     "output_type": "stream",
     "text": [
      "<class 'numpy.ndarray'>\n"
     ]
    }
   ],
   "source": [
    "#df_data.drop(['isSpeaking'],axis = 1)\n",
    "X1_train, X1_val, y_train, y_val = train_test_split(data_speaker1, labels, test_size = 0.2, random_state = 23)\n",
    "X1_train, X1_test, y_train, y_test = train_test_split(X1_train, y_train, test_size = 0.2, random_state = 23)\n",
    "\n",
    "X2_train, X2_val, y_train, y_val = train_test_split(data_speaker2, labels, test_size = 0.2, random_state = 23)\n",
    "X2_train, X2_test, y_train, y_test = train_test_split(X2_train, y_train, test_size = 0.2, random_state = 23)\n",
    "\n",
    "print(type(X1_train))\n",
    "#print(X_train)"
   ]
  },
  {
   "cell_type": "code",
   "execution_count": 35,
   "metadata": {},
   "outputs": [
    {
     "name": "stdout",
     "output_type": "stream",
     "text": [
      "torch.Size([2592, 40, 44]) torch.Size([2592])\n",
      "tensor([[-3.7222e+02, -3.8699e+02, -4.2414e+02,  ..., -3.4556e+02,\n",
      "         -3.2111e+02, -2.9396e+02],\n",
      "        [ 2.1835e+02,  2.1023e+02,  1.8973e+02,  ...,  2.6035e+02,\n",
      "          2.5908e+02,  2.4797e+02],\n",
      "        [-5.2643e+01, -4.9346e+01, -4.7762e+01,  ..., -3.7216e+01,\n",
      "         -4.7592e+01, -3.6658e+01],\n",
      "        ...,\n",
      "        [-4.7962e+00, -7.0296e+00, -1.2231e+01,  ..., -4.1636e+00,\n",
      "         -3.7778e+00, -6.3432e-01],\n",
      "        [-6.4672e+00, -7.5345e+00, -1.2554e+01,  ..., -5.0046e+00,\n",
      "         -5.4956e+00, -6.1512e+00],\n",
      "        [ 1.2437e+00,  3.1459e+00,  3.2223e-01,  ..., -1.1775e+01,\n",
      "         -4.0905e+00, -2.4092e+00]])\n"
     ]
    }
   ],
   "source": [
    "X1_train = torch.from_numpy(X1_train).float()\n",
    "\n",
    "X2_train = torch.from_numpy(X2_train).float()\n",
    "\n",
    "y_train = torch.from_numpy(y_train).float()\n",
    "\n",
    "X1_val = torch.from_numpy(X1_val).float()\n",
    "\n",
    "X2_val = torch.from_numpy(X2_val).float()\n",
    "\n",
    "y_val = torch.from_numpy(y_val).float()\n",
    "\n",
    "X1_test = torch.from_numpy(X1_test).float()\n",
    "\n",
    "X2_test = torch.from_numpy(X2_test).float()\n",
    "\n",
    "y_test = torch.from_numpy(y_test).float()\n",
    "\n",
    "print(X2_train.shape, y_train.shape)\n",
    "\n",
    "print(X2_train[0])\n"
   ]
  },
  {
   "cell_type": "code",
   "execution_count": 36,
   "metadata": {},
   "outputs": [],
   "source": [
    "class model(nn.Module):\n",
    "    def __init__(self,n_features,kernel_size):\n",
    "        super(model, self).__init__()\n",
    "        self.conv1 = nn.Conv1d(n_features, 40, kernel_size=7, stride = 1, padding = 3, padding_mode= 'zeros') #40 input channels, 40 output channels\n",
    "        self.conv2 = nn.Conv1d(40, 60, kernel_size=5, stride = 1, padding = 2, padding_mode= 'zeros') #40 input channels from previous Conv. layer, 80 out\n",
    "        self.conv3 = nn.Conv1d(60, 80, kernel_size=3, stride = 1, padding = 1, padding_mode= 'zeros')\n",
    "\n",
    "        self.fc1 = nn.Linear(800, 200) #Fully-connected classifier layer \n",
    "        self.fc2 = nn.Linear(200, 100)\n",
    "        self.fc3 = nn.Linear(100, 1) #Fully-connected classifier layer\n",
    "    \n",
    "    def forward_one_voice(self, x):\n",
    "        x = F.relu(F.max_pool1d(self.conv1(x), 2))\n",
    "        x = F.relu(F.max_pool1d(self.conv2(x), 2))\n",
    "        x = F.relu(F.max_pool1d(self.conv3(x), 2))\n",
    "        \n",
    "        x = x.reshape(len(x), -1)\n",
    "        batch_size = len(x)\n",
    "        \n",
    "        return x\n",
    "    \n",
    "    def forward(self, x1, x2):\n",
    "        x1 = self.forward_one_voice(x1)\n",
    "        x2 = self.forward_one_voice(x2)\n",
    "        x = torch.concat([x1, x2], axis = 1)\n",
    "        x = self.fc1(x)\n",
    "        x = F.relu(x)\n",
    "        x = self.fc2(x)\n",
    "        x = F.relu(x)\n",
    "        x = self.fc3(x)\n",
    "        \n",
    "        return torch.sigmoid(x)\n",
    "    \n",
    "    def post_forward(self, y): \n",
    "        return torch.round(y)\n",
    "    \n",
    "CNN = model(X1_train.shape[1],kernel_size = 3)"
   ]
  },
  {
   "cell_type": "code",
   "execution_count": 37,
   "metadata": {},
   "outputs": [],
   "source": [
    "weight = torch.FloatTensor([1])\n",
    "criterion = nn.BCELoss()\n",
    "optimizer = optim.Adam(CNN.parameters(), lr=0.00003)"
   ]
  },
  {
   "cell_type": "code",
   "execution_count": 38,
   "metadata": {},
   "outputs": [],
   "source": [
    "train_ds = TensorDataset(X1_train, X2_train, y_train)\n",
    "val_ds = TensorDataset(X1_val, X2_val, y_val)"
   ]
  },
  {
   "cell_type": "code",
   "execution_count": 39,
   "metadata": {},
   "outputs": [],
   "source": [
    "batch_size = 32\n",
    "train_dl = DataLoader(train_ds, batch_size= batch_size, num_workers = 4, pin_memory = True)\n",
    "#val_dl = DataLoader(val_ds, batch_size= 32)"
   ]
  },
  {
   "cell_type": "code",
   "execution_count": 40,
   "metadata": {},
   "outputs": [
    {
     "name": "stdout",
     "output_type": "stream",
     "text": [
      "cuda\n"
     ]
    }
   ],
   "source": [
    "device = torch.device(\"cuda\" if torch.cuda.is_available() else \"cpu\")\n",
    "# X1_train = X1_train.to(device)\n",
    "# X2_train = X2_train.to(device)\n",
    "# y_train = y_train.to(device)\n",
    "X1_val = X1_val.to(device)\n",
    "X2_val = X2_val.to(device)\n",
    "y_val = y_val.to(device)\n",
    "\n",
    "X1_test = X1_test.to(device)\n",
    "X2_test = X2_test.to(device)\n",
    "y_test = y_test.to(device)\n",
    "\n",
    "CNN = CNN.to(device)\n",
    "criterion = criterion.to(device)\n",
    "print(device)"
   ]
  },
  {
   "cell_type": "code",
   "execution_count": 41,
   "metadata": {},
   "outputs": [],
   "source": [
    "def calculate_accuracy(y_true, y_pred):\n",
    "    return (y_true == y_pred).sum().float() / len(y_true)"
   ]
  },
  {
   "cell_type": "code",
   "execution_count": 42,
   "metadata": {},
   "outputs": [
    {
     "name": "stdout",
     "output_type": "stream",
     "text": [
      "epoch 0\n",
      "Train set - loss: 0.694, accuracy: 0.505\n",
      "val  set - loss: 0.7, accuracy: 0.502\n",
      "\n",
      "epoch 1\n",
      "Train set - loss: 0.686, accuracy: 0.518\n",
      "val  set - loss: 0.7, accuracy: 0.512\n",
      "\n",
      "epoch 2\n",
      "Train set - loss: 0.683, accuracy: 0.533\n",
      "val  set - loss: 0.701, accuracy: 0.517\n",
      "\n",
      "epoch 3\n",
      "Train set - loss: 0.681, accuracy: 0.55\n",
      "val  set - loss: 0.702, accuracy: 0.514\n",
      "\n",
      "epoch 4\n",
      "Train set - loss: 0.674, accuracy: 0.56\n",
      "val  set - loss: 0.702, accuracy: 0.51\n",
      "\n",
      "epoch 5\n",
      "Train set - loss: 0.666, accuracy: 0.574\n",
      "val  set - loss: 0.7, accuracy: 0.522\n",
      "\n",
      "epoch 6\n",
      "Train set - loss: 0.659, accuracy: 0.598\n",
      "val  set - loss: 0.692, accuracy: 0.521\n",
      "\n",
      "epoch 7\n",
      "Train set - loss: 0.648, accuracy: 0.626\n",
      "val  set - loss: 0.68, accuracy: 0.552\n",
      "\n",
      "epoch 8\n",
      "Train set - loss: 0.626, accuracy: 0.649\n",
      "val  set - loss: 0.656, accuracy: 0.584\n",
      "\n",
      "epoch 9\n",
      "Train set - loss: 0.604, accuracy: 0.662\n",
      "val  set - loss: 0.634, accuracy: 0.617\n",
      "\n",
      "epoch 10\n",
      "Train set - loss: 0.583, accuracy: 0.684\n",
      "val  set - loss: 0.616, accuracy: 0.632\n",
      "\n",
      "epoch 11\n",
      "Train set - loss: 0.576, accuracy: 0.693\n",
      "val  set - loss: 0.601, accuracy: 0.66\n",
      "\n",
      "epoch 12\n",
      "Train set - loss: 0.564, accuracy: 0.711\n",
      "val  set - loss: 0.589, accuracy: 0.672\n",
      "\n",
      "epoch 13\n",
      "Train set - loss: 0.558, accuracy: 0.725\n",
      "val  set - loss: 0.58, accuracy: 0.675\n",
      "\n",
      "epoch 14\n",
      "Train set - loss: 0.551, accuracy: 0.733\n",
      "val  set - loss: 0.57, accuracy: 0.678\n",
      "\n",
      "epoch 15\n",
      "Train set - loss: 0.54, accuracy: 0.747\n",
      "val  set - loss: 0.559, accuracy: 0.683\n",
      "\n",
      "epoch 16\n",
      "Train set - loss: 0.532, accuracy: 0.756\n",
      "val  set - loss: 0.549, accuracy: 0.688\n",
      "\n",
      "epoch 17\n",
      "Train set - loss: 0.522, accuracy: 0.766\n",
      "val  set - loss: 0.538, accuracy: 0.695\n",
      "\n",
      "epoch 18\n",
      "Train set - loss: 0.511, accuracy: 0.772\n",
      "val  set - loss: 0.53, accuracy: 0.705\n",
      "\n",
      "epoch 19\n",
      "Train set - loss: 0.5, accuracy: 0.78\n",
      "val  set - loss: 0.522, accuracy: 0.717\n",
      "\n",
      "epoch 20\n",
      "Train set - loss: 0.489, accuracy: 0.79\n",
      "val  set - loss: 0.513, accuracy: 0.733\n",
      "\n",
      "epoch 21\n",
      "Train set - loss: 0.475, accuracy: 0.8\n",
      "val  set - loss: 0.504, accuracy: 0.738\n",
      "\n",
      "epoch 22\n",
      "Train set - loss: 0.463, accuracy: 0.811\n",
      "val  set - loss: 0.496, accuracy: 0.747\n",
      "\n",
      "epoch 23\n",
      "Train set - loss: 0.453, accuracy: 0.822\n",
      "val  set - loss: 0.487, accuracy: 0.752\n",
      "\n",
      "epoch 24\n",
      "Train set - loss: 0.44, accuracy: 0.826\n",
      "val  set - loss: 0.479, accuracy: 0.763\n",
      "\n",
      "epoch 25\n",
      "Train set - loss: 0.428, accuracy: 0.834\n",
      "val  set - loss: 0.471, accuracy: 0.773\n",
      "\n",
      "epoch 26\n",
      "Train set - loss: 0.419, accuracy: 0.842\n",
      "val  set - loss: 0.464, accuracy: 0.775\n",
      "\n",
      "epoch 27\n",
      "Train set - loss: 0.407, accuracy: 0.85\n",
      "val  set - loss: 0.457, accuracy: 0.779\n",
      "\n",
      "epoch 28\n",
      "Train set - loss: 0.397, accuracy: 0.857\n",
      "val  set - loss: 0.451, accuracy: 0.784\n",
      "\n",
      "epoch 29\n",
      "Train set - loss: 0.385, accuracy: 0.859\n",
      "val  set - loss: 0.445, accuracy: 0.788\n",
      "\n",
      "epoch 30\n",
      "Train set - loss: 0.372, accuracy: 0.864\n",
      "val  set - loss: 0.438, accuracy: 0.793\n",
      "\n",
      "epoch 31\n",
      "Train set - loss: 0.362, accuracy: 0.867\n",
      "val  set - loss: 0.432, accuracy: 0.793\n",
      "\n",
      "epoch 32\n",
      "Train set - loss: 0.353, accuracy: 0.87\n",
      "val  set - loss: 0.425, accuracy: 0.799\n",
      "\n",
      "epoch 33\n",
      "Train set - loss: 0.343, accuracy: 0.874\n",
      "val  set - loss: 0.42, accuracy: 0.804\n",
      "\n",
      "epoch 34\n",
      "Train set - loss: 0.334, accuracy: 0.88\n",
      "val  set - loss: 0.414, accuracy: 0.805\n",
      "\n",
      "epoch 35\n",
      "Train set - loss: 0.324, accuracy: 0.888\n",
      "val  set - loss: 0.409, accuracy: 0.812\n",
      "\n",
      "epoch 36\n",
      "Train set - loss: 0.314, accuracy: 0.893\n",
      "val  set - loss: 0.404, accuracy: 0.815\n",
      "\n",
      "epoch 37\n",
      "Train set - loss: 0.306, accuracy: 0.894\n",
      "val  set - loss: 0.398, accuracy: 0.819\n",
      "\n"
     ]
    }
   ],
   "source": [
    "def round_tensor(t, decimal_places=3):\n",
    "    return round(t.item(), decimal_places)\n",
    "    \n",
    "Results = pd.DataFrame(columns = ['Epoch', 'Acc_train', 'Acc_val', 'val_loss', 'train_loss'])\n",
    "    \n",
    "for epoch in range(100):\n",
    "    y_acc = torch.empty((batch_size),dtype= torch.int32, device = 'cuda')\n",
    "    y_pred_acc = torch.empty((batch_size), device = 'cuda')\n",
    "    for x1, x2, y in train_dl:\n",
    "        x1, x2, y = x1.to(device), x2.to(device), y.to(device)\n",
    "        optimizer.zero_grad()\n",
    "        y_pred = CNN(x1, x2)\n",
    "        #print(y_pred.shape, y.shape)\n",
    "        #y = y.squeeze()\n",
    "        y_pred = y_pred.squeeze()\n",
    "        train_loss = criterion(y_pred, y)\n",
    "        train_loss.backward()\n",
    "        optimizer.step()\n",
    "        #print(y_pred.shape, y.shape)\n",
    "        #y = y.squeeze()\n",
    "        #y_pred = y_pred.squeeze()\n",
    "        y_acc = torch.concat([y, y_acc], axis = 0)\n",
    "        y_pred_acc = torch.concat([y_pred, y_pred_acc], axis = 0)\n",
    "    if epoch % 1 == 0:\n",
    "\n",
    "\n",
    "        train_acc = calculate_accuracy(y_acc, CNN.post_forward(y_pred_acc))\n",
    "    \n",
    "        y_val_pred = CNN(X1_val, X2_val)\n",
    "        y_val_pred = y_val_pred.squeeze()\n",
    "        val_loss = criterion(y_val_pred, y_val)\n",
    "    \n",
    "        val_acc = calculate_accuracy(y_val, CNN.post_forward(y_val_pred))\n",
    "    \n",
    "        result = {'Epoch': epoch, 'Acc_train': round_tensor(train_acc), 'Acc_val': round_tensor(val_acc), 'val_loss': round_tensor(val_loss), 'train_loss': round_tensor(train_loss)}\n",
    "\n",
    "        Results = Results.append(result, ignore_index=True)\n",
    "\n",
    "        print(\n",
    "f'''epoch {epoch}\n",
    "Train set - loss: {round_tensor(train_loss)}, accuracy: {round_tensor(train_acc)}\n",
    "val  set - loss: {round_tensor(val_loss)}, accuracy: {round_tensor(val_acc)}\n",
    "''')"
   ]
  },
  {
   "cell_type": "code",
   "execution_count": null,
   "metadata": {},
   "outputs": [
    {
     "data": {
      "image/png": "[encoded data removed]",
      "text/plain": [
       "<Figure size 432x288 with 1 Axes>"
      ]
     },
     "metadata": {
      "needs_background": "light"
     },
     "output_type": "display_data"
    },
    {
     "name": "stdout",
     "output_type": "stream",
     "text": [
      "    Epoch  Acc_train  Acc_val  val_loss  train_loss\n",
      "0     0.0      0.664    0.774     0.473       0.365\n",
      "1     1.0      0.798    0.810     0.416       0.366\n",
      "2     2.0      0.821    0.824     0.392       0.435\n",
      "3     3.0      0.832    0.832     0.377       0.397\n",
      "4     4.0      0.840    0.838     0.365       0.345\n",
      "..    ...        ...      ...       ...         ...\n",
      "95   95.0      0.943    0.908     0.236       0.002\n",
      "96   96.0      0.943    0.908     0.236       0.002\n",
      "97   97.0      0.943    0.908     0.237       0.002\n",
      "98   98.0      0.943    0.908     0.237       0.002\n",
      "99   99.0      0.944    0.908     0.238       0.002\n",
      "\n",
      "[100 rows x 5 columns]\n"
     ]
    }
   ],
   "source": [
    "plt.plot(Results.Epoch,Results.Acc_train,'r',Results.Epoch,Results.Acc_val,'b')\n",
    "plt.legend(['Train','val'])\n",
    "plt.xlabel('Epochs')\n",
    "plt.ylabel('Accuracy')\n",
    "plt.show()\n",
    "print(Results)"
   ]
  },
  {
   "cell_type": "code",
   "execution_count": null,
   "metadata": {},
   "outputs": [
    {
     "data": {
      "image/png": "[encoded data removed]",
      "text/plain": [
       "<Figure size 432x288 with 1 Axes>"
      ]
     },
     "metadata": {
      "needs_background": "light"
     },
     "output_type": "display_data"
    }
   ],
   "source": [
    "plt.plot(Results.Epoch,Results.train_loss,'r',Results.Epoch,Results.val_loss,'b')\n",
    "plt.legend(['Train','val'])\n",
    "plt.xlabel('Epochs')\n",
    "plt.ylabel('Loss')\n",
    "plt.show()"
   ]
  },
  {
   "cell_type": "code",
   "execution_count": null,
   "metadata": {},
   "outputs": [
    {
     "name": "stdout",
     "output_type": "stream",
     "text": [
      "                 precision    recall  f1-score   support\n",
      "\n",
      "Different Voice       0.90      0.91      0.91     50344\n",
      "     Same Voice       0.91      0.90      0.91     50458\n",
      "\n",
      "       accuracy                           0.91    100802\n",
      "      macro avg       0.91      0.91      0.91    100802\n",
      "   weighted avg       0.91      0.91      0.91    100802\n",
      "\n"
     ]
    }
   ],
   "source": [
    "classes = ['Different Voice', 'Same Voice']\n",
    "y_pred = CNN(X1_val, X2_val)\n",
    "y_pred = y_pred.ge(.5).view(-1).cpu()\n",
    "y_val = y_val.cpu()\n",
    "print(classification_report(y_val, y_pred, target_names=classes))"
   ]
  },
  {
   "cell_type": "code",
   "execution_count": null,
   "metadata": {},
   "outputs": [
    {
     "data": {
      "image/png": "[encoded data removed]",
      "text/plain": [
       "<Figure size 432x288 with 2 Axes>"
      ]
     },
     "metadata": {
      "needs_background": "light"
     },
     "output_type": "display_data"
    }
   ],
   "source": [
    "cm = confusion_matrix(y_val, y_pred)\n",
    "df_cm = pd.DataFrame(cm, index=classes, columns=classes)\n",
    "hmap = sns.heatmap(df_cm, annot=True, fmt=\"d\", cmap= 'crest')\n",
    "hmap.yaxis.set_ticklabels(hmap.yaxis.get_ticklabels(), rotation=0, ha='right')\n",
    "hmap.xaxis.set_ticklabels(hmap.xaxis.get_ticklabels(), rotation=30, ha='right')\n",
    "plt.ylabel('True label')\n",
    "plt.xlabel('Predicted label');"
   ]
  },
  {
   "cell_type": "code",
   "execution_count": null,
   "metadata": {},
   "outputs": [
    {
     "name": "stdout",
     "output_type": "stream",
     "text": [
      "                 precision    recall  f1-score   support\n",
      "\n",
      "Different Voice       0.90      0.91      0.91     40517\n",
      "     Same Voice       0.91      0.90      0.90     40125\n",
      "\n",
      "       accuracy                           0.91     80642\n",
      "      macro avg       0.91      0.91      0.91     80642\n",
      "   weighted avg       0.91      0.91      0.91     80642\n",
      "\n"
     ]
    }
   ],
   "source": [
    "y_pred = CNN(X1_test, X2_test)\n",
    "y_pred = y_pred.ge(.5).view(-1).cpu()\n",
    "y_test = y_test.cpu()\n",
    "print(classification_report(y_test, y_pred, target_names=classes))"
   ]
  },
  {
   "cell_type": "code",
   "execution_count": null,
   "metadata": {},
   "outputs": [
    {
     "data": {
      "image/png": "[encoded data removed]",
      "text/plain": [
       "<Figure size 432x288 with 2 Axes>"
      ]
     },
     "metadata": {
      "needs_background": "light"
     },
     "output_type": "display_data"
    }
   ],
   "source": [
    "cm = confusion_matrix(y_test, y_pred)\n",
    "df_cm = pd.DataFrame(cm, index=classes, columns=classes)\n",
    "hmap = sns.heatmap(df_cm, annot=True, fmt=\"d\", cmap= 'crest')\n",
    "hmap.yaxis.set_ticklabels(hmap.yaxis.get_ticklabels(), rotation=0, ha='right')\n",
    "hmap.xaxis.set_ticklabels(hmap.xaxis.get_ticklabels(), rotation=30, ha='right')\n",
    "plt.ylabel('True label')\n",
    "plt.xlabel('Predicted label');"
   ]
  },
  {
   "cell_type": "code",
   "execution_count": null,
   "metadata": {},
   "outputs": [
    {
     "name": "stderr",
     "output_type": "stream",
     "text": [
      "UsageError: Line magic function `%%javascript` not found.\n"
     ]
    }
   ],
   "source": [
    "#Shutting down the notebook\n",
    "\n",
    "%%javascript\n",
    "Jupyter.notebook.session.delete();"
   ]
  }
 ],
 "metadata": {
  "kernelspec": {
   "display_name": "Python 3 (ipykernel)",
   "language": "python",
   "name": "python3"
  },
  "language_info": {
   "codemirror_mode": {
    "name": "ipython",
    "version": 3
   },
   "file_extension": ".py",
   "mimetype": "text/x-python",
   "name": "python",
   "nbconvert_exporter": "python",
   "pygments_lexer": "ipython3",
   "version": "3.9.7"
  },
  "orig_nbformat": 4
 },
 "nbformat": 4,
 "nbformat_minor": 2
}
