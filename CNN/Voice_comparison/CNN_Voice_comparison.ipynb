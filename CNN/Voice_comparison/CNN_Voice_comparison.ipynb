{
 "cells": [
  {
   "cell_type": "code",
   "execution_count": 1,
   "metadata": {},
   "outputs": [
    {
     "name": "stdout",
     "output_type": "stream",
     "text": [
      "using gpu 0\n"
     ]
    }
   ],
   "source": [
    "#Importing all needed librarys\n",
    "import torch\n",
    "from torch.utils.data import DataLoader, TensorDataset\n",
    "from torchvision import datasets, transforms\n",
    "from torchvision.transforms import ToTensor, Lambda, Compose\n",
    "import matplotlib.pyplot as plt\n",
    "from sklearn.metrics import accuracy_score\n",
    "from pipetorch.train import *\n",
    "from torch.autograd import Variable\n",
    "from torch.nn import Linear, ReLU, CrossEntropyLoss, Sequential, Conv2d, MaxPool2d, Module, Softmax, BatchNorm2d, Dropout\n",
    "from torch.optim import Adam, SGD\n",
    "from tqdm import tqdm\n",
    "from torch import nn, optim\n",
    "import seaborn as sns\n",
    "import torch.nn.functional as F\n",
    "\n",
    "# importing the libraries\n",
    "import pandas as pd\n",
    "import numpy as np\n",
    "\n",
    "# for creating validation set\n",
    "from sklearn.model_selection import train_test_split\n",
    "\n",
    "\n",
    "import torchvision\n",
    "from torchvision.datasets import ImageFolder"
   ]
  },
  {
   "cell_type": "code",
   "execution_count": 2,
   "metadata": {},
   "outputs": [
    {
     "name": "stdout",
     "output_type": "stream",
     "text": [
      "Thu Dec  9 15:57:02 2021       \n",
      "+-----------------------------------------------------------------------------+\n",
      "| NVIDIA-SMI 470.86       Driver Version: 470.86       CUDA Version: 11.4     |\n",
      "|-------------------------------+----------------------+----------------------+\n",
      "| GPU  Name        Persistence-M| Bus-Id        Disp.A | Volatile Uncorr. ECC |\n",
      "| Fan  Temp  Perf  Pwr:Usage/Cap|         Memory-Usage | GPU-Util  Compute M. |\n",
      "|                               |                      |               MIG M. |\n",
      "|===============================+======================+======================|\n",
      "|   0  NVIDIA GeForce ...  Off  | 00000000:05:00.0 Off |                  N/A |\n",
      "| 29%   27C    P8    17W / 250W |   1084MiB / 11019MiB |      0%      Default |\n",
      "|                               |                      |                  N/A |\n",
      "+-------------------------------+----------------------+----------------------+\n",
      "|   1  NVIDIA GeForce ...  Off  | 00000000:09:00.0 Off |                  N/A |\n",
      "| 29%   27C    P8    21W / 250W |   3757MiB / 11019MiB |      0%      Default |\n",
      "|                               |                      |                  N/A |\n",
      "+-------------------------------+----------------------+----------------------+\n",
      "|   2  NVIDIA GeForce ...  Off  | 00000000:0A:00.0 Off |                  N/A |\n",
      "| 30%   27C    P8     2W / 250W |   2233MiB / 11019MiB |      0%      Default |\n",
      "|                               |                      |                  N/A |\n",
      "+-------------------------------+----------------------+----------------------+\n",
      "|   3  NVIDIA GeForce ...  Off  | 00000000:85:00.0 Off |                  N/A |\n",
      "| 29%   26C    P8     2W / 250W |   2331MiB / 11019MiB |      0%      Default |\n",
      "|                               |                      |                  N/A |\n",
      "+-------------------------------+----------------------+----------------------+\n",
      "|   4  NVIDIA GeForce ...  Off  | 00000000:89:00.0 Off |                  N/A |\n",
      "| 29%   25C    P8     1W / 250W |   6320MiB / 11019MiB |      0%      Default |\n",
      "|                               |                      |                  N/A |\n",
      "+-------------------------------+----------------------+----------------------+\n",
      "                                                                               \n",
      "+-----------------------------------------------------------------------------+\n",
      "| Processes:                                                                  |\n",
      "|  GPU   GI   CI        PID   Type   Process name                  GPU Memory |\n",
      "|        ID   ID                                                   Usage      |\n",
      "|=============================================================================|\n",
      "|    0   N/A  N/A     19374      C   ...erhub/anaconda/bin/python     1081MiB |\n",
      "|    1   N/A  N/A     18110      C   ...erhub/anaconda/bin/python     2675MiB |\n",
      "|    1   N/A  N/A     39094      C   ...erhub/anaconda/bin/python     1079MiB |\n",
      "|    2   N/A  N/A     16817      C   ...erhub/anaconda/bin/python     1079MiB |\n",
      "|    2   N/A  N/A     16954      C   ...erhub/anaconda/bin/python     1151MiB |\n",
      "|    3   N/A  N/A     18972      C   ...erhub/anaconda/bin/python      999MiB |\n",
      "|    3   N/A  N/A     29138      C   ...erhub/anaconda/bin/python     1329MiB |\n",
      "|    4   N/A  N/A     24710      C   ...erhub/anaconda/bin/python     6317MiB |\n",
      "+-----------------------------------------------------------------------------+\n"
     ]
    }
   ],
   "source": [
    "#Checking wich GPU is beeing used\n",
    "\n",
    "!nvidia-smi"
   ]
  },
  {
   "cell_type": "code",
   "execution_count": 3,
   "metadata": {},
   "outputs": [
    {
     "name": "stdout",
     "output_type": "stream",
     "text": [
      "(504008, 40, 16) (504008, 40, 16)\n",
      "[ True False  True ... False  True False]\n"
     ]
    }
   ],
   "source": [
    "#Load data\n",
    "data_speaker1_dir = 'dialogue/Dataset/SameVoiceDetection/2d_dataset/less_251_5_speaker1.npy'\n",
    "#data_speaker1_dir = 'dialogue/Leander/outputs/speaker1.npy'\n",
    "data_speaker2_dir = 'dialogue/Dataset/SameVoiceDetection/2d_dataset/less_251_5_speaker2.npy'\n",
    "#data_speaker2_dir = 'dialogue/Leander/outputs/speaker2.npy'\n",
    "labels_dir = 'dialogue/Dataset/SameVoiceDetection/2d_dataset/less_251_5_labels.npy'\n",
    "#labels_dir = 'dialogue/Leander/outputs/labels.npy'\n",
    "\n",
    "data_speaker1 = np.load(data_speaker1_dir, allow_pickle = True)\n",
    "data_speaker2 = np.load(data_speaker2_dir, allow_pickle = True)\n",
    "#data_speaker1 = data_speaker1.reshape((len(data_speaker1),40,len(data_speaker1[0])//40))\n",
    "#data_speaker2 = data_speaker2.reshape((len(data_speaker2),40,len(data_speaker2[0])//40))\n",
    "labels = np.load(labels_dir, allow_pickle = True)\n",
    "\n",
    "print(data_speaker1.shape, data_speaker2.shape)\n",
    "print(labels)"
   ]
  },
  {
   "cell_type": "code",
   "execution_count": 4,
   "metadata": {},
   "outputs": [
    {
     "name": "stdout",
     "output_type": "stream",
     "text": [
      "<class 'numpy.ndarray'>\n"
     ]
    }
   ],
   "source": [
    "#df_data.drop(['isSpeaking'],axis = 1)\n",
    "X1_train, X1_val, y_train, y_val = train_test_split(data_speaker1, labels, test_size = 0.2, random_state = 23)\n",
    "X1_train, X1_test, y_train, y_test = train_test_split(X1_train, y_train, test_size = 0.2, random_state = 23)\n",
    "\n",
    "X2_train, X2_val, y_train, y_val = train_test_split(data_speaker2, labels, test_size = 0.2, random_state = 23)\n",
    "X2_train, X2_test, y_train, y_test = train_test_split(X2_train, y_train, test_size = 0.2, random_state = 23)\n",
    "\n",
    "print(type(X1_train))\n",
    "#print(X_train)"
   ]
  },
  {
   "cell_type": "code",
   "execution_count": 5,
   "metadata": {},
   "outputs": [
    {
     "name": "stdout",
     "output_type": "stream",
     "text": [
      "torch.Size([322564, 40, 16]) torch.Size([322564])\n",
      "tensor([[-5.3371e+02, -4.2347e+02, -3.3977e+02, -2.7539e+02, -2.2160e+02,\n",
      "         -1.6781e+02, -1.5767e+02, -2.1003e+02, -3.0699e+02, -4.5837e+02,\n",
      "         -4.2851e+02, -3.4132e+02, -2.3138e+02, -2.0375e+02, -2.3189e+02,\n",
      "         -2.5337e+02],\n",
      "        [ 1.2088e+02,  1.6142e+02,  1.9561e+02,  2.0534e+02,  1.6590e+02,\n",
      "          1.1133e+02,  7.5165e+01,  6.0036e+01,  8.1754e+01,  6.7257e+01,\n",
      "          1.9314e+00, -6.5979e+00,  6.9351e+01,  1.3058e+02,  1.6934e+02,\n",
      "          1.7825e+02],\n",
      "        [-1.6849e+00, -1.7748e+01, -3.4412e+01, -8.0094e+01, -1.1451e+02,\n",
      "         -1.0499e+02, -8.3728e+01, -5.8260e+01, -5.4963e+01, -6.0335e+00,\n",
      "         -2.0590e+01, -2.0809e+01, -1.3073e+01, -4.0493e+01, -7.3653e+01,\n",
      "         -5.9857e+01],\n",
      "        [-2.3717e+01, -4.6973e+00,  2.0056e+01,  2.4913e+01,  3.9538e+01,\n",
      "          6.3902e+01,  8.3147e+01,  1.1351e+02,  1.3468e+02,  9.3629e+01,\n",
      "          5.4036e+01,  3.7534e+01,  1.5739e+01,  5.2855e+00,  6.9924e+00,\n",
      "          1.1556e+01],\n",
      "        [-4.4599e+01, -4.7396e+01, -2.9231e+01, -1.3338e+01, -9.4986e+00,\n",
      "         -7.5499e+00, -1.2353e+01, -7.4905e+00,  3.9504e+00,  2.5742e+01,\n",
      "          1.7615e+01, -1.3288e+01, -4.2300e+01, -4.5971e+01, -4.8280e+01,\n",
      "         -4.0176e+01],\n",
      "        [ 2.1997e+01,  2.5769e+01,  2.2046e+01,  1.7767e+01,  5.2744e+00,\n",
      "         -1.6413e+01, -2.8385e+01, -2.6842e+01, -1.4600e+01,  1.3821e+01,\n",
      "          1.9305e+01,  1.5783e+01,  2.0452e+01,  2.6336e+01,  2.8443e+01,\n",
      "          3.6493e+01],\n",
      "        [ 7.2102e+00,  8.0304e+00, -1.4767e+00, -1.5204e+01, -2.2773e+01,\n",
      "         -1.8719e+01, -9.5509e+00,  5.9820e+00,  8.4977e+00, -9.2251e+00,\n",
      "         -1.2965e+01, -7.2614e+00, -4.9687e-01, -6.9861e+00,  1.1801e+00,\n",
      "          1.4209e+01],\n",
      "        [-1.0055e+01, -1.3231e+01, -2.1574e+01, -4.2857e+01, -5.0214e+01,\n",
      "         -4.0377e+01, -3.1909e+01, -2.6004e+01, -2.5107e+01,  8.8815e+00,\n",
      "          8.7470e+00,  9.1801e+00,  1.6831e+01,  2.1644e+01,  1.3575e+01,\n",
      "          1.0118e+01],\n",
      "        [ 1.3655e+01,  2.1374e+01,  8.5883e+00,  7.6499e+00,  1.4550e+01,\n",
      "          1.8714e+01,  1.6193e+01,  8.4689e+00,  1.8651e+00, -1.4861e+01,\n",
      "         -1.1549e+01, -1.4829e+00, -9.0756e+00, -8.8208e+00,  7.8761e+00,\n",
      "          1.1321e+01],\n",
      "        [-2.1696e+01, -4.0073e+01, -5.7231e+01, -3.6927e+01, -1.9209e+01,\n",
      "         -1.0614e+01, -1.5531e+01, -2.2838e+01, -2.7210e+01, -4.8981e+00,\n",
      "          1.3167e+01,  1.4993e+01, -1.3953e+00, -1.3403e+01, -2.6954e+01,\n",
      "         -1.6102e+01],\n",
      "        [-9.6255e+00, -7.9868e+00, -1.0405e+01, -1.2666e+01, -1.4308e+01,\n",
      "         -1.6997e+01, -1.9063e+01, -1.6423e+01, -7.0209e+00, -9.8264e-01,\n",
      "          3.2460e+00,  9.2429e+00,  2.4862e+00,  7.2331e+00,  1.8758e+01,\n",
      "          2.7600e+01],\n",
      "        [ 9.1501e+00,  1.5058e+01,  2.2633e+01,  2.2138e+01,  1.9375e+01,\n",
      "          1.7893e+01,  1.5124e+01,  1.0931e+01,  9.0528e+00,  6.1718e+00,\n",
      "          2.0148e+01,  1.3759e+01,  1.9372e+00,  2.0302e+00,  4.9397e+00,\n",
      "          9.3814e+00],\n",
      "        [ 1.4249e-01, -1.0372e+01, -2.3055e+01, -2.1584e+01, -2.2857e+01,\n",
      "         -2.4345e+01, -2.1752e+01, -2.7603e+01, -2.9211e+01, -1.3505e+01,\n",
      "          6.3564e+00,  4.1890e+00, -6.8373e+00, -1.7731e+01, -2.7227e+01,\n",
      "         -2.0133e+01],\n",
      "        [ 1.4398e+01,  1.7189e+01,  5.5575e+00, -3.8419e+00,  6.1530e+00,\n",
      "          1.7638e+01,  2.1157e+01,  2.0931e+01,  1.8128e+01,  3.0919e+00,\n",
      "          3.0742e+00,  5.5311e+00,  2.5740e+00,  8.3733e+00,  2.2883e+01,\n",
      "          2.0401e+01],\n",
      "        [ 6.2433e-01,  3.3249e+00,  5.7724e+00,  2.6749e+00, -1.3919e+01,\n",
      "         -1.9058e+01, -1.5467e+01, -1.3230e+01, -1.2386e+01, -4.8349e+00,\n",
      "         -4.7454e+00, -3.8038e+00, -1.6026e+01, -2.1654e+01, -3.6102e+01,\n",
      "         -3.6011e+01],\n",
      "        [-3.7053e+00, -1.0732e+01, -1.2086e+01, -6.0685e+00,  2.2556e+00,\n",
      "          5.7060e+00,  7.0669e+00,  1.6336e+00, -2.6833e+00, -8.4232e+00,\n",
      "          4.6191e+00, -1.1226e+00, -1.6767e+01, -2.2819e+01, -1.8774e+01,\n",
      "         -1.2907e+01],\n",
      "        [-4.7036e-01, -5.6373e+00, -5.4010e+00, -4.0561e+00, -4.5078e+00,\n",
      "          1.2314e+00,  6.6626e+00,  6.7220e+00,  8.4633e+00,  7.9506e+00,\n",
      "          3.7951e+00,  5.5459e+00, -4.4185e+00, -4.5179e+00, -1.0933e+00,\n",
      "          2.4377e+00],\n",
      "        [-3.1703e+00, -1.7478e+00, -6.3536e-01, -8.5828e+00, -1.0897e+01,\n",
      "         -1.3248e+01, -1.6749e+01, -1.7993e+01, -1.7511e+01, -8.6357e+00,\n",
      "          2.6291e+00, -2.9727e+00, -6.3538e+00, -5.9380e+00, -1.2846e+01,\n",
      "         -1.4116e+01],\n",
      "        [ 8.6826e+00,  4.9392e+00,  3.3302e+00,  3.9096e+00,  6.3954e+00,\n",
      "          7.7195e+00,  1.1818e+01,  1.8463e+01,  1.3439e+01, -5.3079e+00,\n",
      "          5.6712e+00, -2.8761e+00, -2.0877e+00, -4.0682e+00,  7.3259e+00,\n",
      "          1.8707e+01],\n",
      "        [ 6.8835e-01, -4.2046e+00, -5.7166e+00, -9.3099e+00, -1.6105e+01,\n",
      "         -1.7155e+01, -1.9557e+01, -1.8686e+01, -1.9549e+01, -2.5382e+00,\n",
      "          5.5991e+00,  5.7055e+00,  3.0064e+00,  3.8321e+00, -2.8594e+00,\n",
      "         -8.7502e+00],\n",
      "        [-5.6284e+00, -1.1698e+01, -1.2774e+01, -9.5506e+00, -2.3988e+00,\n",
      "         -3.3815e-01,  1.4200e-01,  4.7157e+00,  5.4517e+00, -9.1850e+00,\n",
      "         -4.4576e+00,  1.2478e+00, -2.3485e+00, -4.8691e+00, -1.0156e+00,\n",
      "          6.9204e-01],\n",
      "        [ 6.2772e+00,  8.7034e+00,  1.9417e+00, -1.2614e+01, -1.6346e+01,\n",
      "         -1.5054e+01, -9.7386e+00, -5.1389e+00, -3.9208e+00,  1.8415e+00,\n",
      "          3.5037e-01, -5.2677e-01, -2.6564e+00, -5.1547e+00, -4.1014e+00,\n",
      "          2.5554e+00],\n",
      "        [ 1.2183e+00, -1.1905e+01, -1.0996e+01, -2.0277e+00,  3.7215e+00,\n",
      "          3.5872e+00,  2.0596e+00,  1.2743e+00,  6.6781e+00,  7.3977e+00,\n",
      "         -4.4296e-01,  6.4558e-01, -2.7090e+00, -4.0585e+00, -1.5472e+00,\n",
      "          2.5352e+00],\n",
      "        [-3.6231e+00, -8.4246e+00, -1.0931e+01, -2.5445e+00,  6.6845e-01,\n",
      "         -4.0516e-01, -3.0402e+00, -4.6617e+00, -2.1432e+00, -4.2617e+00,\n",
      "         -1.1815e+00, -8.4613e-02, -4.7494e+00, -6.3074e+00, -6.9454e+00,\n",
      "         -1.7086e+00],\n",
      "        [ 1.3470e+00,  4.2376e+00,  2.1510e+00, -4.1814e+00, -7.3105e+00,\n",
      "         -6.5166e+00, -6.2418e+00, -7.9316e+00, -3.6037e+00,  3.4731e+00,\n",
      "          9.1534e-01,  1.6161e+00, -2.8191e+00, -7.5272e+00, -8.5444e+00,\n",
      "         -1.3166e+00],\n",
      "        [-2.6494e+00, -8.7688e+00, -4.6136e+00,  3.4810e-01,  3.0514e+00,\n",
      "          5.6096e+00,  3.8964e+00,  6.0075e-01,  2.4783e+00,  6.3942e-01,\n",
      "          8.1623e-01,  2.6591e+00, -3.4358e+00, -3.9998e+00, -1.8161e+00,\n",
      "          2.9547e+00],\n",
      "        [ 7.9930e+00,  3.3314e+00, -8.4282e+00, -1.1756e+01, -8.6035e+00,\n",
      "         -7.4702e+00, -9.4294e+00, -1.2745e+01, -1.2870e+01, -4.4743e+00,\n",
      "         -2.7934e+00, -3.6542e-01, -2.6006e+00, -1.0900e+00, -2.9300e+00,\n",
      "         -5.2220e+00],\n",
      "        [ 3.9949e+00,  6.8266e+00,  4.2231e+00, -2.7976e-01, -8.0666e+00,\n",
      "         -5.6378e+00, -1.6785e+00,  7.2159e-02, -1.5165e+00,  1.8925e+00,\n",
      "          5.6803e+00,  4.0250e+00,  1.7043e+00, -6.8064e-01,  1.4217e+00,\n",
      "          7.1777e+00],\n",
      "        [-7.5651e-01, -6.0934e+00, -1.6340e+00, -1.1807e+00, -2.2120e+00,\n",
      "          9.2790e-01,  2.6068e+00,  4.0592e+00,  2.3724e-01, -9.5556e-02,\n",
      "         -3.7410e+00,  9.1036e-01,  8.0906e+00,  1.2146e+01,  1.3522e+01,\n",
      "          1.1034e+01],\n",
      "        [ 8.2794e+00,  1.8385e+00,  6.0534e-01, -2.9868e+00, -5.9203e+00,\n",
      "         -6.2102e+00, -7.4894e+00, -3.9279e+00, -1.9676e+00,  2.1738e+00,\n",
      "          4.5135e+00, -1.1524e+00, -2.0441e+00,  2.7273e+00,  4.5552e+00,\n",
      "          1.6526e+00],\n",
      "        [-5.1999e+00, -2.7781e+00,  2.4165e+00,  1.2193e+00, -2.9128e+00,\n",
      "          3.3296e-01, -8.2462e-01,  2.5266e+00,  3.0104e+00, -2.3624e+00,\n",
      "         -3.0730e+00,  5.1734e+00, -2.9833e-01, -3.6728e+00, -2.1988e+00,\n",
      "          1.4371e-01],\n",
      "        [ 1.1769e+00, -1.0291e+00, -2.4739e+00, -2.5706e+00, -9.5528e-01,\n",
      "         -8.5039e-01, -4.4081e+00, -3.1680e+00, -6.2734e-01, -1.1362e+00,\n",
      "         -1.5110e+00, -1.7352e+00, -4.0633e+00, -7.4928e+00, -5.3888e+00,\n",
      "          1.0410e+00],\n",
      "        [ 5.7022e+00,  3.9080e-01, -4.6193e+00, -8.2362e+00, -1.0476e+01,\n",
      "         -8.0310e+00, -6.9930e+00, -4.1717e+00, -1.7892e+00,  3.4185e+00,\n",
      "          4.3516e+00,  5.2684e+00,  2.9701e-01, -5.5263e+00, -9.1604e+00,\n",
      "         -5.7634e+00],\n",
      "        [-3.1112e+00, -2.9831e+00, -2.7577e+00,  5.2337e-01,  2.8928e+00,\n",
      "         -2.4822e-01, -3.3566e+00, -1.9027e+00,  1.3838e+00, -7.6268e-01,\n",
      "          1.7505e+00,  3.5318e+00, -4.2852e+00, -6.2536e+00, -4.9437e+00,\n",
      "         -5.9706e+00],\n",
      "        [-4.4687e+00, -1.2874e+00,  2.4920e+00, -5.0199e-01, -7.9615e+00,\n",
      "         -1.1054e+01, -1.2498e+01, -1.1167e+01, -8.9459e+00, -7.3573e-01,\n",
      "          3.3894e+00,  1.3131e+00,  1.5317e-01,  4.7323e+00,  1.8983e+00,\n",
      "         -1.1833e+00],\n",
      "        [-1.6765e+00, -8.4170e+00, -6.5162e+00, -5.3986e+00, -3.6425e+00,\n",
      "         -1.8095e-01,  3.8574e-01,  4.0391e+00,  4.1214e+00, -2.8711e+00,\n",
      "          3.3076e+00,  2.7167e+00, -1.1887e-01,  4.5222e-01,  4.5612e+00,\n",
      "          9.5444e-02],\n",
      "        [ 1.3979e+00, -6.6901e-01, -5.7044e+00, -7.7543e+00, -9.2145e+00,\n",
      "         -8.8465e+00, -9.6039e+00, -7.8023e+00, -4.5393e+00, -2.4304e-01,\n",
      "         -2.6980e+00, -1.5303e+00, -4.1083e+00, -7.2637e+00, -1.0972e+01,\n",
      "         -8.0000e+00],\n",
      "        [ 5.9937e+00,  2.5720e+00, -4.9843e+00, -4.3428e+00, -5.7102e+00,\n",
      "         -3.5886e+00, -9.1635e-01, -2.5258e-01, -1.7005e+00, -1.0170e+00,\n",
      "          3.7827e+00,  5.4719e+00,  1.6684e-01, -4.8879e+00, -3.7789e+00,\n",
      "         -2.3600e+00],\n",
      "        [ 3.1498e+00,  1.2726e+00,  1.3990e+00,  6.6677e-01, -3.4405e+00,\n",
      "         -5.3051e+00, -5.6745e+00, -9.7657e+00, -7.3251e+00, -1.3679e+00,\n",
      "          1.9502e-02, -1.0048e+00, -6.8749e+00, -6.4891e+00, -7.0777e+00,\n",
      "         -6.5286e+00],\n",
      "        [ 2.9085e+00, -4.8364e+00, -1.3124e+00, -1.5297e+00, -5.4717e+00,\n",
      "         -4.8977e+00, -6.3470e+00, -1.1184e+01, -1.2464e+01,  6.1206e-01,\n",
      "          3.1256e-01, -6.6273e-01, -5.3492e+00, -4.6109e+00, -1.8634e+00,\n",
      "         -1.3213e+00]])\n"
     ]
    }
   ],
   "source": [
    "X1_train = torch.from_numpy(X1_train).float()\n",
    "\n",
    "X2_train = torch.from_numpy(X2_train).float()\n",
    "\n",
    "y_train = torch.from_numpy(y_train).float()\n",
    "\n",
    "X1_val = torch.from_numpy(X1_val).float()\n",
    "\n",
    "X2_val = torch.from_numpy(X2_val).float()\n",
    "\n",
    "y_val = torch.from_numpy(y_val).float()\n",
    "\n",
    "X1_test = torch.from_numpy(X1_test).float()\n",
    "\n",
    "X2_test = torch.from_numpy(X2_test).float()\n",
    "\n",
    "y_test = torch.from_numpy(y_test).float()\n",
    "\n",
    "print(X2_train.shape, y_train.shape)\n",
    "\n",
    "print(X2_train[0])\n"
   ]
  },
  {
   "cell_type": "code",
   "execution_count": 6,
   "metadata": {},
   "outputs": [],
   "source": [
    "class model(nn.Module):\n",
    "    def __init__(self,n_features,kernel_size):\n",
    "        super(model, self).__init__()\n",
    "        self.conv1 = nn.Conv1d(n_features, 40, kernel_size=3, stride = 1) #40 input channels, 40 output channels\n",
    "        self.conv2 = nn.Conv1d(40, 60, kernel_size=3, stride = 1) #40 input channels from previous Conv. layer, 80 out\n",
    "        self.conv3 = nn.Conv1d(60, 80, kernel_size=1, stride = 1)\n",
    "\n",
    "        self.fc1 = nn.Linear(160, 200) #Fully-connected classifier layer \n",
    "        self.fc2 = nn.Linear(200, 100)\n",
    "        self.fc3 = nn.Linear(100, 1) #Fully-connected classifier layer\n",
    "    \n",
    "    def forward_one_voice(self, x):\n",
    "        x = F.relu(F.max_pool1d(self.conv1(x), 2))\n",
    "        x = F.relu(F.max_pool1d(self.conv2(x), 2))\n",
    "        x = F.relu(F.max_pool1d(self.conv3(x), 2))\n",
    "        \n",
    "        x = x.reshape(len(x), -1)\n",
    "        batch_size = len(x)\n",
    "        \n",
    "        return x\n",
    "    \n",
    "    def forward(self, x1, x2):\n",
    "        x1 = self.forward_one_voice(x1)\n",
    "        x2 = self.forward_one_voice(x2)\n",
    "        x = torch.concat([x1, x2], axis = 1)\n",
    "        x = self.fc1(x)\n",
    "        x = F.relu(x)\n",
    "        x = self.fc2(x)\n",
    "        x = F.relu(x)\n",
    "        x = self.fc3(x)\n",
    "        \n",
    "        return torch.sigmoid(x)\n",
    "    \n",
    "    def post_forward(self, y): \n",
    "        return torch.round(y)\n",
    "    \n",
    "CNN = model(X1_train.shape[1],kernel_size = 3)"
   ]
  },
  {
   "cell_type": "code",
   "execution_count": 7,
   "metadata": {},
   "outputs": [],
   "source": [
    "weight = torch.FloatTensor([1])\n",
    "criterion = nn.BCELoss()\n",
    "optimizer = optim.Adam(CNN.parameters(), lr=0.00003)"
   ]
  },
  {
   "cell_type": "code",
   "execution_count": 8,
   "metadata": {},
   "outputs": [],
   "source": [
    "train_ds = TensorDataset(X1_train, X2_train, y_train)\n",
    "val_ds = TensorDataset(X1_val, X2_val, y_val)"
   ]
  },
  {
   "cell_type": "code",
   "execution_count": 9,
   "metadata": {},
   "outputs": [],
   "source": [
    "batch_size = 128\n",
    "train_dl = DataLoader(train_ds, batch_size= batch_size, num_workers = 4, pin_memory = True)\n",
    "#val_dl = DataLoader(val_ds, batch_size= 32)"
   ]
  },
  {
   "cell_type": "code",
   "execution_count": 10,
   "metadata": {},
   "outputs": [
    {
     "name": "stdout",
     "output_type": "stream",
     "text": [
      "cuda\n"
     ]
    }
   ],
   "source": [
    "device = torch.device(\"cuda\" if torch.cuda.is_available() else \"cpu\")\n",
    "# X1_train = X1_train.to(device)\n",
    "# X2_train = X2_train.to(device)\n",
    "# y_train = y_train.to(device)\n",
    "X1_val = X1_val.to(device)\n",
    "X2_val = X2_val.to(device)\n",
    "y_val = y_val.to(device)\n",
    "\n",
    "X1_test = X1_test.to(device)\n",
    "X2_test = X2_test.to(device)\n",
    "y_test = y_test.to(device)\n",
    "\n",
    "CNN = CNN.to(device)\n",
    "criterion = criterion.to(device)\n",
    "print(device)"
   ]
  },
  {
   "cell_type": "code",
   "execution_count": 11,
   "metadata": {},
   "outputs": [],
   "source": [
    "def calculate_accuracy(y_true, y_pred):\n",
    "    return (y_true == y_pred).sum().float() / len(y_true)"
   ]
  },
  {
   "cell_type": "code",
   "execution_count": 12,
   "metadata": {},
   "outputs": [
    {
     "ename": "KeyboardInterrupt",
     "evalue": "",
     "output_type": "error",
     "traceback": [
      "\u001b[0;31m---------------------------------------------------------------------------\u001b[0m",
      "\u001b[0;31mKeyboardInterrupt\u001b[0m                         Traceback (most recent call last)",
      "\u001b[0;32m/tmp/ipykernel_20786/3606684948.py\u001b[0m in \u001b[0;36m<module>\u001b[0;34m\u001b[0m\n\u001b[1;32m      8\u001b[0m         \u001b[0mx1\u001b[0m\u001b[0;34m,\u001b[0m \u001b[0mx2\u001b[0m\u001b[0;34m,\u001b[0m \u001b[0my\u001b[0m \u001b[0;34m=\u001b[0m \u001b[0mx1\u001b[0m\u001b[0;34m.\u001b[0m\u001b[0mto\u001b[0m\u001b[0;34m(\u001b[0m\u001b[0mdevice\u001b[0m\u001b[0;34m)\u001b[0m\u001b[0;34m,\u001b[0m \u001b[0mx2\u001b[0m\u001b[0;34m.\u001b[0m\u001b[0mto\u001b[0m\u001b[0;34m(\u001b[0m\u001b[0mdevice\u001b[0m\u001b[0;34m)\u001b[0m\u001b[0;34m,\u001b[0m \u001b[0my\u001b[0m\u001b[0;34m.\u001b[0m\u001b[0mto\u001b[0m\u001b[0;34m(\u001b[0m\u001b[0mdevice\u001b[0m\u001b[0;34m)\u001b[0m\u001b[0;34m\u001b[0m\u001b[0;34m\u001b[0m\u001b[0m\n\u001b[1;32m      9\u001b[0m         \u001b[0moptimizer\u001b[0m\u001b[0;34m.\u001b[0m\u001b[0mzero_grad\u001b[0m\u001b[0;34m(\u001b[0m\u001b[0;34m)\u001b[0m\u001b[0;34m\u001b[0m\u001b[0;34m\u001b[0m\u001b[0m\n\u001b[0;32m---> 10\u001b[0;31m         \u001b[0my_pred\u001b[0m \u001b[0;34m=\u001b[0m \u001b[0mCNN\u001b[0m\u001b[0;34m(\u001b[0m\u001b[0mx1\u001b[0m\u001b[0;34m,\u001b[0m \u001b[0mx2\u001b[0m\u001b[0;34m)\u001b[0m\u001b[0;34m\u001b[0m\u001b[0;34m\u001b[0m\u001b[0m\n\u001b[0m\u001b[1;32m     11\u001b[0m         \u001b[0my_pred\u001b[0m \u001b[0;34m=\u001b[0m \u001b[0my_pred\u001b[0m\u001b[0;34m.\u001b[0m\u001b[0msqueeze\u001b[0m\u001b[0;34m(\u001b[0m\u001b[0;34m)\u001b[0m\u001b[0;34m\u001b[0m\u001b[0;34m\u001b[0m\u001b[0m\n\u001b[1;32m     12\u001b[0m         \u001b[0;31m#print(y_pred.shape, y.shape)\u001b[0m\u001b[0;34m\u001b[0m\u001b[0;34m\u001b[0m\u001b[0m\n",
      "\u001b[0;32m/opt/jupyterhub/anaconda/lib/python3.9/site-packages/torch/nn/modules/module.py\u001b[0m in \u001b[0;36m_call_impl\u001b[0;34m(self, *input, **kwargs)\u001b[0m\n\u001b[1;32m   1100\u001b[0m         if not (self._backward_hooks or self._forward_hooks or self._forward_pre_hooks or _global_backward_hooks\n\u001b[1;32m   1101\u001b[0m                 or _global_forward_hooks or _global_forward_pre_hooks):\n\u001b[0;32m-> 1102\u001b[0;31m             \u001b[0;32mreturn\u001b[0m \u001b[0mforward_call\u001b[0m\u001b[0;34m(\u001b[0m\u001b[0;34m*\u001b[0m\u001b[0minput\u001b[0m\u001b[0;34m,\u001b[0m \u001b[0;34m**\u001b[0m\u001b[0mkwargs\u001b[0m\u001b[0;34m)\u001b[0m\u001b[0;34m\u001b[0m\u001b[0;34m\u001b[0m\u001b[0m\n\u001b[0m\u001b[1;32m   1103\u001b[0m         \u001b[0;31m# Do not call functions when jit is used\u001b[0m\u001b[0;34m\u001b[0m\u001b[0;34m\u001b[0m\u001b[0m\n\u001b[1;32m   1104\u001b[0m         \u001b[0mfull_backward_hooks\u001b[0m\u001b[0;34m,\u001b[0m \u001b[0mnon_full_backward_hooks\u001b[0m \u001b[0;34m=\u001b[0m \u001b[0;34m[\u001b[0m\u001b[0;34m]\u001b[0m\u001b[0;34m,\u001b[0m \u001b[0;34m[\u001b[0m\u001b[0;34m]\u001b[0m\u001b[0;34m\u001b[0m\u001b[0;34m\u001b[0m\u001b[0m\n",
      "\u001b[0;32m/tmp/ipykernel_20786/2349263992.py\u001b[0m in \u001b[0;36mforward\u001b[0;34m(self, x1, x2)\u001b[0m\n\u001b[1;32m     21\u001b[0m \u001b[0;34m\u001b[0m\u001b[0m\n\u001b[1;32m     22\u001b[0m     \u001b[0;32mdef\u001b[0m \u001b[0mforward\u001b[0m\u001b[0;34m(\u001b[0m\u001b[0mself\u001b[0m\u001b[0;34m,\u001b[0m \u001b[0mx1\u001b[0m\u001b[0;34m,\u001b[0m \u001b[0mx2\u001b[0m\u001b[0;34m)\u001b[0m\u001b[0;34m:\u001b[0m\u001b[0;34m\u001b[0m\u001b[0;34m\u001b[0m\u001b[0m\n\u001b[0;32m---> 23\u001b[0;31m         \u001b[0mx1\u001b[0m \u001b[0;34m=\u001b[0m \u001b[0mself\u001b[0m\u001b[0;34m.\u001b[0m\u001b[0mforward_one_voice\u001b[0m\u001b[0;34m(\u001b[0m\u001b[0mx1\u001b[0m\u001b[0;34m)\u001b[0m\u001b[0;34m\u001b[0m\u001b[0;34m\u001b[0m\u001b[0m\n\u001b[0m\u001b[1;32m     24\u001b[0m         \u001b[0mx2\u001b[0m \u001b[0;34m=\u001b[0m \u001b[0mself\u001b[0m\u001b[0;34m.\u001b[0m\u001b[0mforward_one_voice\u001b[0m\u001b[0;34m(\u001b[0m\u001b[0mx2\u001b[0m\u001b[0;34m)\u001b[0m\u001b[0;34m\u001b[0m\u001b[0;34m\u001b[0m\u001b[0m\n\u001b[1;32m     25\u001b[0m         \u001b[0mx\u001b[0m \u001b[0;34m=\u001b[0m \u001b[0mtorch\u001b[0m\u001b[0;34m.\u001b[0m\u001b[0mconcat\u001b[0m\u001b[0;34m(\u001b[0m\u001b[0;34m[\u001b[0m\u001b[0mx1\u001b[0m\u001b[0;34m,\u001b[0m \u001b[0mx2\u001b[0m\u001b[0;34m]\u001b[0m\u001b[0;34m,\u001b[0m \u001b[0maxis\u001b[0m \u001b[0;34m=\u001b[0m \u001b[0;36m1\u001b[0m\u001b[0;34m)\u001b[0m\u001b[0;34m\u001b[0m\u001b[0;34m\u001b[0m\u001b[0m\n",
      "\u001b[0;32m/tmp/ipykernel_20786/2349263992.py\u001b[0m in \u001b[0;36mforward_one_voice\u001b[0;34m(self, x)\u001b[0m\n\u001b[1;32m     11\u001b[0m \u001b[0;34m\u001b[0m\u001b[0m\n\u001b[1;32m     12\u001b[0m     \u001b[0;32mdef\u001b[0m \u001b[0mforward_one_voice\u001b[0m\u001b[0;34m(\u001b[0m\u001b[0mself\u001b[0m\u001b[0;34m,\u001b[0m \u001b[0mx\u001b[0m\u001b[0;34m)\u001b[0m\u001b[0;34m:\u001b[0m\u001b[0;34m\u001b[0m\u001b[0;34m\u001b[0m\u001b[0m\n\u001b[0;32m---> 13\u001b[0;31m         \u001b[0mx\u001b[0m \u001b[0;34m=\u001b[0m \u001b[0mF\u001b[0m\u001b[0;34m.\u001b[0m\u001b[0mrelu\u001b[0m\u001b[0;34m(\u001b[0m\u001b[0mF\u001b[0m\u001b[0;34m.\u001b[0m\u001b[0mmax_pool1d\u001b[0m\u001b[0;34m(\u001b[0m\u001b[0mself\u001b[0m\u001b[0;34m.\u001b[0m\u001b[0mconv1\u001b[0m\u001b[0;34m(\u001b[0m\u001b[0mx\u001b[0m\u001b[0;34m)\u001b[0m\u001b[0;34m,\u001b[0m \u001b[0;36m2\u001b[0m\u001b[0;34m)\u001b[0m\u001b[0;34m)\u001b[0m\u001b[0;34m\u001b[0m\u001b[0;34m\u001b[0m\u001b[0m\n\u001b[0m\u001b[1;32m     14\u001b[0m         \u001b[0mx\u001b[0m \u001b[0;34m=\u001b[0m \u001b[0mF\u001b[0m\u001b[0;34m.\u001b[0m\u001b[0mrelu\u001b[0m\u001b[0;34m(\u001b[0m\u001b[0mF\u001b[0m\u001b[0;34m.\u001b[0m\u001b[0mmax_pool1d\u001b[0m\u001b[0;34m(\u001b[0m\u001b[0mself\u001b[0m\u001b[0;34m.\u001b[0m\u001b[0mconv2\u001b[0m\u001b[0;34m(\u001b[0m\u001b[0mx\u001b[0m\u001b[0;34m)\u001b[0m\u001b[0;34m,\u001b[0m \u001b[0;36m2\u001b[0m\u001b[0;34m)\u001b[0m\u001b[0;34m)\u001b[0m\u001b[0;34m\u001b[0m\u001b[0;34m\u001b[0m\u001b[0m\n\u001b[1;32m     15\u001b[0m         \u001b[0mx\u001b[0m \u001b[0;34m=\u001b[0m \u001b[0mF\u001b[0m\u001b[0;34m.\u001b[0m\u001b[0mrelu\u001b[0m\u001b[0;34m(\u001b[0m\u001b[0mF\u001b[0m\u001b[0;34m.\u001b[0m\u001b[0mmax_pool1d\u001b[0m\u001b[0;34m(\u001b[0m\u001b[0mself\u001b[0m\u001b[0;34m.\u001b[0m\u001b[0mconv3\u001b[0m\u001b[0;34m(\u001b[0m\u001b[0mx\u001b[0m\u001b[0;34m)\u001b[0m\u001b[0;34m,\u001b[0m \u001b[0;36m2\u001b[0m\u001b[0;34m)\u001b[0m\u001b[0;34m)\u001b[0m\u001b[0;34m\u001b[0m\u001b[0;34m\u001b[0m\u001b[0m\n",
      "\u001b[0;32m/opt/jupyterhub/anaconda/lib/python3.9/site-packages/torch/nn/functional.py\u001b[0m in \u001b[0;36mrelu\u001b[0;34m(input, inplace)\u001b[0m\n\u001b[1;32m   1297\u001b[0m         \u001b[0mresult\u001b[0m \u001b[0;34m=\u001b[0m \u001b[0mtorch\u001b[0m\u001b[0;34m.\u001b[0m\u001b[0mrelu_\u001b[0m\u001b[0;34m(\u001b[0m\u001b[0minput\u001b[0m\u001b[0;34m)\u001b[0m\u001b[0;34m\u001b[0m\u001b[0;34m\u001b[0m\u001b[0m\n\u001b[1;32m   1298\u001b[0m     \u001b[0;32melse\u001b[0m\u001b[0;34m:\u001b[0m\u001b[0;34m\u001b[0m\u001b[0;34m\u001b[0m\u001b[0m\n\u001b[0;32m-> 1299\u001b[0;31m         \u001b[0mresult\u001b[0m \u001b[0;34m=\u001b[0m \u001b[0mtorch\u001b[0m\u001b[0;34m.\u001b[0m\u001b[0mrelu\u001b[0m\u001b[0;34m(\u001b[0m\u001b[0minput\u001b[0m\u001b[0;34m)\u001b[0m\u001b[0;34m\u001b[0m\u001b[0;34m\u001b[0m\u001b[0m\n\u001b[0m\u001b[1;32m   1300\u001b[0m     \u001b[0;32mreturn\u001b[0m \u001b[0mresult\u001b[0m\u001b[0;34m\u001b[0m\u001b[0;34m\u001b[0m\u001b[0m\n\u001b[1;32m   1301\u001b[0m \u001b[0;34m\u001b[0m\u001b[0m\n",
      "\u001b[0;31mKeyboardInterrupt\u001b[0m: "
     ]
    }
   ],
   "source": [
    "def round_tensor(t, decimal_places=3):\n",
    "    return round(t.item(), decimal_places)\n",
    "    \n",
    "Results = pd.DataFrame(columns = ['Epoch', 'Acc_train', 'Acc_val', 'val_loss', 'train_loss'])\n",
    "    \n",
    "for epoch in range(50):\n",
    "    y_acc = torch.empty((batch_size),dtype= torch.int32, device = 'cuda')\n",
    "    y_pred_acc = torch.empty((batch_size), device = 'cuda')\n",
    "    for x1, x2, y in train_dl:\n",
    "        x1, x2, y = x1.to(device), x2.to(device), y.to(device)\n",
    "        optimizer.zero_grad()\n",
    "        y_pred = CNN(x1, x2)\n",
    "        y_pred = y_pred.squeeze()\n",
    "        train_loss = criterion(y_pred, y)\n",
    "        train_loss.backward()\n",
    "        optimizer.step()\n",
    "        y_acc = torch.concat([y, y_acc], axis = 0)\n",
    "        y_pred_acc = torch.concat([y_pred, y_pred_acc], axis = 0)\n",
    "    if epoch % 1 == 0:\n",
    "\n",
    "\n",
    "        train_acc = calculate_accuracy(y_acc, CNN.post_forward(y_pred_acc))\n",
    "    \n",
    "        y_val_pred = CNN(X1_val, X2_val)\n",
    "        y_val_pred = y_val_pred.squeeze()\n",
    "        val_loss = criterion(y_val_pred, y_val)\n",
    "    \n",
    "        val_acc = calculate_accuracy(y_val, CNN.post_forward(y_val_pred))\n",
    "    \n",
    "        result = {'Epoch': epoch, 'Acc_train': round_tensor(train_acc), 'Acc_val': round_tensor(val_acc), 'val_loss': round_tensor(val_loss), 'train_loss': round_tensor(train_loss)}\n",
    "\n",
    "        Results = Results.append(result, ignore_index=True)\n",
    "\n",
    "        print(\n",
    "f'''epoch {epoch}\n",
    "Train set - loss: {round_tensor(train_loss)}, accuracy: {round_tensor(train_acc)}\n",
    "val  set - loss: {round_tensor(val_loss)}, accuracy: {round_tensor(val_acc)}\n",
    "''')"
   ]
  },
  {
   "cell_type": "code",
   "execution_count": null,
   "metadata": {},
   "outputs": [
    {
     "data": {
      "image/png": "[encoded data removed]",
      "text/plain": [
       "<Figure size 432x288 with 1 Axes>"
      ]
     },
     "metadata": {
      "needs_background": "light"
     },
     "output_type": "display_data"
    },
    {
     "name": "stdout",
     "output_type": "stream",
     "text": [
      "    Epoch  Acc_train  Acc_val  val_loss  train_loss\n",
      "0     0.0       0.75    0.722     0.540       0.496\n",
      "1     1.0       0.75    0.779     0.465       0.432\n",
      "2     2.0       0.75    0.801     0.427       0.495\n",
      "3     3.0       0.75    0.815     0.405       0.467\n",
      "4     4.0       0.75    0.824     0.390       0.371\n",
      "5     5.0       0.75    0.830     0.378       0.328\n",
      "6     6.0       0.75    0.835     0.370       0.295\n",
      "7     7.0       0.75    0.838     0.363       0.263\n",
      "8     8.0       0.75    0.841     0.356       0.226\n",
      "9     9.0       1.00    0.844     0.351       0.199\n",
      "10   10.0       1.00    0.847     0.345       0.184\n",
      "11   11.0       1.00    0.850     0.340       0.162\n",
      "12   12.0       1.00    0.853     0.335       0.143\n",
      "13   13.0       1.00    0.855     0.331       0.125\n",
      "14   14.0       1.00    0.858     0.326       0.116\n",
      "15   15.0       1.00    0.859     0.323       0.099\n",
      "16   16.0       1.00    0.862     0.319       0.093\n",
      "17   17.0       1.00    0.863     0.315       0.089\n",
      "18   18.0       1.00    0.864     0.312       0.086\n",
      "19   19.0       1.00    0.866     0.308       0.084\n",
      "20   20.0       1.00    0.867     0.306       0.090\n",
      "21   21.0       1.00    0.869     0.303       0.081\n",
      "22   22.0       1.00    0.870     0.300       0.073\n",
      "23   23.0       1.00    0.871     0.297       0.070\n",
      "24   24.0       1.00    0.872     0.295       0.064\n",
      "25   25.0       1.00    0.874     0.292       0.063\n",
      "26   26.0       1.00    0.875     0.290       0.059\n",
      "27   27.0       1.00    0.876     0.288       0.056\n",
      "28   28.0       1.00    0.878     0.285       0.051\n",
      "29   29.0       1.00    0.879     0.283       0.049\n",
      "30   30.0       1.00    0.880     0.281       0.046\n",
      "31   31.0       1.00    0.880     0.279       0.042\n",
      "32   32.0       1.00    0.881     0.278       0.042\n",
      "33   33.0       1.00    0.883     0.275       0.039\n",
      "34   34.0       1.00    0.884     0.274       0.037\n",
      "35   35.0       1.00    0.885     0.272       0.034\n",
      "36   36.0       1.00    0.885     0.271       0.031\n",
      "37   37.0       1.00    0.886     0.270       0.029\n",
      "38   38.0       1.00    0.887     0.268       0.029\n",
      "39   39.0       1.00    0.887     0.267       0.028\n",
      "40   40.0       1.00    0.888     0.265       0.027\n",
      "41   41.0       1.00    0.888     0.265       0.027\n",
      "42   42.0       1.00    0.889     0.264       0.028\n",
      "43   43.0       1.00    0.889     0.263       0.027\n",
      "44   44.0       1.00    0.890     0.261       0.026\n",
      "45   45.0       1.00    0.890     0.260       0.026\n",
      "46   46.0       1.00    0.890     0.259       0.026\n",
      "47   47.0       1.00    0.891     0.258       0.027\n",
      "48   48.0       1.00    0.892     0.257       0.027\n",
      "49   49.0       1.00    0.892     0.256       0.026\n"
     ]
    }
   ],
   "source": [
    "plt.plot(Results.Epoch,Results.Acc_train,'r',Results.Epoch,Results.Acc_val,'b')\n",
    "plt.legend(['Train','val'])\n",
    "plt.xlabel('Epochs')\n",
    "plt.ylabel('Accuracy')\n",
    "plt.show()\n",
    "print(Results)"
   ]
  },
  {
   "cell_type": "code",
   "execution_count": null,
   "metadata": {},
   "outputs": [
    {
     "data": {
      "image/png": "[encoded data removed]",
      "text/plain": [
       "<Figure size 432x288 with 1 Axes>"
      ]
     },
     "metadata": {
      "needs_background": "light"
     },
     "output_type": "display_data"
    }
   ],
   "source": [
    "plt.plot(Results.Epoch,Results.train_loss,'r',Results.Epoch,Results.val_loss,'b')\n",
    "plt.legend(['Train','val'])\n",
    "plt.xlabel('Epochs')\n",
    "plt.ylabel('Loss')\n",
    "plt.show()"
   ]
  },
  {
   "cell_type": "code",
   "execution_count": null,
   "metadata": {},
   "outputs": [
    {
     "name": "stdout",
     "output_type": "stream",
     "text": [
      "                 precision    recall  f1-score   support\n",
      "\n",
      "Different Voice       0.89      0.89      0.89     50344\n",
      "     Same Voice       0.89      0.89      0.89     50458\n",
      "\n",
      "       accuracy                           0.89    100802\n",
      "      macro avg       0.89      0.89      0.89    100802\n",
      "   weighted avg       0.89      0.89      0.89    100802\n",
      "\n"
     ]
    }
   ],
   "source": [
    "classes = ['Different Voice', 'Same Voice']\n",
    "y_pred = CNN(X1_val, X2_val)\n",
    "y_pred = y_pred.ge(.5).view(-1).cpu()\n",
    "y_val = y_val.cpu()\n",
    "print(classification_report(y_val, y_pred, target_names=classes))"
   ]
  },
  {
   "cell_type": "code",
   "execution_count": null,
   "metadata": {},
   "outputs": [
    {
     "data": {
      "image/png": "[encoded data removed]",
      "text/plain": [
       "<Figure size 432x288 with 2 Axes>"
      ]
     },
     "metadata": {
      "needs_background": "light"
     },
     "output_type": "display_data"
    }
   ],
   "source": [
    "cm = confusion_matrix(y_val, y_pred)\n",
    "df_cm = pd.DataFrame(cm, index=classes, columns=classes)\n",
    "hmap = sns.heatmap(df_cm, annot=True, fmt=\"d\", cmap= 'crest')\n",
    "hmap.yaxis.set_ticklabels(hmap.yaxis.get_ticklabels(), rotation=0, ha='right')\n",
    "hmap.xaxis.set_ticklabels(hmap.xaxis.get_ticklabels(), rotation=30, ha='right')\n",
    "plt.ylabel('True label')\n",
    "plt.xlabel('Predicted label');"
   ]
  },
  {
   "cell_type": "code",
   "execution_count": null,
   "metadata": {},
   "outputs": [
    {
     "name": "stdout",
     "output_type": "stream",
     "text": [
      "                 precision    recall  f1-score   support\n",
      "\n",
      "Different Voice       0.90      0.89      0.89     40517\n",
      "     Same Voice       0.89      0.90      0.89     40125\n",
      "\n",
      "       accuracy                           0.89     80642\n",
      "      macro avg       0.89      0.89      0.89     80642\n",
      "   weighted avg       0.89      0.89      0.89     80642\n",
      "\n"
     ]
    }
   ],
   "source": [
    "y_pred = CNN(X1_test, X2_test)\n",
    "y_pred = y_pred.ge(.5).view(-1).cpu()\n",
    "y_test = y_test.cpu()\n",
    "print(classification_report(y_test, y_pred, target_names=classes))"
   ]
  },
  {
   "cell_type": "code",
   "execution_count": null,
   "metadata": {},
   "outputs": [
    {
     "data": {
      "image/png": "[encoded data removed]",
      "text/plain": [
       "<Figure size 432x288 with 2 Axes>"
      ]
     },
     "metadata": {
      "needs_background": "light"
     },
     "output_type": "display_data"
    }
   ],
   "source": [
    "cm = confusion_matrix(y_test, y_pred)\n",
    "df_cm = pd.DataFrame(cm, index=classes, columns=classes)\n",
    "hmap = sns.heatmap(df_cm, annot=True, fmt=\"d\", cmap= 'crest')\n",
    "hmap.yaxis.set_ticklabels(hmap.yaxis.get_ticklabels(), rotation=0, ha='right')\n",
    "hmap.xaxis.set_ticklabels(hmap.xaxis.get_ticklabels(), rotation=30, ha='right')\n",
    "plt.ylabel('True label')\n",
    "plt.xlabel('Predicted label');"
   ]
  },
  {
   "cell_type": "code",
   "execution_count": null,
   "metadata": {},
   "outputs": [
    {
     "name": "stderr",
     "output_type": "stream",
     "text": [
      "UsageError: Line magic function `%%javascript` not found.\n"
     ]
    }
   ],
   "source": [
    "#Shutting down the notebook\n",
    "\n",
    "%%javascript\n",
    "Jupyter.notebook.session.delete();"
   ]
  }
 ],
 "metadata": {
  "kernelspec": {
   "display_name": "Python 3 (ipykernel)",
   "language": "python",
   "name": "python3"
  },
  "orig_nbformat": 4
 },
 "nbformat": 4,
 "nbformat_minor": 2
}
