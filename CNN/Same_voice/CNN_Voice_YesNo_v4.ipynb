{
 "cells": [
  {
   "cell_type": "code",
   "execution_count": 20,
   "metadata": {},
   "outputs": [],
   "source": [
    "#Importing all needed librarys\n",
    "import torch\n",
    "from torch.utils.data import DataLoader, TensorDataset\n",
    "from torchvision import datasets, transforms\n",
    "from torchvision.transforms import ToTensor, Lambda, Compose\n",
    "import matplotlib.pyplot as plt\n",
    "from sklearn.metrics import accuracy_score, recall_score, precision_recall_curve, precision_score\n",
    "from pipetorch.train import *\n",
    "from torch.autograd import Variable\n",
    "from torch.nn import Linear, ReLU, CrossEntropyLoss, Sequential, Conv2d, MaxPool2d, Module, Softmax, BatchNorm2d, Dropout\n",
    "from torch.optim import Adam, SGD\n",
    "from tqdm import tqdm\n",
    "from torch import nn, optim\n",
    "import seaborn as sns\n",
    "import torch.nn.functional as F\n",
    "\n",
    "# importing the libraries\n",
    "import pandas as pd\n",
    "import numpy as np\n",
    "\n",
    "# for creating validation set\n",
    "from sklearn.model_selection import train_test_split\n",
    "\n",
    "\n",
    "import torchvision\n",
    "from torchvision.datasets import ImageFolder"
   ]
  },
  {
   "cell_type": "code",
   "execution_count": 21,
   "metadata": {},
   "outputs": [
    {
     "name": "stdout",
     "output_type": "stream",
     "text": [
      "Wed Dec 15 14:30:07 2021       \n",
      "+-----------------------------------------------------------------------------+\n",
      "| NVIDIA-SMI 470.86       Driver Version: 470.86       CUDA Version: 11.4     |\n",
      "|-------------------------------+----------------------+----------------------+\n",
      "| GPU  Name        Persistence-M| Bus-Id        Disp.A | Volatile Uncorr. ECC |\n",
      "| Fan  Temp  Perf  Pwr:Usage/Cap|         Memory-Usage | GPU-Util  Compute M. |\n",
      "|                               |                      |               MIG M. |\n",
      "|===============================+======================+======================|\n",
      "|   0  NVIDIA GeForce ...  Off  | 00000000:05:00.0 Off |                  N/A |\n",
      "| 29%   28C    P2    63W / 250W |   7823MiB / 11019MiB |      1%      Default |\n",
      "|                               |                      |                  N/A |\n",
      "+-------------------------------+----------------------+----------------------+\n",
      "|   1  NVIDIA GeForce ...  Off  | 00000000:09:00.0 Off |                  N/A |\n",
      "| 30%   39C    P2    71W / 250W |   7600MiB / 11019MiB |      8%      Default |\n",
      "|                               |                      |                  N/A |\n",
      "+-------------------------------+----------------------+----------------------+\n",
      "|   2  NVIDIA GeForce ...  Off  | 00000000:0A:00.0 Off |                  N/A |\n",
      "| 30%   35C    P2    54W / 250W |   7253MiB / 11019MiB |      9%      Default |\n",
      "|                               |                      |                  N/A |\n",
      "+-------------------------------+----------------------+----------------------+\n",
      "|   3  NVIDIA GeForce ...  Off  | 00000000:85:00.0 Off |                  N/A |\n",
      "| 30%   37C    P2    52W / 250W |   5349MiB / 11019MiB |      8%      Default |\n",
      "|                               |                      |                  N/A |\n",
      "+-------------------------------+----------------------+----------------------+\n",
      "|   4  NVIDIA GeForce ...  Off  | 00000000:89:00.0 Off |                  N/A |\n",
      "| 30%   38C    P2    52W / 250W |   9425MiB / 11019MiB |      8%      Default |\n",
      "|                               |                      |                  N/A |\n",
      "+-------------------------------+----------------------+----------------------+\n",
      "                                                                               \n",
      "+-----------------------------------------------------------------------------+\n",
      "| Processes:                                                                  |\n",
      "|  GPU   GI   CI        PID   Type   Process name                  GPU Memory |\n",
      "|        ID   ID                                                   Usage      |\n",
      "|=============================================================================|\n",
      "|    0   N/A  N/A      2603      C   ...erhub/anaconda/bin/python     2747MiB |\n",
      "|    0   N/A  N/A      2719      C   ...erhub/anaconda/bin/python     1103MiB |\n",
      "|    0   N/A  N/A      7811      C   ...erhub/anaconda/bin/python     2887MiB |\n",
      "|    0   N/A  N/A      8660      C   ...erhub/anaconda/bin/python     1083MiB |\n",
      "|    1   N/A  N/A      3932      C   ...erhub/anaconda/bin/python     2659MiB |\n",
      "|    1   N/A  N/A      6198      C   ...erhub/anaconda/bin/python     1597MiB |\n",
      "|    1   N/A  N/A      7797      C   ...erhub/anaconda/bin/python     1079MiB |\n",
      "|    1   N/A  N/A     12706      C   ...erhub/anaconda/bin/python     1281MiB |\n",
      "|    1   N/A  N/A     18528      C   ...erhub/anaconda/bin/python      981MiB |\n",
      "|    2   N/A  N/A      5534      C   ...erhub/anaconda/bin/python     6121MiB |\n",
      "|    2   N/A  N/A      5645      C   ...erhub/anaconda/bin/python     1129MiB |\n",
      "|    3   N/A  N/A      4997      C   ...erhub/anaconda/bin/python     1145MiB |\n",
      "|    3   N/A  N/A      7431      C   ...erhub/anaconda/bin/python     1329MiB |\n",
      "|    3   N/A  N/A     16765      C   ...erhub/anaconda/bin/python     1079MiB |\n",
      "|    3   N/A  N/A     17002      C   ...erhub/anaconda/bin/python     1793MiB |\n",
      "|    4   N/A  N/A     12921      C   ...erhub/anaconda/bin/python     1231MiB |\n",
      "|    4   N/A  N/A     13361      C   ...erhub/anaconda/bin/python     3717MiB |\n",
      "|    4   N/A  N/A     16234      C   ...erhub/anaconda/bin/python     3415MiB |\n",
      "|    4   N/A  N/A     17870      C   ...erhub/anaconda/bin/python     1059MiB |\n",
      "+-----------------------------------------------------------------------------+\n"
     ]
    }
   ],
   "source": [
    "#Checking wich GPU is beeing used\n",
    "\n",
    "!nvidia-smi"
   ]
  },
  {
   "cell_type": "code",
   "execution_count": 22,
   "metadata": {},
   "outputs": [
    {
     "name": "stdout",
     "output_type": "stream",
     "text": [
      "(36064, 40, 16)\n",
      "[ True  True  True ... False False False]\n"
     ]
    }
   ],
   "source": [
    "#Load data\n",
    "data_speaker_dir = 'dialogue/Dataset/VoiceDetection/mfcc/speakers.npy'\n",
    "labels_dir = 'dialogue/Dataset/VoiceDetection/mfcc/labels.npy'\n",
    "\n",
    "data_speaker = np.load(data_speaker_dir, allow_pickle = True)\n",
    "labels = np.load(labels_dir, allow_pickle = True)\n",
    "\n",
    "print(data_speaker.shape)\n",
    "print(labels)"
   ]
  },
  {
   "cell_type": "code",
   "execution_count": 23,
   "metadata": {},
   "outputs": [
    {
     "name": "stdout",
     "output_type": "stream",
     "text": [
      "(2300, 40, 16)\n"
     ]
    }
   ],
   "source": [
    "test_labels = pd.read_csv(\"dialogue/Dataset/VoiceDetection/boolean_labels.csv\")\n",
    "test_labels.drop(test_labels.columns[[0]], axis=1, inplace=True)\n",
    "test_labels = test_labels['isSpeaking'].to_numpy()\n",
    "test_dir = 'dialogue/Dataset/VoiceDetection/mfcc/test.npy'\n",
    "test_data_speaker = np.load(test_dir, allow_pickle = True)\n",
    "print(test_data_speaker.shape)"
   ]
  },
  {
   "cell_type": "code",
   "execution_count": 24,
   "metadata": {},
   "outputs": [
    {
     "data": {
      "image/png": "[encoded data removed]",
      "text/plain": [
       "<Figure size 432x288 with 1 Axes>"
      ]
     },
     "metadata": {
      "needs_background": "light"
     },
     "output_type": "display_data"
    }
   ],
   "source": [
    "from matplotlib import cm\n",
    "fig, ax = plt.subplots()\n",
    "mfcc_data = data_speaker[-1]\n",
    "cox = ax.imshow(mfcc_data, interpolation = 'nearest', cmap = cm.coolwarm, origin = 'lower')\n",
    "plt.show()"
   ]
  },
  {
   "cell_type": "code",
   "execution_count": 25,
   "metadata": {},
   "outputs": [
    {
     "name": "stdout",
     "output_type": "stream",
     "text": [
      "<class 'numpy.ndarray'>\n"
     ]
    }
   ],
   "source": [
    "#df_data.drop(['isSpeaking'],axis = 1)\n",
    "X_train, X_val, y_train, y_val = train_test_split(data_speaker, labels, test_size = 0.2, random_state = 23)\n",
    "#X_train, X_test, y_train, y_test = train_test_split(X_train, y_train, test_size = 0.2, random_state = 23)\n",
    "X_test = test_data_speaker\n",
    "y_test = test_labels\n",
    "print(type(X_train))\n",
    "#print(X_train)"
   ]
  },
  {
   "cell_type": "code",
   "execution_count": 26,
   "metadata": {},
   "outputs": [
    {
     "name": "stdout",
     "output_type": "stream",
     "text": [
      "torch.Size([28851, 40, 16]) torch.Size([28851])\n"
     ]
    }
   ],
   "source": [
    "#print(pd.DataFrame(X_train))\n",
    "X_train = torch.from_numpy(X_train).float()\n",
    "y_train = torch.from_numpy(y_train).float()\n",
    "X_val = torch.from_numpy(X_val).float()\n",
    "y_val = torch.from_numpy(y_val).float()\n",
    "X_test = torch.from_numpy(X_test).float()\n",
    "y_test = torch.from_numpy(y_test).float()\n",
    "\n",
    "\n",
    "print(X_train.shape, y_train.shape)\n",
    "#print(test_X.shape)\n",
    "#print(X_train)\n"
   ]
  },
  {
   "cell_type": "code",
   "execution_count": 27,
   "metadata": {},
   "outputs": [],
   "source": [
    "class model(nn.Module):\n",
    "    def __init__(self,n_features,kernel_size):\n",
    "        super(model, self).__init__()\n",
    "        self.conv1 = nn.Conv1d(n_features, 40, kernel_size=3, stride = 1) #1 input channels, 100 output channels\n",
    "        self.conv2 = nn.Conv1d(40, 80, kernel_size=3, stride = 1) #100 input channels from previous Conv. layer, 75 out\n",
    "        \n",
    "        self.fc1 = nn.Linear(160, 100) #Fully-connected classifier layer\n",
    "        self.fc2 = nn.Linear(100,1) #Fully-connected classifier layer\n",
    "    \n",
    "    def forward(self, x):\n",
    "        x = F.relu(F.max_pool1d(self.conv1(x), 2))\n",
    "        x = F.relu(F.max_pool1d(self.conv2(x), 2))\n",
    "        x = x.reshape(len(x), -1)\n",
    "        #point A\n",
    "        #x = x.transpose(1, 2)\n",
    "        \n",
    "        #point B\n",
    "        x = self.fc1(x)\n",
    "        x = F.relu(x)\n",
    "        x = self.fc2(x)\n",
    "        return torch.sigmoid(x)\n",
    "    \n",
    "    def post_forward(self, y): \n",
    "        return torch.round(y)\n",
    "    \n",
    "CNN = model(X_train.shape[1],kernel_size = 3)"
   ]
  },
  {
   "cell_type": "code",
   "execution_count": 28,
   "metadata": {},
   "outputs": [],
   "source": [
    "weight = torch.FloatTensor([1])\n",
    "criterion = nn.BCELoss()\n",
    "optimizer = optim.Adam(CNN.parameters(), lr=0.00003)"
   ]
  },
  {
   "cell_type": "code",
   "execution_count": 29,
   "metadata": {},
   "outputs": [],
   "source": [
    "train_ds = TensorDataset(X_train, y_train)\n",
    "val_ds = TensorDataset(X_val, y_val)"
   ]
  },
  {
   "cell_type": "code",
   "execution_count": 30,
   "metadata": {},
   "outputs": [],
   "source": [
    "batch_size = 32\n",
    "train_dl = DataLoader(train_ds, batch_size=batch_size, num_workers = 4, pin_memory = True)\n",
    "#val_dl = DataLoader(val_ds, batch_size= 32)"
   ]
  },
  {
   "cell_type": "code",
   "execution_count": 31,
   "metadata": {},
   "outputs": [],
   "source": [
    "device = torch.device(\"cuda\" if torch.cuda.is_available() else \"cpu\")\n",
    "#X_train = X_train.to(device)\n",
    "#y_train = y_train.to(device)\n",
    "X_val = X_val.to(device)\n",
    "y_val = y_val.to(device)\n",
    "X_test = X_test.to(device)\n",
    "y_test = y_test.to(device)\n",
    "CNN = CNN.to(device)\n",
    "criterion = criterion.to(device)"
   ]
  },
  {
   "cell_type": "code",
   "execution_count": 32,
   "metadata": {},
   "outputs": [],
   "source": [
    "def calculate_accuracy(y_true, y_pred):\n",
    "    return (y_true == y_pred).sum().float() / len(y_true)"
   ]
  },
  {
   "cell_type": "code",
   "execution_count": 33,
   "metadata": {},
   "outputs": [
    {
     "name": "stdout",
     "output_type": "stream",
     "text": [
      "epoch 0\n",
      "Train set - loss: 0.02, accuracy: 0.942\n",
      "val  set - loss: 0.035, accuracy: 0.991\n",
      "\n",
      "epoch 1\n",
      "Train set - loss: 0.006, accuracy: 0.993\n",
      "val  set - loss: 0.015, accuracy: 0.997\n",
      "\n",
      "epoch 2\n",
      "Train set - loss: 0.005, accuracy: 0.995\n",
      "val  set - loss: 0.01, accuracy: 0.997\n",
      "\n",
      "epoch 3\n",
      "Train set - loss: 0.007, accuracy: 0.995\n",
      "val  set - loss: 0.008, accuracy: 0.998\n",
      "\n",
      "epoch 4\n",
      "Train set - loss: 0.008, accuracy: 0.996\n",
      "val  set - loss: 0.007, accuracy: 0.998\n",
      "\n",
      "epoch 5\n",
      "Train set - loss: 0.01, accuracy: 0.996\n",
      "val  set - loss: 0.007, accuracy: 0.998\n",
      "\n",
      "epoch 6\n",
      "Train set - loss: 0.01, accuracy: 0.997\n",
      "val  set - loss: 0.006, accuracy: 0.998\n",
      "\n",
      "epoch 7\n",
      "Train set - loss: 0.011, accuracy: 0.997\n",
      "val  set - loss: 0.006, accuracy: 0.998\n",
      "\n",
      "epoch 8\n",
      "Train set - loss: 0.01, accuracy: 0.997\n",
      "val  set - loss: 0.006, accuracy: 0.999\n",
      "\n",
      "epoch 9\n",
      "Train set - loss: 0.011, accuracy: 0.997\n",
      "val  set - loss: 0.006, accuracy: 0.999\n",
      "\n",
      "epoch 10\n",
      "Train set - loss: 0.011, accuracy: 0.997\n",
      "val  set - loss: 0.006, accuracy: 0.999\n",
      "\n",
      "epoch 11\n",
      "Train set - loss: 0.011, accuracy: 0.998\n",
      "val  set - loss: 0.006, accuracy: 0.999\n",
      "\n",
      "epoch 12\n",
      "Train set - loss: 0.009, accuracy: 0.998\n",
      "val  set - loss: 0.017, accuracy: 0.999\n",
      "\n",
      "epoch 13\n",
      "Train set - loss: 0.007, accuracy: 0.998\n",
      "val  set - loss: 0.017, accuracy: 0.999\n",
      "\n",
      "epoch 14\n",
      "Train set - loss: 0.007, accuracy: 0.998\n",
      "val  set - loss: 0.017, accuracy: 0.999\n",
      "\n",
      "epoch 15\n",
      "Train set - loss: 0.006, accuracy: 0.998\n",
      "val  set - loss: 0.017, accuracy: 0.999\n",
      "\n",
      "epoch 16\n",
      "Train set - loss: 0.006, accuracy: 0.998\n",
      "val  set - loss: 0.017, accuracy: 0.999\n",
      "\n",
      "epoch 17\n",
      "Train set - loss: 0.005, accuracy: 0.998\n",
      "val  set - loss: 0.017, accuracy: 0.999\n",
      "\n",
      "epoch 18\n",
      "Train set - loss: 0.005, accuracy: 0.998\n",
      "val  set - loss: 0.017, accuracy: 0.999\n",
      "\n",
      "epoch 19\n",
      "Train set - loss: 0.004, accuracy: 0.998\n",
      "val  set - loss: 0.017, accuracy: 0.999\n",
      "\n"
     ]
    }
   ],
   "source": [
    "def round_tensor(t, decimal_places=3):\n",
    "    return round(t.item(), decimal_places)\n",
    "\n",
    "Results_acc = pd.DataFrame(columns = ['Epoch', 'Acc_train', 'Acc_val'])\n",
    "Results_loss = pd.DataFrame(columns = ['Epoch', 'Loss_train', 'Loss_val'])\n",
    "Results_recall = pd.DataFrame(columns = ['Epoch', 'Recall_val'])\n",
    "Results_prec = pd.DataFrame(columns = ['Epoch', 'Prec_val'])\n",
    "\n",
    "for epoch in range(20):\n",
    "    \n",
    "    y_acc = torch.empty((batch_size),dtype= torch.int32, device = 'cuda')\n",
    "    y_pred_acc = torch.empty((batch_size), device = 'cuda')\n",
    "    \n",
    "    for x, y in train_dl:\n",
    "\n",
    "        x, y = x.to(device), y.to(device)\n",
    "\n",
    "        optimizer.zero_grad()\n",
    "        y_pred = CNN(x)\n",
    "        y_pred = y_pred.squeeze()\n",
    "        train_loss = criterion(y_pred, y)\n",
    "        train_loss.backward()\n",
    "        optimizer.step()\n",
    "        \n",
    "        y_acc = torch.concat([y, y_acc], axis = 0)\n",
    "        y_pred_acc = torch.concat([y_pred, y_pred_acc], axis = 0)\n",
    "        \n",
    "    if epoch % 1 == 0:\n",
    "\n",
    "        train_acc = calculate_accuracy(y_acc, CNN.post_forward(y_pred_acc))\n",
    "        train_loss = criterion(y_pred,y)\n",
    "    \n",
    "        y_val_pred = CNN(X_val)\n",
    "        y_val_pred = torch.squeeze(y_val_pred)\n",
    "        val_loss = criterion(y_val_pred, y_val)\n",
    "        val_acc = calculate_accuracy(y_val, CNN.post_forward(y_val_pred))\n",
    "        \n",
    "        Confusion = confusion_matrix(y_val.cpu(),y_val_pred.ge(.5).view(-1).cpu())\n",
    "    \n",
    "        val_recall_voice = Confusion[1][1]/(Confusion[1][1] + Confusion[1][0])\n",
    "        val_prec_voice = Confusion[1][1]/(Confusion[0][1] + Confusion[1][1])\n",
    "\n",
    "        val_recall_Novoice = Confusion[0][0]/(Confusion[0][0] + Confusion[0][1])\n",
    "        val_prec_Novoice = Confusion[0][0]/(Confusion[1][0] + Confusion[0][0])\n",
    "\n",
    "        Acc = {'Epoch': epoch, 'Acc_train': round_tensor(train_acc), 'Acc_val': round_tensor(val_acc)}\n",
    "        Loss = {'Epoch': epoch, 'Loss_train': round_tensor(train_loss), 'Loss_val': round_tensor(val_loss)}\n",
    "        Recall = {'Epoch': epoch, 'Recall_val_voice': round_tensor(val_recall_voice), \"Recall_val_Novoice\": round_tensor(val_recall_Novoice)}\n",
    "        Prec = {'Epoch': epoch,'Prec_val_voice': round_tensor(val_prec_voice), 'Prec_val_Novoice': round_tensor(val_prec_Novoice)}\n",
    "\n",
    "        print(\n",
    "f'''epoch {epoch}\n",
    "Train set - loss: {round_tensor(train_loss)}, accuracy: {round_tensor(train_acc)}\n",
    "val  set - loss: {round_tensor(val_loss)}, accuracy: {round_tensor(val_acc)}\n",
    "''')\n",
    "        \n",
    "        Results_acc = Results_acc.append(Acc, ignore_index=True)\n",
    "        Results_loss = Results_loss.append(Loss, ignore_index=True)\n",
    "        Results_recall = Results_recall.append(Recall, ignore_index=True)\n",
    "        Results_prec = Results_prec.append(Prec, ignore_index=True)"
   ]
  },
  {
   "cell_type": "code",
   "execution_count": 34,
   "metadata": {},
   "outputs": [
    {
     "data": {
      "image/png": "[encoded data removed]",
      "text/plain": [
       "<Figure size 432x288 with 1 Axes>"
      ]
     },
     "metadata": {
      "needs_background": "light"
     },
     "output_type": "display_data"
    },
    {
     "data": {
      "image/png": "[encoded data removed]",
      "text/plain": [
       "<Figure size 432x288 with 1 Axes>"
      ]
     },
     "metadata": {
      "needs_background": "light"
     },
     "output_type": "display_data"
    }
   ],
   "source": [
    "plt.plot(Results_acc.Epoch,Results_acc.Acc_train,'r',Results_acc.Epoch,Results_acc.Acc_val,'b')\n",
    "plt.legend(['Train','Val'])\n",
    "plt.title('Accuracy of CNN')\n",
    "plt.ylabel('Accuracy')\n",
    "plt.xlabel('Epochs')\n",
    "plt.show()\n",
    "\n",
    "plt.plot(Results_loss.Epoch,Results_loss.Loss_train,'r',Results_loss.Epoch,Results_loss.Loss_val,'b')\n",
    "plt.legend(['Train','Val'])\n",
    "plt.title('Loss')\n",
    "plt.ylabel('Loss')\n",
    "plt.xlabel('Epochs')\n",
    "plt.show()"
   ]
  },
  {
   "cell_type": "code",
   "execution_count": 35,
   "metadata": {},
   "outputs": [
    {
     "data": {
      "image/png": "[encoded data removed]",
      "text/plain": [
       "<Figure size 432x288 with 1 Axes>"
      ]
     },
     "metadata": {
      "needs_background": "light"
     },
     "output_type": "display_data"
    },
    {
     "data": {
      "image/png": "[encoded data removed]",
      "text/plain": [
       "<Figure size 432x288 with 1 Axes>"
      ]
     },
     "metadata": {
      "needs_background": "light"
     },
     "output_type": "display_data"
    }
   ],
   "source": [
    "plt.plot(Results_recall.Epoch , Results_recall.Recall_val_voice,'b', Results_recall.Recall_val_Novoice,'r')\n",
    "plt.legend(['Voice', 'No Voice'])\n",
    "plt.title('Recall')\n",
    "plt.ylabel('Recall')\n",
    "plt.xlabel('Epochs')\n",
    "plt.show()\n",
    "\n",
    "plt.plot(Results_prec.Epoch,Results_prec.Prec_val_voice,'b', Results_prec.Prec_val_Novoice,'r')\n",
    "plt.legend(['Voice', 'No voice'])\n",
    "plt.title('Precision')\n",
    "plt.ylabel('Precision')\n",
    "plt.xlabel('Epochs')\n",
    "plt.show()"
   ]
  },
  {
   "cell_type": "code",
   "execution_count": 36,
   "metadata": {},
   "outputs": [
    {
     "name": "stdout",
     "output_type": "stream",
     "text": [
      "              precision    recall  f1-score   support\n",
      "\n",
      "    No Voice       1.00      1.00      1.00      3600\n",
      "       Voice       1.00      1.00      1.00      3613\n",
      "\n",
      "    accuracy                           1.00      7213\n",
      "   macro avg       1.00      1.00      1.00      7213\n",
      "weighted avg       1.00      1.00      1.00      7213\n",
      "\n"
     ]
    }
   ],
   "source": [
    "classes = ['No Voice', 'Voice']\n",
    "y_pred = CNN(X_val)\n",
    "y_pred = y_pred.ge(.5).view(-1).cpu()\n",
    "y_val = y_val.cpu()\n",
    "print(classification_report(y_val, y_pred, target_names=classes))"
   ]
  },
  {
   "cell_type": "code",
   "execution_count": 37,
   "metadata": {},
   "outputs": [
    {
     "data": {
      "image/png": "[encoded data removed]",
      "text/plain": [
       "<Figure size 432x288 with 2 Axes>"
      ]
     },
     "metadata": {
      "needs_background": "light"
     },
     "output_type": "display_data"
    }
   ],
   "source": [
    "cm = confusion_matrix(y_val, y_pred)\n",
    "df_cm = pd.DataFrame(cm, index=classes, columns=classes)\n",
    "hmap = sns.heatmap(df_cm, annot=True, fmt=\"d\", cmap= 'crest')\n",
    "#hmap.color_palette(\"viridis\", as_cmap=True)\n",
    "hmap.yaxis.set_ticklabels(hmap.yaxis.get_ticklabels(), rotation=0, ha='right')\n",
    "hmap.xaxis.set_ticklabels(hmap.xaxis.get_ticklabels(), rotation=30, ha='right')\n",
    "plt.ylabel('True label')\n",
    "plt.xlabel('Predicted label');"
   ]
  },
  {
   "cell_type": "code",
   "execution_count": 38,
   "metadata": {},
   "outputs": [
    {
     "name": "stdout",
     "output_type": "stream",
     "text": [
      "              precision    recall  f1-score   support\n",
      "\n",
      "    No Voice       0.54      0.43      0.48      1256\n",
      "       Voice       0.45      0.55      0.49      1044\n",
      "\n",
      "    accuracy                           0.49      2300\n",
      "   macro avg       0.49      0.49      0.49      2300\n",
      "weighted avg       0.50      0.49      0.49      2300\n",
      "\n"
     ]
    }
   ],
   "source": [
    "y_pred = CNN(X_test)\n",
    "y_pred = y_pred.ge(.5).view(-1).cpu()\n",
    "y_test = y_test.cpu()\n",
    "print(classification_report(y_test, y_pred, target_names=classes))"
   ]
  },
  {
   "cell_type": "code",
   "execution_count": 39,
   "metadata": {},
   "outputs": [
    {
     "data": {
      "image/png": "[encoded data removed]",
      "text/plain": [
       "<Figure size 432x288 with 2 Axes>"
      ]
     },
     "metadata": {
      "needs_background": "light"
     },
     "output_type": "display_data"
    }
   ],
   "source": [
    "cm = confusion_matrix(y_test, y_pred)\n",
    "df_cm = pd.DataFrame(cm, index=classes, columns=classes)\n",
    "hmap = sns.heatmap(df_cm, annot=True, fmt=\"d\", cmap= 'crest')\n",
    "hmap.yaxis.set_ticklabels(hmap.yaxis.get_ticklabels(), rotation=0, ha='right')\n",
    "hmap.xaxis.set_ticklabels(hmap.xaxis.get_ticklabels(), rotation=30, ha='right')\n",
    "plt.ylabel('True label')\n",
    "plt.xlabel('Predicted label');"
   ]
  },
  {
   "cell_type": "code",
   "execution_count": 40,
   "metadata": {},
   "outputs": [
    {
     "name": "stderr",
     "output_type": "stream",
     "text": [
      "UsageError: Line magic function `%%javascript` not found.\n"
     ]
    }
   ],
   "source": [
    "#Shutting down the notebook\n",
    "\n",
    "%%javascript\n",
    "Jupyter.notebook.session.delete();"
   ]
  }
 ],
 "metadata": {
  "kernelspec": {
   "display_name": "Python 3 (ipykernel)",
   "language": "python",
   "name": "python3"
  },
  "language_info": {
   "codemirror_mode": {
    "name": "ipython",
    "version": 3
   },
   "file_extension": ".py",
   "mimetype": "text/x-python",
   "name": "python",
   "nbconvert_exporter": "python",
   "pygments_lexer": "ipython3",
   "version": "3.9.7"
  },
  "orig_nbformat": 4
 },
 "nbformat": 4,
 "nbformat_minor": 2
}
