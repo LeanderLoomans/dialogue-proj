{
 "cells": [
  {
   "cell_type": "code",
   "execution_count": 404,
   "metadata": {},
   "outputs": [],
   "source": [
    "#Importing all needed librarys\n",
    "import torch\n",
    "from torch.utils.data import DataLoader, TensorDataset\n",
    "from torchvision import datasets, transforms\n",
    "from torchvision.transforms import ToTensor, Lambda, Compose\n",
    "import matplotlib.pyplot as plt\n",
    "from sklearn.metrics import accuracy_score, recall_score, precision_recall_curve, precision_score\n",
    "from pipetorch.train import *\n",
    "from torch.autograd import Variable\n",
    "from torch.nn import Linear, ReLU, CrossEntropyLoss, Sequential, Conv2d, MaxPool2d, Module, Softmax, BatchNorm2d, Dropout\n",
    "from torch.optim import Adam, SGD\n",
    "from tqdm import tqdm\n",
    "from torch import nn, optim\n",
    "import seaborn as sns\n",
    "import torch.nn.functional as F\n",
    "\n",
    "# importing the libraries\n",
    "import pandas as pd\n",
    "import numpy as np\n",
    "\n",
    "# for creating validation set\n",
    "from sklearn.model_selection import train_test_split\n",
    "\n",
    "\n",
    "import torchvision\n",
    "from torchvision.datasets import ImageFolder"
   ]
  },
  {
   "cell_type": "code",
   "execution_count": 405,
   "metadata": {},
   "outputs": [
    {
     "name": "stdout",
     "output_type": "stream",
     "text": [
      "Fri Dec 24 16:24:06 2021       \n",
      "+-----------------------------------------------------------------------------+\n",
      "| NVIDIA-SMI 470.86       Driver Version: 470.86       CUDA Version: 11.4     |\n",
      "|-------------------------------+----------------------+----------------------+\n",
      "| GPU  Name        Persistence-M| Bus-Id        Disp.A | Volatile Uncorr. ECC |\n",
      "| Fan  Temp  Perf  Pwr:Usage/Cap|         Memory-Usage | GPU-Util  Compute M. |\n",
      "|                               |                      |               MIG M. |\n",
      "|===============================+======================+======================|\n",
      "|   0  NVIDIA GeForce ...  Off  | 00000000:05:00.0 Off |                  N/A |\n",
      "| 29%   25C    P8    18W / 250W |   1420MiB / 11019MiB |      0%      Default |\n",
      "|                               |                      |                  N/A |\n",
      "+-------------------------------+----------------------+----------------------+\n",
      "|   1  NVIDIA GeForce ...  Off  | 00000000:09:00.0 Off |                  N/A |\n",
      "| 29%   26C    P8    20W / 250W |   1322MiB / 11019MiB |      0%      Default |\n",
      "|                               |                      |                  N/A |\n",
      "+-------------------------------+----------------------+----------------------+\n",
      "|   2  NVIDIA GeForce ...  Off  | 00000000:0A:00.0 Off |                  N/A |\n",
      "| 30%   28C    P8    15W / 250W |   3902MiB / 11019MiB |      0%      Default |\n",
      "|                               |                      |                  N/A |\n",
      "+-------------------------------+----------------------+----------------------+\n",
      "|   3  NVIDIA GeForce ...  Off  | 00000000:85:00.0 Off |                  N/A |\n",
      "| 30%   32C    P8     2W / 250W |   3833MiB / 11019MiB |      0%      Default |\n",
      "|                               |                      |                  N/A |\n",
      "+-------------------------------+----------------------+----------------------+\n",
      "|   4  NVIDIA GeForce ...  Off  | 00000000:89:00.0 Off |                  N/A |\n",
      "| 29%   24C    P8     1W / 250W |   1126MiB / 11019MiB |      0%      Default |\n",
      "|                               |                      |                  N/A |\n",
      "+-------------------------------+----------------------+----------------------+\n",
      "                                                                               \n",
      "+-----------------------------------------------------------------------------+\n",
      "| Processes:                                                                  |\n",
      "|  GPU   GI   CI        PID   Type   Process name                  GPU Memory |\n",
      "|        ID   ID                                                   Usage      |\n",
      "|=============================================================================|\n",
      "|    0   N/A  N/A     26650      C   ...erhub/anaconda/bin/python     1417MiB |\n",
      "|    1   N/A  N/A     23109      C   ...erhub/anaconda/bin/python     1319MiB |\n",
      "|    2   N/A  N/A     45959      C   ...erhub/anaconda/bin/python     3899MiB |\n",
      "|    3   N/A  N/A     38711      C   ...erhub/anaconda/bin/python     1079MiB |\n",
      "|    3   N/A  N/A     39916      C   ...erhub/anaconda/bin/python     2751MiB |\n",
      "|    4   N/A  N/A     42409      C   ...erhub/anaconda/bin/python     1123MiB |\n",
      "+-----------------------------------------------------------------------------+\n"
     ]
    }
   ],
   "source": [
    "#Checking wich GPU is beeing used\n",
    "\n",
    "!nvidia-smi"
   ]
  },
  {
   "cell_type": "code",
   "execution_count": 406,
   "metadata": {},
   "outputs": [
    {
     "name": "stdout",
     "output_type": "stream",
     "text": [
      "(60017, 40, 44)\n",
      "[False False False ...  True  True  True]\n"
     ]
    }
   ],
   "source": [
    "#Load data\n",
    "data_speaker_dir_false = 'dialogue/Dataset/VoiceDetection/mfcc/NO_SPEECH_30000_samples.npy'\n",
    "labels_dir_false = 'dialogue/Dataset/VoiceDetection/mfcc/NO_SPEECH_30000_labels.npy'\n",
    "\n",
    "data_speaker_dir_true = 'dialogue/Dataset/VoiceDetection/mfcc/CLEAN_SPEECH_10000_samples.npy'\n",
    "labels_dir_true = 'dialogue/Dataset/VoiceDetection/mfcc/CLEAN_SPEECH_10000_labels.npy'\n",
    "\n",
    "data_speaker_dir_true_2 = 'dialogue/Dataset/VoiceDetection/mfcc/SPEECH_WITH_MUSIC_10000_samples.npy'\n",
    "labels_dir_true_2 = 'dialogue/Dataset/VoiceDetection/mfcc/SPEECH_WITH_MUSIC_10000_labels.npy'\n",
    "\n",
    "data_speaker_dir_true_3 = 'dialogue/Dataset/VoiceDetection/mfcc/SPEECH_WITH_NOISE_10000_samples.npy'\n",
    "labels_dir_true_3 = 'dialogue/Dataset/VoiceDetection/mfcc/SPEECH_WITH_NOISE_10000_labels.npy'\n",
    "\n",
    "data_speaker = np.load(data_speaker_dir_false, allow_pickle = True)\n",
    "labels = np.load(labels_dir_false, allow_pickle = True)\n",
    "\n",
    "data_speaker = np.concatenate((data_speaker, np.load(data_speaker_dir_true, allow_pickle= True)))\n",
    "labels = np.concatenate((labels, np.load(labels_dir_true, allow_pickle= True)))\n",
    "\n",
    "data_speaker = np.concatenate((data_speaker, np.load(data_speaker_dir_true_2, allow_pickle= True)))\n",
    "labels = np.concatenate((labels, np.load(labels_dir_true_2, allow_pickle= True)))\n",
    "\n",
    "data_speaker = np.concatenate((data_speaker, np.load(data_speaker_dir_true_3, allow_pickle= True)))\n",
    "labels = np.concatenate((labels, np.load(labels_dir_true_3, allow_pickle= True)))\n",
    "#dim = data_speaker.shape\n",
    "#data_speaker = data_speaker.reshape(dim[0],dim[1]* dim[2])\n",
    "print(data_speaker.shape)\n",
    "print(labels)"
   ]
  },
  {
   "cell_type": "code",
   "execution_count": 407,
   "metadata": {},
   "outputs": [
    {
     "name": "stdout",
     "output_type": "stream",
     "text": [
      "(2300, 40, 44)\n"
     ]
    }
   ],
   "source": [
    "test_labels = pd.read_csv(\"dialogue/Dataset/VoiceDetection/boolean_labels.csv\")\n",
    "test_labels.drop(test_labels.columns[[0]], axis=1, inplace=True)\n",
    "test_labels = test_labels['isSpeaking'].to_numpy()\n",
    "test_dir = 'dialogue/Dataset/VoiceDetection/mfcc/test.npy'\n",
    "test_data_speaker = np.load(test_dir, allow_pickle = True)\n",
    "#dim = test_data_speaker.shape\n",
    "#test_data_speaker = test_data_speaker.reshape(dim[0],dim[1]* dim[2])\n",
    "print(test_data_speaker.shape)"
   ]
  },
  {
   "cell_type": "code",
   "execution_count": 408,
   "metadata": {},
   "outputs": [
    {
     "name": "stdout",
     "output_type": "stream",
     "text": [
      "(array([False,  True]), array([1256, 1044]))\n"
     ]
    }
   ],
   "source": [
    "print(np.unique(test_labels, return_counts=True))"
   ]
  },
  {
   "cell_type": "code",
   "execution_count": 409,
   "metadata": {},
   "outputs": [
    {
     "data": {
      "image/png": "[encoded data removed]",
      "text/plain": [
       "<Figure size 432x288 with 1 Axes>"
      ]
     },
     "metadata": {
      "needs_background": "light"
     },
     "output_type": "display_data"
    }
   ],
   "source": [
    "from matplotlib import cm\n",
    "fig, ax = plt.subplots()\n",
    "mfcc_data = data_speaker[-1]\n",
    "cox = ax.imshow(mfcc_data, interpolation = 'nearest', cmap = cm.coolwarm, origin = 'lower')\n",
    "plt.show()"
   ]
  },
  {
   "cell_type": "code",
   "execution_count": 410,
   "metadata": {},
   "outputs": [
    {
     "data": {
      "image/png": "[encoded data removed]",
      "text/plain": [
       "<Figure size 432x288 with 1 Axes>"
      ]
     },
     "metadata": {
      "needs_background": "light"
     },
     "output_type": "display_data"
    }
   ],
   "source": [
    "from matplotlib import cm\n",
    "fig, ax = plt.subplots()\n",
    "mfcc_data = test_data_speaker[200]\n",
    "cox = ax.imshow(mfcc_data, interpolation = 'nearest', cmap = cm.coolwarm, origin = 'lower')\n",
    "plt.show()"
   ]
  },
  {
   "cell_type": "code",
   "execution_count": 411,
   "metadata": {},
   "outputs": [
    {
     "name": "stdout",
     "output_type": "stream",
     "text": [
      "<class 'numpy.ndarray'>\n"
     ]
    }
   ],
   "source": [
    "#df_data.drop(['isSpeaking'],axis = 1)\n",
    "X_train, X_val, y_train, y_val = train_test_split(data_speaker, labels, test_size = 0.2, random_state = 23)\n",
    "X_train, X_test, y_train, y_test = train_test_split(X_train, y_train, test_size = 0.2, random_state = 23)\n",
    "#X_test = test_data_speaker\n",
    "#y_test = test_labels\n",
    "print(type(X_train))\n",
    "#print(X_train)"
   ]
  },
  {
   "cell_type": "code",
   "execution_count": 412,
   "metadata": {},
   "outputs": [],
   "source": [
    "# false_data_dir = 'dialogue/Dataset/VoiceDetection/mfcc/only_false_speakers.npy'\n",
    "# false_labels_dir = 'dialogue/Dataset/VoiceDetection/mfcc/only_false_labels.npy'\n",
    "\n",
    "# X_train = np.concatenate((X_train, np.load(false_data_dir, allow_pickle= True)))\n",
    "# y_train = np.concatenate((y_train, np.load(false_labels_dir, allow_pickle= True)))\n",
    "\n",
    "# X_train, X_temp, y_train, y_temp = train_test_split(X_train, y_train, test_size = 0.2, random_state = 23)\n",
    "# X_train = np.concatenate((X_train, X_temp))\n",
    "# y_train = np.concatenate((y_train, y_temp))"
   ]
  },
  {
   "cell_type": "code",
   "execution_count": 413,
   "metadata": {},
   "outputs": [
    {
     "name": "stdout",
     "output_type": "stream",
     "text": [
      "torch.Size([38410, 40, 44]) torch.Size([38410])\n"
     ]
    }
   ],
   "source": [
    "#print(pd.DataFrame(X_train))\n",
    "X_train = torch.from_numpy(X_train).float()\n",
    "#X_train = X_train.unsqueeze_(-1)\n",
    "y_train = torch.from_numpy(y_train).float()\n",
    "X_val = torch.from_numpy(X_val).float()\n",
    "#X_val = X_val.unsqueeze_(-1)\n",
    "y_val = torch.from_numpy(y_val).float()\n",
    "X_test = torch.from_numpy(X_test).float()\n",
    "#X_test = X_test.unsqueeze_(-1)\n",
    "y_test = torch.from_numpy(y_test).float()\n",
    "\n",
    "print(X_train.shape, y_train.shape)\n",
    "#print(test_X.shape)\n",
    "#print(X_train)"
   ]
  },
  {
   "cell_type": "code",
   "execution_count": 414,
   "metadata": {},
   "outputs": [],
   "source": [
    "class model(nn.Module):\n",
    "    def __init__(self,n_features,kernel_size):\n",
    "        super(model, self).__init__()\n",
    "        self.conv1 = nn.Conv1d(n_features, 40, kernel_size=7, stride = 1, padding= 3, padding_mode= 'zeros') \n",
    "        self.conv2 = nn.Conv1d(40, 60, kernel_size=5, stride = 1, padding = 2, padding_mode= 'zeros') \n",
    "        self.conv3 = nn.Conv1d(60, 70, kernel_size=3, stride = 1, padding = 1, padding_mode= 'zeros')\n",
    "        self.conv4 = nn.Conv1d(70, 80, kernel_size=3, stride = 1, padding = 1, padding_mode= 'zeros')\n",
    "\n",
    "        \n",
    "        self.fc1 = nn.Linear(160, 100) \n",
    "        self.fc2 = nn.Linear(100, 50)\n",
    "        self.fc3 = nn.Linear(50,1) \n",
    "    \n",
    "    def forward(self, x):\n",
    "        x = F.relu(F.max_pool1d(self.conv1(x), 2))\n",
    "        x = F.relu(F.max_pool1d(self.conv2(x), 2))\n",
    "        x = F.relu(F.max_pool1d(self.conv3(x), 2))\n",
    "        x = F.relu(F.max_pool1d(self.conv4(x), 2))\n",
    "        x = x.reshape(len(x), -1)\n",
    "        \n",
    "        x = self.fc1(x)\n",
    "        x = F.relu(x)\n",
    "        x = self.fc2(x)\n",
    "        x = F.relu(x)\n",
    "        x = self.fc3(x)\n",
    "        return torch.sigmoid(x)\n",
    "    \n",
    "    def post_forward(self, y): \n",
    "        return torch.round(y)\n",
    "    \n",
    "CNN = model(X_train.shape[1],kernel_size = 7)"
   ]
  },
  {
   "cell_type": "code",
   "execution_count": 415,
   "metadata": {},
   "outputs": [],
   "source": [
    "weight = torch.FloatTensor([1])\n",
    "criterion = nn.BCELoss()\n",
    "optimizer = optim.Adam(CNN.parameters(), lr=0.00003)"
   ]
  },
  {
   "cell_type": "code",
   "execution_count": 416,
   "metadata": {},
   "outputs": [],
   "source": [
    "train_ds = TensorDataset(X_train, y_train)\n",
    "val_ds = TensorDataset(X_val, y_val)"
   ]
  },
  {
   "cell_type": "code",
   "execution_count": 417,
   "metadata": {},
   "outputs": [],
   "source": [
    "batch_size = 32\n",
    "train_dl = DataLoader(train_ds, batch_size=batch_size, num_workers = 4, pin_memory = True)\n",
    "#val_dl = DataLoader(val_ds, batch_size= 32)"
   ]
  },
  {
   "cell_type": "code",
   "execution_count": 418,
   "metadata": {},
   "outputs": [],
   "source": [
    "device = torch.device(\"cuda\" if torch.cuda.is_available() else \"cpu\")\n",
    "#X_train = X_train.to(device)\n",
    "#y_train = y_train.to(device)\n",
    "X_val = X_val.to(device)\n",
    "y_val = y_val.to(device)\n",
    "X_test = X_test.to(device)\n",
    "y_test = y_test.to(device)\n",
    "CNN = CNN.to(device)\n",
    "criterion = criterion.to(device)"
   ]
  },
  {
   "cell_type": "code",
   "execution_count": 419,
   "metadata": {},
   "outputs": [],
   "source": [
    "def calculate_accuracy(y_true, y_pred):\n",
    "    return (y_true == y_pred).sum().float() / len(y_true)"
   ]
  },
  {
   "cell_type": "code",
   "execution_count": 420,
   "metadata": {},
   "outputs": [
    {
     "name": "stdout",
     "output_type": "stream",
     "text": [
      "epoch 0\n",
      "Train set - loss: 0.59, accuracy: 0.748\n",
      "val  set - loss: 0.419, accuracy: 0.815\n",
      "\n",
      "epoch 1\n",
      "Train set - loss: 0.524, accuracy: 0.82\n",
      "val  set - loss: 0.377, accuracy: 0.837\n",
      "\n",
      "epoch 2\n",
      "Train set - loss: 0.46, accuracy: 0.842\n",
      "val  set - loss: 0.353, accuracy: 0.849\n",
      "\n",
      "epoch 3\n",
      "Train set - loss: 0.377, accuracy: 0.855\n",
      "val  set - loss: 0.337, accuracy: 0.859\n",
      "\n",
      "epoch 4\n",
      "Train set - loss: 0.31, accuracy: 0.864\n",
      "val  set - loss: 0.323, accuracy: 0.865\n",
      "\n",
      "epoch 5\n",
      "Train set - loss: 0.249, accuracy: 0.871\n",
      "val  set - loss: 0.314, accuracy: 0.87\n",
      "\n",
      "epoch 6\n",
      "Train set - loss: 0.216, accuracy: 0.876\n",
      "val  set - loss: 0.308, accuracy: 0.874\n",
      "\n",
      "epoch 7\n",
      "Train set - loss: 0.197, accuracy: 0.879\n",
      "val  set - loss: 0.302, accuracy: 0.876\n",
      "\n",
      "epoch 8\n",
      "Train set - loss: 0.177, accuracy: 0.881\n",
      "val  set - loss: 0.298, accuracy: 0.878\n",
      "\n",
      "epoch 9\n",
      "Train set - loss: 0.161, accuracy: 0.885\n",
      "val  set - loss: 0.296, accuracy: 0.88\n",
      "\n",
      "epoch 10\n",
      "Train set - loss: 0.145, accuracy: 0.888\n",
      "val  set - loss: 0.294, accuracy: 0.881\n",
      "\n",
      "epoch 11\n",
      "Train set - loss: 0.134, accuracy: 0.891\n",
      "val  set - loss: 0.293, accuracy: 0.882\n",
      "\n",
      "epoch 12\n",
      "Train set - loss: 0.12, accuracy: 0.893\n",
      "val  set - loss: 0.291, accuracy: 0.883\n",
      "\n",
      "epoch 13\n",
      "Train set - loss: 0.115, accuracy: 0.896\n",
      "val  set - loss: 0.289, accuracy: 0.883\n",
      "\n",
      "epoch 14\n",
      "Train set - loss: 0.108, accuracy: 0.898\n",
      "val  set - loss: 0.288, accuracy: 0.883\n",
      "\n",
      "epoch 15\n",
      "Train set - loss: 0.102, accuracy: 0.9\n",
      "val  set - loss: 0.287, accuracy: 0.884\n",
      "\n",
      "epoch 16\n",
      "Train set - loss: 0.094, accuracy: 0.901\n",
      "val  set - loss: 0.286, accuracy: 0.884\n",
      "\n",
      "epoch 17\n",
      "Train set - loss: 0.086, accuracy: 0.904\n",
      "val  set - loss: 0.286, accuracy: 0.884\n",
      "\n",
      "epoch 18\n",
      "Train set - loss: 0.079, accuracy: 0.905\n",
      "val  set - loss: 0.286, accuracy: 0.885\n",
      "\n",
      "epoch 19\n",
      "Train set - loss: 0.076, accuracy: 0.907\n",
      "val  set - loss: 0.286, accuracy: 0.886\n",
      "\n",
      "epoch 20\n",
      "Train set - loss: 0.071, accuracy: 0.909\n",
      "val  set - loss: 0.286, accuracy: 0.886\n",
      "\n",
      "epoch 21\n",
      "Train set - loss: 0.069, accuracy: 0.911\n",
      "val  set - loss: 0.287, accuracy: 0.888\n",
      "\n",
      "epoch 22\n",
      "Train set - loss: 0.067, accuracy: 0.913\n",
      "val  set - loss: 0.288, accuracy: 0.888\n",
      "\n",
      "epoch 23\n",
      "Train set - loss: 0.064, accuracy: 0.915\n",
      "val  set - loss: 0.289, accuracy: 0.887\n",
      "\n",
      "epoch 24\n",
      "Train set - loss: 0.06, accuracy: 0.916\n",
      "val  set - loss: 0.29, accuracy: 0.887\n",
      "\n",
      "epoch 25\n",
      "Train set - loss: 0.054, accuracy: 0.918\n",
      "val  set - loss: 0.292, accuracy: 0.887\n",
      "\n",
      "epoch 26\n",
      "Train set - loss: 0.05, accuracy: 0.92\n",
      "val  set - loss: 0.293, accuracy: 0.886\n",
      "\n",
      "epoch 27\n",
      "Train set - loss: 0.052, accuracy: 0.922\n",
      "val  set - loss: 0.294, accuracy: 0.886\n",
      "\n",
      "epoch 28\n",
      "Train set - loss: 0.047, accuracy: 0.924\n",
      "val  set - loss: 0.296, accuracy: 0.886\n",
      "\n",
      "epoch 29\n",
      "Train set - loss: 0.045, accuracy: 0.925\n",
      "val  set - loss: 0.3, accuracy: 0.887\n",
      "\n",
      "epoch 30\n",
      "Train set - loss: 0.04, accuracy: 0.926\n",
      "val  set - loss: 0.302, accuracy: 0.887\n",
      "\n",
      "epoch 31\n",
      "Train set - loss: 0.039, accuracy: 0.929\n",
      "val  set - loss: 0.306, accuracy: 0.886\n",
      "\n",
      "epoch 32\n",
      "Train set - loss: 0.035, accuracy: 0.93\n",
      "val  set - loss: 0.312, accuracy: 0.886\n",
      "\n",
      "epoch 33\n",
      "Train set - loss: 0.032, accuracy: 0.932\n",
      "val  set - loss: 0.316, accuracy: 0.885\n",
      "\n",
      "epoch 34\n",
      "Train set - loss: 0.031, accuracy: 0.933\n",
      "val  set - loss: 0.319, accuracy: 0.885\n",
      "\n",
      "epoch 35\n",
      "Train set - loss: 0.029, accuracy: 0.935\n",
      "val  set - loss: 0.321, accuracy: 0.885\n",
      "\n",
      "epoch 36\n",
      "Train set - loss: 0.026, accuracy: 0.937\n",
      "val  set - loss: 0.325, accuracy: 0.884\n",
      "\n",
      "epoch 37\n",
      "Train set - loss: 0.024, accuracy: 0.938\n",
      "val  set - loss: 0.33, accuracy: 0.884\n",
      "\n",
      "epoch 38\n",
      "Train set - loss: 0.024, accuracy: 0.94\n",
      "val  set - loss: 0.335, accuracy: 0.883\n",
      "\n",
      "epoch 39\n",
      "Train set - loss: 0.023, accuracy: 0.942\n",
      "val  set - loss: 0.339, accuracy: 0.882\n",
      "\n"
     ]
    }
   ],
   "source": [
    "def round_tensor(t, decimal_places=3):\n",
    "    return round(t.item(), decimal_places)\n",
    "\n",
    "Results_acc = pd.DataFrame(columns = ['Epoch', 'Acc_train', 'Acc_val'])\n",
    "Results_loss = pd.DataFrame(columns = ['Epoch', 'Loss_train', 'Loss_val'])\n",
    "Results_recall = pd.DataFrame(columns = ['Epoch', 'Recall_val'])\n",
    "Results_prec = pd.DataFrame(columns = ['Epoch', 'Prec_val'])\n",
    "\n",
    "for epoch in range(40):\n",
    "    \n",
    "    y_acc = torch.empty((batch_size),dtype= torch.int32, device = 'cuda')\n",
    "    y_pred_acc = torch.empty((batch_size), device = 'cuda')\n",
    "    \n",
    "    for x, y in train_dl:\n",
    "\n",
    "        x, y = x.to(device), y.to(device)\n",
    "\n",
    "        optimizer.zero_grad()\n",
    "        y_pred = CNN(x)\n",
    "        y_pred = y_pred.squeeze()\n",
    "        train_loss = criterion(y_pred, y)\n",
    "        train_loss.backward()\n",
    "        optimizer.step()\n",
    "        \n",
    "        y_acc = torch.concat([y, y_acc], axis = 0)\n",
    "        y_pred_acc = torch.concat([y_pred, y_pred_acc], axis = 0)\n",
    "        \n",
    "    if epoch % 1 == 0:\n",
    "\n",
    "        train_acc = calculate_accuracy(y_acc, CNN.post_forward(y_pred_acc))\n",
    "        train_loss = criterion(y_pred,y)\n",
    "    \n",
    "        y_val_pred = CNN(X_val)\n",
    "        y_val_pred = torch.squeeze(y_val_pred)\n",
    "        val_loss = criterion(y_val_pred, y_val)\n",
    "        val_acc = calculate_accuracy(y_val, CNN.post_forward(y_val_pred))\n",
    "        \n",
    "        Confusion = confusion_matrix(y_val.cpu(),y_val_pred.ge(.5).view(-1).cpu())\n",
    "    \n",
    "        val_recall_voice = Confusion[1][1]/(Confusion[1][1] + Confusion[1][0])\n",
    "        val_prec_voice = Confusion[1][1]/(Confusion[0][1] + Confusion[1][1])\n",
    "\n",
    "        val_recall_Novoice = Confusion[0][0]/(Confusion[0][0] + Confusion[0][1])\n",
    "        val_prec_Novoice = Confusion[0][0]/(Confusion[1][0] + Confusion[0][0])\n",
    "\n",
    "        Acc = {'Epoch': epoch, 'Acc_train': round_tensor(train_acc), 'Acc_val': round_tensor(val_acc)}\n",
    "        Loss = {'Epoch': epoch, 'Loss_train': round_tensor(train_loss), 'Loss_val': round_tensor(val_loss)}\n",
    "        Recall = {'Epoch': epoch, 'Recall_val_voice': round_tensor(val_recall_voice), \"Recall_val_Novoice\": round_tensor(val_recall_Novoice)}\n",
    "        Prec = {'Epoch': epoch,'Prec_val_voice': round_tensor(val_prec_voice), 'Prec_val_Novoice': round_tensor(val_prec_Novoice)}\n",
    "\n",
    "        print(\n",
    "f'''epoch {epoch}\n",
    "Train set - loss: {round_tensor(train_loss)}, accuracy: {round_tensor(train_acc)}\n",
    "val  set - loss: {round_tensor(val_loss)}, accuracy: {round_tensor(val_acc)}\n",
    "''')\n",
    "        \n",
    "        Results_acc = Results_acc.append(Acc, ignore_index=True)\n",
    "        Results_loss = Results_loss.append(Loss, ignore_index=True)\n",
    "        Results_recall = Results_recall.append(Recall, ignore_index=True)\n",
    "        Results_prec = Results_prec.append(Prec, ignore_index=True)"
   ]
  },
  {
   "cell_type": "code",
   "execution_count": 421,
   "metadata": {},
   "outputs": [
    {
     "data": {
      "image/png": "[encoded data removed]",
      "text/plain": [
       "<Figure size 432x288 with 1 Axes>"
      ]
     },
     "metadata": {
      "needs_background": "light"
     },
     "output_type": "display_data"
    },
    {
     "data": {
      "image/png": "[encoded data removed]",
      "text/plain": [
       "<Figure size 432x288 with 1 Axes>"
      ]
     },
     "metadata": {
      "needs_background": "light"
     },
     "output_type": "display_data"
    }
   ],
   "source": [
    "plt.plot(Results_acc.Epoch,Results_acc.Acc_train,'r',Results_acc.Epoch,Results_acc.Acc_val,'b')\n",
    "plt.legend(['Train','Val'])\n",
    "plt.title('Accuracy of CNN')\n",
    "plt.ylabel('Accuracy')\n",
    "plt.xlabel('Epochs')\n",
    "plt.show()\n",
    "\n",
    "plt.plot(Results_loss.Epoch,Results_loss.Loss_train,'r',Results_loss.Epoch,Results_loss.Loss_val,'b')\n",
    "plt.legend(['Train','Val'])\n",
    "plt.title('Loss')\n",
    "plt.ylabel('Loss')\n",
    "plt.xlabel('Epochs')\n",
    "plt.show()"
   ]
  },
  {
   "cell_type": "code",
   "execution_count": 422,
   "metadata": {},
   "outputs": [
    {
     "data": {
      "image/png": "[encoded data removed]",
      "text/plain": [
       "<Figure size 432x288 with 1 Axes>"
      ]
     },
     "metadata": {
      "needs_background": "light"
     },
     "output_type": "display_data"
    },
    {
     "data": {
      "image/png": "[encoded data removed]",
      "text/plain": [
       "<Figure size 432x288 with 1 Axes>"
      ]
     },
     "metadata": {
      "needs_background": "light"
     },
     "output_type": "display_data"
    }
   ],
   "source": [
    "plt.plot(Results_recall.Epoch , Results_recall.Recall_val_voice,'b', Results_recall.Recall_val_Novoice,'r')\n",
    "plt.legend(['Voice', 'No Voice'])\n",
    "plt.title('Recall')\n",
    "plt.ylabel('Recall')\n",
    "plt.xlabel('Epochs')\n",
    "plt.show()\n",
    "\n",
    "plt.plot(Results_prec.Epoch,Results_prec.Prec_val_voice,'b', Results_prec.Prec_val_Novoice,'r')\n",
    "plt.legend(['Voice', 'No voice'])\n",
    "plt.title('Precision')\n",
    "plt.ylabel('Precision')\n",
    "plt.xlabel('Epochs')\n",
    "plt.show()"
   ]
  },
  {
   "cell_type": "code",
   "execution_count": 423,
   "metadata": {},
   "outputs": [
    {
     "name": "stdout",
     "output_type": "stream",
     "text": [
      "              precision    recall  f1-score   support\n",
      "\n",
      "    No Voice       0.85      0.94      0.89      5988\n",
      "       Voice       0.93      0.83      0.88      6016\n",
      "\n",
      "    accuracy                           0.88     12004\n",
      "   macro avg       0.89      0.88      0.88     12004\n",
      "weighted avg       0.89      0.88      0.88     12004\n",
      "\n"
     ]
    }
   ],
   "source": [
    "classes = ['No Voice', 'Voice']\n",
    "y_pred = CNN(X_val)\n",
    "y_pred = y_pred.ge(.5).view(-1).cpu()\n",
    "y_val = y_val.cpu()\n",
    "print(classification_report(y_val, y_pred, target_names=classes))"
   ]
  },
  {
   "cell_type": "code",
   "execution_count": 424,
   "metadata": {},
   "outputs": [
    {
     "data": {
      "image/png": "[encoded data removed]",
      "text/plain": [
       "<Figure size 432x288 with 2 Axes>"
      ]
     },
     "metadata": {
      "needs_background": "light"
     },
     "output_type": "display_data"
    }
   ],
   "source": [
    "cm = confusion_matrix(y_val, y_pred)\n",
    "df_cm = pd.DataFrame(cm, index=classes, columns=classes)\n",
    "hmap = sns.heatmap(df_cm, annot=True, fmt=\"d\", cmap= 'crest')\n",
    "#hmap.color_palette(\"viridis\", as_cmap=True)\n",
    "hmap.yaxis.set_ticklabels(hmap.yaxis.get_ticklabels(), rotation=0, ha='right')\n",
    "hmap.xaxis.set_ticklabels(hmap.xaxis.get_ticklabels(), rotation=30, ha='right')\n",
    "plt.ylabel('True label')\n",
    "plt.xlabel('Predicted label');"
   ]
  },
  {
   "cell_type": "code",
   "execution_count": 425,
   "metadata": {},
   "outputs": [
    {
     "name": "stdout",
     "output_type": "stream",
     "text": [
      "              precision    recall  f1-score   support\n",
      "\n",
      "    No Voice       0.85      0.94      0.89      4762\n",
      "       Voice       0.94      0.84      0.88      4841\n",
      "\n",
      "    accuracy                           0.89      9603\n",
      "   macro avg       0.89      0.89      0.89      9603\n",
      "weighted avg       0.89      0.89      0.89      9603\n",
      "\n"
     ]
    }
   ],
   "source": [
    "y_pred = CNN(X_test)\n",
    "y_pred = y_pred.ge(.5).view(-1).cpu()\n",
    "y_test = y_test.cpu()\n",
    "print(classification_report(y_test, y_pred, target_names=classes))"
   ]
  },
  {
   "cell_type": "code",
   "execution_count": 426,
   "metadata": {},
   "outputs": [
    {
     "data": {
      "image/png": "[encoded data removed]",
      "text/plain": [
       "<Figure size 432x288 with 2 Axes>"
      ]
     },
     "metadata": {
      "needs_background": "light"
     },
     "output_type": "display_data"
    }
   ],
   "source": [
    "cm = confusion_matrix(y_test, y_pred)\n",
    "df_cm = pd.DataFrame(cm, index=classes, columns=classes)\n",
    "hmap = sns.heatmap(df_cm, annot=True, fmt=\"d\", cmap= 'crest')\n",
    "hmap.yaxis.set_ticklabels(hmap.yaxis.get_ticklabels(), rotation=0, ha='right')\n",
    "hmap.xaxis.set_ticklabels(hmap.xaxis.get_ticklabels(), rotation=30, ha='right')\n",
    "plt.ylabel('True label')\n",
    "plt.xlabel('Predicted label');"
   ]
  },
  {
   "cell_type": "code",
   "execution_count": 427,
   "metadata": {},
   "outputs": [
    {
     "name": "stderr",
     "output_type": "stream",
     "text": [
      "UsageError: Line magic function `%%javascript` not found.\n"
     ]
    }
   ],
   "source": [
    "#Shutting down the notebook\n",
    "\n",
    "%%javascript\n",
    "Jupyter.notebook.session.delete();"
   ]
  },
  {
   "cell_type": "code",
   "execution_count": 428,
   "metadata": {},
   "outputs": [
    {
     "name": "stdout",
     "output_type": "stream",
     "text": [
      "Model's state_dict:\n",
      "conv1.weight \t torch.Size([40, 40, 7])\n",
      "conv1.bias \t torch.Size([40])\n",
      "conv2.weight \t torch.Size([60, 40, 5])\n",
      "conv2.bias \t torch.Size([60])\n",
      "conv3.weight \t torch.Size([70, 60, 3])\n",
      "conv3.bias \t torch.Size([70])\n",
      "conv4.weight \t torch.Size([80, 70, 3])\n",
      "conv4.bias \t torch.Size([80])\n",
      "fc1.weight \t torch.Size([100, 160])\n",
      "fc1.bias \t torch.Size([100])\n",
      "fc2.weight \t torch.Size([50, 100])\n",
      "fc2.bias \t torch.Size([50])\n",
      "fc3.weight \t torch.Size([1, 50])\n",
      "fc3.bias \t torch.Size([1])\n"
     ]
    }
   ],
   "source": [
    "print(\"Model's state_dict:\")\n",
    "for param_tensor in CNN.state_dict():\n",
    "    print(param_tensor, \"\\t\", CNN.state_dict()[param_tensor].size())\n",
    "    \n",
    "torch.save(CNN.state_dict(), \"./dialogue/Model/voice_detection_model\")"
   ]
  }
 ],
 "metadata": {
  "kernelspec": {
   "display_name": "Python 3 (ipykernel)",
   "language": "python",
   "name": "python3"
  },
  "language_info": {
   "codemirror_mode": {
    "name": "ipython",
    "version": 3
   },
   "file_extension": ".py",
   "mimetype": "text/x-python",
   "name": "python",
   "nbconvert_exporter": "python",
   "pygments_lexer": "ipython3",
   "version": "3.9.7"
  },
  "orig_nbformat": 4
 },
 "nbformat": 4,
 "nbformat_minor": 2
}
