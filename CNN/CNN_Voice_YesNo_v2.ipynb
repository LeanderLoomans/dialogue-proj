{
 "cells": [
  {
   "cell_type": "code",
   "execution_count": 241,
   "metadata": {},
   "outputs": [],
   "source": [
    "#Importing all needed librarys\n",
    "import torch\n",
    "from torch.utils.data import DataLoader\n",
    "from torchvision import datasets, transforms\n",
    "from torchvision.transforms import ToTensor, Lambda, Compose\n",
    "import matplotlib.pyplot as plt\n",
    "from sklearn.metrics import accuracy_score\n",
    "from pipetorch.train import *\n",
    "from torch.autograd import Variable\n",
    "from torch.nn import Linear, ReLU, CrossEntropyLoss, Sequential, Conv2d, MaxPool2d, Module, Softmax, BatchNorm2d, Dropout\n",
    "from torch.optim import Adam, SGD\n",
    "from tqdm import tqdm\n",
    "from torch import nn, optim\n",
    "import seaborn as sns\n",
    "\n",
    "# importing the libraries\n",
    "import pandas as pd\n",
    "import numpy as np\n",
    "\n",
    "# for creating validation set\n",
    "from sklearn.model_selection import train_test_split\n",
    "\n",
    "\n",
    "import torchvision\n",
    "from torchvision.datasets import ImageFolder"
   ]
  },
  {
   "cell_type": "code",
   "execution_count": 242,
   "metadata": {},
   "outputs": [
    {
     "name": "stdout",
     "output_type": "stream",
     "text": [
      "Thu Nov 18 11:34:28 2021       \n",
      "+-----------------------------------------------------------------------------+\n",
      "| NVIDIA-SMI 470.63.01    Driver Version: 470.63.01    CUDA Version: 11.4     |\n",
      "|-------------------------------+----------------------+----------------------+\n",
      "| GPU  Name        Persistence-M| Bus-Id        Disp.A | Volatile Uncorr. ECC |\n",
      "| Fan  Temp  Perf  Pwr:Usage/Cap|         Memory-Usage | GPU-Util  Compute M. |\n",
      "|                               |                      |               MIG M. |\n",
      "|===============================+======================+======================|\n",
      "|   0  NVIDIA GeForce ...  Off  | 00000000:05:00.0 Off |                  N/A |\n",
      "| 29%   29C    P8    18W / 250W |   6801MiB / 11019MiB |      0%      Default |\n",
      "|                               |                      |                  N/A |\n",
      "+-------------------------------+----------------------+----------------------+\n",
      "|   1  NVIDIA GeForce ...  Off  | 00000000:09:00.0 Off |                  N/A |\n",
      "| 29%   28C    P8    21W / 250W |   9757MiB / 11019MiB |      0%      Default |\n",
      "|                               |                      |                  N/A |\n",
      "+-------------------------------+----------------------+----------------------+\n",
      "|   2  NVIDIA GeForce ...  Off  | 00000000:0A:00.0 Off |                  N/A |\n",
      "| 30%   31C    P8     3W / 250W |   2503MiB / 11019MiB |      0%      Default |\n",
      "|                               |                      |                  N/A |\n",
      "+-------------------------------+----------------------+----------------------+\n",
      "|   3  NVIDIA GeForce ...  Off  | 00000000:85:00.0 Off |                  N/A |\n",
      "| 29%   26C    P8     1W / 250W |   8677MiB / 11019MiB |      0%      Default |\n",
      "|                               |                      |                  N/A |\n",
      "+-------------------------------+----------------------+----------------------+\n",
      "|   4  NVIDIA GeForce ...  Off  | 00000000:89:00.0 Off |                  N/A |\n",
      "| 29%   25C    P8     1W / 250W |   4685MiB / 11019MiB |      0%      Default |\n",
      "|                               |                      |                  N/A |\n",
      "+-------------------------------+----------------------+----------------------+\n",
      "                                                                               \n",
      "+-----------------------------------------------------------------------------+\n",
      "| Processes:                                                                  |\n",
      "|  GPU   GI   CI        PID   Type   Process name                  GPU Memory |\n",
      "|        ID   ID                                                   Usage      |\n",
      "|=============================================================================|\n",
      "|    0   N/A  N/A       901      C   ...erhub/anaconda/bin/python     3735MiB |\n",
      "|    0   N/A  N/A      6012      C   ...erhub/anaconda/bin/python     1013MiB |\n",
      "|    0   N/A  N/A      9258      C   ...erhub/anaconda/bin/python     1107MiB |\n",
      "|    0   N/A  N/A     43764      C   ...erhub/anaconda/bin/python      943MiB |\n",
      "|    1   N/A  N/A      8743      C   ...erhub/anaconda/bin/python     3303MiB |\n",
      "|    1   N/A  N/A     35167      C   ...erhub/anaconda/bin/python     6451MiB |\n",
      "|    2   N/A  N/A      2604      C   ...erhub/anaconda/bin/python     1271MiB |\n",
      "|    2   N/A  N/A     17259      C   ...erhub/anaconda/bin/python     1229MiB |\n",
      "|    3   N/A  N/A     27593      C   ...erhub/anaconda/bin/python     4877MiB |\n",
      "|    3   N/A  N/A     28617      C   ...erhub/anaconda/bin/python     3797MiB |\n",
      "|    4   N/A  N/A     16914      C   ...erhub/anaconda/bin/python     1007MiB |\n",
      "|    4   N/A  N/A     27221      C   ...erhub/anaconda/bin/python     1363MiB |\n",
      "|    4   N/A  N/A     38459      C   ...erhub/anaconda/bin/python     1271MiB |\n",
      "|    4   N/A  N/A     42421      C   ...erhub/anaconda/bin/python     1041MiB |\n",
      "+-----------------------------------------------------------------------------+\n"
     ]
    }
   ],
   "source": [
    "#Checking wich GPU is beeing used\n",
    "\n",
    "!nvidia-smi"
   ]
  },
  {
   "cell_type": "code",
   "execution_count": 244,
   "metadata": {},
   "outputs": [
    {
     "name": "stdout",
     "output_type": "stream",
     "text": [
      "            0           1           2           3           4           5  \\\n",
      "0    9.434201   18.539894   48.598946   23.656319   68.375114   32.585888   \n",
      "1    0.988338   56.698444  196.634750  232.387924   96.131500  146.787842   \n",
      "2   81.516251   74.427246  219.707489  188.375854   51.688900  133.403122   \n",
      "3   51.164341   88.265450  112.086533   26.646029   34.842381   55.326729   \n",
      "4  627.108093  546.499390  261.254089  252.623535  181.304245   87.163826   \n",
      "\n",
      "            6           7           8           9  ...          5623  \\\n",
      "0   46.476070   36.406357   26.361317    7.968925  ...  5.381881e-07   \n",
      "1   69.585159   39.243427   49.696144  143.559296  ...  3.601597e-04   \n",
      "2  285.412262   55.923164   11.703285   32.941082  ...  2.799673e-04   \n",
      "3   54.793144   58.523682   30.524288   49.757534  ...  6.220056e-07   \n",
      "4   49.720688  104.022697  215.083267  165.247910  ...  7.153016e-07   \n",
      "\n",
      "           5624          5625          5626          5627          5628  \\\n",
      "0  5.609164e-07  6.777958e-07  1.198634e-06  1.262012e-06  7.274890e-07   \n",
      "1  2.573096e-04  7.591872e-06  3.006253e-06  6.933919e-06  1.863181e-06   \n",
      "2  3.080785e-04  1.314350e-04  1.800639e-04  7.172392e-04  1.079816e-03   \n",
      "3  7.071495e-07  5.762138e-07  7.284444e-07  6.958872e-07  7.049775e-07   \n",
      "4  5.777463e-07  6.656623e-07  9.198824e-07  1.045333e-06  9.293201e-07   \n",
      "\n",
      "           5629          5630          5631  isSpeaking  \n",
      "0  6.263387e-07  2.104326e-05  1.007356e-04       False  \n",
      "1  2.456418e-06  7.140520e-05  3.427624e-04       False  \n",
      "2  5.718023e-04  5.870283e-04  1.420999e-03       False  \n",
      "3  7.974346e-07  5.293877e-06  2.376618e-05       False  \n",
      "4  7.132971e-07  5.529551e-07  7.711354e-07       False  \n",
      "\n",
      "[5 rows x 5633 columns]\n"
     ]
    }
   ],
   "source": [
    "#Load data\n",
    "data_file = 'dialogue/Dataset/VoiceDetection/Output.npy'\n",
    "labels = pd.read_csv(\"dialogue/Dataset/VoiceDetection/boolean_labels.csv\")#path to csv\n",
    "labels.drop(labels.columns[[0]], axis=1, inplace=True)\n",
    "data = np.load(data_file)\n",
    "df_temp = pd.DataFrame()\n",
    "df_data = pd.DataFrame()\n",
    "#print(data)\n",
    "df_data = pd.DataFrame(data)\n",
    "#df_data['data'] = df_temp.values.tolist()\n",
    "df_data = pd.concat([df_data, labels], axis = 1)\n",
    "print(df_data.head())\n",
    "np_labels = df_data['isSpeaking'].to_numpy()\n",
    "np_data = data #df_data['data'].to_numpy()\n",
    "#print(df_data)"
   ]
  },
  {
   "cell_type": "code",
   "execution_count": 245,
   "metadata": {},
   "outputs": [
    {
     "name": "stdout",
     "output_type": "stream",
     "text": [
      "<class 'numpy.ndarray'>\n"
     ]
    }
   ],
   "source": [
    "#df_data.drop(['isSpeaking'],axis = 1)\n",
    "X_train, X_test, y_train, y_test = train_test_split(np_data, np_labels, test_size = 0.2, random_state = 23)\n",
    "X_train, X_val, y_train, y_val = train_test_split(X_train, y_train, test_size = 0.2, random_state = 23)\n",
    "print(type(X_train))\n",
    "#print(X_train)"
   ]
  },
  {
   "cell_type": "code",
   "execution_count": 246,
   "metadata": {},
   "outputs": [
    {
     "name": "stdout",
     "output_type": "stream",
     "text": [
      "torch.Size([1, 5632, 368]) tensor([[[2.5905e+00, 3.3451e-02, 1.2843e+00,  ..., 4.8129e-01,\n",
      "          1.8823e-01, 5.6769e+00],\n",
      "         [2.0253e+00, 8.6066e-03, 3.1669e-01,  ..., 1.1904e-01,\n",
      "          4.4484e-02, 1.4761e+01],\n",
      "         [3.0075e+00, 5.8655e-05, 1.2377e-04,  ..., 6.9191e-04,\n",
      "          2.0787e-04, 2.5637e+01],\n",
      "         ...,\n",
      "         [9.0038e-07, 7.9686e-07, 5.1636e-07,  ..., 4.7353e-07,\n",
      "          6.2417e-07, 7.6760e-07],\n",
      "         [7.1466e-07, 1.1766e-06, 4.6205e-06,  ..., 5.3224e-07,\n",
      "          8.3632e-07, 7.9656e-07],\n",
      "         [7.7488e-07, 3.8224e-06, 1.9909e-05,  ..., 6.1398e-07,\n",
      "          1.0392e-06, 1.3619e-06]]])\n",
      "torch.Size([1, 5632, 1472]) torch.Size([1472])\n",
      "tensor([[[9.8709e-03, 4.2443e-05, 1.1514e+01,  ..., 6.9825e-01,\n",
      "          2.6320e-04, 2.5681e-02],\n",
      "         [2.3518e-03, 3.9006e-04, 2.6320e+01,  ..., 8.1804e-01,\n",
      "          8.3015e-04, 7.2239e-03],\n",
      "         [3.6468e-04, 1.0947e-03, 1.4285e+01,  ..., 4.7006e-01,\n",
      "          8.1065e-04, 1.4304e-04],\n",
      "         ...,\n",
      "         [6.6865e-07, 5.2720e-07, 7.3634e-07,  ..., 5.5271e-07,\n",
      "          5.6171e-07, 5.9702e-07],\n",
      "         [1.2576e-06, 6.7048e-07, 7.7733e-07,  ..., 6.2456e-07,\n",
      "          8.8462e-07, 6.5680e-07],\n",
      "         [3.2449e-06, 1.0446e-06, 8.1538e-07,  ..., 5.6673e-07,\n",
      "          2.3533e-06, 1.0483e-06]]])\n"
     ]
    }
   ],
   "source": [
    "#print(pd.DataFrame(X_train))\n",
    "X_train = torch.from_numpy(X_train).float()\n",
    "X_train = X_train.unsqueeze_(-1)\n",
    "X_train = X_train.transpose(2, 0)\n",
    "y_train = torch.from_numpy(y_train).float()\n",
    "X_test = torch.from_numpy(X_test).float()\n",
    "X_test = X_test.unsqueeze_(-1)\n",
    "X_test = X_test.transpose(2, 0)        #torch.tensor(X_test.values)\n",
    "y_test = torch.from_numpy(y_test).float()\n",
    "X_val = torch.from_numpy(X_val).float()\n",
    "X_val = X_val.unsqueeze_(-1)\n",
    "X_val = X_val.transpose(2, 0)\n",
    "y_val = torch.from_numpy(y_val).float()\n",
    "print(X_val.shape, X_val)\n",
    "print(X_train.shape, y_train.shape)\n",
    "#print(test_X.shape)\n",
    "print(X_train)\n"
   ]
  },
  {
   "cell_type": "code",
   "execution_count": 247,
   "metadata": {},
   "outputs": [],
   "source": [
    "class model(nn.Module):\n",
    "    def __init__(self,n_features,kernel_size):\n",
    "        super(model, self).__init__()\n",
    "        self.conv1 = nn.Conv1d(n_features, 18, kernel_size=1, stride = 1) #3 input channels, 18 output channels\n",
    "        self.conv2 = nn.Conv1d(18, 36, kernel_size=1, stride = 1) #18 input channels from previous Conv. layer, 36 out\n",
    "        self.conv2_drop = nn.Dropout2d() #dropout\n",
    "        \n",
    "        self.fc1 = nn.Linear(36, 54) #Fully-connected classifier layer\n",
    "        self.fc2 = nn.Linear(54, 19) #Fully-connected classifier layer\n",
    "        self.fc3 = nn.Linear(19,1) #Fully-connected classifier layer\n",
    "    \n",
    "    def forward(self, x):\n",
    "        x = F.relu(F.max_pool1d(self.conv1(x), 1))\n",
    "        x = F.relu(F.max_pool1d(self.conv2_drop(self.conv2(x)), 1))\n",
    "        \n",
    "        #point A\n",
    "        x = x.transpose(1, 2)\n",
    "        #x = x.view(x.size(0), -1)\n",
    "        \n",
    "        #point B\n",
    "        x = self.fc1(x)\n",
    "        x = F.relu(x)\n",
    "        x = F.dropout(x, training=self.training)\n",
    "        x = self.fc2(x)\n",
    "        return torch.sigmoid(self.fc3(x))\n",
    "    \n",
    "    def post_forward(self, y): \n",
    "        return torch.round(y)\n",
    "    \n",
    "CNN = model(X_train.shape[1],kernel_size = 10)"
   ]
  },
  {
   "cell_type": "code",
   "execution_count": 248,
   "metadata": {},
   "outputs": [],
   "source": [
    "criterion = nn.BCELoss()\n",
    "optimizer = optim.Adam(CNN.parameters(), lr=0.001)"
   ]
  },
  {
   "cell_type": "code",
   "execution_count": 249,
   "metadata": {},
   "outputs": [],
   "source": [
    "device = torch.device(\"cuda\" if torch.cuda.is_available() else \"cpu\")\n",
    "X_train = X_train.to(device)\n",
    "y_train = y_train.to(device)\n",
    "X_test = X_test.to(device)\n",
    "y_test = y_test.to(device)\n",
    "X_val = X_val.to(device)\n",
    "y_val = y_val.to(device)\n",
    "CNN = CNN.to(device)\n",
    "criterion = criterion.to(device)"
   ]
  },
  {
   "cell_type": "code",
   "execution_count": 250,
   "metadata": {},
   "outputs": [],
   "source": [
    "def calculate_accuracy(y_true, y_pred):\n",
    "    return (y_true == y_pred).sum().float() / len(y_true)"
   ]
  },
  {
   "cell_type": "code",
   "execution_count": 251,
   "metadata": {},
   "outputs": [
    {
     "name": "stdout",
     "output_type": "stream",
     "text": [
      "epoch 0\n",
      "Train set - loss: 0.724, accuracy: 0.522\n",
      "Test  set - loss: 0.82, accuracy: 0.522\n",
      "\n",
      "epoch 50\n",
      "Train set - loss: 0.432, accuracy: 0.836\n",
      "Test  set - loss: 0.836, accuracy: 0.75\n",
      "\n",
      "epoch 100\n",
      "Train set - loss: 0.279, accuracy: 0.905\n",
      "Test  set - loss: 2.508, accuracy: 0.811\n",
      "\n",
      "epoch 150\n",
      "Train set - loss: 0.279, accuracy: 0.927\n",
      "Test  set - loss: 4.246, accuracy: 0.83\n",
      "\n",
      "epoch 200\n",
      "Train set - loss: 0.069, accuracy: 0.974\n",
      "Test  set - loss: 4.571, accuracy: 0.843\n",
      "\n"
     ]
    }
   ],
   "source": [
    "def round_tensor(t, decimal_places=3):\n",
    "    return round(t.item(), decimal_places)\n",
    "\n",
    "Results = pd.DataFrame(columns = ['Epoch', 'Acc_train', 'Acc_test'])\n",
    "    \n",
    "for epoch in range(250):\n",
    "        y_pred = CNN(X_train)\n",
    "        y_pred = torch.squeeze(y_pred)\n",
    "        train_loss = criterion(y_pred, y_train)\n",
    "    \n",
    "        if epoch % 50 == 0:\n",
    "        \n",
    "            train_acc = calculate_accuracy(y_train, CNN.post_forward(y_pred))\n",
    "        \n",
    "            y_test_pred = CNN(X_test)\n",
    "        \n",
    "            y_test_pred = torch.squeeze(y_test_pred)\n",
    "        \n",
    "            test_loss = criterion(y_test_pred, y_test)\n",
    "        \n",
    "            test_acc = calculate_accuracy(y_test, CNN.post_forward(y_test_pred))\n",
    "        \n",
    "            result = {'Epoch': epoch, 'Acc_train': round_tensor(train_acc), 'Acc_test': round_tensor(test_acc)}\n",
    "\n",
    "            Results = Results.append(result, ignore_index=True)\n",
    "\n",
    "            print(\n",
    "f'''epoch {epoch}\n",
    "Train set - loss: {round_tensor(train_loss)}, accuracy: {round_tensor(train_acc)}\n",
    "Test  set - loss: {round_tensor(test_loss)}, accuracy: {round_tensor(test_acc)}\n",
    "''')\n",
    "        optimizer.zero_grad()\n",
    "    \n",
    "        train_loss.backward()\n",
    "    \n",
    "        optimizer.step()\n"
   ]
  },
  {
   "cell_type": "code",
   "execution_count": 252,
   "metadata": {},
   "outputs": [
    {
     "data": {
      "image/png": "[encoded data removed]",
      "text/plain": [
       "<Figure size 432x288 with 1 Axes>"
      ]
     },
     "metadata": {
      "needs_background": "light"
     },
     "output_type": "display_data"
    }
   ],
   "source": [
    "plt.plot(Results.Epoch,Results.Acc_train,'r',Results.Epoch,Results.Acc_test,'b')\n",
    "plt.legend(['Train','Test'])\n",
    "plt.show()"
   ]
  },
  {
   "cell_type": "code",
   "execution_count": 253,
   "metadata": {},
   "outputs": [
    {
     "name": "stdout",
     "output_type": "stream",
     "text": [
      "              precision    recall  f1-score   support\n",
      "\n",
      "    No Voice       0.81      0.87      0.84       241\n",
      "       Voice       0.84      0.77      0.80       219\n",
      "\n",
      "    accuracy                           0.82       460\n",
      "   macro avg       0.82      0.82      0.82       460\n",
      "weighted avg       0.82      0.82      0.82       460\n",
      "\n"
     ]
    }
   ],
   "source": [
    "classes = ['No Voice', 'Voice']\n",
    "y_pred = CNN(X_test)\n",
    "y_pred = y_pred.ge(.5).view(-1).cpu()\n",
    "y_test = y_test.cpu()\n",
    "print(classification_report(y_test, y_pred, target_names=classes))"
   ]
  },
  {
   "cell_type": "code",
   "execution_count": 254,
   "metadata": {},
   "outputs": [
    {
     "data": {
      "image/png": "[encoded data removed]",
      "text/plain": [
       "<Figure size 432x288 with 2 Axes>"
      ]
     },
     "metadata": {
      "needs_background": "light"
     },
     "output_type": "display_data"
    }
   ],
   "source": [
    "cm = confusion_matrix(y_test, y_pred)\n",
    "df_cm = pd.DataFrame(cm, index=classes, columns=classes)\n",
    "hmap = sns.heatmap(df_cm, annot=True, fmt=\"d\")\n",
    "hmap.yaxis.set_ticklabels(hmap.yaxis.get_ticklabels(), rotation=0, ha='right')\n",
    "hmap.xaxis.set_ticklabels(hmap.xaxis.get_ticklabels(), rotation=30, ha='right')\n",
    "plt.ylabel('True label')\n",
    "plt.xlabel('Predicted label');"
   ]
  },
  {
   "cell_type": "code",
   "execution_count": 255,
   "metadata": {},
   "outputs": [
    {
     "name": "stdout",
     "output_type": "stream",
     "text": [
      "              precision    recall  f1-score   support\n",
      "\n",
      "    No Voice       0.88      0.82      0.85       211\n",
      "       Voice       0.78      0.85      0.82       157\n",
      "\n",
      "    accuracy                           0.84       368\n",
      "   macro avg       0.83      0.84      0.84       368\n",
      "weighted avg       0.84      0.84      0.84       368\n",
      "\n"
     ]
    }
   ],
   "source": [
    "y_pred = CNN(X_val)\n",
    "y_pred = y_pred.ge(.5).view(-1).cpu()\n",
    "y_val = y_val.cpu()\n",
    "print(classification_report(y_val, y_pred, target_names=classes))"
   ]
  },
  {
   "cell_type": "code",
   "execution_count": 256,
   "metadata": {},
   "outputs": [
    {
     "name": "stderr",
     "output_type": "stream",
     "text": [
      "UsageError: Line magic function `%%javascript` not found.\n"
     ]
    }
   ],
   "source": [
    "#Shutting down the notebook\n",
    "\n",
    "%%javascript\n",
    "Jupyter.notebook.session.delete();"
   ]
  }
 ],
 "metadata": {
  "kernelspec": {
   "display_name": "Python 3 (ipykernel)",
   "language": "python",
   "name": "python3"
  },
  "language_info": {
   "codemirror_mode": {
    "name": "ipython",
    "version": 3
   },
   "file_extension": ".py",
   "mimetype": "text/x-python",
   "name": "python",
   "nbconvert_exporter": "python",
   "pygments_lexer": "ipython3",
   "version": "3.9.7"
  },
  "orig_nbformat": 4
 },
 "nbformat": 4,
 "nbformat_minor": 2
}
