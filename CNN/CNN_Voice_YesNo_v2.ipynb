{
 "cells": [
  {
   "cell_type": "code",
   "execution_count": 72,
   "metadata": {},
   "outputs": [],
   "source": [
    "#Importing all needed librarys\n",
    "import torch\n",
    "from torch.utils.data import DataLoader\n",
    "from torchvision import datasets, transforms\n",
    "from torchvision.transforms import ToTensor, Lambda, Compose\n",
    "import matplotlib.pyplot as plt\n",
    "from sklearn.metrics import accuracy_score\n",
    "from pipetorch.train import *\n",
    "from torch.autograd import Variable\n",
    "from torch.nn import Linear, ReLU, CrossEntropyLoss, Sequential, Conv2d, MaxPool2d, Module, Softmax, BatchNorm2d, Dropout\n",
    "from torch.optim import Adam, SGD\n",
    "from tqdm import tqdm\n",
    "\n",
    "# importing the libraries\n",
    "import pandas as pd\n",
    "import numpy as np\n",
    "\n",
    "# for creating validation set\n",
    "from sklearn.model_selection import train_test_split\n",
    "\n",
    "\n",
    "import torchvision\n",
    "from torchvision.datasets import ImageFolder"
   ]
  },
  {
   "cell_type": "code",
   "execution_count": 73,
   "metadata": {},
   "outputs": [
    {
     "name": "stdout",
     "output_type": "stream",
     "text": [
      "Wed Nov 17 14:58:58 2021       \n",
      "+-----------------------------------------------------------------------------+\n",
      "| NVIDIA-SMI 470.63.01    Driver Version: 470.63.01    CUDA Version: 11.4     |\n",
      "|-------------------------------+----------------------+----------------------+\n",
      "| GPU  Name        Persistence-M| Bus-Id        Disp.A | Volatile Uncorr. ECC |\n",
      "| Fan  Temp  Perf  Pwr:Usage/Cap|         Memory-Usage | GPU-Util  Compute M. |\n",
      "|                               |                      |               MIG M. |\n",
      "|===============================+======================+======================|\n",
      "|   0  NVIDIA GeForce ...  Off  | 00000000:05:00.0 Off |                  N/A |\n",
      "| 29%   26C    P8    18W / 250W |   3066MiB / 11019MiB |      0%      Default |\n",
      "|                               |                      |                  N/A |\n",
      "+-------------------------------+----------------------+----------------------+\n",
      "|   1  NVIDIA GeForce ...  Off  | 00000000:09:00.0 Off |                  N/A |\n",
      "| 29%   27C    P8    21W / 250W |   9757MiB / 11019MiB |      0%      Default |\n",
      "|                               |                      |                  N/A |\n",
      "+-------------------------------+----------------------+----------------------+\n",
      "|   2  NVIDIA GeForce ...  Off  | 00000000:0A:00.0 Off |                  N/A |\n",
      "| 30%   26C    P8     3W / 250W |   4798MiB / 11019MiB |      0%      Default |\n",
      "|                               |                      |                  N/A |\n",
      "+-------------------------------+----------------------+----------------------+\n",
      "|   3  NVIDIA GeForce ...  Off  | 00000000:85:00.0 Off |                  N/A |\n",
      "| 29%   26C    P8     2W / 250W |   7183MiB / 11019MiB |      0%      Default |\n",
      "|                               |                      |                  N/A |\n",
      "+-------------------------------+----------------------+----------------------+\n",
      "|   4  NVIDIA GeForce ...  Off  | 00000000:89:00.0 Off |                  N/A |\n",
      "| 29%   25C    P8     1W / 250W |   3414MiB / 11019MiB |      0%      Default |\n",
      "|                               |                      |                  N/A |\n",
      "+-------------------------------+----------------------+----------------------+\n",
      "                                                                               \n",
      "+-----------------------------------------------------------------------------+\n",
      "| Processes:                                                                  |\n",
      "|  GPU   GI   CI        PID   Type   Process name                  GPU Memory |\n",
      "|        ID   ID                                                   Usage      |\n",
      "|=============================================================================|\n",
      "|    0   N/A  N/A      6012      C   ...erhub/anaconda/bin/python     1013MiB |\n",
      "|    0   N/A  N/A      9258      C   ...erhub/anaconda/bin/python     1107MiB |\n",
      "|    0   N/A  N/A     43764      C   ...erhub/anaconda/bin/python      943MiB |\n",
      "|    1   N/A  N/A      8743      C   ...erhub/anaconda/bin/python     3303MiB |\n",
      "|    1   N/A  N/A     35167      C   ...erhub/anaconda/bin/python     6451MiB |\n",
      "|    2   N/A  N/A     17259      C   ...erhub/anaconda/bin/python     1229MiB |\n",
      "|    2   N/A  N/A     27421      C   ...erhub/anaconda/bin/python     1285MiB |\n",
      "|    2   N/A  N/A     28632      C   ...erhub/anaconda/bin/python     2281MiB |\n",
      "|    3   N/A  N/A     27593      C   ...erhub/anaconda/bin/python     4877MiB |\n",
      "|    3   N/A  N/A     28617      C   ...erhub/anaconda/bin/python     2303MiB |\n",
      "|    4   N/A  N/A     16914      C   ...erhub/anaconda/bin/python     1007MiB |\n",
      "|    4   N/A  N/A     27221      C   ...erhub/anaconda/bin/python     1363MiB |\n",
      "|    4   N/A  N/A     42421      C   ...erhub/anaconda/bin/python     1041MiB |\n",
      "+-----------------------------------------------------------------------------+\n"
     ]
    }
   ],
   "source": [
    "#Checking wich GPU is beeing used\n",
    "\n",
    "!nvidia-smi"
   ]
  },
  {
   "cell_type": "code",
   "execution_count": 74,
   "metadata": {},
   "outputs": [],
   "source": [
    "# #Load data\n",
    "\n",
    "# #train and test data directory\n",
    "# data_dir_1 = 'dialogue/Dataset/VoiceDetection/images_medium/images_splitfolders/' #Medium dataset\n",
    "# data_dir_2 = 'dialogue/Dataset/VoiceDetection/images_hard/images_splitfolders/'   #More difficult dataset\n",
    "\n",
    "# #load the train and test data\n",
    "# train_dataset = ImageFolder(data_dir_1 + 'train',transform = transforms.Compose([\n",
    "#     transforms.Resize((150,150)),transforms.ToTensor()\n",
    "# ]))\n",
    "# #Commend if you dont want to use the combination of the two datasets\n",
    "# train_dataset = train_dataset + ImageFolder(data_dir_2 + 'train',transform = transforms.Compose([\n",
    "#     transforms.Resize((150,150)),transforms.ToTensor()\n",
    "# ]))\n",
    "# test_dataset = ImageFolder(data_dir_1 + 'test',transform = transforms.Compose([\n",
    "#     transforms.Resize((150,150)),transforms.ToTensor()\n",
    "# ]))\n",
    "# #Commend if you dont want to use the combination of the two datasets\n",
    "# test_dataset = test_dataset + ImageFolder(data_dir_2 + 'test',transform = transforms.Compose([\n",
    "#     transforms.Resize((150,150)),transforms.ToTensor()\n",
    "# ]))\n",
    "# val_dataset = ImageFolder(data_dir_1 + 'val',transform = transforms.Compose([\n",
    "#     transforms.Resize((150,150)),transforms.ToTensor()\n",
    "# ]))\n",
    "# #Commend if you dont want to use the combination of the two datasets\n",
    "# val_dataset = val_dataset + ImageFolder(data_dir_2 + 'val',transform = transforms.Compose([\n",
    "#     transforms.Resize((150,150)),transforms.ToTensor()\n",
    "# ]))\n",
    "# #train_dataloader = DataLoader(train_set, batch_size=32, shuffle=True)#train_set is made into a dataloader, shuffled\n",
    "# #test_dataloader = DataLoader(test_set, batch_size=32, shuffle=True)\n",
    "\n",
    "# print(len(train_dataset))\n",
    "# print(len(test_dataset))\n",
    "# print(len(test_dataset)/len(test_dataset+train_dataset))"
   ]
  },
  {
   "cell_type": "code",
   "execution_count": 75,
   "metadata": {},
   "outputs": [
    {
     "name": "stdout",
     "output_type": "stream",
     "text": [
      "               0           1           2           3           4           5  \\\n",
      "0       9.434201   18.539894   48.598946   23.656319   68.375114   32.585888   \n",
      "1       0.988338   56.698444  196.634750  232.387924   96.131500  146.787842   \n",
      "2      81.516251   74.427246  219.707489  188.375854   51.688900  133.403122   \n",
      "3      51.164341   88.265450  112.086533   26.646029   34.842381   55.326729   \n",
      "4     627.108093  546.499390  261.254089  252.623535  181.304245   87.163826   \n",
      "...          ...         ...         ...         ...         ...         ...   \n",
      "2295    0.005173    0.001903    0.000578    0.000655    0.001918    0.000928   \n",
      "2296    0.012230    0.005093    0.000974    0.000938    0.000630    0.000374   \n",
      "2297    0.000399    0.000461    0.000251    0.000224    0.000169    0.000535   \n",
      "2298    0.003634    0.001359    0.000729    0.000911    0.000881    0.000750   \n",
      "2299    0.018530    0.006890    0.001718    0.001063    0.000392    0.001247   \n",
      "\n",
      "               6           7           8           9  ...          5623  \\\n",
      "0      46.476070   36.406357   26.361317    7.968925  ...  5.381881e-07   \n",
      "1      69.585159   39.243427   49.696144  143.559296  ...  3.601597e-04   \n",
      "2     285.412262   55.923164   11.703285   32.941082  ...  2.799673e-04   \n",
      "3      54.793144   58.523682   30.524288   49.757534  ...  6.220056e-07   \n",
      "4      49.720688  104.022697  215.083267  165.247910  ...  7.153016e-07   \n",
      "...          ...         ...         ...         ...  ...           ...   \n",
      "2295    0.001118    0.000618    0.000558    0.000749  ...  6.439714e-07   \n",
      "2296    0.000364    0.000682    0.001036    0.000920  ...  6.032100e-07   \n",
      "2297    0.000787    0.000668    0.000465    0.000510  ...  7.382802e-07   \n",
      "2298    0.001194    0.000438    0.001121    0.001416  ...  6.714757e-07   \n",
      "2299    0.002127    0.001452    0.000950    0.001012  ...  7.846592e-07   \n",
      "\n",
      "              5624          5625          5626          5627          5628  \\\n",
      "0     5.609164e-07  6.777958e-07  1.198634e-06  1.262012e-06  7.274890e-07   \n",
      "1     2.573096e-04  7.591872e-06  3.006253e-06  6.933919e-06  1.863181e-06   \n",
      "2     3.080785e-04  1.314350e-04  1.800639e-04  7.172392e-04  1.079816e-03   \n",
      "3     7.071495e-07  5.762138e-07  7.284444e-07  6.958872e-07  7.049775e-07   \n",
      "4     5.777463e-07  6.656623e-07  9.198824e-07  1.045333e-06  9.293201e-07   \n",
      "...            ...           ...           ...           ...           ...   \n",
      "2295  8.700086e-07  6.854788e-07  8.039023e-07  1.076144e-06  8.624498e-07   \n",
      "2296  5.694963e-07  6.599873e-07  9.080612e-07  1.256056e-06  1.092535e-06   \n",
      "2297  5.868089e-07  6.183143e-07  5.316708e-07  4.228292e-07  6.364338e-07   \n",
      "2298  6.814429e-07  7.966170e-07  9.049434e-07  6.694445e-07  5.242497e-07   \n",
      "2299  8.209667e-07  7.361076e-07  6.892761e-07  6.562984e-07  8.450527e-07   \n",
      "\n",
      "              5629          5630          5631  isSpeaking  \n",
      "0     6.263387e-07  2.104326e-05  1.007356e-04       False  \n",
      "1     2.456418e-06  7.140520e-05  3.427624e-04       False  \n",
      "2     5.718023e-04  5.870283e-04  1.420999e-03       False  \n",
      "3     7.974346e-07  5.293877e-06  2.376618e-05       False  \n",
      "4     7.132971e-07  5.529551e-07  7.711354e-07       False  \n",
      "...            ...           ...           ...         ...  \n",
      "2295  7.090700e-07  5.978021e-07  5.949178e-07        True  \n",
      "2296  7.273692e-07  5.497190e-07  6.420028e-07        True  \n",
      "2297  8.089466e-07  8.032072e-07  9.493154e-07       False  \n",
      "2298  6.144459e-07  5.809559e-07  4.161970e-07       False  \n",
      "2299  9.394686e-07  9.285721e-07  1.258790e-06       False  \n",
      "\n",
      "[2300 rows x 5633 columns]\n"
     ]
    }
   ],
   "source": [
    "#Load data\n",
    "data_file = 'dialogue/Dataset/VoiceDetection/Output.npy'\n",
    "labels = pd.read_csv(\"dialogue/Dataset/VoiceDetection/boolean_labels.csv\")#path to csv\n",
    "labels.drop(labels.columns[[0]], axis=1, inplace=True)\n",
    "data = np.load(data_file)\n",
    "df_temp = pd.DataFrame()\n",
    "df_data = pd.DataFrame()\n",
    "#print(data)\n",
    "df_data = pd.DataFrame(data)\n",
    "#df_data['data'] = df_temp.values.tolist()\n",
    "df_data = pd.concat([df_data, labels], axis = 1)\n",
    "print(df_data)"
   ]
  },
  {
   "cell_type": "code",
   "execution_count": 76,
   "metadata": {},
   "outputs": [
    {
     "name": "stdout",
     "output_type": "stream",
     "text": [
      "<class 'pandas.core.frame.DataFrame'>\n",
      "           0          1          2         3         4          5     \\\n",
      "1491   0.009871   0.002352   0.000365  0.000094  0.000127   0.000176   \n",
      "1669   0.000042   0.000390   0.001095  0.000694  0.000532   0.001248   \n",
      "697   11.513913  26.320082  14.284646  7.371245  4.547209  24.599024   \n",
      "390    0.099749   0.160753   0.091548  0.020025  0.029059   0.024202   \n",
      "610    1.405337   0.448070   0.851811  1.229180  0.417285   0.130372   \n",
      "...         ...        ...        ...       ...       ...        ...   \n",
      "1786   1.235847   0.313368   0.000447  0.001050  0.000486   0.000411   \n",
      "756    0.006535   0.005096   0.004808  0.020797  0.029479   0.013534   \n",
      "790    0.698252   0.818035   0.470060  1.954738  4.752532   3.593133   \n",
      "2025   0.000263   0.000830   0.000811  0.001023  0.000658   0.001067   \n",
      "1417   0.025681   0.007224   0.000143  0.000091  0.000266   0.000389   \n",
      "\n",
      "           6         7         8         9     ...          5622  \\\n",
      "1491   0.000451  0.000479  0.000146  0.000074  ...  8.039595e-07   \n",
      "1669   0.001745  0.001481  0.000866  0.001052  ...  8.627957e-07   \n",
      "697   13.964939  5.077494  2.631071  6.589533  ...  8.192682e-07   \n",
      "390    0.032860  0.027543  0.041478  0.046738  ...  5.211031e-07   \n",
      "610    0.110966  0.802040  1.032088  0.198342  ...  6.241345e-07   \n",
      "...         ...       ...       ...       ...  ...           ...   \n",
      "1786   0.000562  0.000753  0.001094  0.000327  ...  7.041907e-07   \n",
      "756    0.009720  0.024929  0.021835  0.013328  ...  4.999522e-07   \n",
      "790    2.806743  5.580375  4.056655  5.332404  ...  8.289851e-07   \n",
      "2025   0.001210  0.000696  0.001041  0.000698  ...  8.452957e-07   \n",
      "1417   0.000254  0.000105  0.000126  0.000024  ...  7.604501e-07   \n",
      "\n",
      "              5623          5624          5625          5626          5627  \\\n",
      "1491  8.315372e-07  7.476313e-07  5.713820e-07  7.098492e-07  8.866124e-07   \n",
      "1669  1.106699e-06  8.778083e-07  4.796284e-07  6.083654e-07  8.626030e-07   \n",
      "697   8.814743e-07  9.718142e-07  1.098967e-06  9.100686e-07  1.016964e-06   \n",
      "390   6.722173e-07  9.058667e-07  8.458861e-07  5.352799e-07  4.508757e-07   \n",
      "610   5.882356e-07  3.887251e-07  4.504140e-07  8.654112e-07  7.534678e-07   \n",
      "...            ...           ...           ...           ...           ...   \n",
      "1786  8.043431e-07  6.491213e-07  9.291269e-07  8.160071e-07  7.507719e-07   \n",
      "756   6.564567e-07  8.963920e-07  7.539728e-07  6.178789e-07  1.006959e-06   \n",
      "790   7.003918e-07  7.746139e-07  5.448189e-07  4.878468e-07  4.505165e-07   \n",
      "2025  7.014415e-07  5.890849e-07  6.756639e-07  5.907195e-07  7.701299e-07   \n",
      "1417  5.883903e-07  7.857011e-07  7.443862e-07  5.771185e-07  4.786151e-07   \n",
      "\n",
      "              5628          5629          5630          5631  \n",
      "1491  6.352874e-07  6.686458e-07  1.257626e-06  3.244885e-06  \n",
      "1669  5.838420e-07  5.272034e-07  6.704763e-07  1.044607e-06  \n",
      "697   9.472957e-07  7.363435e-07  7.773345e-07  8.153773e-07  \n",
      "390   7.163838e-07  8.597916e-07  6.541188e-07  5.987458e-07  \n",
      "610   5.555866e-07  4.546404e-07  6.666971e-07  7.789204e-07  \n",
      "...            ...           ...           ...           ...  \n",
      "1786  8.532341e-07  8.028819e-07  1.086180e-06  2.852405e-06  \n",
      "756   8.208926e-07  5.910241e-07  6.866372e-07  7.230831e-07  \n",
      "790   5.522776e-07  5.527050e-07  6.245555e-07  5.667276e-07  \n",
      "2025  7.105824e-07  5.617119e-07  8.846247e-07  2.353284e-06  \n",
      "1417  6.430719e-07  5.970211e-07  6.567967e-07  1.048349e-06  \n",
      "\n",
      "[1472 rows x 5632 columns]\n"
     ]
    }
   ],
   "source": [
    "X_train, X_test, y_train, y_test = train_test_split(df_data.drop(['isSpeaking'],axis = 1), df_data['isSpeaking'], test_size = 0.2, random_state = 23)\n",
    "X_train, X_val, y_train, y_val = train_test_split(X_train, y_train, test_size = 0.2, random_state = 23)\n",
    "print(type(X_train))\n",
    "print(X_train)"
   ]
  },
  {
   "cell_type": "code",
   "execution_count": 77,
   "metadata": {},
   "outputs": [
    {
     "name": "stdout",
     "output_type": "stream",
     "text": [
      "torch.Size([1472, 5632]) torch.Size([1472])\n"
     ]
    }
   ],
   "source": [
    "X_train = torch.tensor(X_train.values)\n",
    "y_train = torch.tensor(y_train.values)\n",
    "X_test = torch.tensor(X_test.values)\n",
    "y_test = torch.tensor(y_test.values)\n",
    "X_val = torch.tensor(X_val.values)\n",
    "y_val = torch.tensor(y_val.values)\n",
    "print(X_train.shape, y_train.shape)\n",
    "#print(test_X.shape)\n"
   ]
  },
  {
   "cell_type": "code",
   "execution_count": 78,
   "metadata": {},
   "outputs": [],
   "source": [
    "import torch.nn as nn\n",
    "import torch.nn.functional as F\n",
    "\n",
    "class ImageClassificationBase(nn.Module):\n",
    "    \n",
    "    def training_step(self, batch):\n",
    "        images, labels = batch \n",
    "        out = self(images)                  # Generate predictions\n",
    "        loss = F.cross_entropy(out, labels) # Calculate loss\n",
    "        return loss\n",
    "    \n",
    "    def validation_step(self, batch):\n",
    "        images, labels = batch \n",
    "        out = self(images)                    # Generate predictions\n",
    "        loss = F.cross_entropy(out, labels)   # Calculate loss\n",
    "        acc = accuracy(out, labels)           # Calculate accuracy\n",
    "        return {'val_loss': loss.detach(), 'val_acc': acc}\n",
    "        \n",
    "    def validation_epoch_end(self, outputs):\n",
    "        batch_losses = [x['val_loss'] for x in outputs]\n",
    "        epoch_loss = torch.stack(batch_losses).mean()   # Combine losses\n",
    "        batch_accs = [x['val_acc'] for x in outputs]\n",
    "        epoch_acc = torch.stack(batch_accs).mean()      # Combine accuracies\n",
    "        return {'val_loss': epoch_loss.item(), 'val_acc': epoch_acc.item()}\n",
    "    \n",
    "    def epoch_end(self, epoch, result):\n",
    "        print(\"Epoch [{}], train_loss: {:.4f}, val_loss: {:.4f}, val_acc: {:.4f}\".format(\n",
    "            epoch, result['train_loss'], result['val_loss'], result['val_acc']))"
   ]
  },
  {
   "cell_type": "code",
   "execution_count": 79,
   "metadata": {},
   "outputs": [],
   "source": [
    "class CNN_model(ImageClassificationBase):\n",
    "    def __init__(self):\n",
    "        super().__init__()\n",
    "        self.network = nn.Sequential(\n",
    "            \n",
    "            nn.Conv2d(1, 32, kernel_size = 3, padding = 1),\n",
    "            nn.ReLU(),\n",
    "            nn.Conv2d(32,64, kernel_size = 3, stride = 1, padding = 1),\n",
    "            nn.ReLU(),\n",
    "            nn.MaxPool2d(2,2),\n",
    "        \n",
    "            nn.Conv2d(64, 128, kernel_size = 3, stride = 1, padding = 1),\n",
    "            nn.ReLU(),\n",
    "            nn.Conv2d(128 ,128, kernel_size = 3, stride = 1, padding = 1),\n",
    "            nn.ReLU(),\n",
    "            nn.MaxPool2d(2,2),\n",
    "            \n",
    "            nn.Conv2d(128, 256, kernel_size = 3, stride = 1, padding = 1),\n",
    "            nn.ReLU(),\n",
    "            nn.Conv2d(256,256, kernel_size = 3, stride = 1, padding = 1),\n",
    "            nn.ReLU(),\n",
    "            nn.MaxPool2d(2,2),\n",
    "            \n",
    "            nn.Flatten(),\n",
    "            nn.Linear(82944,1024),\n",
    "            nn.ReLU(),\n",
    "            nn.Linear(1024, 512),\n",
    "            nn.ReLU(),\n",
    "            nn.Linear(512,6)\n",
    "        )\n",
    "    \n",
    "    def forward(self, xb):\n",
    "        nn.Sigmoid()\n",
    "        return self.network(xb)"
   ]
  },
  {
   "cell_type": "code",
   "execution_count": 80,
   "metadata": {},
   "outputs": [],
   "source": [
    "def get_default_device():\n",
    "    \"\"\" Set Device to GPU or CPU\"\"\"\n",
    "    if torch.cuda.is_available():\n",
    "        return torch.device('cuda')\n",
    "    else:\n",
    "        return torch.device('cpu')\n",
    "    \n",
    "\n",
    "def to_device(data, device):\n",
    "    \"Move data to the device\"\n",
    "    if isinstance(data,(list,tuple)):\n",
    "        return [to_device(x,device) for x in data]\n",
    "    return data.to(device,non_blocking = True)\n",
    "\n",
    "class DeviceDataLoader():\n",
    "    \"\"\" Wrap a dataloader to move data to a device \"\"\"\n",
    "    \n",
    "    def __init__(self, dl, device):\n",
    "        self.dl = dl\n",
    "        self.device = device\n",
    "    \n",
    "    def __iter__(self):\n",
    "        \"\"\" Yield a batch of data after moving it to device\"\"\"\n",
    "        for b in self.dl:\n",
    "            yield to_device(b,self.device)\n",
    "            \n",
    "    def __len__(self):\n",
    "        \"\"\" Number of batches \"\"\"\n",
    "        return len(self.dl)"
   ]
  },
  {
   "cell_type": "code",
   "execution_count": 81,
   "metadata": {},
   "outputs": [],
   "source": [
    "def accuracy(outputs, labels):\n",
    "    _, preds = torch.max(outputs, dim=1)\n",
    "    return torch.tensor(torch.sum(preds == labels).item() / len(preds))\n",
    "\n",
    "  \n",
    "@torch.no_grad()\n",
    "def evaluate(model, val_loader):\n",
    "    model.eval()\n",
    "    outputs = [model.validation_step(batch) for batch in val_loader]\n",
    "    return model.validation_epoch_end(outputs)\n",
    "\n",
    "  \n",
    "def fit(epochs, lr, model, train_loader, val_loader, opt_func = torch.optim.SGD):\n",
    "    \n",
    "    history = []\n",
    "    optimizer = opt_func(model.parameters(),lr)\n",
    "    for epoch in range(epochs):\n",
    "        \n",
    "        model.train()\n",
    "        train_losses = []\n",
    "        for batch in train_loader:\n",
    "            loss = model.training_step(batch)\n",
    "            train_losses.append(loss)\n",
    "            loss.backward()\n",
    "            optimizer.step()\n",
    "            optimizer.zero_grad()\n",
    "            \n",
    "        result = evaluate(model, val_loader)\n",
    "        result['train_loss'] = torch.stack(train_losses).mean().item()\n",
    "        model.epoch_end(epoch, result)\n",
    "        history.append(result)\n",
    "    \n",
    "    return history"
   ]
  },
  {
   "cell_type": "code",
   "execution_count": 82,
   "metadata": {},
   "outputs": [
    {
     "data": {
      "text/plain": [
       "CNN_model(\n",
       "  (network): Sequential(\n",
       "    (0): Conv2d(1, 32, kernel_size=(3, 3), stride=(1, 1), padding=(1, 1))\n",
       "    (1): ReLU()\n",
       "    (2): Conv2d(32, 64, kernel_size=(3, 3), stride=(1, 1), padding=(1, 1))\n",
       "    (3): ReLU()\n",
       "    (4): MaxPool2d(kernel_size=2, stride=2, padding=0, dilation=1, ceil_mode=False)\n",
       "    (5): Conv2d(64, 128, kernel_size=(3, 3), stride=(1, 1), padding=(1, 1))\n",
       "    (6): ReLU()\n",
       "    (7): Conv2d(128, 128, kernel_size=(3, 3), stride=(1, 1), padding=(1, 1))\n",
       "    (8): ReLU()\n",
       "    (9): MaxPool2d(kernel_size=2, stride=2, padding=0, dilation=1, ceil_mode=False)\n",
       "    (10): Conv2d(128, 256, kernel_size=(3, 3), stride=(1, 1), padding=(1, 1))\n",
       "    (11): ReLU()\n",
       "    (12): Conv2d(256, 256, kernel_size=(3, 3), stride=(1, 1), padding=(1, 1))\n",
       "    (13): ReLU()\n",
       "    (14): MaxPool2d(kernel_size=2, stride=2, padding=0, dilation=1, ceil_mode=False)\n",
       "    (15): Flatten(start_dim=1, end_dim=-1)\n",
       "    (16): Linear(in_features=82944, out_features=1024, bias=True)\n",
       "    (17): ReLU()\n",
       "    (18): Linear(in_features=1024, out_features=512, bias=True)\n",
       "    (19): ReLU()\n",
       "    (20): Linear(in_features=512, out_features=6, bias=True)\n",
       "  )\n",
       ")"
      ]
     },
     "execution_count": 82,
     "metadata": {},
     "output_type": "execute_result"
    }
   ],
   "source": [
    "model = CNN_model()\n",
    "device = get_default_device()\n",
    "train_dl = DeviceDataLoader(X_train, device)\n",
    "val_dl = DeviceDataLoader(X_test, device)\n",
    "to_device(model, device)\n"
   ]
  },
  {
   "cell_type": "code",
   "execution_count": 83,
   "metadata": {},
   "outputs": [
    {
     "ename": "ValueError",
     "evalue": "too many values to unpack (expected 2)",
     "output_type": "error",
     "traceback": [
      "\u001b[0;31m---------------------------------------------------------------------------\u001b[0m",
      "\u001b[0;31mValueError\u001b[0m                                Traceback (most recent call last)",
      "\u001b[0;32m/tmp/ipykernel_28632/1386814421.py\u001b[0m in \u001b[0;36m<module>\u001b[0;34m\u001b[0m\n\u001b[1;32m      1\u001b[0m \u001b[0mmodel\u001b[0m \u001b[0;34m=\u001b[0m \u001b[0mto_device\u001b[0m\u001b[0;34m(\u001b[0m\u001b[0mCNN_model\u001b[0m\u001b[0;34m(\u001b[0m\u001b[0;34m)\u001b[0m\u001b[0;34m,\u001b[0m\u001b[0mdevice\u001b[0m\u001b[0;34m)\u001b[0m\u001b[0;34m\u001b[0m\u001b[0;34m\u001b[0m\u001b[0m\n\u001b[1;32m      2\u001b[0m \u001b[0;34m\u001b[0m\u001b[0m\n\u001b[0;32m----> 3\u001b[0;31m \u001b[0mevaluate\u001b[0m\u001b[0;34m(\u001b[0m\u001b[0mmodel\u001b[0m\u001b[0;34m,\u001b[0m \u001b[0mval_dl\u001b[0m\u001b[0;34m)\u001b[0m\u001b[0;34m\u001b[0m\u001b[0;34m\u001b[0m\u001b[0m\n\u001b[0m\u001b[1;32m      4\u001b[0m \u001b[0mnum_epochs\u001b[0m \u001b[0;34m=\u001b[0m \u001b[0;36m150\u001b[0m\u001b[0;34m\u001b[0m\u001b[0;34m\u001b[0m\u001b[0m\n\u001b[1;32m      5\u001b[0m \u001b[0mopt_func\u001b[0m \u001b[0;34m=\u001b[0m \u001b[0mtorch\u001b[0m\u001b[0;34m.\u001b[0m\u001b[0moptim\u001b[0m\u001b[0;34m.\u001b[0m\u001b[0mAdam\u001b[0m\u001b[0;34m\u001b[0m\u001b[0;34m\u001b[0m\u001b[0m\n",
      "\u001b[0;32m/opt/jupyterhub/anaconda/lib/python3.9/site-packages/torch/autograd/grad_mode.py\u001b[0m in \u001b[0;36mdecorate_context\u001b[0;34m(*args, **kwargs)\u001b[0m\n\u001b[1;32m     26\u001b[0m         \u001b[0;32mdef\u001b[0m \u001b[0mdecorate_context\u001b[0m\u001b[0;34m(\u001b[0m\u001b[0;34m*\u001b[0m\u001b[0margs\u001b[0m\u001b[0;34m,\u001b[0m \u001b[0;34m**\u001b[0m\u001b[0mkwargs\u001b[0m\u001b[0;34m)\u001b[0m\u001b[0;34m:\u001b[0m\u001b[0;34m\u001b[0m\u001b[0;34m\u001b[0m\u001b[0m\n\u001b[1;32m     27\u001b[0m             \u001b[0;32mwith\u001b[0m \u001b[0mself\u001b[0m\u001b[0;34m.\u001b[0m\u001b[0m__class__\u001b[0m\u001b[0;34m(\u001b[0m\u001b[0;34m)\u001b[0m\u001b[0;34m:\u001b[0m\u001b[0;34m\u001b[0m\u001b[0;34m\u001b[0m\u001b[0m\n\u001b[0;32m---> 28\u001b[0;31m                 \u001b[0;32mreturn\u001b[0m \u001b[0mfunc\u001b[0m\u001b[0;34m(\u001b[0m\u001b[0;34m*\u001b[0m\u001b[0margs\u001b[0m\u001b[0;34m,\u001b[0m \u001b[0;34m**\u001b[0m\u001b[0mkwargs\u001b[0m\u001b[0;34m)\u001b[0m\u001b[0;34m\u001b[0m\u001b[0;34m\u001b[0m\u001b[0m\n\u001b[0m\u001b[1;32m     29\u001b[0m         \u001b[0;32mreturn\u001b[0m \u001b[0mcast\u001b[0m\u001b[0;34m(\u001b[0m\u001b[0mF\u001b[0m\u001b[0;34m,\u001b[0m \u001b[0mdecorate_context\u001b[0m\u001b[0;34m)\u001b[0m\u001b[0;34m\u001b[0m\u001b[0;34m\u001b[0m\u001b[0m\n\u001b[1;32m     30\u001b[0m \u001b[0;34m\u001b[0m\u001b[0m\n",
      "\u001b[0;32m/tmp/ipykernel_28632/1190722326.py\u001b[0m in \u001b[0;36mevaluate\u001b[0;34m(model, val_loader)\u001b[0m\n\u001b[1;32m      7\u001b[0m \u001b[0;32mdef\u001b[0m \u001b[0mevaluate\u001b[0m\u001b[0;34m(\u001b[0m\u001b[0mmodel\u001b[0m\u001b[0;34m,\u001b[0m \u001b[0mval_loader\u001b[0m\u001b[0;34m)\u001b[0m\u001b[0;34m:\u001b[0m\u001b[0;34m\u001b[0m\u001b[0;34m\u001b[0m\u001b[0m\n\u001b[1;32m      8\u001b[0m     \u001b[0mmodel\u001b[0m\u001b[0;34m.\u001b[0m\u001b[0meval\u001b[0m\u001b[0;34m(\u001b[0m\u001b[0;34m)\u001b[0m\u001b[0;34m\u001b[0m\u001b[0;34m\u001b[0m\u001b[0m\n\u001b[0;32m----> 9\u001b[0;31m     \u001b[0moutputs\u001b[0m \u001b[0;34m=\u001b[0m \u001b[0;34m[\u001b[0m\u001b[0mmodel\u001b[0m\u001b[0;34m.\u001b[0m\u001b[0mvalidation_step\u001b[0m\u001b[0;34m(\u001b[0m\u001b[0mbatch\u001b[0m\u001b[0;34m)\u001b[0m \u001b[0;32mfor\u001b[0m \u001b[0mbatch\u001b[0m \u001b[0;32min\u001b[0m \u001b[0mval_loader\u001b[0m\u001b[0;34m]\u001b[0m\u001b[0;34m\u001b[0m\u001b[0;34m\u001b[0m\u001b[0m\n\u001b[0m\u001b[1;32m     10\u001b[0m     \u001b[0;32mreturn\u001b[0m \u001b[0mmodel\u001b[0m\u001b[0;34m.\u001b[0m\u001b[0mvalidation_epoch_end\u001b[0m\u001b[0;34m(\u001b[0m\u001b[0moutputs\u001b[0m\u001b[0;34m)\u001b[0m\u001b[0;34m\u001b[0m\u001b[0;34m\u001b[0m\u001b[0m\n\u001b[1;32m     11\u001b[0m \u001b[0;34m\u001b[0m\u001b[0m\n",
      "\u001b[0;32m/tmp/ipykernel_28632/1190722326.py\u001b[0m in \u001b[0;36m<listcomp>\u001b[0;34m(.0)\u001b[0m\n\u001b[1;32m      7\u001b[0m \u001b[0;32mdef\u001b[0m \u001b[0mevaluate\u001b[0m\u001b[0;34m(\u001b[0m\u001b[0mmodel\u001b[0m\u001b[0;34m,\u001b[0m \u001b[0mval_loader\u001b[0m\u001b[0;34m)\u001b[0m\u001b[0;34m:\u001b[0m\u001b[0;34m\u001b[0m\u001b[0;34m\u001b[0m\u001b[0m\n\u001b[1;32m      8\u001b[0m     \u001b[0mmodel\u001b[0m\u001b[0;34m.\u001b[0m\u001b[0meval\u001b[0m\u001b[0;34m(\u001b[0m\u001b[0;34m)\u001b[0m\u001b[0;34m\u001b[0m\u001b[0;34m\u001b[0m\u001b[0m\n\u001b[0;32m----> 9\u001b[0;31m     \u001b[0moutputs\u001b[0m \u001b[0;34m=\u001b[0m \u001b[0;34m[\u001b[0m\u001b[0mmodel\u001b[0m\u001b[0;34m.\u001b[0m\u001b[0mvalidation_step\u001b[0m\u001b[0;34m(\u001b[0m\u001b[0mbatch\u001b[0m\u001b[0;34m)\u001b[0m \u001b[0;32mfor\u001b[0m \u001b[0mbatch\u001b[0m \u001b[0;32min\u001b[0m \u001b[0mval_loader\u001b[0m\u001b[0;34m]\u001b[0m\u001b[0;34m\u001b[0m\u001b[0;34m\u001b[0m\u001b[0m\n\u001b[0m\u001b[1;32m     10\u001b[0m     \u001b[0;32mreturn\u001b[0m \u001b[0mmodel\u001b[0m\u001b[0;34m.\u001b[0m\u001b[0mvalidation_epoch_end\u001b[0m\u001b[0;34m(\u001b[0m\u001b[0moutputs\u001b[0m\u001b[0;34m)\u001b[0m\u001b[0;34m\u001b[0m\u001b[0;34m\u001b[0m\u001b[0m\n\u001b[1;32m     11\u001b[0m \u001b[0;34m\u001b[0m\u001b[0m\n",
      "\u001b[0;32m/tmp/ipykernel_28632/203256763.py\u001b[0m in \u001b[0;36mvalidation_step\u001b[0;34m(self, batch)\u001b[0m\n\u001b[1;32m     11\u001b[0m \u001b[0;34m\u001b[0m\u001b[0m\n\u001b[1;32m     12\u001b[0m     \u001b[0;32mdef\u001b[0m \u001b[0mvalidation_step\u001b[0m\u001b[0;34m(\u001b[0m\u001b[0mself\u001b[0m\u001b[0;34m,\u001b[0m \u001b[0mbatch\u001b[0m\u001b[0;34m)\u001b[0m\u001b[0;34m:\u001b[0m\u001b[0;34m\u001b[0m\u001b[0;34m\u001b[0m\u001b[0m\n\u001b[0;32m---> 13\u001b[0;31m         \u001b[0mimages\u001b[0m\u001b[0;34m,\u001b[0m \u001b[0mlabels\u001b[0m \u001b[0;34m=\u001b[0m \u001b[0mbatch\u001b[0m\u001b[0;34m\u001b[0m\u001b[0;34m\u001b[0m\u001b[0m\n\u001b[0m\u001b[1;32m     14\u001b[0m         \u001b[0mout\u001b[0m \u001b[0;34m=\u001b[0m \u001b[0mself\u001b[0m\u001b[0;34m(\u001b[0m\u001b[0mimages\u001b[0m\u001b[0;34m)\u001b[0m                    \u001b[0;31m# Generate predictions\u001b[0m\u001b[0;34m\u001b[0m\u001b[0;34m\u001b[0m\u001b[0m\n\u001b[1;32m     15\u001b[0m         \u001b[0mloss\u001b[0m \u001b[0;34m=\u001b[0m \u001b[0mF\u001b[0m\u001b[0;34m.\u001b[0m\u001b[0mcross_entropy\u001b[0m\u001b[0;34m(\u001b[0m\u001b[0mout\u001b[0m\u001b[0;34m,\u001b[0m \u001b[0mlabels\u001b[0m\u001b[0;34m)\u001b[0m   \u001b[0;31m# Calculate loss\u001b[0m\u001b[0;34m\u001b[0m\u001b[0;34m\u001b[0m\u001b[0m\n",
      "\u001b[0;31mValueError\u001b[0m: too many values to unpack (expected 2)"
     ]
    }
   ],
   "source": [
    "model = to_device(CNN_model(),device)\n",
    "\n",
    "evaluate(model, val_dl)\n",
    "num_epochs = 150\n",
    "opt_func = torch.optim.Adam\n",
    "lr = 0.001\n",
    "\n",
    "#fitting the model on training data and record the result after each epoch\n",
    "history = fit(num_epochs, lr, model, train_dl, val_dl, opt_func)"
   ]
  },
  {
   "cell_type": "code",
   "execution_count": null,
   "metadata": {},
   "outputs": [
    {
     "data": {
      "image/png": "[encoded data removed]",
      "text/plain": [
       "<Figure size 432x288 with 1 Axes>"
      ]
     },
     "metadata": {
      "needs_background": "light"
     },
     "output_type": "display_data"
    }
   ],
   "source": [
    "def plot_accuracies(history):\n",
    "    \"\"\" Plot the history of accuracies\"\"\"\n",
    "    accuracies = [x['val_acc'] for x in history]\n",
    "    plt.plot(accuracies)\n",
    "    plt.xlabel('epoch')\n",
    "    plt.ylabel('accuracy')\n",
    "    plt.title('Accuracy vs. No. of epochs');\n",
    "    \n",
    "\n",
    "plot_accuracies(history)"
   ]
  },
  {
   "cell_type": "code",
   "execution_count": null,
   "metadata": {},
   "outputs": [
    {
     "data": {
      "image/png": "[encoded data removed]",
      "text/plain": [
       "<Figure size 432x288 with 1 Axes>"
      ]
     },
     "metadata": {
      "needs_background": "light"
     },
     "output_type": "display_data"
    }
   ],
   "source": [
    "def plot_losses(history):\n",
    "    \"\"\" Plot the losses in each epoch\"\"\"\n",
    "    train_losses = [x.get('train_loss') for x in history]\n",
    "    val_losses = [x['val_loss'] for x in history]\n",
    "    plt.plot(train_losses, '-bx')\n",
    "    plt.plot(val_losses, '-rx')\n",
    "    plt.xlabel('epoch')\n",
    "    plt.ylabel('loss')\n",
    "    plt.legend(['Training', 'Validation'])\n",
    "    plt.title('Loss vs. No. of epochs');\n",
    "\n",
    "plot_losses(history)"
   ]
  },
  {
   "cell_type": "code",
   "execution_count": null,
   "metadata": {},
   "outputs": [
    {
     "data": {
      "text/plain": [
       "{'val_loss': 0.9642224311828613, 'val_acc': 0.80078125}"
      ]
     },
     "execution_count": 39,
     "metadata": {},
     "output_type": "execute_result"
    }
   ],
   "source": [
    "# Apply the model on test dataset and Get the results\n",
    "test_loader = DeviceDataLoader(DataLoader(val_dataset, batch_size*2), device)\n",
    "result = evaluate(model, test_loader)\n",
    "result"
   ]
  },
  {
   "cell_type": "code",
   "execution_count": null,
   "metadata": {},
   "outputs": [
    {
     "ename": "FileNotFoundError",
     "evalue": "[Errno 2] No such file or directory: 'dialogue/Dataset/VoiceDetection/images/images_splitfolders/val/True/1113_True_dataset_with_negatives_spectro.png'",
     "output_type": "error",
     "traceback": [
      "\u001b[0;31m---------------------------------------------------------------------------\u001b[0m",
      "\u001b[0;31mFileNotFoundError\u001b[0m                         Traceback (most recent call last)",
      "\u001b[0;32m/tmp/ipykernel_22622/1861201748.py\u001b[0m in \u001b[0;36m<module>\u001b[0;34m\u001b[0m\n\u001b[1;32m      2\u001b[0m \u001b[0;34m\u001b[0m\u001b[0m\n\u001b[1;32m      3\u001b[0m \u001b[0;31m#open image file\u001b[0m\u001b[0;34m\u001b[0m\u001b[0;34m\u001b[0m\u001b[0m\n\u001b[0;32m----> 4\u001b[0;31m \u001b[0mimg\u001b[0m \u001b[0;34m=\u001b[0m \u001b[0mImage\u001b[0m\u001b[0;34m.\u001b[0m\u001b[0mopen\u001b[0m\u001b[0;34m(\u001b[0m\u001b[0;34m\"dialogue/Dataset/VoiceDetection/images/images_splitfolders/val/True/1113_True_dataset_with_negatives_spectro.png\"\u001b[0m\u001b[0;34m)\u001b[0m\u001b[0;34m\u001b[0m\u001b[0;34m\u001b[0m\u001b[0m\n\u001b[0m\u001b[1;32m      5\u001b[0m \u001b[0;34m\u001b[0m\u001b[0m\n\u001b[1;32m      6\u001b[0m \u001b[0mimg\u001b[0m \u001b[0;34m=\u001b[0m \u001b[0mimg\u001b[0m\u001b[0;34m.\u001b[0m\u001b[0mconvert\u001b[0m\u001b[0;34m(\u001b[0m\u001b[0;34m'RGB'\u001b[0m\u001b[0;34m)\u001b[0m\u001b[0;34m\u001b[0m\u001b[0;34m\u001b[0m\u001b[0m\n",
      "\u001b[0;32m/opt/jupyterhub/anaconda/lib/python3.9/site-packages/PIL/Image.py\u001b[0m in \u001b[0;36mopen\u001b[0;34m(fp, mode, formats)\u001b[0m\n\u001b[1;32m   2966\u001b[0m \u001b[0;34m\u001b[0m\u001b[0m\n\u001b[1;32m   2967\u001b[0m     \u001b[0;32mif\u001b[0m \u001b[0mfilename\u001b[0m\u001b[0;34m:\u001b[0m\u001b[0;34m\u001b[0m\u001b[0;34m\u001b[0m\u001b[0m\n\u001b[0;32m-> 2968\u001b[0;31m         \u001b[0mfp\u001b[0m \u001b[0;34m=\u001b[0m \u001b[0mbuiltins\u001b[0m\u001b[0;34m.\u001b[0m\u001b[0mopen\u001b[0m\u001b[0;34m(\u001b[0m\u001b[0mfilename\u001b[0m\u001b[0;34m,\u001b[0m \u001b[0;34m\"rb\"\u001b[0m\u001b[0;34m)\u001b[0m\u001b[0;34m\u001b[0m\u001b[0;34m\u001b[0m\u001b[0m\n\u001b[0m\u001b[1;32m   2969\u001b[0m         \u001b[0mexclusive_fp\u001b[0m \u001b[0;34m=\u001b[0m \u001b[0;32mTrue\u001b[0m\u001b[0;34m\u001b[0m\u001b[0;34m\u001b[0m\u001b[0m\n\u001b[1;32m   2970\u001b[0m \u001b[0;34m\u001b[0m\u001b[0m\n",
      "\u001b[0;31mFileNotFoundError\u001b[0m: [Errno 2] No such file or directory: 'dialogue/Dataset/VoiceDetection/images/images_splitfolders/val/True/1113_True_dataset_with_negatives_spectro.png'"
     ]
    }
   ],
   "source": []
  },
  {
   "cell_type": "code",
   "execution_count": null,
   "metadata": {},
   "outputs": [
    {
     "name": "stderr",
     "output_type": "stream",
     "text": [
      "UsageError: Line magic function `%%javascript` not found.\n"
     ]
    }
   ],
   "source": [
    "#Shutting down the notebook\n",
    "\n",
    "%%javascript\n",
    "Jupyter.notebook.session.delete();"
   ]
  }
 ],
 "metadata": {
  "kernelspec": {
   "display_name": "Python 3 (ipykernel)",
   "language": "python",
   "name": "python3"
  },
  "language_info": {
   "codemirror_mode": {
    "name": "ipython",
    "version": 3
   },
   "file_extension": ".py",
   "mimetype": "text/x-python",
   "name": "python",
   "nbconvert_exporter": "python",
   "pygments_lexer": "ipython3",
   "version": "3.9.7"
  },
  "orig_nbformat": 4
 },
 "nbformat": 4,
 "nbformat_minor": 2
}
