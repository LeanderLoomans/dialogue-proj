{
 "cells": [
  {
   "cell_type": "code",
   "execution_count": 58,
   "metadata": {},
   "outputs": [],
   "source": [
    "#Importing all needed librarys\n",
    "import torch\n",
    "from torch.utils.data import DataLoader, TensorDataset\n",
    "from torchvision import datasets, transforms\n",
    "from torchvision.transforms import ToTensor, Lambda, Compose\n",
    "import matplotlib.pyplot as plt\n",
    "from sklearn.metrics import accuracy_score\n",
    "from pipetorch.train import *\n",
    "from torch.autograd import Variable\n",
    "from torch.nn import Linear, ReLU, CrossEntropyLoss, Sequential, Conv2d, MaxPool2d, Module, Softmax, BatchNorm2d, Dropout\n",
    "from torch.optim import Adam, SGD\n",
    "from tqdm import tqdm\n",
    "from torch import nn, optim\n",
    "import seaborn as sns\n",
    "import torch.nn.functional as F\n",
    "\n",
    "# importing the libraries\n",
    "import pandas as pd\n",
    "import numpy as np\n",
    "\n",
    "# for creating validation set\n",
    "from sklearn.model_selection import train_test_split\n",
    "\n",
    "\n",
    "import torchvision\n",
    "from torchvision.datasets import ImageFolder"
   ]
  },
  {
   "cell_type": "code",
   "execution_count": 59,
   "metadata": {},
   "outputs": [
    {
     "name": "stdout",
     "output_type": "stream",
     "text": [
      "Thu Dec  9 16:41:46 2021       \n",
      "+-----------------------------------------------------------------------------+\n",
      "| NVIDIA-SMI 470.86       Driver Version: 470.86       CUDA Version: 11.4     |\n",
      "|-------------------------------+----------------------+----------------------+\n",
      "| GPU  Name        Persistence-M| Bus-Id        Disp.A | Volatile Uncorr. ECC |\n",
      "| Fan  Temp  Perf  Pwr:Usage/Cap|         Memory-Usage | GPU-Util  Compute M. |\n",
      "|                               |                      |               MIG M. |\n",
      "|===============================+======================+======================|\n",
      "|   0  NVIDIA GeForce ...  Off  | 00000000:05:00.0 Off |                  N/A |\n",
      "| 29%   32C    P8    16W / 250W |   2203MiB / 11019MiB |      0%      Default |\n",
      "|                               |                      |                  N/A |\n",
      "+-------------------------------+----------------------+----------------------+\n",
      "|   1  NVIDIA GeForce ...  Off  | 00000000:09:00.0 Off |                  N/A |\n",
      "| 29%   27C    P8    21W / 250W |   3757MiB / 11019MiB |      0%      Default |\n",
      "|                               |                      |                  N/A |\n",
      "+-------------------------------+----------------------+----------------------+\n",
      "|   2  NVIDIA GeForce ...  Off  | 00000000:0A:00.0 Off |                  N/A |\n",
      "| 36%   60C    P2   149W / 250W |   8145MiB / 11019MiB |     45%      Default |\n",
      "|                               |                      |                  N/A |\n",
      "+-------------------------------+----------------------+----------------------+\n",
      "|   3  NVIDIA GeForce ...  Off  | 00000000:85:00.0 Off |                  N/A |\n",
      "| 29%   26C    P8     3W / 250W |   2331MiB / 11019MiB |      0%      Default |\n",
      "|                               |                      |                  N/A |\n",
      "+-------------------------------+----------------------+----------------------+\n",
      "|   4  NVIDIA GeForce ...  Off  | 00000000:89:00.0 Off |                  N/A |\n",
      "| 30%   40C    P2    54W / 250W |   3091MiB / 11019MiB |     18%      Default |\n",
      "|                               |                      |                  N/A |\n",
      "+-------------------------------+----------------------+----------------------+\n",
      "                                                                               \n",
      "+-----------------------------------------------------------------------------+\n",
      "| Processes:                                                                  |\n",
      "|  GPU   GI   CI        PID   Type   Process name                  GPU Memory |\n",
      "|        ID   ID                                                   Usage      |\n",
      "|=============================================================================|\n",
      "|    0   N/A  N/A     19374      C   ...erhub/anaconda/bin/python     1081MiB |\n",
      "|    0   N/A  N/A     26503      C   ...erhub/anaconda/bin/python     1119MiB |\n",
      "|    1   N/A  N/A     18110      C   ...erhub/anaconda/bin/python     2675MiB |\n",
      "|    1   N/A  N/A     39094      C   ...erhub/anaconda/bin/python     1079MiB |\n",
      "|    2   N/A  N/A     16817      C   ...erhub/anaconda/bin/python     1079MiB |\n",
      "|    2   N/A  N/A     20675      C   ...erhub/anaconda/bin/python     7063MiB |\n",
      "|    3   N/A  N/A     18972      C   ...erhub/anaconda/bin/python      999MiB |\n",
      "|    3   N/A  N/A     29138      C   ...erhub/anaconda/bin/python     1329MiB |\n",
      "|    4   N/A  N/A     29235      C   ...erhub/anaconda/bin/python     1801MiB |\n",
      "|    4   N/A  N/A     35469      C   ...erhub/anaconda/bin/python     1287MiB |\n",
      "+-----------------------------------------------------------------------------+\n"
     ]
    }
   ],
   "source": [
    "#Checking wich GPU is beeing used\n",
    "\n",
    "!nvidia-smi"
   ]
  },
  {
   "cell_type": "code",
   "execution_count": 60,
   "metadata": {},
   "outputs": [
    {
     "name": "stdout",
     "output_type": "stream",
     "text": [
      "(3200, 40, 32) (3200, 40, 32)\n",
      "[ True False  True ... False  True False]\n"
     ]
    }
   ],
   "source": [
    "#Load data\n",
    "data_speaker1_dir = 'dialogue/Dataset/SameVoiceDetection/whole_second/mfcc/less_20_5_speaker1.npy'\n",
    "\n",
    "data_speaker2_dir = 'dialogue/Dataset/SameVoiceDetection/whole_second/mfcc/less_20_5_speaker2.npy'\n",
    "\n",
    "labels_dir = 'dialogue/Dataset/SameVoiceDetection/whole_second/mfcc/less_20_5_labels.npy'\n",
    "\n",
    "\n",
    "data_speaker1 = np.load(data_speaker1_dir, allow_pickle = True)\n",
    "data_speaker2 = np.load(data_speaker2_dir, allow_pickle = True)\n",
    "#data_speaker1 = data_speaker1.reshape((len(data_speaker1),40,len(data_speaker1[0])//40))\n",
    "#data_speaker2 = data_speaker2.reshape((len(data_speaker2),40,len(data_speaker2[0])//40))\n",
    "labels = np.load(labels_dir, allow_pickle = True)\n",
    "\n",
    "print(data_speaker1.shape, data_speaker2.shape)\n",
    "print(labels)"
   ]
  },
  {
   "cell_type": "code",
   "execution_count": 61,
   "metadata": {},
   "outputs": [
    {
     "name": "stdout",
     "output_type": "stream",
     "text": [
      "<class 'numpy.ndarray'>\n"
     ]
    }
   ],
   "source": [
    "#df_data.drop(['isSpeaking'],axis = 1)\n",
    "X1_train, X1_val, y_train, y_val = train_test_split(data_speaker1, labels, test_size = 0.2, random_state = 23)\n",
    "X1_train, X1_test, y_train, y_test = train_test_split(X1_train, y_train, test_size = 0.2, random_state = 23)\n",
    "\n",
    "X2_train, X2_val, y_train, y_val = train_test_split(data_speaker2, labels, test_size = 0.2, random_state = 23)\n",
    "X2_train, X2_test, y_train, y_test = train_test_split(X2_train, y_train, test_size = 0.2, random_state = 23)\n",
    "\n",
    "print(type(X1_train))\n",
    "#print(X_train)"
   ]
  },
  {
   "cell_type": "code",
   "execution_count": 62,
   "metadata": {},
   "outputs": [
    {
     "name": "stdout",
     "output_type": "stream",
     "text": [
      "torch.Size([2048, 40, 32]) torch.Size([2048])\n",
      "tensor([[-3.0958e+02, -3.0465e+02, -2.8005e+02,  ..., -2.9558e+02,\n",
      "         -3.4148e+02, -3.8393e+02],\n",
      "        [ 1.1720e+02,  8.0796e+01,  4.0841e+00,  ..., -6.5969e+01,\n",
      "         -1.9079e+01,  6.7351e+01],\n",
      "        [-1.3757e+01,  1.4735e+01,  8.2026e+01,  ...,  6.8309e+01,\n",
      "          8.1536e+01,  8.1149e+01],\n",
      "        ...,\n",
      "        [-3.6334e+00, -8.8756e+00, -8.0924e+00,  ..., -7.7838e+00,\n",
      "          2.2948e-01,  3.3340e+00],\n",
      "        [-7.4565e+00, -8.4321e+00, -1.2831e+01,  ..., -3.3749e+00,\n",
      "         -2.7882e-01,  3.5406e-01],\n",
      "        [-1.7537e+00, -5.9824e+00, -8.8652e+00,  ...,  1.8182e+00,\n",
      "         -1.1507e+00, -5.7950e-02]])\n"
     ]
    }
   ],
   "source": [
    "X1_train = torch.from_numpy(X1_train).float()\n",
    "\n",
    "X2_train = torch.from_numpy(X2_train).float()\n",
    "\n",
    "y_train = torch.from_numpy(y_train).float()\n",
    "\n",
    "X1_val = torch.from_numpy(X1_val).float()\n",
    "\n",
    "X2_val = torch.from_numpy(X2_val).float()\n",
    "\n",
    "y_val = torch.from_numpy(y_val).float()\n",
    "\n",
    "X1_test = torch.from_numpy(X1_test).float()\n",
    "\n",
    "X2_test = torch.from_numpy(X2_test).float()\n",
    "\n",
    "y_test = torch.from_numpy(y_test).float()\n",
    "\n",
    "print(X2_train.shape, y_train.shape)\n",
    "\n",
    "print(X2_train[0])\n"
   ]
  },
  {
   "cell_type": "code",
   "execution_count": 63,
   "metadata": {},
   "outputs": [],
   "source": [
    "class model(nn.Module):\n",
    "    def __init__(self,n_features,kernel_size):\n",
    "        super(model, self).__init__()\n",
    "        self.conv1 = nn.Conv1d(n_features, 40, kernel_size=3, stride = 1) #40 input channels, 40 output channels\n",
    "        self.conv2 = nn.Conv1d(40, 60, kernel_size=3, stride = 1) #40 input channels from previous Conv. layer, 80 out\n",
    "        self.conv3 = nn.Conv1d(60, 80, kernel_size=3, stride = 1)\n",
    "\n",
    "        self.fc1 = nn.Linear(320, 200) #Fully-connected classifier layer \n",
    "        self.fc2 = nn.Linear(200, 100)\n",
    "        self.fc3 = nn.Linear(100, 1) #Fully-connected classifier layer\n",
    "    \n",
    "    def forward_one_voice(self, x):\n",
    "        x = F.relu(F.max_pool1d(self.conv1(x), 2))\n",
    "        x = F.relu(F.max_pool1d(self.conv2(x), 2))\n",
    "        x = F.relu(F.max_pool1d(self.conv3(x), 2))\n",
    "        \n",
    "        x = x.reshape(len(x), -1)\n",
    "        batch_size = len(x)\n",
    "        \n",
    "        return x\n",
    "    \n",
    "    def forward(self, x1, x2):\n",
    "        x1 = self.forward_one_voice(x1)\n",
    "        x2 = self.forward_one_voice(x2)\n",
    "        x = torch.concat([x1, x2], axis = 1)\n",
    "        x = self.fc1(x)\n",
    "        x = F.relu(x)\n",
    "        x = self.fc2(x)\n",
    "        x = F.relu(x)\n",
    "        x = self.fc3(x)\n",
    "        \n",
    "        return torch.sigmoid(x)\n",
    "    \n",
    "    def post_forward(self, y): \n",
    "        return torch.round(y)\n",
    "    \n",
    "CNN = model(X1_train.shape[1],kernel_size = 3)"
   ]
  },
  {
   "cell_type": "code",
   "execution_count": 64,
   "metadata": {},
   "outputs": [],
   "source": [
    "weight = torch.FloatTensor([1])\n",
    "criterion = nn.BCELoss()\n",
    "optimizer = optim.Adam(CNN.parameters(), lr=0.00003)"
   ]
  },
  {
   "cell_type": "code",
   "execution_count": 65,
   "metadata": {},
   "outputs": [],
   "source": [
    "train_ds = TensorDataset(X1_train, X2_train, y_train)\n",
    "val_ds = TensorDataset(X1_val, X2_val, y_val)"
   ]
  },
  {
   "cell_type": "code",
   "execution_count": 66,
   "metadata": {},
   "outputs": [],
   "source": [
    "batch_size = 32\n",
    "train_dl = DataLoader(train_ds, batch_size=batch_size, num_workers = 4, pin_memory = True)\n",
    "#val_dl = DataLoader(val_ds, batch_size= 32)"
   ]
  },
  {
   "cell_type": "code",
   "execution_count": 67,
   "metadata": {},
   "outputs": [
    {
     "name": "stdout",
     "output_type": "stream",
     "text": [
      "cuda\n"
     ]
    }
   ],
   "source": [
    "device = torch.device(\"cuda\" if torch.cuda.is_available() else \"cpu\")\n",
    "# X1_train = X1_train.to(device)\n",
    "# X2_train = X2_train.to(device)\n",
    "# y_train = y_train.to(device)\n",
    "X1_val = X1_val.to(device)\n",
    "X2_val = X2_val.to(device)\n",
    "y_val = y_val.to(device)\n",
    "\n",
    "X1_test = X1_test.to(device)\n",
    "X2_test = X2_test.to(device)\n",
    "y_test = y_test.to(device)\n",
    "\n",
    "CNN = CNN.to(device)\n",
    "criterion = criterion.to(device)\n",
    "print(device)"
   ]
  },
  {
   "cell_type": "code",
   "execution_count": 68,
   "metadata": {},
   "outputs": [],
   "source": [
    "def calculate_accuracy(y_true, y_pred):\n",
    "    return (y_true == y_pred).sum().float() / len(y_true)"
   ]
  },
  {
   "cell_type": "code",
   "execution_count": 69,
   "metadata": {},
   "outputs": [
    {
     "name": "stdout",
     "output_type": "stream",
     "text": [
      "epoch 0\n",
      "Train set - loss: 0.696, accuracy: 0.491\n",
      "val  set - loss: 0.698, accuracy: 0.459\n",
      "\n",
      "epoch 1\n",
      "Train set - loss: 0.69, accuracy: 0.502\n",
      "val  set - loss: 0.697, accuracy: 0.488\n",
      "\n",
      "epoch 2\n",
      "Train set - loss: 0.686, accuracy: 0.52\n",
      "val  set - loss: 0.697, accuracy: 0.473\n",
      "\n",
      "epoch 3\n",
      "Train set - loss: 0.685, accuracy: 0.527\n",
      "val  set - loss: 0.697, accuracy: 0.488\n",
      "\n",
      "epoch 4\n",
      "Train set - loss: 0.684, accuracy: 0.541\n",
      "val  set - loss: 0.698, accuracy: 0.489\n",
      "\n",
      "epoch 5\n",
      "Train set - loss: 0.683, accuracy: 0.551\n",
      "val  set - loss: 0.699, accuracy: 0.48\n",
      "\n",
      "epoch 6\n",
      "Train set - loss: 0.682, accuracy: 0.553\n",
      "val  set - loss: 0.699, accuracy: 0.48\n",
      "\n",
      "epoch 7\n",
      "Train set - loss: 0.679, accuracy: 0.563\n",
      "val  set - loss: 0.7, accuracy: 0.473\n",
      "\n",
      "epoch 8\n",
      "Train set - loss: 0.678, accuracy: 0.573\n",
      "val  set - loss: 0.7, accuracy: 0.469\n",
      "\n",
      "epoch 9\n",
      "Train set - loss: 0.676, accuracy: 0.58\n",
      "val  set - loss: 0.7, accuracy: 0.463\n",
      "\n",
      "epoch 10\n",
      "Train set - loss: 0.675, accuracy: 0.583\n",
      "val  set - loss: 0.701, accuracy: 0.466\n",
      "\n",
      "epoch 11\n",
      "Train set - loss: 0.672, accuracy: 0.591\n",
      "val  set - loss: 0.701, accuracy: 0.477\n",
      "\n",
      "epoch 12\n",
      "Train set - loss: 0.67, accuracy: 0.598\n",
      "val  set - loss: 0.702, accuracy: 0.48\n",
      "\n",
      "epoch 13\n",
      "Train set - loss: 0.667, accuracy: 0.604\n",
      "val  set - loss: 0.702, accuracy: 0.48\n",
      "\n",
      "epoch 14\n",
      "Train set - loss: 0.664, accuracy: 0.614\n",
      "val  set - loss: 0.702, accuracy: 0.48\n",
      "\n",
      "epoch 15\n",
      "Train set - loss: 0.66, accuracy: 0.623\n",
      "val  set - loss: 0.701, accuracy: 0.488\n",
      "\n",
      "epoch 16\n",
      "Train set - loss: 0.658, accuracy: 0.629\n",
      "val  set - loss: 0.7, accuracy: 0.497\n",
      "\n",
      "epoch 17\n",
      "Train set - loss: 0.654, accuracy: 0.643\n",
      "val  set - loss: 0.699, accuracy: 0.506\n",
      "\n",
      "epoch 18\n",
      "Train set - loss: 0.648, accuracy: 0.658\n",
      "val  set - loss: 0.695, accuracy: 0.517\n",
      "\n",
      "epoch 19\n",
      "Train set - loss: 0.632, accuracy: 0.678\n",
      "val  set - loss: 0.687, accuracy: 0.545\n",
      "\n",
      "epoch 20\n",
      "Train set - loss: 0.614, accuracy: 0.704\n",
      "val  set - loss: 0.667, accuracy: 0.584\n",
      "\n",
      "epoch 21\n",
      "Train set - loss: 0.575, accuracy: 0.727\n",
      "val  set - loss: 0.628, accuracy: 0.67\n",
      "\n",
      "epoch 22\n",
      "Train set - loss: 0.546, accuracy: 0.739\n",
      "val  set - loss: 0.578, accuracy: 0.709\n",
      "\n",
      "epoch 23\n",
      "Train set - loss: 0.521, accuracy: 0.759\n",
      "val  set - loss: 0.541, accuracy: 0.733\n",
      "\n",
      "epoch 24\n",
      "Train set - loss: 0.513, accuracy: 0.764\n",
      "val  set - loss: 0.521, accuracy: 0.756\n",
      "\n",
      "epoch 25\n",
      "Train set - loss: 0.505, accuracy: 0.776\n",
      "val  set - loss: 0.505, accuracy: 0.773\n",
      "\n",
      "epoch 26\n",
      "Train set - loss: 0.494, accuracy: 0.782\n",
      "val  set - loss: 0.494, accuracy: 0.784\n",
      "\n",
      "epoch 27\n",
      "Train set - loss: 0.481, accuracy: 0.792\n",
      "val  set - loss: 0.482, accuracy: 0.792\n",
      "\n",
      "epoch 28\n",
      "Train set - loss: 0.468, accuracy: 0.8\n",
      "val  set - loss: 0.474, accuracy: 0.802\n",
      "\n",
      "epoch 29\n",
      "Train set - loss: 0.457, accuracy: 0.804\n",
      "val  set - loss: 0.467, accuracy: 0.806\n",
      "\n",
      "epoch 30\n",
      "Train set - loss: 0.45, accuracy: 0.81\n",
      "val  set - loss: 0.46, accuracy: 0.806\n",
      "\n",
      "epoch 31\n",
      "Train set - loss: 0.441, accuracy: 0.818\n",
      "val  set - loss: 0.453, accuracy: 0.806\n",
      "\n",
      "epoch 32\n",
      "Train set - loss: 0.434, accuracy: 0.82\n",
      "val  set - loss: 0.448, accuracy: 0.812\n",
      "\n",
      "epoch 33\n",
      "Train set - loss: 0.426, accuracy: 0.826\n",
      "val  set - loss: 0.442, accuracy: 0.814\n",
      "\n",
      "epoch 34\n",
      "Train set - loss: 0.421, accuracy: 0.832\n",
      "val  set - loss: 0.437, accuracy: 0.819\n",
      "\n",
      "epoch 35\n",
      "Train set - loss: 0.414, accuracy: 0.84\n",
      "val  set - loss: 0.432, accuracy: 0.819\n",
      "\n",
      "epoch 36\n",
      "Train set - loss: 0.407, accuracy: 0.846\n",
      "val  set - loss: 0.428, accuracy: 0.816\n",
      "\n",
      "epoch 37\n",
      "Train set - loss: 0.398, accuracy: 0.848\n",
      "val  set - loss: 0.425, accuracy: 0.816\n",
      "\n",
      "epoch 38\n",
      "Train set - loss: 0.388, accuracy: 0.853\n",
      "val  set - loss: 0.421, accuracy: 0.816\n",
      "\n",
      "epoch 39\n",
      "Train set - loss: 0.376, accuracy: 0.856\n",
      "val  set - loss: 0.417, accuracy: 0.814\n",
      "\n",
      "epoch 40\n",
      "Train set - loss: 0.367, accuracy: 0.858\n",
      "val  set - loss: 0.412, accuracy: 0.822\n",
      "\n",
      "epoch 41\n",
      "Train set - loss: 0.357, accuracy: 0.864\n",
      "val  set - loss: 0.409, accuracy: 0.823\n",
      "\n",
      "epoch 42\n",
      "Train set - loss: 0.348, accuracy: 0.867\n",
      "val  set - loss: 0.406, accuracy: 0.822\n",
      "\n",
      "epoch 43\n",
      "Train set - loss: 0.337, accuracy: 0.871\n",
      "val  set - loss: 0.402, accuracy: 0.825\n",
      "\n",
      "epoch 44\n",
      "Train set - loss: 0.327, accuracy: 0.877\n",
      "val  set - loss: 0.399, accuracy: 0.825\n",
      "\n",
      "epoch 45\n",
      "Train set - loss: 0.315, accuracy: 0.879\n",
      "val  set - loss: 0.395, accuracy: 0.83\n",
      "\n",
      "epoch 46\n",
      "Train set - loss: 0.302, accuracy: 0.886\n",
      "val  set - loss: 0.391, accuracy: 0.834\n",
      "\n",
      "epoch 47\n",
      "Train set - loss: 0.291, accuracy: 0.89\n",
      "val  set - loss: 0.388, accuracy: 0.836\n",
      "\n",
      "epoch 48\n",
      "Train set - loss: 0.279, accuracy: 0.893\n",
      "val  set - loss: 0.384, accuracy: 0.842\n",
      "\n",
      "epoch 49\n",
      "Train set - loss: 0.266, accuracy: 0.894\n",
      "val  set - loss: 0.381, accuracy: 0.842\n",
      "\n"
     ]
    }
   ],
   "source": [
    "def round_tensor(t, decimal_places=3):\n",
    "    return round(t.item(), decimal_places)\n",
    "    \n",
    "Results = pd.DataFrame(columns = ['Epoch', 'Acc_train', 'Acc_val', 'val_loss', 'train_loss'])\n",
    "    \n",
    "for epoch in range(50):\n",
    "    y_acc = torch.empty((batch_size),dtype= torch.int32, device = 'cuda')\n",
    "    y_pred_acc = torch.empty((batch_size), device = 'cuda')\n",
    "    for x1, x2, y in train_dl:\n",
    "        x1, x2, y = x1.to(device), x2.to(device), y.to(device)\n",
    "        optimizer.zero_grad()\n",
    "        y_pred = CNN(x1, x2)\n",
    "        y_pred = y_pred.squeeze()\n",
    "        train_loss = criterion(y_pred, y)\n",
    "        train_loss.backward()\n",
    "        optimizer.step()\n",
    "        y_acc = torch.concat([y, y_acc], axis = 0)\n",
    "        y_pred_acc = torch.concat([y_pred, y_pred_acc], axis = 0)\n",
    "    if epoch % 1 == 0:\n",
    "\n",
    "\n",
    "        train_acc = calculate_accuracy(y_acc, CNN.post_forward(y_pred_acc))\n",
    "    \n",
    "        y_val_pred = CNN(X1_val, X2_val)\n",
    "        y_val_pred = y_val_pred.squeeze()\n",
    "        val_loss = criterion(y_val_pred, y_val)\n",
    "    \n",
    "        val_acc = calculate_accuracy(y_val, CNN.post_forward(y_val_pred))\n",
    "    \n",
    "        result = {'Epoch': epoch, 'Acc_train': round_tensor(train_acc), 'Acc_val': round_tensor(val_acc), 'val_loss': round_tensor(val_loss), 'train_loss': round_tensor(train_loss)}\n",
    "\n",
    "        Results = Results.append(result, ignore_index=True)\n",
    "\n",
    "        print(\n",
    "f'''epoch {epoch}\n",
    "Train set - loss: {round_tensor(train_loss)}, accuracy: {round_tensor(train_acc)}\n",
    "val  set - loss: {round_tensor(val_loss)}, accuracy: {round_tensor(val_acc)}\n",
    "''')"
   ]
  },
  {
   "cell_type": "code",
   "execution_count": 70,
   "metadata": {},
   "outputs": [
    {
     "data": {
      "image/png": "[encoded data removed]",
      "text/plain": [
       "<Figure size 432x288 with 1 Axes>"
      ]
     },
     "metadata": {
      "needs_background": "light"
     },
     "output_type": "display_data"
    },
    {
     "name": "stdout",
     "output_type": "stream",
     "text": [
      "    Epoch  Acc_train  Acc_val  val_loss  train_loss\n",
      "0     0.0      0.491    0.459     0.698       0.696\n",
      "1     1.0      0.502    0.488     0.697       0.690\n",
      "2     2.0      0.520    0.473     0.697       0.686\n",
      "3     3.0      0.527    0.488     0.697       0.685\n",
      "4     4.0      0.541    0.489     0.698       0.684\n",
      "5     5.0      0.551    0.480     0.699       0.683\n",
      "6     6.0      0.553    0.480     0.699       0.682\n",
      "7     7.0      0.563    0.473     0.700       0.679\n",
      "8     8.0      0.573    0.469     0.700       0.678\n",
      "9     9.0      0.580    0.463     0.700       0.676\n",
      "10   10.0      0.583    0.466     0.701       0.675\n",
      "11   11.0      0.591    0.477     0.701       0.672\n",
      "12   12.0      0.598    0.480     0.702       0.670\n",
      "13   13.0      0.604    0.480     0.702       0.667\n",
      "14   14.0      0.614    0.480     0.702       0.664\n",
      "15   15.0      0.623    0.488     0.701       0.660\n",
      "16   16.0      0.629    0.497     0.700       0.658\n",
      "17   17.0      0.643    0.506     0.699       0.654\n",
      "18   18.0      0.658    0.517     0.695       0.648\n",
      "19   19.0      0.678    0.545     0.687       0.632\n",
      "20   20.0      0.704    0.584     0.667       0.614\n",
      "21   21.0      0.727    0.670     0.628       0.575\n",
      "22   22.0      0.739    0.709     0.578       0.546\n",
      "23   23.0      0.759    0.733     0.541       0.521\n",
      "24   24.0      0.764    0.756     0.521       0.513\n",
      "25   25.0      0.776    0.773     0.505       0.505\n",
      "26   26.0      0.782    0.784     0.494       0.494\n",
      "27   27.0      0.792    0.792     0.482       0.481\n",
      "28   28.0      0.800    0.802     0.474       0.468\n",
      "29   29.0      0.804    0.806     0.467       0.457\n",
      "30   30.0      0.810    0.806     0.460       0.450\n",
      "31   31.0      0.818    0.806     0.453       0.441\n",
      "32   32.0      0.820    0.812     0.448       0.434\n",
      "33   33.0      0.826    0.814     0.442       0.426\n",
      "34   34.0      0.832    0.819     0.437       0.421\n",
      "35   35.0      0.840    0.819     0.432       0.414\n",
      "36   36.0      0.846    0.816     0.428       0.407\n",
      "37   37.0      0.848    0.816     0.425       0.398\n",
      "38   38.0      0.853    0.816     0.421       0.388\n",
      "39   39.0      0.856    0.814     0.417       0.376\n",
      "40   40.0      0.858    0.822     0.412       0.367\n",
      "41   41.0      0.864    0.823     0.409       0.357\n",
      "42   42.0      0.867    0.822     0.406       0.348\n",
      "43   43.0      0.871    0.825     0.402       0.337\n",
      "44   44.0      0.877    0.825     0.399       0.327\n",
      "45   45.0      0.879    0.830     0.395       0.315\n",
      "46   46.0      0.886    0.834     0.391       0.302\n",
      "47   47.0      0.890    0.836     0.388       0.291\n",
      "48   48.0      0.893    0.842     0.384       0.279\n",
      "49   49.0      0.894    0.842     0.381       0.266\n"
     ]
    }
   ],
   "source": [
    "plt.plot(Results.Epoch,Results.Acc_train,'r',Results.Epoch,Results.Acc_val,'b')\n",
    "plt.legend(['Train','val'])\n",
    "plt.xlabel('Epochs')\n",
    "plt.ylabel('Accuracy')\n",
    "plt.show()\n",
    "print(Results)"
   ]
  },
  {
   "cell_type": "code",
   "execution_count": 71,
   "metadata": {},
   "outputs": [
    {
     "data": {
      "image/png": "[encoded data removed]",
      "text/plain": [
       "<Figure size 432x288 with 1 Axes>"
      ]
     },
     "metadata": {
      "needs_background": "light"
     },
     "output_type": "display_data"
    }
   ],
   "source": [
    "plt.plot(Results.Epoch,Results.train_loss,'r',Results.Epoch,Results.val_loss,'b')\n",
    "plt.legend(['Train','val'])\n",
    "plt.xlabel('Epochs')\n",
    "plt.ylabel('Loss')\n",
    "plt.show()"
   ]
  },
  {
   "cell_type": "code",
   "execution_count": 72,
   "metadata": {},
   "outputs": [
    {
     "name": "stdout",
     "output_type": "stream",
     "text": [
      "                 precision    recall  f1-score   support\n",
      "\n",
      "Different Voice       0.90      0.77      0.83       322\n",
      "     Same Voice       0.80      0.92      0.85       318\n",
      "\n",
      "       accuracy                           0.84       640\n",
      "      macro avg       0.85      0.84      0.84       640\n",
      "   weighted avg       0.85      0.84      0.84       640\n",
      "\n"
     ]
    }
   ],
   "source": [
    "classes = ['Different Voice', 'Same Voice']\n",
    "y_pred = CNN(X1_val, X2_val)\n",
    "y_pred = y_pred.ge(.5).view(-1).cpu()\n",
    "y_val = y_val.cpu()\n",
    "print(classification_report(y_val, y_pred, target_names=classes))"
   ]
  },
  {
   "cell_type": "code",
   "execution_count": 73,
   "metadata": {},
   "outputs": [
    {
     "data": {
      "image/png": "[encoded data removed]",
      "text/plain": [
       "<Figure size 432x288 with 2 Axes>"
      ]
     },
     "metadata": {
      "needs_background": "light"
     },
     "output_type": "display_data"
    }
   ],
   "source": [
    "cm = confusion_matrix(y_val, y_pred)\n",
    "df_cm = pd.DataFrame(cm, index=classes, columns=classes)\n",
    "hmap = sns.heatmap(df_cm, annot=True, fmt=\"d\", cmap= 'crest')\n",
    "hmap.yaxis.set_ticklabels(hmap.yaxis.get_ticklabels(), rotation=0, ha='right')\n",
    "hmap.xaxis.set_ticklabels(hmap.xaxis.get_ticklabels(), rotation=30, ha='right')\n",
    "plt.ylabel('True label')\n",
    "plt.xlabel('Predicted label');"
   ]
  },
  {
   "cell_type": "code",
   "execution_count": 74,
   "metadata": {},
   "outputs": [
    {
     "name": "stdout",
     "output_type": "stream",
     "text": [
      "                 precision    recall  f1-score   support\n",
      "\n",
      "Different Voice       0.91      0.80      0.85       263\n",
      "     Same Voice       0.81      0.91      0.86       249\n",
      "\n",
      "       accuracy                           0.85       512\n",
      "      macro avg       0.86      0.86      0.85       512\n",
      "   weighted avg       0.86      0.85      0.85       512\n",
      "\n"
     ]
    }
   ],
   "source": [
    "y_pred = CNN(X1_test, X2_test)\n",
    "y_pred = y_pred.ge(.5).view(-1).cpu()\n",
    "y_test = y_test.cpu()\n",
    "print(classification_report(y_test, y_pred, target_names=classes))"
   ]
  },
  {
   "cell_type": "code",
   "execution_count": 75,
   "metadata": {},
   "outputs": [
    {
     "data": {
      "image/png": "[encoded data removed]",
      "text/plain": [
       "<Figure size 432x288 with 2 Axes>"
      ]
     },
     "metadata": {
      "needs_background": "light"
     },
     "output_type": "display_data"
    }
   ],
   "source": [
    "cm = confusion_matrix(y_test, y_pred)\n",
    "df_cm = pd.DataFrame(cm, index=classes, columns=classes)\n",
    "hmap = sns.heatmap(df_cm, annot=True, fmt=\"d\", cmap= 'crest')\n",
    "hmap.yaxis.set_ticklabels(hmap.yaxis.get_ticklabels(), rotation=0, ha='right')\n",
    "hmap.xaxis.set_ticklabels(hmap.xaxis.get_ticklabels(), rotation=30, ha='right')\n",
    "plt.ylabel('True label')\n",
    "plt.xlabel('Predicted label');"
   ]
  },
  {
   "cell_type": "code",
   "execution_count": 76,
   "metadata": {},
   "outputs": [
    {
     "name": "stderr",
     "output_type": "stream",
     "text": [
      "UsageError: Line magic function `%%javascript` not found.\n"
     ]
    }
   ],
   "source": [
    "#Shutting down the notebook\n",
    "\n",
    "%%javascript\n",
    "Jupyter.notebook.session.delete();"
   ]
  }
 ],
 "metadata": {
  "kernelspec": {
   "display_name": "Python 3 (ipykernel)",
   "language": "python",
   "name": "python3"
  },
  "language_info": {
   "codemirror_mode": {
    "name": "ipython",
    "version": 3
   },
   "file_extension": ".py",
   "mimetype": "text/x-python",
   "name": "python",
   "nbconvert_exporter": "python",
   "pygments_lexer": "ipython3",
   "version": "3.9.7"
  },
  "orig_nbformat": 4
 },
 "nbformat": 4,
 "nbformat_minor": 2
}
