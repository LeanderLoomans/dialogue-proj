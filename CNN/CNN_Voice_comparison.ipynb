{
 "cells": [
  {
   "cell_type": "code",
   "execution_count": 1,
   "metadata": {},
   "outputs": [
    {
     "name": "stdout",
     "output_type": "stream",
     "text": [
      "using gpu 2\n"
     ]
    }
   ],
   "source": [
    "#Importing all needed librarys\n",
    "import torch\n",
    "from torch.utils.data import DataLoader, TensorDataset\n",
    "from torchvision import datasets, transforms\n",
    "from torchvision.transforms import ToTensor, Lambda, Compose\n",
    "import matplotlib.pyplot as plt\n",
    "from sklearn.metrics import accuracy_score\n",
    "from pipetorch.train import *\n",
    "from torch.autograd import Variable\n",
    "from torch.nn import Linear, ReLU, CrossEntropyLoss, Sequential, Conv2d, MaxPool2d, Module, Softmax, BatchNorm2d, Dropout\n",
    "from torch.optim import Adam, SGD\n",
    "from tqdm import tqdm\n",
    "from torch import nn, optim\n",
    "import seaborn as sns\n",
    "import torch.nn.functional as F\n",
    "\n",
    "# importing the libraries\n",
    "import pandas as pd\n",
    "import numpy as np\n",
    "\n",
    "# for creating validation set\n",
    "from sklearn.model_selection import train_test_split\n",
    "\n",
    "\n",
    "import torchvision\n",
    "from torchvision.datasets import ImageFolder"
   ]
  },
  {
   "cell_type": "code",
   "execution_count": 2,
   "metadata": {},
   "outputs": [
    {
     "name": "stdout",
     "output_type": "stream",
     "text": [
      "Mon Nov 29 15:32:57 2021       \n",
      "+-----------------------------------------------------------------------------+\n",
      "| NVIDIA-SMI 470.86       Driver Version: 470.86       CUDA Version: 11.4     |\n",
      "|-------------------------------+----------------------+----------------------+\n",
      "| GPU  Name        Persistence-M| Bus-Id        Disp.A | Volatile Uncorr. ECC |\n",
      "| Fan  Temp  Perf  Pwr:Usage/Cap|         Memory-Usage | GPU-Util  Compute M. |\n",
      "|                               |                      |               MIG M. |\n",
      "|===============================+======================+======================|\n",
      "|   0  NVIDIA GeForce ...  Off  | 00000000:05:00.0 Off |                  N/A |\n",
      "| 29%   27C    P8    17W / 250W |   3892MiB / 11019MiB |      0%      Default |\n",
      "|                               |                      |                  N/A |\n",
      "+-------------------------------+----------------------+----------------------+\n",
      "|   1  NVIDIA GeForce ...  Off  | 00000000:09:00.0 Off |                  N/A |\n",
      "| 29%   28C    P8    20W / 250W |   2639MiB / 11019MiB |      0%      Default |\n",
      "|                               |                      |                  N/A |\n",
      "+-------------------------------+----------------------+----------------------+\n",
      "|   2  NVIDIA GeForce ...  Off  | 00000000:0A:00.0 Off |                  N/A |\n",
      "| 30%   39C    P2    57W / 250W |   1264MiB / 11019MiB |     12%      Default |\n",
      "|                               |                      |                  N/A |\n",
      "+-------------------------------+----------------------+----------------------+\n",
      "|   3  NVIDIA GeForce ...  Off  | 00000000:85:00.0 Off |                  N/A |\n",
      "| 30%   38C    P2    58W / 250W |   2423MiB / 11019MiB |     12%      Default |\n",
      "|                               |                      |                  N/A |\n",
      "+-------------------------------+----------------------+----------------------+\n",
      "|   4  NVIDIA GeForce ...  Off  | 00000000:89:00.0 Off |                  N/A |\n",
      "| 29%   25C    P8     1W / 250W |   9953MiB / 11019MiB |      0%      Default |\n",
      "|                               |                      |                  N/A |\n",
      "+-------------------------------+----------------------+----------------------+\n",
      "                                                                               \n",
      "+-----------------------------------------------------------------------------+\n",
      "| Processes:                                                                  |\n",
      "|  GPU   GI   CI        PID   Type   Process name                  GPU Memory |\n",
      "|        ID   ID                                                   Usage      |\n",
      "|=============================================================================|\n",
      "|    0   N/A  N/A      8315      C   ...erhub/anaconda/bin/python     1787MiB |\n",
      "|    0   N/A  N/A     15406      C   ...erhub/anaconda/bin/python     1051MiB |\n",
      "|    0   N/A  N/A     19472      C   ...erhub/anaconda/bin/python     1051MiB |\n",
      "|    1   N/A  N/A      8844      C   ...erhub/anaconda/bin/python     1613MiB |\n",
      "|    1   N/A  N/A     12706      C   ...erhub/anaconda/bin/python     1023MiB |\n",
      "|    2   N/A  N/A     22442      C   ...erhub/anaconda/bin/python     1261MiB |\n",
      "|    3   N/A  N/A     15155      C   ...erhub/anaconda/bin/python     1123MiB |\n",
      "|    3   N/A  N/A     24512      C   ...erhub/anaconda/bin/python     1297MiB |\n",
      "|    4   N/A  N/A     15406      C   ...erhub/anaconda/bin/python     4975MiB |\n",
      "|    4   N/A  N/A     19472      C   ...erhub/anaconda/bin/python     4975MiB |\n",
      "+-----------------------------------------------------------------------------+\n"
     ]
    }
   ],
   "source": [
    "#Checking wich GPU is beeing used\n",
    "\n",
    "!nvidia-smi"
   ]
  },
  {
   "cell_type": "code",
   "execution_count": 3,
   "metadata": {},
   "outputs": [
    {
     "name": "stdout",
     "output_type": "stream",
     "text": [
      "(15200, 40, 16) (15200, 40, 16)\n",
      "[[1.]\n",
      " [0.]\n",
      " [1.]\n",
      " ...\n",
      " [0.]\n",
      " [1.]\n",
      " [0.]]\n"
     ]
    }
   ],
   "source": [
    "#Load data\n",
    "data_speaker1_dir = 'dialogue/Dataset/SameVoiceDetection/2d_dataset/speaker1.npy'\n",
    "#data_speaker1_dir = 'dialogue/Leander/outputs/speaker1.npy'\n",
    "data_speaker2_dir = 'dialogue/Dataset/SameVoiceDetection/2d_dataset/speaker2.npy'\n",
    "#data_speaker2_dir = 'dialogue/Leander/outputs/speaker2.npy'\n",
    "labels_dir = 'dialogue/Dataset/SameVoiceDetection/2d_dataset/labels.npy'\n",
    "#labels_dir = 'dialogue/Leander/outputs/labels.npy'\n",
    "\n",
    "data_speaker1 = np.load(data_speaker1_dir, allow_pickle = True)\n",
    "data_speaker2 = np.load(data_speaker2_dir, allow_pickle = True)\n",
    "data_speaker1 = data_speaker1.reshape((len(data_speaker1),40,len(data_speaker1[0])//40))\n",
    "data_speaker2 = data_speaker2.reshape((len(data_speaker2),40,len(data_speaker2[0])//40))\n",
    "labels = np.load(labels_dir, allow_pickle = True)\n",
    "\n",
    "print(data_speaker1.shape, data_speaker2.shape)\n",
    "print(labels)"
   ]
  },
  {
   "cell_type": "code",
   "execution_count": 4,
   "metadata": {},
   "outputs": [
    {
     "name": "stdout",
     "output_type": "stream",
     "text": [
      "<class 'numpy.ndarray'>\n"
     ]
    }
   ],
   "source": [
    "#df_data.drop(['isSpeaking'],axis = 1)\n",
    "X1_train, X1_test, y_train, y_test = train_test_split(data_speaker1, labels, test_size = 0.2, random_state = 23)\n",
    "X1_train, X1_val, y_train, y_val = train_test_split(X1_train, y_train, test_size = 0.2, random_state = 23)\n",
    "\n",
    "X2_train, X2_test, y_train, y_test = train_test_split(data_speaker2, labels, test_size = 0.2, random_state = 23)\n",
    "X2_train, X2_val, y_train, y_val = train_test_split(X2_train, y_train, test_size = 0.2, random_state = 23)\n",
    "\n",
    "print(type(X1_train))\n",
    "#print(X_train)"
   ]
  },
  {
   "cell_type": "code",
   "execution_count": 5,
   "metadata": {},
   "outputs": [
    {
     "name": "stdout",
     "output_type": "stream",
     "text": [
      "torch.Size([9728, 40, 16]) torch.Size([9728, 1])\n",
      "tensor([[-6.1127e+02, -6.1127e+02, -6.1127e+02, -6.1127e+02, -6.1125e+02,\n",
      "         -4.2397e+02, -2.8594e+02, -1.9819e+02, -2.0949e+02, -2.5603e+02,\n",
      "         -2.4439e+02, -2.0921e+02, -1.6878e+02, -1.7959e+02, -2.4333e+02,\n",
      "         -2.6935e+02],\n",
      "        [ 0.0000e+00,  4.6558e-04,  0.0000e+00,  0.0000e+00,  5.0177e-03,\n",
      "         -1.0616e+01,  2.4356e+01,  9.9508e+01,  1.5043e+02,  1.6638e+02,\n",
      "          1.6236e+02,  1.5187e+02,  1.5148e+02,  1.4887e+02,  1.0869e+02,\n",
      "          9.3501e+01],\n",
      "        [ 0.0000e+00, -2.0551e-03,  0.0000e+00,  0.0000e+00, -2.2149e-02,\n",
      "          2.0407e+01,  3.8085e+01,  5.8528e+01,  6.8018e+01,  8.7144e+01,\n",
      "          5.8028e+01,  4.4785e+01,  4.2479e+01,  4.2549e+01,  4.7621e+01,\n",
      "          5.6290e+01],\n",
      "        [ 0.0000e+00, -1.3169e-03,  0.0000e+00,  0.0000e+00, -1.4192e-02,\n",
      "         -3.8298e+00,  2.9616e+00,  5.0282e+00,  7.6712e-01, -1.7323e+01,\n",
      "         -9.1165e+00, -7.3274e+00, -1.0356e+01, -1.0879e+01,  3.2876e+00,\n",
      "          2.7377e+01],\n",
      "        [ 0.0000e+00,  1.5096e-03,  0.0000e+00,  0.0000e+00,  1.6270e-02,\n",
      "          8.4549e-01,  8.5798e+00, -6.7106e+00, -3.0829e+01, -6.5898e+01,\n",
      "         -7.7251e+01, -7.4023e+01, -4.8324e+01, -2.1569e+01,  2.7557e+00,\n",
      "          1.4741e+01],\n",
      "        [ 0.0000e+00,  1.9422e-03,  0.0000e+00,  0.0000e+00,  2.0932e-02,\n",
      "         -7.5540e+00, -7.8239e+00, -2.3461e+01, -2.2513e+01, -4.0507e+00,\n",
      "         -6.2181e+00,  4.9251e-03,  1.2587e+01,  1.5072e+01,  1.4961e+01,\n",
      "          1.7728e+01],\n",
      "        [ 0.0000e+00, -7.0514e-04,  0.0000e+00,  0.0000e+00, -7.5997e-03,\n",
      "         -2.8302e+00, -8.7742e+00, -1.9554e+01, -2.0596e+01, -1.9852e+01,\n",
      "         -1.3971e+01, -7.6610e+00, -5.0806e+00, -5.0269e+00,  4.8815e+00,\n",
      "          2.2162e+00],\n",
      "        [ 0.0000e+00, -2.2343e-03,  0.0000e+00,  0.0000e+00, -2.4080e-02,\n",
      "         -1.3161e+01, -1.5053e+01, -1.9934e+01, -1.8404e+01, -1.1856e+01,\n",
      "         -2.1061e+01, -1.5711e+01, -1.6503e+01, -1.5920e+01, -5.5435e+00,\n",
      "         -2.3130e+00],\n",
      "        [ 0.0000e+00, -2.2034e-04,  0.0000e+00,  0.0000e+00, -2.3747e-03,\n",
      "         -8.2283e+00, -5.3856e+00, -3.3278e+00,  5.3423e-01, -1.8629e+00,\n",
      "          4.7571e-01, -1.7299e+01, -3.9150e+01, -3.7226e+01, -2.0647e+01,\n",
      "         -1.1197e+01],\n",
      "        [ 0.0000e+00,  2.1430e-03,  0.0000e+00,  0.0000e+00,  2.3096e-02,\n",
      "         -9.2244e+00, -3.3111e+00,  1.3069e+00, -4.6988e+00, -1.5617e+01,\n",
      "         -1.8358e+01, -2.4319e+01, -2.4429e+01, -1.9907e+01, -1.4651e+01,\n",
      "         -1.0237e+01],\n",
      "        [ 0.0000e+00,  1.1080e-03,  0.0000e+00,  0.0000e+00,  1.1942e-02,\n",
      "         -1.2042e+00, -1.4390e+00, -4.5398e+00, -7.2007e+00, -7.8979e+00,\n",
      "         -1.6347e+01, -2.0798e+01, -9.8431e+00, -3.5495e+00, -4.8094e+00,\n",
      "          3.1351e+00],\n",
      "        [ 0.0000e+00, -1.6840e-03,  0.0000e+00,  0.0000e+00, -1.8150e-02,\n",
      "         -3.2619e+00, -7.5996e+00, -1.1337e+01, -1.6630e+01, -1.5987e+01,\n",
      "         -2.3918e+01, -1.9188e+01, -1.2478e+01, -1.1898e+01, -1.2155e+01,\n",
      "         -1.5971e+01],\n",
      "        [ 0.0000e+00, -1.8056e-03,  0.0000e+00,  0.0000e+00, -1.9460e-02,\n",
      "         -5.4556e+00, -4.0700e+00, -4.0015e+00, -8.3741e+00, -1.1822e+01,\n",
      "         -1.4302e+01, -7.5425e+00,  9.7357e-01,  3.4326e+00,  2.6272e+00,\n",
      "         -3.4713e+00],\n",
      "        [ 0.0000e+00,  9.3612e-04,  0.0000e+00,  0.0000e+00,  1.0089e-02,\n",
      "         -5.6402e+00, -1.2646e+00, -1.6639e+00,  1.0251e+00, -6.2141e+00,\n",
      "         -8.9614e+00, -8.5156e+00, -5.6633e+00, -4.3000e+00, -8.2250e+00,\n",
      "         -5.4542e+00],\n",
      "        [ 0.0000e+00,  2.1933e-03,  0.0000e+00,  0.0000e+00,  2.3639e-02,\n",
      "         -9.6427e+00, -5.2397e+00, -4.7234e+00, -6.2413e+00, -2.8980e+00,\n",
      "          4.3288e+00, -1.0440e+01, -2.0126e+01, -2.0512e+01, -1.0289e+01,\n",
      "         -2.5497e+00],\n",
      "        [ 0.0000e+00, -2.7586e-05,  0.0000e+00,  0.0000e+00, -2.9731e-04,\n",
      "         -5.2312e+00, -5.4735e+00, -3.6153e+00,  3.9891e+00,  1.6415e+01,\n",
      "          1.2997e+01,  1.8337e+00, -2.2001e+00, -1.5154e+00, -2.8413e+00,\n",
      "         -1.5545e+00],\n",
      "        [ 0.0000e+00, -2.2048e-03,  0.0000e+00,  0.0000e+00, -2.3762e-02,\n",
      "          2.5253e-01,  3.0827e+00,  8.8178e+00,  1.0007e+01,  9.9448e+00,\n",
      "          5.8496e+00,  5.0763e+00,  7.0549e+00,  1.0253e+01,  5.5331e+00,\n",
      "          2.3228e-01],\n",
      "        [ 0.0000e+00, -8.8568e-04,  0.0000e+00,  0.0000e+00, -9.5454e-03,\n",
      "         -4.8392e+00,  8.6996e-01,  6.8197e+00,  3.5086e+00, -4.6971e+00,\n",
      "         -6.5400e+00, -8.2343e+00, -1.3892e+01, -1.2540e+01, -4.7257e+00,\n",
      "         -5.6387e+00],\n",
      "        [ 0.0000e+00,  1.8379e-03,  0.0000e+00,  0.0000e+00,  1.9808e-02,\n",
      "         -9.1037e-01, -9.0406e-01,  1.4595e+00,  3.0667e+00,  8.5046e+00,\n",
      "          2.6105e+00,  7.2135e+00,  3.5492e+00,  8.0685e-01, -1.3757e+00,\n",
      "          4.3507e+00],\n",
      "        [ 0.0000e+00,  1.6470e-03,  0.0000e+00,  0.0000e+00,  1.7750e-02,\n",
      "          1.9873e+00, -8.8978e-01, -2.5300e+00, -7.8319e+00, -1.2313e+01,\n",
      "         -1.2720e+01, -1.0076e+01, -9.8265e+00, -8.4848e+00, -6.0259e+00,\n",
      "         -1.2922e+00],\n",
      "        [ 0.0000e+00, -1.1557e-03,  0.0000e+00,  0.0000e+00, -1.2455e-02,\n",
      "         -1.4942e+00, -5.7018e+00, -7.4062e+00, -2.0489e+00, -7.5759e+00,\n",
      "         -1.1224e+01, -1.5594e+01, -1.6348e+01, -1.6641e+01, -1.1902e+01,\n",
      "         -4.7305e+00],\n",
      "        [ 0.0000e+00, -2.1257e-03,  0.0000e+00,  0.0000e+00, -2.2909e-02,\n",
      "         -1.3939e+00, -2.5085e+00, -7.8308e+00, -5.7719e+00, -4.5691e+00,\n",
      "         -3.6633e+00, -2.2702e+00,  2.3083e+00,  1.1328e+00, -2.9320e+00,\n",
      "         -1.9645e+00],\n",
      "        [ 0.0000e+00,  2.7517e-04,  0.0000e+00,  0.0000e+00,  2.9657e-03,\n",
      "         -1.4712e+00,  3.4916e+00, -1.8512e+00, -5.0583e+00, -3.6134e+00,\n",
      "         -9.0073e+00, -1.6578e+01, -1.1121e+01, -4.4880e+00, -4.5925e+00,\n",
      "         -5.0014e+00],\n",
      "        [ 0.0000e+00,  2.2397e-03,  0.0000e+00,  0.0000e+00,  2.4138e-02,\n",
      "         -1.7567e+00,  3.5688e+00,  8.8432e-01, -2.1503e+00, -6.9659e+00,\n",
      "         -1.2495e+01, -5.2413e+00, -3.7179e+00, -4.8281e+00, -5.6372e+00,\n",
      "          1.3929e+00],\n",
      "        [ 0.0000e+00,  6.5255e-04,  0.0000e+00,  0.0000e+00,  7.0328e-03,\n",
      "         -9.4349e-01,  2.1736e+00,  2.0839e+00, -1.1738e+00, -3.1515e+00,\n",
      "         -8.4170e+00, -8.8434e+00, -7.5446e+00, -9.3115e+00, -9.6501e+00,\n",
      "         -1.3767e+00],\n",
      "        [ 0.0000e+00, -1.9694e-03,  0.0000e+00,  0.0000e+00, -2.1225e-02,\n",
      "         -5.1958e+00, -4.5594e+00, -7.2132e+00, -1.2885e+01, -1.8462e+01,\n",
      "         -2.0325e+01, -1.5470e+01, -1.2685e+01, -1.0304e+01, -8.9076e+00,\n",
      "         -1.2962e+01],\n",
      "        [ 0.0000e+00, -1.4683e-03,  0.0000e+00,  0.0000e+00, -1.5825e-02,\n",
      "         -9.8819e-01, -8.6894e-01, -4.4918e-01, -2.3736e+00, -7.9820e+00,\n",
      "         -1.0604e+01, -6.7126e+00, -6.4659e-01,  1.5804e+00,  3.7260e+00,\n",
      "          3.1762e+00],\n",
      "        [ 0.0000e+00,  1.3612e-03,  0.0000e+00,  0.0000e+00,  1.4670e-02,\n",
      "         -9.8057e-01,  2.3483e-01,  4.8576e+00,  6.7280e+00,  7.0713e+00,\n",
      "         -4.8791e+00, -9.3085e+00, -1.0155e+01, -8.4369e+00, -6.2149e+00,\n",
      "         -1.0325e+01],\n",
      "        [ 0.0000e+00,  2.0321e-03,  0.0000e+00,  0.0000e+00,  2.1901e-02,\n",
      "         -7.2134e-01,  4.5526e+00,  7.0442e+00,  1.2624e+01,  2.0028e+01,\n",
      "          6.6345e+00, -6.7347e+00, -4.3451e+00, -1.5900e+00, -2.9629e+00,\n",
      "         -1.4250e+01],\n",
      "        [ 0.0000e+00, -5.1941e-04,  0.0000e+00,  0.0000e+00, -5.5979e-03,\n",
      "         -6.4358e+00,  2.4770e+00,  5.8546e+00,  1.1907e+01,  2.5576e+01,\n",
      "          1.7049e+01, -8.0012e-01, -3.4594e+00,  6.3019e-01,  9.1247e-01,\n",
      "         -4.1905e+00],\n",
      "        [ 0.0000e+00, -2.2473e-03,  0.0000e+00,  0.0000e+00, -2.4220e-02,\n",
      "         -6.6477e+00,  2.5675e-01,  5.3498e+00,  1.0677e+01,  2.6180e+01,\n",
      "          2.3191e+01,  4.6520e-01, -4.2272e+00, -5.0522e+00, -2.5679e+00,\n",
      "          2.9385e+00],\n",
      "        [ 0.0000e+00, -4.1147e-04,  0.0000e+00,  0.0000e+00, -4.4346e-03,\n",
      "         -5.2692e+00,  6.1080e-01,  4.0876e+00,  3.3443e+00,  4.1516e+00,\n",
      "          1.6322e+01,  4.4781e+00, -4.4817e+00, -5.8106e+00, -3.6930e+00,\n",
      "         -1.0709e+00],\n",
      "        [ 0.0000e+00,  2.0768e-03,  0.0000e+00,  0.0000e+00,  2.2383e-02,\n",
      "         -2.4585e+00,  5.8781e+00,  9.1506e+00,  4.1811e+00,  4.5683e+00,\n",
      "          1.7561e+01,  5.3824e+00, -3.2504e+00, -1.8179e-01, -1.8696e+00,\n",
      "         -1.4372e+00],\n",
      "        [ 0.0000e+00,  1.2717e-03,  0.0000e+00,  0.0000e+00,  1.3706e-02,\n",
      "         -5.0982e+00,  4.4088e+00,  3.7699e+00,  1.4512e+00, -3.1465e+00,\n",
      "          5.9845e+00,  4.0743e+00, -8.2300e+00, -7.0228e+00, -3.9600e+00,\n",
      "         -2.0996e+00],\n",
      "        [ 0.0000e+00, -1.5501e-03,  0.0000e+00,  0.0000e+00, -1.6706e-02,\n",
      "         -4.7952e+00,  5.3354e-01, -3.6728e+00, -2.4192e+00, -2.5579e+00,\n",
      "          2.3128e+00,  1.8828e+00, -7.1415e+00, -4.4089e+00,  2.9255e+00,\n",
      "          1.7671e+00],\n",
      "        [ 0.0000e+00, -1.9138e-03,  0.0000e+00,  0.0000e+00, -2.0626e-02,\n",
      "         -3.8081e+00, -7.2378e-01, -6.3593e+00, -5.0191e+00,  1.7196e+00,\n",
      "          8.6210e+00,  6.5449e+00, -5.7241e+00, -7.3408e+00, -4.9239e+00,\n",
      "         -9.3500e+00],\n",
      "        [ 0.0000e+00,  7.5732e-04,  0.0000e+00,  0.0000e+00,  8.1619e-03,\n",
      "          7.5534e-01,  2.9304e+00,  1.1448e-01, -3.3720e-01, -4.8758e+00,\n",
      "         -4.5706e+00,  6.7581e+00,  8.7830e-01, -3.9990e+00, -1.4711e+00,\n",
      "         -2.4558e+00],\n",
      "        [ 0.0000e+00,  2.2275e-03,  0.0000e+00,  0.0000e+00,  2.4007e-02,\n",
      "         -1.3784e+00, -5.3156e-01, -5.8782e-01, -2.1516e+00,  1.8347e+00,\n",
      "          5.3024e+00,  1.1696e+01,  8.1532e+00, -2.4937e+00, -5.6843e+00,\n",
      "         -3.4640e+00],\n",
      "        [ 0.0000e+00,  1.6537e-04,  0.0000e+00,  0.0000e+00,  1.7823e-03,\n",
      "         -1.4625e+00, -1.9057e+00, -3.5042e+00, -7.8827e+00, -8.6110e+00,\n",
      "          3.0211e+00,  1.2600e+01,  7.7500e+00, -2.2184e+00, -7.6244e+00,\n",
      "         -2.5399e+00],\n",
      "        [ 0.0000e+00, -2.1590e-03,  0.0000e+00,  0.0000e+00, -2.3269e-02,\n",
      "         -3.2422e+00, -3.5939e+00, -2.5224e+00,  1.1269e+00,  4.4887e+00,\n",
      "          7.9237e+00,  1.1188e+01,  7.4761e+00,  8.4961e-02, -6.5177e+00,\n",
      "          2.5070e+00]])\n"
     ]
    }
   ],
   "source": [
    "#print(pd.DataFrame(X_train))\n",
    "X1_train = torch.from_numpy(X1_train).float()\n",
    "#X1_train = X1_train.unsqueeze_(-1)\n",
    "#X1_train = X1_train.transpose(1, 2)\n",
    "\n",
    "X2_train = torch.from_numpy(X2_train).float()\n",
    "#X2_train = X2_train.unsqueeze_(-1)\n",
    "#X2_train = X2_train.transpose(1, 2)\n",
    "\n",
    "y_train = torch.from_numpy(y_train).float()\n",
    "\n",
    "X1_test = torch.from_numpy(X1_test).float()\n",
    "#X1_test = X1_test.unsqueeze_(-1)\n",
    "#X1_test = X1_test.transpose(1, 2) #torch.tensor(X_test.values)\n",
    "\n",
    "X2_test = torch.from_numpy(X2_test).float()\n",
    "#X2_test = X2_test.unsqueeze_(-1)\n",
    "#X2_test = X2_test.transpose(1, 2)\n",
    "\n",
    "y_test = torch.from_numpy(y_test).float()\n",
    "\n",
    "X1_val = torch.from_numpy(X1_val).float()\n",
    "#X1_val = X1_val.unsqueeze_(-1)\n",
    "#X1_val = X1_val.transpose(1, 2)\n",
    "\n",
    "X2_val = torch.from_numpy(X2_val).float()\n",
    "#X2_val = X2_val.unsqueeze_(-1)\n",
    "#X2_val = X2_val.transpose(1, 2)\n",
    "\n",
    "y_val = torch.from_numpy(y_val).float()\n",
    "#print(X_val.shape, X_val)\n",
    "print(X2_train.shape, y_train.shape)\n",
    "#print(test_X.shape)\n",
    "print(X2_train[0])\n"
   ]
  },
  {
   "cell_type": "code",
   "execution_count": 6,
   "metadata": {},
   "outputs": [],
   "source": [
    "class model(nn.Module):\n",
    "    def __init__(self,n_features,kernel_size):\n",
    "        super(model, self).__init__()\n",
    "        self.conv1 = nn.Conv1d(n_features, 40, kernel_size=3, stride = 1) #1 input channels, 100 output channels\n",
    "        self.conv2 = nn.Conv1d(40, 80, kernel_size=3, stride = 1) #100 input channels from previous Conv. layer, 75 out\n",
    "        self.conv3 = nn.Conv1d(200, 350, kernel_size=3, stride = 1) #75 input channels from previous Conv. layer, 50 out\n",
    "        self.conv4 = nn.Conv1d(160, 80, kernel_size=3, stride = 1) #75 input channels from previous Conv. layer, 50 out\n",
    "        self.conv5 = nn.Conv1d(80, 60, kernel_size=3, stride = 1) #75 input channels from previous Conv. layer, 50 out\n",
    "        self.conv5_drop = nn.Dropout2d() #dropout\n",
    "        \n",
    "        self.fc1 = nn.Linear(320, 100) #Fully-connected classifier layer \n",
    "        self.fc2 = nn.Linear(100, 1) #Fully-connected classifier layer\n",
    "        self.fc3 = nn.Linear(350, 150) #Fully-connected classifier layer\n",
    "        self.fc4 = nn.Linear(150, 1) #Fully-connected classifier layer\n",
    "        # self.fc5 = nn.Linear(20,1) #Fully-connected classifier layer\n",
    "    \n",
    "    def forward_one_voice(self, x):\n",
    "        #print(x.shape)\n",
    "        x = F.relu(F.max_pool1d(self.conv1(x), 2))\n",
    "        #print(x.shape)\n",
    "        x = F.relu(F.max_pool1d(self.conv2(x), 2))\n",
    "        #x = F.relu(F.max_pool1d(self.conv3(x), 2))\n",
    "        # x = F.relu(F.max_pool1d(self.conv4(x), 2))\n",
    "        # x = F.relu(F.max_pool1d(self.conv5_drop(self.conv5(x)), 2))\n",
    "        \n",
    "        #point A\n",
    "        x = x.reshape(len(x), -1)\n",
    "        #print(x.shape)\n",
    "        batch_size = len(x)\n",
    "        #print(batch_size)\n",
    "        #x = self.fc1(x)\n",
    "        #x = self.fc2(x)\n",
    "        # x = self.fc3(x)\n",
    "        # x = self.fc4(x)\n",
    "        # x = self.fc5(x)\n",
    "        \n",
    "        return x\n",
    "    \n",
    "    def forward(self, x1, x2):\n",
    "        x1 = self.forward_one_voice(x1)\n",
    "        x2 = self.forward_one_voice(x2)\n",
    "        x = torch.concat([x1, x2], axis = 1)\n",
    "        x = self.fc1(x)\n",
    "        x = F.relu(x)\n",
    "        x = self.fc2(x)\n",
    "        #x = self.fc3(x)\n",
    "        #x = self.fc4(x)\n",
    "        #print(x1)\n",
    "        # #print(x1.data.cpu().numpy()[0])\n",
    "        #x1 = torch.diff(x1, dim=0)\n",
    "        #print(x1)\n",
    "        \n",
    "        # #x = np.concatenate([x1.detach().cpu(), x2.detach().cpu()], axis=1)\n",
    "        # #print(x)\n",
    "        # #print(x1.shape)\n",
    "        # #x = torch.from_numpy(x).float()\n",
    "\n",
    "        \n",
    "        # #point B\n",
    "        #x = self.forward_that_is_not_going_to_work(x1, x2)\n",
    "        return torch.sigmoid(x)\n",
    "    \n",
    "    def post_forward(self, y): \n",
    "        return torch.round(y)\n",
    "    \n",
    "CNN = model(X1_train.shape[1],kernel_size = 3)"
   ]
  },
  {
   "cell_type": "code",
   "execution_count": 7,
   "metadata": {},
   "outputs": [],
   "source": [
    "weight = torch.FloatTensor([1])\n",
    "criterion = nn.BCELoss()\n",
    "optimizer = optim.Adam(CNN.parameters(), lr=0.00003)"
   ]
  },
  {
   "cell_type": "code",
   "execution_count": 8,
   "metadata": {},
   "outputs": [],
   "source": [
    "train_ds = TensorDataset(X1_train, X2_train, y_train)\n",
    "test_ds = TensorDataset(X1_test, X2_test, y_test)"
   ]
  },
  {
   "cell_type": "code",
   "execution_count": 9,
   "metadata": {},
   "outputs": [],
   "source": [
    "train_dl = DataLoader(train_ds, batch_size=64, num_workers = 4, pin_memory = True)\n",
    "#test_dl = DataLoader(test_ds, batch_size= 32)"
   ]
  },
  {
   "cell_type": "code",
   "execution_count": 10,
   "metadata": {},
   "outputs": [
    {
     "name": "stdout",
     "output_type": "stream",
     "text": [
      "cuda\n"
     ]
    }
   ],
   "source": [
    "device = torch.device(\"cuda\" if torch.cuda.is_available() else \"cpu\")\n",
    "# X1_train = X1_train.to(device)\n",
    "# X2_train = X2_train.to(device)\n",
    "# y_train = y_train.to(device)\n",
    "X1_test = X1_test.to(device)\n",
    "X2_test = X2_test.to(device)\n",
    "y_test = y_test.to(device)\n",
    "X1_val = X1_val.to(device)\n",
    "X2_val = X2_val.to(device)\n",
    "y_val = y_val.to(device)\n",
    "CNN = CNN.to(device)\n",
    "criterion = criterion.to(device)\n",
    "print(device)"
   ]
  },
  {
   "cell_type": "code",
   "execution_count": 11,
   "metadata": {},
   "outputs": [],
   "source": [
    "def calculate_accuracy(y_true, y_pred):\n",
    "    return (y_true == y_pred).sum().float() / len(y_true)"
   ]
  },
  {
   "cell_type": "code",
   "execution_count": 12,
   "metadata": {},
   "outputs": [
    {
     "name": "stdout",
     "output_type": "stream",
     "text": [
      "epoch 0\n",
      "Train set - loss: 0.733, accuracy: 0.516\n",
      "Test  set - loss: 0.711, accuracy: 0.514\n",
      "\n",
      "epoch 10\n",
      "Train set - loss: 0.61, accuracy: 0.672\n",
      "Test  set - loss: 0.612, accuracy: 0.662\n",
      "\n",
      "epoch 20\n",
      "Train set - loss: 0.432, accuracy: 0.828\n",
      "Test  set - loss: 0.428, accuracy: 0.807\n",
      "\n",
      "epoch 30\n",
      "Train set - loss: 0.335, accuracy: 0.875\n",
      "Test  set - loss: 0.365, accuracy: 0.851\n",
      "\n",
      "epoch 40\n",
      "Train set - loss: 0.234, accuracy: 0.922\n",
      "Test  set - loss: 0.313, accuracy: 0.881\n",
      "\n",
      "epoch 50\n",
      "Train set - loss: 0.183, accuracy: 0.922\n",
      "Test  set - loss: 0.274, accuracy: 0.899\n",
      "\n",
      "epoch 60\n",
      "Train set - loss: 0.15, accuracy: 0.922\n",
      "Test  set - loss: 0.244, accuracy: 0.912\n",
      "\n",
      "epoch 70\n",
      "Train set - loss: 0.12, accuracy: 0.938\n",
      "Test  set - loss: 0.22, accuracy: 0.924\n",
      "\n",
      "epoch 80\n",
      "Train set - loss: 0.096, accuracy: 0.969\n",
      "Test  set - loss: 0.201, accuracy: 0.935\n",
      "\n",
      "epoch 90\n",
      "Train set - loss: 0.078, accuracy: 0.969\n",
      "Test  set - loss: 0.187, accuracy: 0.941\n",
      "\n",
      "epoch 100\n",
      "Train set - loss: 0.063, accuracy: 0.984\n",
      "Test  set - loss: 0.175, accuracy: 0.943\n",
      "\n",
      "epoch 110\n",
      "Train set - loss: 0.051, accuracy: 0.984\n",
      "Test  set - loss: 0.167, accuracy: 0.947\n",
      "\n",
      "epoch 120\n",
      "Train set - loss: 0.041, accuracy: 0.984\n",
      "Test  set - loss: 0.16, accuracy: 0.953\n",
      "\n",
      "epoch 130\n",
      "Train set - loss: 0.033, accuracy: 1.0\n",
      "Test  set - loss: 0.155, accuracy: 0.957\n",
      "\n",
      "epoch 140\n",
      "Train set - loss: 0.026, accuracy: 1.0\n",
      "Test  set - loss: 0.151, accuracy: 0.96\n",
      "\n",
      "epoch 150\n",
      "Train set - loss: 0.02, accuracy: 1.0\n",
      "Test  set - loss: 0.147, accuracy: 0.961\n",
      "\n",
      "epoch 160\n",
      "Train set - loss: 0.015, accuracy: 1.0\n",
      "Test  set - loss: 0.173, accuracy: 0.963\n",
      "\n",
      "epoch 170\n",
      "Train set - loss: 0.011, accuracy: 1.0\n",
      "Test  set - loss: 0.225, accuracy: 0.966\n",
      "\n",
      "epoch 180\n",
      "Train set - loss: 0.008, accuracy: 1.0\n",
      "Test  set - loss: 0.221, accuracy: 0.966\n",
      "\n",
      "epoch 190\n",
      "Train set - loss: 0.005, accuracy: 1.0\n",
      "Test  set - loss: 0.218, accuracy: 0.967\n",
      "\n"
     ]
    }
   ],
   "source": [
    "def round_tensor(t, decimal_places=3):\n",
    "    return round(t.item(), decimal_places)\n",
    "\n",
    "Results = pd.DataFrame(columns = ['Epoch', 'Acc_train', 'Acc_test', 'test_loss', 'train_loss'])\n",
    "    \n",
    "for epoch in range(200):\n",
    "        for x1, x2, y in train_dl:\n",
    "            x1, x2, y = x1.to(device), x2.to(device), y.to(device)\n",
    "            optimizer.zero_grad()\n",
    "            y_pred = CNN(x1, x2)\n",
    "            #print(y_pred.shape)\n",
    "            #y_pred = torch.squeeze(y_pred)\n",
    "            #y_pred = y_pred.unsqueeze_(-1)\n",
    "            #print(y_pred.shape, y_train.shape)\n",
    "            #print(y_pred.shape)\n",
    "            train_loss = criterion(y_pred, y)\n",
    "            train_loss.backward()\n",
    "            optimizer.step()\n",
    "        if epoch % 10 == 0:\n",
    "        \n",
    "            train_acc = calculate_accuracy(y, CNN.post_forward(y_pred))\n",
    "        \n",
    "            y_test_pred = CNN(X1_test, X2_test)\n",
    "\n",
    "            #y_test_pred = torch.squeeze(y_test_pred)\n",
    "            \n",
    "            #y_test_pred = y_test_pred.unsqueeze_(-1)\n",
    "\n",
    "            test_loss = criterion(y_test_pred, y_test)\n",
    "        \n",
    "            test_acc = calculate_accuracy(y_test, CNN.post_forward(y_test_pred))\n",
    "        \n",
    "            result = {'Epoch': epoch, 'Acc_train': round_tensor(train_acc), 'Acc_test': round_tensor(test_acc), 'test_loss': round_tensor(test_loss), 'train_loss': round_tensor(train_loss)}\n",
    "\n",
    "            Results = Results.append(result, ignore_index=True)\n",
    "\n",
    "            print(\n",
    "f'''epoch {epoch}\n",
    "Train set - loss: {round_tensor(train_loss)}, accuracy: {round_tensor(train_acc)}\n",
    "Test  set - loss: {round_tensor(test_loss)}, accuracy: {round_tensor(test_acc)}\n",
    "''')\n",
    "        \n",
    "        \n",
    "        \n"
   ]
  },
  {
   "cell_type": "code",
   "execution_count": 13,
   "metadata": {},
   "outputs": [
    {
     "data": {
      "image/png": "[encoded data removed]",
      "text/plain": [
       "<Figure size 432x288 with 1 Axes>"
      ]
     },
     "metadata": {
      "needs_background": "light"
     },
     "output_type": "display_data"
    },
    {
     "name": "stdout",
     "output_type": "stream",
     "text": [
      "    Epoch  Acc_train  Acc_test  test_loss  train_loss\n",
      "0     0.0      0.516     0.514      0.711       0.733\n",
      "1    10.0      0.672     0.662      0.612       0.610\n",
      "2    20.0      0.828     0.807      0.428       0.432\n",
      "3    30.0      0.875     0.851      0.365       0.335\n",
      "4    40.0      0.922     0.881      0.313       0.234\n",
      "5    50.0      0.922     0.899      0.274       0.183\n",
      "6    60.0      0.922     0.912      0.244       0.150\n",
      "7    70.0      0.938     0.924      0.220       0.120\n",
      "8    80.0      0.969     0.935      0.201       0.096\n",
      "9    90.0      0.969     0.941      0.187       0.078\n",
      "10  100.0      0.984     0.943      0.175       0.063\n",
      "11  110.0      0.984     0.947      0.167       0.051\n",
      "12  120.0      0.984     0.953      0.160       0.041\n",
      "13  130.0      1.000     0.957      0.155       0.033\n",
      "14  140.0      1.000     0.960      0.151       0.026\n",
      "15  150.0      1.000     0.961      0.147       0.020\n",
      "16  160.0      1.000     0.963      0.173       0.015\n",
      "17  170.0      1.000     0.966      0.225       0.011\n",
      "18  180.0      1.000     0.966      0.221       0.008\n",
      "19  190.0      1.000     0.967      0.218       0.005\n"
     ]
    }
   ],
   "source": [
    "plt.plot(Results.Epoch,Results.Acc_train,'r',Results.Epoch,Results.Acc_test,'b')\n",
    "plt.legend(['Train','Test'])\n",
    "plt.xlabel('Epochs')\n",
    "plt.ylabel('Accuracy')\n",
    "plt.show()\n",
    "print(Results)"
   ]
  },
  {
   "cell_type": "code",
   "execution_count": 14,
   "metadata": {},
   "outputs": [
    {
     "data": {
      "image/png": "[encoded data removed]",
      "text/plain": [
       "<Figure size 432x288 with 1 Axes>"
      ]
     },
     "metadata": {
      "needs_background": "light"
     },
     "output_type": "display_data"
    }
   ],
   "source": [
    "plt.plot(Results.Epoch,Results.train_loss,'r',Results.Epoch,Results.test_loss,'b')\n",
    "plt.legend(['Train','Test'])\n",
    "plt.xlabel('Epochs')\n",
    "plt.ylabel('Loss')\n",
    "plt.show()"
   ]
  },
  {
   "cell_type": "code",
   "execution_count": 15,
   "metadata": {},
   "outputs": [
    {
     "name": "stdout",
     "output_type": "stream",
     "text": [
      "                 precision    recall  f1-score   support\n",
      "\n",
      "Different Voice       0.99      0.94      0.97      1495\n",
      "     Same Voice       0.95      0.99      0.97      1545\n",
      "\n",
      "       accuracy                           0.97      3040\n",
      "      macro avg       0.97      0.97      0.97      3040\n",
      "   weighted avg       0.97      0.97      0.97      3040\n",
      "\n"
     ]
    }
   ],
   "source": [
    "classes = ['Different Voice', 'Same Voice']\n",
    "y_pred = CNN(X1_test, X2_test)\n",
    "y_pred = y_pred.ge(.5).view(-1).cpu()\n",
    "y_test = y_test.cpu()\n",
    "print(classification_report(y_test, y_pred, target_names=classes))"
   ]
  },
  {
   "cell_type": "code",
   "execution_count": 16,
   "metadata": {},
   "outputs": [
    {
     "data": {
      "image/png": "[encoded data removed]",
      "text/plain": [
       "<Figure size 432x288 with 2 Axes>"
      ]
     },
     "metadata": {
      "needs_background": "light"
     },
     "output_type": "display_data"
    }
   ],
   "source": [
    "cm = confusion_matrix(y_test, y_pred)\n",
    "df_cm = pd.DataFrame(cm, index=classes, columns=classes)\n",
    "hmap = sns.heatmap(df_cm, annot=True, fmt=\"d\", cmap= 'crest')\n",
    "#hmap.color_palette(\"viridis\", as_cmap=True)\n",
    "hmap.yaxis.set_ticklabels(hmap.yaxis.get_ticklabels(), rotation=0, ha='right')\n",
    "hmap.xaxis.set_ticklabels(hmap.xaxis.get_ticklabels(), rotation=30, ha='right')\n",
    "plt.ylabel('True label')\n",
    "plt.xlabel('Predicted label');"
   ]
  },
  {
   "cell_type": "code",
   "execution_count": 17,
   "metadata": {},
   "outputs": [
    {
     "name": "stdout",
     "output_type": "stream",
     "text": [
      "                 precision    recall  f1-score   support\n",
      "\n",
      "Different Voice       0.99      0.95      0.97      1233\n",
      "     Same Voice       0.95      0.99      0.97      1199\n",
      "\n",
      "       accuracy                           0.97      2432\n",
      "      macro avg       0.97      0.97      0.97      2432\n",
      "   weighted avg       0.97      0.97      0.97      2432\n",
      "\n"
     ]
    }
   ],
   "source": [
    "y_pred = CNN(X1_val, X2_val)\n",
    "y_pred = y_pred.ge(.5).view(-1).cpu()\n",
    "y_val = y_val.cpu()\n",
    "print(classification_report(y_val, y_pred, target_names=classes))"
   ]
  },
  {
   "cell_type": "code",
   "execution_count": 18,
   "metadata": {},
   "outputs": [
    {
     "data": {
      "image/png": "[encoded data removed]",
      "text/plain": [
       "<Figure size 432x288 with 2 Axes>"
      ]
     },
     "metadata": {
      "needs_background": "light"
     },
     "output_type": "display_data"
    }
   ],
   "source": [
    "cm = confusion_matrix(y_val, y_pred)\n",
    "df_cm = pd.DataFrame(cm, index=classes, columns=classes)\n",
    "hmap = sns.heatmap(df_cm, annot=True, fmt=\"d\", cmap= 'crest')\n",
    "hmap.yaxis.set_ticklabels(hmap.yaxis.get_ticklabels(), rotation=0, ha='right')\n",
    "hmap.xaxis.set_ticklabels(hmap.xaxis.get_ticklabels(), rotation=30, ha='right')\n",
    "plt.ylabel('True label')\n",
    "plt.xlabel('Predicted label');"
   ]
  },
  {
   "cell_type": "code",
   "execution_count": 19,
   "metadata": {},
   "outputs": [
    {
     "name": "stderr",
     "output_type": "stream",
     "text": [
      "UsageError: Line magic function `%%javascript` not found.\n"
     ]
    }
   ],
   "source": [
    "#Shutting down the notebook\n",
    "\n",
    "%%javascript\n",
    "Jupyter.notebook.session.delete();"
   ]
  }
 ],
 "metadata": {
  "kernelspec": {
   "display_name": "Python 3 (ipykernel)",
   "language": "python",
   "name": "python3"
  },
  "language_info": {
   "codemirror_mode": {
    "name": "ipython",
    "version": 3
   },
   "file_extension": ".py",
   "mimetype": "text/x-python",
   "name": "python",
   "nbconvert_exporter": "python",
   "pygments_lexer": "ipython3",
   "version": "3.9.7"
  },
  "orig_nbformat": 4
 },
 "nbformat": 4,
 "nbformat_minor": 2
}
